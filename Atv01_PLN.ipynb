{
  "nbformat": 4,
  "nbformat_minor": 0,
  "metadata": {
    "colab": {
      "name": "Atv01-PLN.ipynb",
      "provenance": [],
      "collapsed_sections": []
    },
    "kernelspec": {
      "name": "python3",
      "display_name": "Python 3"
    },
    "language_info": {
      "name": "python"
    }
  },
  "cells": [
    {
      "cell_type": "markdown",
      "metadata": {
        "id": "dpjBe8cQ10R_"
      },
      "source": [
        "#Atividade Prática 2"
      ]
    },
    {
      "cell_type": "markdown",
      "metadata": {
        "id": "f6Ag3CPHovOe"
      },
      "source": [
        "### Introdução"
      ]
    },
    {
      "cell_type": "markdown",
      "metadata": {
        "id": "KQI2KLh3UJOb"
      },
      "source": [
        "Este trabalho tem como objetivo a análise textual das contratações emergenciais dos munícipios e estado do Piauí, realizadas no período de março a setembro de 2020, referentes ao enfrentamento da pandemia da COVID-19. Os dados foram extraídos dos respectivos diários oficiais por uma comissão do Tribunal de Contas do Estado do Piauí, criada especificamente para o acompanhamento dessas contratações, e inseridos em uma planilha Excel. Desta forma, o corpus do trabalho foi construído baseado a partir da coluna “Objeto” da planilha em questão, e assim, será analisado o uso das palavras no corpus, como quais as palavras que foram mais utilizadas, quais as palavras ajudam a entender o contexto e que tratamento podemos fazer com o texto."
      ]
    },
    {
      "cell_type": "markdown",
      "metadata": {
        "id": "0BL4dS-4ozpf"
      },
      "source": [
        "### Resultados\n"
      ]
    },
    {
      "cell_type": "code",
      "metadata": {
        "colab": {
          "base_uri": "https://localhost:8080/",
          "height": 642
        },
        "id": "uelv73sirgyj",
        "outputId": "1e2c7810-0439-46f3-defd-9caaebb064ec"
      },
      "source": [
        "#Para a leitura do arquivo\n",
        "import io\n",
        "import pandas as pd\n",
        "\n",
        "git_doc = 'https://github.com/PedroLucca/PLN-exercises/blob/master/diarios_oficiais_COVID.xlsx?raw=true'\n",
        "dfs = pd.read_excel(git_doc, sheet_name=None)\n",
        "dfs['diarios'].head(5)"
      ],
      "execution_count": null,
      "outputs": [
        {
          "output_type": "execute_result",
          "data": {
            "text/html": [
              "<div>\n",
              "<style scoped>\n",
              "    .dataframe tbody tr th:only-of-type {\n",
              "        vertical-align: middle;\n",
              "    }\n",
              "\n",
              "    .dataframe tbody tr th {\n",
              "        vertical-align: top;\n",
              "    }\n",
              "\n",
              "    .dataframe thead th {\n",
              "        text-align: right;\n",
              "    }\n",
              "</style>\n",
              "<table border=\"1\" class=\"dataframe\">\n",
              "  <thead>\n",
              "    <tr style=\"text-align: right;\">\n",
              "      <th></th>\n",
              "      <th>Esfera</th>\n",
              "      <th>Diário</th>\n",
              "      <th>Data do Diário</th>\n",
              "      <th>Página</th>\n",
              "      <th>Tipo de contratação</th>\n",
              "      <th>Nº do Procedimento</th>\n",
              "      <th>Original, Aditivo, Apostilamento?</th>\n",
              "      <th>Ratificação, Extratro do contrato ou Portaria?</th>\n",
              "      <th>Orgão</th>\n",
              "      <th>Município</th>\n",
              "      <th>Objeto</th>\n",
              "      <th>Nome do Contratado</th>\n",
              "      <th>CNPJ / CPF</th>\n",
              "      <th>Valor (R$)</th>\n",
              "      <th>Nº Contrato</th>\n",
              "      <th>Data de assinatura</th>\n",
              "      <th>Prazo de Vigência</th>\n",
              "      <th>Fundamentação Legal</th>\n",
              "      <th>Fonte de Recurso</th>\n",
              "      <th>Ação Orçamentária</th>\n",
              "      <th>Natureza de Despesa</th>\n",
              "    </tr>\n",
              "  </thead>\n",
              "  <tbody>\n",
              "    <tr>\n",
              "      <th>0</th>\n",
              "      <td>Estadual</td>\n",
              "      <td>DOE - Diário Oficial do Estado</td>\n",
              "      <td>2020-02-19</td>\n",
              "      <td>0029</td>\n",
              "      <td>Dispensa</td>\n",
              "      <td>Não informado</td>\n",
              "      <td>Original</td>\n",
              "      <td>Extrato do contrato</td>\n",
              "      <td>INSTITUTO DE DOENÇAS TROPICAIS NATAN PORTELA</td>\n",
              "      <td>TERESINA</td>\n",
              "      <td>CONTRATAÇAO DE EMPRESA PRESTAÇÃO DE SERVIÇO DE...</td>\n",
              "      <td>SEMPRE FRIO LTDA</td>\n",
              "      <td>06.837.991/0001-48</td>\n",
              "      <td>133045</td>\n",
              "      <td>001/2020</td>\n",
              "      <td>13/02/2020</td>\n",
              "      <td>12.02.2020 a 27.07.2020</td>\n",
              "      <td>ART. 24, IV DA LEI 8.666/93 e ART. 4º da Lei 1...</td>\n",
              "      <td>100001001</td>\n",
              "      <td>Não informado</td>\n",
              "      <td>Não informado</td>\n",
              "    </tr>\n",
              "    <tr>\n",
              "      <th>1</th>\n",
              "      <td>Estadual</td>\n",
              "      <td>DOE - Diário Oficial do Estado</td>\n",
              "      <td>2020-03-06</td>\n",
              "      <td>0015</td>\n",
              "      <td>Dispensa</td>\n",
              "      <td>14/2020</td>\n",
              "      <td>Original</td>\n",
              "      <td>Extrato do contrato</td>\n",
              "      <td>HOSPITAL REGIONAL CHAGAS RODRIGUES</td>\n",
              "      <td>PIRIPIRI</td>\n",
              "      <td>CONTRATAÇÃO DE EMPRESA PESSOA JURÍDICA na Aqui...</td>\n",
              "      <td>ALFA MED - SISTEMAS MÉDICOS LTDA</td>\n",
              "      <td>11.405.384/0001-49</td>\n",
              "      <td>24450</td>\n",
              "      <td>Não informado</td>\n",
              "      <td>Não informado</td>\n",
              "      <td>180 dias</td>\n",
              "      <td>Art. 24, IV, da Lei 8.666/93 e Lei nº 13.979, ...</td>\n",
              "      <td>Não informado</td>\n",
              "      <td>Não informado</td>\n",
              "      <td>Não informado</td>\n",
              "    </tr>\n",
              "    <tr>\n",
              "      <th>2</th>\n",
              "      <td>Estadual</td>\n",
              "      <td>DOE - Diário Oficial do Estado</td>\n",
              "      <td>2020-03-06</td>\n",
              "      <td>0016</td>\n",
              "      <td>Dispensa</td>\n",
              "      <td>14/2020</td>\n",
              "      <td>Original</td>\n",
              "      <td>Extrato do contrato</td>\n",
              "      <td>HOSPITAL REGIONAL CHAGAS RODRIGUES</td>\n",
              "      <td>PIRIPIRI</td>\n",
              "      <td>CONTRATAÇÃO DE EMPRESA PESSOA JURÍDICA na Aqui...</td>\n",
              "      <td>J R D BRANDÃO EIRELI - MODELO MÓVEIS</td>\n",
              "      <td>23.511.454/0001-22</td>\n",
              "      <td>8185</td>\n",
              "      <td>Não informado</td>\n",
              "      <td>Não informado</td>\n",
              "      <td>180 dias</td>\n",
              "      <td>Art. 24, IV, da Lei 8.666/93 e Lei nº 13.979, ...</td>\n",
              "      <td>Não informado</td>\n",
              "      <td>Não informado</td>\n",
              "      <td>Não informado</td>\n",
              "    </tr>\n",
              "    <tr>\n",
              "      <th>3</th>\n",
              "      <td>Estadual</td>\n",
              "      <td>DOE - Diário Oficial do Estado</td>\n",
              "      <td>2020-03-06</td>\n",
              "      <td>0016</td>\n",
              "      <td>Dispensa</td>\n",
              "      <td>14/2020</td>\n",
              "      <td>Original</td>\n",
              "      <td>Extrato do contrato</td>\n",
              "      <td>HOSPITAL REGIONAL CHAGAS RODRIGUES</td>\n",
              "      <td>PIRIPIRI</td>\n",
              "      <td>CONTRATAÇÃO DE EMPRESA PESSOA JURÍDICA na Aqui...</td>\n",
              "      <td>KSS COMERCIO E INDUSTRIA DE EQUIPAMENTOS MEDIC...</td>\n",
              "      <td>79.805.263/0001-28</td>\n",
              "      <td>14094</td>\n",
              "      <td>Não informado</td>\n",
              "      <td>Não informado</td>\n",
              "      <td>180 dias</td>\n",
              "      <td>Art. 24, IV, da Lei 8.666/93 e Lei nº 13.979, ...</td>\n",
              "      <td>Não informado</td>\n",
              "      <td>Não informado</td>\n",
              "      <td>Não informado</td>\n",
              "    </tr>\n",
              "    <tr>\n",
              "      <th>4</th>\n",
              "      <td>Estadual</td>\n",
              "      <td>DOE - Diário Oficial do Estado</td>\n",
              "      <td>2020-03-06</td>\n",
              "      <td>0016</td>\n",
              "      <td>Dispensa</td>\n",
              "      <td>14/2020</td>\n",
              "      <td>Original</td>\n",
              "      <td>Extrato do contrato</td>\n",
              "      <td>HOSPITAL REGIONAL CHAGAS RODRIGUES</td>\n",
              "      <td>PIRIPIRI</td>\n",
              "      <td>CONTRATAÇÃO DE EMPRESA PESSOA JURÍDICA na Aqui...</td>\n",
              "      <td>MAGNAMED - TECNOLOGIA MÉDICA S/A (FILIAL)</td>\n",
              "      <td>01.298.443/0002-54</td>\n",
              "      <td>143700</td>\n",
              "      <td>Não informado</td>\n",
              "      <td>Não informado</td>\n",
              "      <td>180 dias</td>\n",
              "      <td>Art. 24, IV, da Lei 8.666/93 e Lei nº 13.979, ...</td>\n",
              "      <td>Não informado</td>\n",
              "      <td>Não informado</td>\n",
              "      <td>Não informado</td>\n",
              "    </tr>\n",
              "  </tbody>\n",
              "</table>\n",
              "</div>"
            ],
            "text/plain": [
              "     Esfera  ... Natureza de Despesa\n",
              "0  Estadual  ...       Não informado\n",
              "1  Estadual  ...       Não informado\n",
              "2  Estadual  ...       Não informado\n",
              "3  Estadual  ...       Não informado\n",
              "4  Estadual  ...       Não informado\n",
              "\n",
              "[5 rows x 21 columns]"
            ]
          },
          "metadata": {},
          "execution_count": 1
        }
      ]
    },
    {
      "cell_type": "code",
      "metadata": {
        "colab": {
          "base_uri": "https://localhost:8080/"
        },
        "id": "SzgDO_j9dP8H",
        "outputId": "4b5b2ca7-9b5d-4583-9778-47fefbf73ee2"
      },
      "source": [
        "diarios = dfs['diarios']\n",
        "#corpus = pd.DataFrame(diarios, columns= ['Objeto'])\n",
        "#obj = corpus.head(5).to_numpy()\n",
        "corpus = diarios.get('Objeto').to_numpy().tolist()\n",
        "corpus[-5:]\n"
      ],
      "execution_count": null,
      "outputs": [
        {
          "output_type": "execute_result",
          "data": {
            "text/plain": [
              "['Contratação de Empresa para fornecimentos de Teste Rápido para detecção especifica de IGG e IGM do COVID-19, para o Município de Dom Inocêncio - PI.',\n",
              " 'Prestação de contrataçao de profissional para dar suporte técnico ao desenvolvimento do trabalho de: Acompanhamento a Lei Emergenclal Cultural Aldir Biano, sancionada através do Decreto Federal no 14.017/2020; Alimentação dos sistemas e plataformas necessárias; acompanhamento e julgamento dos editais, todo suporte técnico ao Setor de Cultura junto a Secretaria Municipal de Cultura, Esporte e Lazer e a Prefeitura Municipal de São Jose do Piaul - PI.',\n",
              " 'AQUISIÇÃO DE PULVERIZADOR 20 LT FIBRA BICO PLASTICO PARA SECRETARIA MUNICIPAL DE EDUCAÇÃO E ESCOLAS DA REDE ESTADUAL E MUNICIPAL DO MUNICÍPIO DE SÃO JOSÉ DO PIAUÍ· PI.',\n",
              " 'AQUISIÇÃO DE ÁGUA SANITÁRIA I LT, DETERGENTE 500 ML E PAPEL TOALHA PARA SECRETARIA MUNICIPAL DE EDUCAÇÃO E SEUS RESPECTNOS ÓRGÃOS DO MUNICtPIO DE SÃO JOSE DO PIAUÍ - PI.',\n",
              " 'PRESTAÇÃO DE SERVIÇOS DE TROCA DE PISO DA SECRETARIA MUNICIPAL DE SAÚDE (SEMUSA) DE DEMERV AL LOBÃO - PIAUÍ.']"
            ]
          },
          "metadata": {},
          "execution_count": 2
        }
      ]
    },
    {
      "cell_type": "code",
      "metadata": {
        "colab": {
          "base_uri": "https://localhost:8080/"
        },
        "id": "7JKVRw9bYgEE",
        "outputId": "e22f506f-b59f-456f-e7bf-9e9874f46561"
      },
      "source": [
        "#Importar nltk\n",
        "import nltk\n",
        "nltk.download('punkt')\n"
      ],
      "execution_count": null,
      "outputs": [
        {
          "output_type": "stream",
          "name": "stdout",
          "text": [
            "[nltk_data] Downloading package punkt to /root/nltk_data...\n",
            "[nltk_data]   Unzipping tokenizers/punkt.zip.\n"
          ]
        },
        {
          "output_type": "execute_result",
          "data": {
            "text/plain": [
              "True"
            ]
          },
          "metadata": {},
          "execution_count": 3
        }
      ]
    },
    {
      "cell_type": "code",
      "metadata": {
        "id": "4cw_WbadcXjt"
      },
      "source": [
        "#Tokenizar o texto\n",
        "\n",
        "tokens = []\n",
        "for objeto in corpus:\n",
        "    tokens_objeto = nltk.word_tokenize(objeto, language='portuguese')\n",
        "    tokens_objeto = [token.lower() for token in tokens_objeto]\n",
        "    for token in tokens_objeto:\n",
        "        tokens.append(token)\n",
        "\n"
      ],
      "execution_count": null,
      "outputs": []
    },
    {
      "cell_type": "code",
      "metadata": {
        "id": "UQH-6CcRkLvK",
        "colab": {
          "base_uri": "https://localhost:8080/"
        },
        "outputId": "88cbd984-25e4-4af1-8591-e32bfba4bd5f"
      },
      "source": [
        "#Qual a diversidade léxica de cada texto? e de todo o Corpus?\n",
        "\n",
        "print('Quantidade de Tokens: ',len(tokens))\n",
        "print('Quantidade de Types: ',len(set(tokens)))\n",
        "\n",
        "print('Diversidade Léxica: ',round((len(set(tokens)) / len(tokens))*100,2), '%')\n"
      ],
      "execution_count": null,
      "outputs": [
        {
          "output_type": "stream",
          "name": "stdout",
          "text": [
            "Quantidade de Tokens:  212917\n",
            "Quantidade de Types:  11736\n",
            "Diversidade Léxica:  5.51 %\n"
          ]
        }
      ]
    },
    {
      "cell_type": "code",
      "metadata": {
        "id": "QGIrsvrpqpZO",
        "colab": {
          "base_uri": "https://localhost:8080/"
        },
        "outputId": "ec693fb8-b0b8-4679-f390-3eee48ea8e19"
      },
      "source": [
        "#As 30 palavras mais frequentes são informativas para um texto específico? \n",
        "\n",
        "freqDist = nltk.FreqDist(tokens)\n",
        "palavras_mais_frequentes = freqDist.most_common(30)\n",
        "print(\"Não, as mais frequentes são preposições, sinais e simbolos\")\n",
        "palavras_mais_frequentes"
      ],
      "execution_count": null,
      "outputs": [
        {
          "output_type": "stream",
          "name": "stdout",
          "text": [
            "Não, as mais frequentes são preposições, sinais e simbolos\n"
          ]
        },
        {
          "output_type": "execute_result",
          "data": {
            "text/plain": [
              "[('de', 22277),\n",
              " (',', 10137),\n",
              " ('para', 5528),\n",
              " ('do', 5357),\n",
              " ('e', 4859),\n",
              " ('da', 4285),\n",
              " ('.', 4180),\n",
              " ('a', 3727),\n",
              " ('no', 2901),\n",
              " (')', 2875),\n",
              " ('(', 2867),\n",
              " ('o', 2688),\n",
              " ('em', 2651),\n",
              " ('saúde', 2282),\n",
              " ('covid-19', 2042),\n",
              " ('serviços', 1967),\n",
              " ('aquisição', 1855),\n",
              " ('ao', 1759),\n",
              " ('contratação', 1755),\n",
              " ('-', 1664),\n",
              " ('municipal', 1453),\n",
              " ('secretaria', 1355),\n",
              " ('com', 1331),\n",
              " ('prestação', 1283),\n",
              " ('município', 1255),\n",
              " ('na', 1211),\n",
              " ('enfrentamento', 1184),\n",
              " ('combate', 1137),\n",
              " ('por', 1131),\n",
              " ('atender', 1115)]"
            ]
          },
          "metadata": {},
          "execution_count": 6
        }
      ]
    },
    {
      "cell_type": "code",
      "metadata": {
        "colab": {
          "base_uri": "https://localhost:8080/"
        },
        "id": "noGr5b25aF54",
        "outputId": "645b1f29-0d24-4180-e291-32bc9576b4e2"
      },
      "source": [
        "#Qual a proporção do texto é usada com essas palavras?\n",
        "countFreq = 0\n",
        "for p,f in palavras_mais_frequentes:\n",
        "  countFreq += f\n",
        "\n",
        "proporcao = countFreq/len(tokens)\n",
        "print('30 mais frequentes:', countFreq)\n",
        "print('Total de tokens:', len(tokens))\n",
        "print(\"Proporção: \",round(proporcao*100,2),\"%\")\n"
      ],
      "execution_count": null,
      "outputs": [
        {
          "output_type": "stream",
          "name": "stdout",
          "text": [
            "30 mais frequentes: 100111\n",
            "Total de tokens: 212917\n",
            "Proporção:  47.02 %\n"
          ]
        }
      ]
    },
    {
      "cell_type": "code",
      "metadata": {
        "colab": {
          "base_uri": "https://localhost:8080/"
        },
        "id": "SC3scMXly2Yz",
        "outputId": "3aa38dc6-f2fe-4e78-8696-042591bea7ec"
      },
      "source": [
        "from nltk.corpus import stopwords\n",
        "nltk.download('stopwords')\n",
        "sw = stopwords.words('portuguese')"
      ],
      "execution_count": null,
      "outputs": [
        {
          "output_type": "stream",
          "name": "stdout",
          "text": [
            "[nltk_data] Downloading package stopwords to /root/nltk_data...\n",
            "[nltk_data]   Unzipping corpora/stopwords.zip.\n"
          ]
        }
      ]
    },
    {
      "cell_type": "code",
      "metadata": {
        "id": "v9COV96tqsPk",
        "colab": {
          "base_uri": "https://localhost:8080/"
        },
        "outputId": "fdeab690-aa12-454e-c2c2-ae5ea7e41da7"
      },
      "source": [
        "#O que pode ser eliminado para melhorar a lista das palavras frequentes (sinais, números, etc.)?\n",
        "\n",
        "#tokens_maior_que_3_chars = []\n",
        "#for t in tokens:\n",
        "#  if len(t) > 3:\n",
        "#    tokens_maior_que_3_chars.append(t)\n",
        "\n",
        "tokens_menos_sw = []\n",
        "for t in tokens:\n",
        "  if t not in sw and t.isalpha() :\n",
        "    tokens_menos_sw.append(t)\n",
        "\n",
        "#freqDist = nltk.FreqDist(tokens_maior_que_3_chars)\n",
        "freqDist = nltk.FreqDist(tokens_menos_sw)\n",
        "palavras_mais_frequentes = freqDist.most_common(30)\n",
        "\n",
        "countFreq = 0\n",
        "for p,f in palavras_mais_frequentes:\n",
        "  countFreq += f\n",
        "\n",
        "#proporcao = countFreq/len(tokens_maior_que_3_chars)\n",
        "proporcao = countFreq/len(tokens_menos_sw)\n",
        "diversidade_lexica = len(set(tokens_menos_sw))/len(tokens_menos_sw)\n",
        "print(\"As preposições, sinais e simbolos foram eliminadas para melhorar a lista de palavras.\")\n",
        "print('30 mais frequentes:', countFreq)\n",
        "print('Total de tokens:', len(tokens_menos_sw))\n",
        "print(\"Proporção: \",round(proporcao*100,2),\"%\")\n",
        "print(\"Diversidade Léxica: \",round(diversidade_lexica*100,2),\"%\")\n",
        "print(\"\\n----Nova lista de palavras mais frequentes----\")\n",
        "palavras_mais_frequentes"
      ],
      "execution_count": null,
      "outputs": [
        {
          "output_type": "stream",
          "name": "stdout",
          "text": [
            "As preposições, sinais e simbolos foram eliminadas para melhorar a lista de palavras.\n",
            "30 mais frequentes: 29548\n",
            "Total de tokens: 105945\n",
            "Proporção:  27.89 %\n",
            "Diversidade Léxica:  7.98 %\n",
            "\n",
            "----Nova lista de palavras mais frequentes----\n"
          ]
        },
        {
          "output_type": "execute_result",
          "data": {
            "text/plain": [
              "[('saúde', 2282),\n",
              " ('serviços', 1967),\n",
              " ('aquisição', 1855),\n",
              " ('contratação', 1755),\n",
              " ('municipal', 1453),\n",
              " ('secretaria', 1355),\n",
              " ('prestação', 1283),\n",
              " ('município', 1255),\n",
              " ('enfrentamento', 1184),\n",
              " ('combate', 1137),\n",
              " ('atender', 1115),\n",
              " ('pandemia', 1075),\n",
              " ('contrato', 1066),\n",
              " ('novo', 961),\n",
              " ('empresa', 960),\n",
              " ('pi', 797),\n",
              " ('objeto', 710),\n",
              " ('fornecimento', 704),\n",
              " ('covid', 647),\n",
              " ('coronavírus', 634),\n",
              " ('presente', 621),\n",
              " ('ações', 572),\n",
              " ('hospital', 571),\n",
              " ('necessidades', 570),\n",
              " ('atendimento', 549),\n",
              " ('pública', 548),\n",
              " ('municipio', 535),\n",
              " ('material', 479),\n",
              " ('proteção', 454),\n",
              " ('social', 454)]"
            ]
          },
          "metadata": {},
          "execution_count": 9
        }
      ]
    },
    {
      "cell_type": "code",
      "metadata": {
        "id": "USz9C6XJqxyO",
        "colab": {
          "base_uri": "https://localhost:8080/"
        },
        "outputId": "c7e455a1-ee9a-4438-d916-4322681aa22c"
      },
      "source": [
        "#Os hapaxes ajudam a entender o texto? E os collocations? Que outras propriedades poderiam ser consideradas?\n",
        "from nltk.collocations import *\n",
        "\n",
        "freqDist = nltk.FreqDist(tokens)\n",
        "\n",
        "#bigram_measures = nltk.collocations.BigramAssocMeasures()\n",
        "\n",
        "#finder = BigramCollocationFinder.from_words(tokens)\n",
        "#finder.apply_freq_filter(3)\n",
        "\n",
        "#collocations = []\n",
        "#for objeto in corpus:\n",
        "#    collocations_objeto = objeto.collocations()\n",
        "#    collocations.append(collocations_objeto)\n",
        "\n",
        "text = nltk.Text(tokens)\n",
        "#print(text.collocations())\n",
        "\n",
        "longterms = sorted(w for w in set(tokens) if len(w) > 5 and freqDist[w] > 20 and w.isalpha())\n",
        "\n",
        "print(\"Hapaxes: \", freqDist.hapaxes())\n",
        "#print(\"Collocations: \", finder.nbest(bigram_measures.pmi, 30))\n",
        "print(\"\\nCollocations\\n\")\n",
        "print(text.collocations())\n",
        "print(\"Longterms: \", longterms)\n",
        "print(\"\\n---------\\n\")\n",
        "\n",
        "print(\"Não, pois todas as palavras únicas sem um contexto não ajudam muito a alucidar o significado do texto. As collocations por sua vez também não são muito úteis,\" + \n",
        "      \"por mais que sejam bigramas mais frequentes, também não dão contexto, porém outra propriedade que poderia ajudar a entender o\" +\n",
        "      \" texto seria as longterms, se filtrando palavras a partir de um certo lenght ajuda mais a selecionar termos palavras-chave que em conjunto dão um pouco da ideia do texto.\")\n"
      ],
      "execution_count": null,
      "outputs": [
        {
          "output_type": "stream",
          "name": "stdout",
          "text": [
            "Hapaxes:  ['restauração', 'negativa', 'hospitalar/', 'egr', 'ivo', '001.0002599/2020', '96.288,00', '99.693,00', '16/04', 'pressometrico', 'volumetrico', 'marcap', 'transcutâneo', 'nessa', 'pediátrica', 'aludido', 'estrutuor', 'secretala', 'stamos', 'coronvlm', 'soluções', 'parenterais', 'endendo', '1de', 'prestaçlo', 'fanecimeoto', 'alim.mtayão_', 'pacientes/funcionários', 'gravidade', 'alcóolica', 'assepsia', 'antimicrobiana', '-19/coronavirus', 'fejtas', 'oovi0-19', '.tijdo', 'multiparametros', 'feverel', 'fe.ltas', 'provisôaia', '928/2020', '.tudo', '9820', '3m', 'dobrável', 'v1abili.zação', 'hospffal', 'exig~ncias', 'municipto', 'multiuso', '140.000', 'higiênico', 'picotado', 'emcara´ter', 'nov', 'rofissionals', '20.20', 'provj.sória', '9.2612020', 'unlão', '2.186.740', 'foram', 'consumidos', '2.101.300,00', '025/2020', '030/2020', 'profissionals', 'fbtas', 'provlsôria', 'tijdo', 'forneclme', 'sicas', \"'erabilidade\", 'temporáiua', 'nd', 'forneoimento', 'materl/l', 'aqul5lçio', 'corona11írus', 'macacôes', 'emerosncia', \"l'oblica\", \"decorrelfl'e\", 'co\\\\lld-19i', 'ob', 'ecocardiograma', 'definição', 'pneumático', 'universal', '-para', 'servirão', 'terapêuticos', 'portadoras', 'fluidos', '878.600,00', '2.635.800,00', 'paratransporte', 'interestaduais', 'portela-', 'm1l', 'tenha', 'filme', 'upp', '110mmx20m', 'existente', 'capuzes', 'paulistana-p', 'qulpam', 'convid-1', 'rgencial', 'brasfleira-pi', 'sanitizaçâo', 'mepresa', 'detecnção', 'docid19', 'ámb', '1brandão-pi', 'panderu.a', 'iggflgm', 'sabonellnho', 'eco/bioclin', 'lisboa.pi', 'âmblto', 'nazária', 'suspeitas/portadoras', '00298/20', '9071/2020', 'adequar', 'errrata', 'respiraores', 'bisturis', 'microp', 'wem', 'litotritor', 'sw106', '179.545,00', '93.550,00', 'fisiot', \"13,979'2020\", 'municipai', 'piripiri.pi', 'mater', 'iais', 'necessár', 'ios', 'epis-mascaras', 'rãter', 'quipamentos', 'ndividual', 'existe', 'pande', 'ec', 'larados', 'recome', 'ndações', 'ministé', 'r10', 'subs', 'idiar', 'didas', '08/06', 'forroecirnento', 'destinalos', 'lmportlriola', 'lntemaclonai', 'deoorrente', 'anboril', 'vent', 'aquislçõo', 'oxigenlo', 'regulado', 'mia1icipal', 'municlpío', 'cc.tiúbos', 'sttuoçõo', 'decorrêncio', 'infecçãc', 'hurnono', 'coronavín..o', '-covid-i9', 'acompanhamen10', '-19-', 'mwlicípio', 'elcsbilo', 'confonuc', 'orç', 'amcntária', 'fw..er', 'inlegrante', 'tem10', 'centrais', 'oqlaslçõo', 'mó', 'coros', 'pklul', 'sltuoçõo', 'soúcle', 'lmportancia', 'inlemacional', 'voltada', 'n9s', 'pffz', 'realiz.ado', '1\\\\s', 'sj\\\\lide', 'uniãd-pi', 'interessl', 'alarme', 'obrigatórios', 'ótimo', 'perfeitas', \"intl'.ressl\", 'sanjtário', 'rjnção', 'erancisco', 'púulico', 'motorista.da', 'viguáncla', 'sanitárlo', 'c/tiras', 'g20', 'termomentro', 'dig', 'interp.sse', 'enfri', 'galão', '~lts', '~o-ei', '/ab/cab.dupla', 'gm/s10', ',2009/2010', 'rinção', 'necl', '.ssida.de', 'piauj', 'emercencial', 'hospitaar', '103', 'adicionais', 'dessas', 'oferecerão', 'permitir', 'liberando', 'regionais', 'graves', 'prevençtjo', 'curralinhos/pi', 'coronavírus-19', 'empre', 'rcelado', 'aob', 'secre', 'ftnt', 'eólico', 'ventos', 'fábrica', 'nordex', 'especial.mente', 'coronavíruscovid-19', 'corrida', 'selador', 'ern', 'vir', '20/04', '2111', 'dopiauf-', 'coletores', 'perfurocortante', 'papelão', '71', '709', 'ihpm', 'fragrância', 'agradável', '480', 'stands', 'macaclo', 'màscara', '284', '23/04/2020', '121.468,84', '66.726,88', 'elanquinha', 'limão', 'neon', 'refletiva', 'escrito', 'costas', 'pe.lo', 'coronavjrus', 'ed.ital', 'ioooml', '1unto', 'intermediários', 'uci', 'expansão', 'infectados/', 'bucal', 'atuandon', 'proteçõo', 'n-95', 'touco', 'a.s', 'princlpio', 'b125', 'fit', 'módulos', 'e-minic', 'combat', 'vírus-covid-19', 'abrigar', 'trabalharam', 'providas', 'equipament03', 'afins', 'reversa', '20.03.2020', 'lagoo', 'médlco', 'smartphone', '04/05/2020', '152.923,86', '152.923,00', 'pacienteaulto', 'sabõo', 'coco', 'bara', 'lqudo', 'borro', 'objeiwoodo', 'secretem', 'sttuoção', 'púbíica', '05/05/2020', '108', 'form', '11.05.2020', '4.084,00', '4.882,50', 'gestante', 'gg', 'pomo', 'ecoteste1em', 'atondimenlo', 'secrellllie', 'soode', 'empresaparadesenvolver', 'eit1', 'intermédio', '-semcaspi', 'caracterizada', 'cess.1o', 'oicer', 'composla', '.-.lo-exclusiva', 'dc1cn1oics', 'autorais', 'agamenon', 'lnfatec', 'comércio', 'tecnológicos', 'eireli-me', 'cobrado', 'apems', 'manuteo', 'plalafonna', 'tecoológica', 'saicovid-19', 'acompanmmento', 'inpi', '2016', '000575-0', 'isbn', '978-65-00-01449-5', 'intelectual', 'delentores', 'mencionados', 'confonre', '9.279/1996', '9.609/1998', '9.610/1998', 'cito', 'palco', 'grid', 'shows', 'artísticos', 'praça', 'datas', '26/01/2020', 'comemoração', '26°', 'aniversário', 'emancipação', 'política', 'tencia', 'desenvolvido', '042/2019', 'pequenas', 'materna-covid', 'acre', 'scimo', 'originario', 'pôbuca', '637.500,00', 'aquisiçôo', 'móscoras', 'ocelolo', 'oocessldodes', 'vlsto', 'situaçõo', 'infecçôo', 'materjais', \"municú'io\", 'famu', 'deciarados', 'peia', 'instrumental', 'laboratorio', 'reutilil.ável', 'enfmitamento', \"cons'irução\", 'pacienibs', 'epjs', 'lnocêncio', 'aqutsjçao', 'enquadra', 'equ', 'avei', 'semi-racial', 'dnírglca', 'destiiados', 'seaetarla', 'sa\\\\de', '0-lstilo', 'daala', 'eletrica', 'picos', 'sallde', 'un1dade', 'bajxa', 'prof.issionais', 'oda', 'hemogasômetro', 'beira', 'assistencial', 'alimentar', 'alojadas', 'municiapal', 'oferece', 'humanizada', 'méascaras', 'semifacial', 'recomendacédes', 'ms/anvisa', 'estandes', 'estruturar', 'imóveis', 'aplir.açilo', 'espacial', 'inseticida', 'insetos', 'automotor', 'marco/modelo', 'fiorino', 'furgão', 'transformada', 'ambulôncia', 'remoçõo', 'quilômetro', '4cc', 'cv', '85,0', 'ig', '88,0', 'ei', '2019/2020', 'sólida', 'passageros', 'cõmbio', 'lransmissõo', 'marchas', 'ré', 'o~-bog', 'duplos', 'exigida', 'legisloçõo', 'trõnsito', 'coraúbas', 'vlrus-', 'alas', 'kit´s', 'artificial/ppc/nasal/neonatal', 'obito', '158', '70°', 'teresina/fms', 'observando', 'previsto', 'gasômetro', 'analisado', 'sanguíneos', 'eletrólitos', 'metabólicos', 'alccol', 'engarrafas', 'insturmentalizar', '66', 'vidraçaria', 'especlalidades', 'médjcas', 'instalado', 'ginásio', 'esportes', 'verdão', 'tres', 'com.bate', 'vitamina', 'fortalecimento', 'imunológico', 'convid-', 'enfreotarnento', 'bocaina-pi', 'nefrologia', 'plenário', 'aqwsfção', 'grafico1', 'pfotagem', 'arribuiãnda', '.banner', 'pfacas·', 'e·', 's1nai1zação', 'destinada·', 'cóvid', 'do.hospital', 'duceumendes', 'cie', 'brancaípi', 'persiana', 'impermeavel', 'cateteres', 'espacos', 'primordial', 'contencao', 'hemodialise', 'isolador', 'dialisador', 'leão-piauí', 'seram', 'avenlal', 'máscarns', 'locas', 'coronavirus-covid-1', 'higienizaçãoj', 'outdoor', 'contigência', 'epidemina', 'eníell11eira', 'imunizações', 'ifpi/posto', 'paizão', 'codip', 'duos', 'ondas', '8m', 'oltentoj', 'cadetes', 'éstico', 'iratolodos', 'f-einlo', 'tomaz', 'próximo', 'co50', 'lolooco', \"pal'ci\", 'dlstonciomenlo', 'prevênçao', 'eslomos', 'lnlecçôo', 'oorono', 'vius', 'estruturo', 'metalizad.1', \"l'estimento\", 'alunúnio', \"adcsil'o\", 'uponc', 'parn', '\\\\lcool', '1.50', '0.50cm', 'atcrdcr', 'rccessidades', 'ccn', 'pimenteiras/pi', 'extrator', 'automatizado', 'nucleicos', 'm200sp', '800,00', 'computadorizada', 'notebook', 'ratificada', '28/04', 'senriços', 's~retaria', 'família-psf', 'secrefaria', 'entretamento', '110.000,00', '22.000,00', 'aroazes', 'falcon', 'corona.vírus', 'imunológica', 'f-line', 'única', 'menu', 'distrlbuidos', 'coronavlrus-', 'anat', 'reduzir', 'cont.iglo', 'pandêmlca', 'pats', 'capacitadas', 'treinadas', 'domiciliares', 'recém-chegadas', 'estados', 'garrafão', 'popeline', 'bramante', 'destemunicípio', 'vlgllància', 'transportes', 'principalmente', 'empresa..', 'pare', 'velculos', 'uruçui.pi', 'nitrlll', 'ka', 'rc', 'facll', 'sky', '3l', 'vac', '0²', '24/04', '-serviços', 'montagens', 'smx', 'móscara', 'descartóvel', 'contá1rio', '17/04', 'smartphones', 'posslbllltar', 'usuérlos', 'tendam', 'cadáveres', 'impenneaveis', 'pulveriudores', 'manuais', 'semlfaelal', 'integrados', 'ciac', 'ciaspi', 'lnfecçõo', 'vfm', 'informativa', 'privativas', 'circuitos', 'uruçui-', 'protetora', 'lab', 'c11íre', 'nwmcnto', '11ldcmfa', '110vo', 'coronavin1s', 'nan1ré', 'auxiljar', ',5', 'rajmundo', 'n.º', 'medic', 'pradonizados', 'ampliar', 'crescente', '.banheiros', 'usuária', 'casas·', 'congêneres', ':em', 'pandemia·', 'covid_19', 'recomendado', 'peroxido', 'hidrogênio', 'paracético', '06/05', 'rescindido', '20/05', '64', 'bioclin', 'ecoteste', 'macro', 'centrífuga', '220', 'dist', 'equtp', 'odont', 'inscrita', '.894.963/000', '1-74', 'sigam', 'práticas', 'apropriadas', 'biosscgurança', 'impeçam', '-pl', '1.715.131,12', '1.627.653,46', 'mecdnicos', 'multipardametros', '00343/20', '11288/2020', 'adaptado', 'dianteiros', 'grafismo', 'repassadas', 'lluminaç', 'ventilaç', 'oscilante', 'atrás', 'ianteiros', 'encosto', 'organl', 'z', 'covld·19', 'piaijí', '57.000', 'ederal', 'resta', 'acessibilidade', 'determina', '8.666', '1993', 'introduzidas', '8883', '1994', '9.648', '1998', 'consultorio', 'aimiro', 'costada', 'brasileira', 'oxímeib.os', 'propts', 'termômeib.os', 'cortina', 'sulfite', 'cx/', '750/m', 'a4', '1210x297mm', 'necessãrio', 'andamento', 'escolares', 'estarem', 'suspensas', 'presencialmente', 'decidido', 'seria', 'repostas', 'seriam', 'impressas', 'aluno', 'tambtm', 'coronavirusi', 'provisórla', '961', 'ii/pmpii/pi', '33.90.39', 'disciplinadora', 'usodurante', \"mi'o\", 'pao', 'rosáio', 'gülherme', 'barrera', 'saniláio', 'ralo', 'santtório', 'sttuaçõo', 'ho..mono', 'vírus-covl0-19', 'periféricos', 'fowler', 'acompanhada', 'masculino', '-cem', 'eslrutura', 'padronlzado', 'adesno', 'vinll', 'supor1b', 'municl', 'pco', 'pradronizado', '1,5', '0,50', '1,50m', '-tnt', 'm~dico', 'und', 'ecológicos', 'miltonbrandão', '55/2020/fepiserh', 'municinal', 'faciai', 'su', 'uapara-pl', '57/2020/fepiserh', 'freezer', 'acondicionamento', 'biológicas', 'mop', 'protei', 'urgincla', 'possfveis', 'pois', 'constatado', 'jã', 'inexigibilidade', 'enfreoramentos', 'salários', 'mínimos', 'dividida', 'salario', 'ehospitalares', 'cinqüenta', 'râpido', 'bond', 'liberação', 'saú0e', 'membros', 'corporação', 'militar', 'auditório', 'térreo', 'executivos', 'hidrossanitárias', 'estrutural', '20horas', '30h', 'vídeos', 'publicitárias', 'secretarie', 'well', '·sagrado', '-2', 'metal', 'pandemiarelacionada', 'digitado', '2mv', 'alfa', 'telerradiologia', 'iide', 'canabr', 'vapi', '-como', 'medid•', 'eofreotamento', 'corooavfrus', 'fludrocortisona', '0,1mg', 'seringas', 'preenchidas', 'leuprorrelina', '11,25mg', 'liof.', '15.176', '1000mg', '12.950', 'imunização', \"f'r-onteir.t\", 'reg', 'ime', 'semana.is', 'imunocromatografica', 'muntcffto', 'serviçoa', '.joão', 'venoso/vascular', 'musculo', 'esquelético', 'cardiológico', 'uti/centro', 'soflware', 'não-exclusiva', 'áudios', 'videos', 'orientação/prevenção', 'coronavirt', \"sco\\\\'id-19\", 'l\\\\tllnic', 'ipio', 'df', 'são.joão', 'cana', 'brava-pi', 'i.', 'f.i', '1nt', 'paj1i', 'cmergencial', 'coronavíru.~', 'piauí/pl', 'tmno', 'metálicas', 'plásticas', 'calçadas', 'anúncio', 'publicitario', 'lobãq.pi', 'cov-', 'pe.s.soa', 'uddica', 'forneo1.mento', 'medieamentoa', 'serio', '110de', 'pdblica', 'propoatas', 'procesao', '001.0003425/2020', 'hunicip11l', 'c/30', 'hidroxicloroquína', 'armada', '18.000,00', 'comp', 'cam', 'poliestireno', 'interno', '0,46x1,60m', 'analisadores', 'insumos/pack', 'tricoline', 'paulistana-~', 'presenle', 'moto', \"202a'2020\", 'prelo', 'rotineiras', 'especificas', 'c.oronavín1s', 'palv', 'm1111icipio', 'piau//pi', 'reafüadas', 'sanifária/', 'apresenlada', 'imegrar', 'artes', 'forneciment.o', 'confrontamento', 'omorgôncia', 'sa.údo', 'dooorront.o', 'd.o', 'ooronavúus', 'josá', 'awminio', 'padronizaçãoem', 'vinil..', '050', 'gestacional/', 'amanda', 'cornemberger', 'pimentel', '13.527.00', 'inserções', 'carta', 'panfleto', 'aqu', 'el', 'rgen', 'ú', 'oem', 'rval', 'nossas', 'diminuir', 'nossos', 'contrataç', 'confecç', 'liter', 'emersenclal', 'term6metros', 'utlllrados', 'coronavírm', 'rapid', 'testem', 'divino-pj', 'eor', 'mo.vírus', 'l9', 'll.ró', 'sccrotta.rill', 'poi.', 'aguas', 'domestico', 'utilitários', 'disversos', 'hrcr', 'estabeleoda', 'rigida', 'nece5.5udades', 'sr420stihl', 'misturador', 'lubrificante', '2t', 'conv1d19', 'coiv', 'aras', 'c.-onstrução', 'crónicas', 'prí', 'djo', 'ofertado', '044/2020', 'eriais', 'rosto', 'pertence', 'bota', 'enfemelo', 'profi', 'sâo', 'mlstlgação', 'dcrrencla', 'sars-cow-2', 'mocambinho', 'estaço', 'tomografo', 'adequadamente', 'embalada', 'marmitex', 'tampa', '°08', 'arroz', 'crua', 'cozida', 'macarrão', 'variadas', 'ate-nder', 'sutran', 'ilância', 'vários', 'contataçlo', 'profl', '1onal', 'confec', 'çlo', 'lnduslo', 'sit', 'uação', 'vulne', 'rabilidade', 'ovid', 'qulmico', 'versão', 'higieniz.ação', 'sanitiz.ação', 'covidl', '009n.020', 'wáter', 'emcrgcncial', 'tapuiojpi', 'secretariamunicipalde', 'intertela/tnt', 'goncal', 'ves', \"coni'ratação\", 'medteste', 'conlmlo', 'llospillllares', 'cepi', '~jm', 'neoessida', 'les', 'secre1aria', '03meses', 'pandcnúa', 'elcsbão', 'especifi', 'refetincia', 'inlegrar', 'ronuato', 'fomecime.-.o', 'intens', 'oombote', 'co.-on', 'wlrus', 'sors', 'sobra', '~is', 'lllllnicipio', 'consl', '1es', '130', 'aquisiçfio', 'á.scards', 'dvplo', 'reutili7.lwel', 'cn.fumtamcnto', 'solicitacdo', '00331/20', '10931/2020', '1lé', '134/2020', 'vinculacgao', '9071/2020-pmp/pi', 'n®_', '150/2020', 'vinculagao', '10931/2020-pmp/pi', 'prontudrio', 'modernizacdo', 'homologacao', '1.380.000,00', 'residencial', 'contrataçlio', '80.130,00', 'mateliol', 'gróflco', 'comple1üdade', 'fomecimerto', 'lns11mos', 'hospital.ues', 'l4', 'necesskl', \"'ldes\", 'mutúcipal', 'saíide', 'oombatc', 'sarse', 'ov-2', 'elesbl', 'propos1a', 'apresen1ada', '.500', '200ml', 'aqulslçõo', \"epl's-\", 'másca-as', 'prollsslonais', '6reo', 'munlcfpto', \"f'iau~pi\", 'sttuaçclo', 'decooênda', 'caonavfrvs', 'covio-', 'lnfecção', '169', 'constava', '22/04/2020', '05/05', 'aiender', 'emergcncial', 'sm-cov-2', 'tapuia/pi', 'fiscali..ação', 'muni.cipal', 'piramidais', 'industrial', 'fornceça', 'tónel', 'discontaminante', '~3/3~0', '047/3030', 'esclusivo', 'fisiol', '0,9', 'farmace', 'trocados', '168/19', 'espelho', '55/2019-fms', '55/2020-fms', 'urucui-pi', 'pcr', 'quantificação', 'amplificados', 'reações', 'químicas', 'homogêneas', 'taqman', 'sybr', 'green', 'termobloco', '96', '0.2', 'microplacas', 'ótico', 'lâmpada', 'halógena', 'fluorescência', 'excitação', 'detector', 'ccd', 'charge', 'couple', 'device', 'aqulaiçio', 'proflnlonals', 'ai8tema', 'muntclpal', 'muntcípto', '200mg', '-cov-2', 'invólucro', 'recipientes', 'uruçul.pi', 'deacolhimento', 'deespecialidades', 'mtdicas', 'decorrê', \"lcí'pio\", 'div1n0', '2.330,00', 'fecçào', 'hidratante', 'l00ml', 'orgàos', 'assistftncia', 'finaliade', 'desabastecimento', 'assistenica', '-pct', '100und', 'sanfonada', 'materjas', 'ôrgãos', 'manipulacao', '220mg', 'i.nzilândia-pi', 'impressoms', 'scviços', 'encadernação', 'demaodas', '.nzi', 'ândia-pi', '20.07.2020', 'hipoalérgica', 'alcóolico', 'unitá-', '16.440,00', '3.900,00', '1.043,00', 'epidemiologico', 'alugel', 'alertas', 'visos', 'prevenç~o', 'criar', 'mídiás', 'sonorização', 'palestras', 'respeitadas', 'palestra', 'nebolização', 'ultiparâmetros', 'metro', 'utilizar', 'entradas', '08/2020', 'empr.e', 'ingiene', 'funerário', 'popular', 'edredom', 'forrtcimento', 'lnsmoos', 'hospi1alares', 'cará1er', 'emergeacial', 'ses', 'sar', '-0', 'dllldícípio', 'veloso/p~', 'sussuapara-pi', 'municiplo', 'perdas', 'ocasionadas', 'produtivas', 'dep', 'georgiano', 'enfermaaem', 'hipólto', 'propagandas', 'acdées', \"trall'sporte\", 'animais', 'captorad0s', 'abandono', 'p011licas', 'llffestações', 'pulgas', 'carrapatos', 'cai.azar', 'raiva', 'danos', 'llfteqrajite', 'coii', 'lel', '8.666/1993', 'taiibb', 'regulada', '13.979/ll', 'conforll', 'espec1ficações', \"recoiie1'dação\", 'conjunta', 'iipt/iipe', 'o1/ll', 'icipjo', 'for.ma', 'temporárla', 'propissionais', 'enquanito', 'publjca', 'p2lo', 'equipe-', \"d'alcântarnpi\", 'infravenmelho', 'fonma', '••', 'coronavirus-covid19', 'envasados', 'botijões', 'proceaao', 'diapenaa', 'termõmetroa', 'utlllzadoa', 'p.', '1300', '5,20', 'uti.lizadas', 'aocoronavírus', 'dei', 'sumo', 'dema', 'pennanentes', 'confeccionável', 'cooiv-19', 'gntuita', 'filtrantes', 'emergãncla', 'macedo/p', 'inácio', '558,60', '147', '3,80', \"d'alcantarnpi\", 'oronavirus', 'comodoto', '25/05', '174', '381/2020', '429/2020', 'comimplantação', 'consistente', 'antecâmera', 'cirurgias', 'alojamentos', 'novas', 'atendimeitto', 'pacienfes', 'higienizador', 'proceaso', 'plaul/pi', 'pulverizadores', 'dopiaui', 'santização', 'muncdial', 'antender', 'compoe', 'blocos', 'ati/cge', 'fazendária', 'piauíprevidência', 'dhpp', 'arquivo', 'utllizados', 'palmeira1', 'hora-p', '4bate', 'lcípio', 'horários', '6:00hs', 'manh', '00:00hs', 'der', 'soo', 'irá', 'funcionar', 'suspejta', 'coy10-rn', '11suários', 'índividual', 'destfnado', 'diretorias', 'gamil', 'polegadas', '-ala', 'servjço', 'inaloterapia', 'teleconsulta', 'linhas', 'cuidado', \"v'rtude\", 'anexas', 'colocar', '26.06.2020', '221', 'empresaespecializadapara', 'parasupriras', 'hospitalinfantillucídio', 'poltrona', 'acompanhante', 'sanitarização', 'simles', 'campanhe', '700/4', 'módulo', 'crítica', '170,00', 'prataçio', 'conlecçio', 'múcaras', 'aç6es', 'prevençio', 'uruçui-pj', 'forrado', 'emergenciai', 'distribuidos', 'as.5istência', 'gurguéia-pi', \"municll'io\", 'combaib', 'covjd.1', 'riti', 'trabalh..-', 'hosp~al', 'li.-.', 'banro', 'cqvi0-19', 'confecçio', 'revençio', 'cirorolco', 'fronhas', 'macacoes', 'prop1ssionais', 'mtoicas', 'ciem', 'urgéncia/pronto', 'teçidos', 'cirürgicos', 'ibeiro-pi', 'gonçalves·', 'lrabalhar', 'b..-ro', 'coronavi11js', '_para', 'dade', 'educaçao', 'desfilibrador', 'lunçao', 'cozinheira', 'trabalhano', 'púbiica', 'bairo', 'deoorente', '-epi', 'coronavír', 'aqulsiçlo', 'referincia', 'wna', \"atuà.r'no\", 'l5', 'cornavirus9', 'cardiologista', 'estarão', 'observadas', 'oqvisição', 'imunocromotogr6íteo', 'r6pido', 'determi1oçõo', 'qualitotiva', 'coronavlm', 'omostr01', 'munícipes', \"coral'.bas\", 'pioli', 'coronavlrvs-', 'individualdestinados', 'ontratação', 'w', '.m', '10.0m3', '1.0m3', 'unitec', 'regul', 'fluxom', 'laboratorirus', 'desde', 'objetiva', 'detectar', 'specíficos', 'porém', 'concentrações', 'relativas', 'imunoglobulina', 'diferenciação', 'maior-p', 'discriminado', 'sdu-', 'sul/pmt', 'sanea', 'eses', 'ereta', 'san', 'nomunicfpio', 'côntratação', 'marcos-p', 'descart4vel', 'pct', 'convid19', 'pew', 'momentãnea', 'recepcionista-para', 'baslcade', 'mporária', 'desidiados', '21.250,00', 'automotores', 'carretas', 'motos', 'montadas', 'acientes', 'aquisilção', 'presidente', '799', 'elaboradp', 'núvleo', 'nis', 'cedido', 'gratuito', 'ariosto', 'ibiapina', '110.737.805-20', 'assinado', '05/04', '02/06/2020', 'mosquito', 'tlpo', 'urgitncia', 'e.pj', 'especificacao', 'hospitak', 'pacheco', \"e'botas\", '.os', 'senador·', '·covid-19', 'constjtul', 'setvlços', 'ccz', 'snas', 'largai', 'online/aplicativo', 'configurações', 'dirigentes', 'pedagogos', 'marcap.transcutaneo', 'multiparâmetro', 'usodo', 'colaboração', 'scretária', 'matenidade', 'spmio', 'spmip', 'pertine', 'proficionais', 'acriuco', 'paquetá-pi', 'rfl', 'fonoaudiologia', '1.300', '-p', 'fornecrmento', 'muntcípio', 'imunocromatooráncos', 'rápllx', 'iom', 'vt', 'covij', '..19', 'sanoue', '22/05', 'vigilânoa', 'veicula', 'mont', 'aoem', 'barracas', 'tovl0-19', 'públíca', 'cnfrentamento', 'coto11av', 'médico-', 'suítes', 'importa', 'quantia', 'suites', '600,00', 'suíte', 'purificador', 'contemplar', 'conveniadas', \"enl'rentamento\", 'emergtncja', 'alagojnha', 'pjaui-pl', 'coronavfrus-covid-19', 'realizada', 'procediment', 'funcionãrios', 'matas', '40hlsemana', 'gercll', 'proteçlo', 'aroum', 'cepcional', 'enfren~ento', 'emergêooa', 'importãnda', 'pira', 'mati~i', 'tfstes', 'azare', 'colllralaçoo', 'tisicas', 'w-gência', '50cm', 'ferramentas', 'ger.11', 'tomadas', 'atualizaçao', 'trução', 'lugares', 'hemograma', 'uréia', 'creatina', 'gama', 'gt', 'dhl', 'coofeçção', '11/pmpii/pj', 'mascará', 'pgs', '207', '208', 'distribuidora', 'agulha', 'lencol', '210', 'luv', '1s', 'emeigência', 'c.ovid-19', '91', '4.207,86', 'locação/licenciamento', 'interativo', 'domínio', 'white', 'label', 'hipólito•', '40.000,00', 'polo', 'presfam', 'duosl', 'oitento', 'coderos', 'plástico', 'i1stolodos', 'felnlo', 'tomoz', 'prôxmo', 'coso', 'lolerico', 'd~tonciamento', 'prevênçõo', '~o', 'especiallzada', 'saúde-hospital', '048/2020', '205', '3.770,00', 'oorrespondente', 'oontrato', 'swita', 'hipólito•pi', '65.625,00', 'cinirgico', '80glm', 'hipoalérgico', 'atua', \"'m\", 'gervásio', 'oliveira-pi', 'castro-pi..', '09/06', 'aqueles', '/infectados', 'estacionamento', 'laboatoriais', 'hemocultura', 'urocultura', 'antibiograma', 'shild', 'lâmina', 'acetota', 'acolchoada', 'goncalves', '0,5mg/ml', '1ml', 'inj', 'suspeita/', 'aterro', 'cemitério', 'camboa', 'teresina-piauí', '80gr', 'extra', '05/2020', 'creche', 'principe', 'cadeira', 'frigobar', '·para', 'áreà', ':destinada', 'mundial-', '19-', 'lnflável', '2x2', 'medtes1e', 'pjnocombaleaocovjd.19', 'uporte', 'pacruado', 'empregado', 'empregador', 'desempenhadas', 'alteradas', 'pre~ihla', '077/2020', 'seme', '20h/sekana', 'bii', 'caráier', 'iirg', 'nj', 'bnfrent.l\\\\mbnto', 'fcia', 'põblica', 'coron71virus', '107.', 'nel', 'impo', 'taxa', 'demaio', 'ributo•', 'endo', '000,00', 'qua.renta', 'realo', '•eis', 'me•e•', 'hunicipa1', 'rãpidos', 'i00/igm', 'aux1lio', 'diaonôstico', 'covl0-', 'necessar.ios', 'rapi.oa', 'iequipomenlos', 'lndividuolj', 'focial', 'filtronte', 'loucos', 'descortoveis', 'olcool', 'úquido', 'moscoro', 'triplo', '09.360.714/0001-85', 'verdade', 'viamed', 'aqtnsição', 'impbrmeáveis', 'dh', '11/pmpii/p', '021-a/2020', 'região', 'rios', 'carnaubas', 'sambito', 'canidé', 'serra', 'capivara', 'chapada', 'mangabeiras', 'individualepi', 'coletor', 'contaminado', 'perfuro-cortante', 'plaquetas', 'patrimônio', 'oio', 'esoerantina-pi', 'tvs', 'aqulllçto', 'peredveis', 'lurdes', 'pandemi', 'ano-pi', '81', 'janelas', 'temperado', 'wn', 'articifial', 'ppc/nasal/neonal', 'sonda', 'uretral', 'nº12', 'automação', '04/06', '500.000', 'aqulslçlo', 'dlagnóstlc', 'conmavlrus', 'ovid-19', 'plaul-pi', 'mâscara', 'descartâvel', 'aquislfiao', 'aqulslçto', 'igg.iigm', 'covtd·19', 'rap', 'verjota', '-epis', \"cenl'ro\", 'convivência', 'assisibncia', 'social·', 'qualifjcada', 'canlter', 'temponlrio', 'lnfretamento', '2500', 'aquisig4o', 'piauif', 'contratllçio', 'diatribu', 'uds', 'urb', 'dtste', \"ambien'ibs\", 'conira', 'lnternas', 'circulação', 'recomendados', 'regularizados', '2212020', 'destinaix', 'telhado', 'cme', 'aquisigéo', 'desktop', 'nobreak', 'informatização', 'canasrava·pi', 'rnecimento', 'incremento', '40430001/2020', '723', 'qualidade', 'comtemplados', 'usudrios', 'continua', 'essencialidade', \"equll'jis\", 'refeiwncla', 'vitais', 'gramatura40', 'operam', 'responsabilidade', 'vinculadas', 'determinadas', 'vierem', 'precisar', 'divino-pl', 'beneditinos', 'primeffios', 'socorros', 'klt', '045.03003/2020', '165', 'aquisicado', 'imper', 'aqul.sição', 'sestas', 'capacitado', '2100+', 'd/\\\\', 'vig', 'ilancia', 'caniter', 'xccpçional', '1cm1', 'flrio', 'pnro', 'preslodo', \"'.i\", 'secrct', 'iria', 'mt1nicipal', 'sriúde', \"joi'lo\", 'fronteiro', 'qu', 'wentn', 'hora~', '1.045.00', 'contribuição', 'maio/2020', 'julho/2020', 'vulneráveis', 's/a', 'anestesia', 'jerviços', '475/2020', 'instalaçao', 'saú', 'copo', 'álc.ool', '590,00', 'futevôlei', 'vôlei', 'areia', 'estadio', 'epl·a', 'aui-pt•', 'tlsicas', 'tennos', 'inflavel', 'craniotomo', 'portela-hilp', 'dtscfpunalx', 'ras', 'lotl', 'flm', \"evll'ar\", 'dissllminação', 'paq', 'ríodo', 'serv.de', 'municípios', 'edificio', 'mumcipal', '2.500', '7,83', '19.575,00', 'solucao', '1,53', '10.710,00', '328.800,00', '36,75', '36.750,00', '19.500,00', '1,49', '14.900,00', '20.860,00', '1,38', '138,00', 'aumentando', '205.000,00', '451.223,00', '2011', 'aldeci', 'barbosa', '3s0', '9.', 'tagcm', 'passiveis', 'icitação', 'execuçõa', 'adaptaçõa', 'poclenles', 'cavld-19', 'bóslca', 'gvílherme', 'caraúbos', 'cavalete', 'cãmaras', 'alinhamento', 'balanceamento', 'locação/instalação', 'estruturad', 'modulares', 'poços', 'tubulares', 'enfermarias.', 'contratadas', 'disponibilizado', 'piracurucapi', 'cnfrcntamcuto', '-pf', 'enfrentrunento', 'fomecmento', 'lnformaçlles', 'depacientes', 'contratacgéo', 'declaração', 's500', 'conclusão', 'icitatório', '125', 'slncerlno', '5emsas', '66mg', 'ta.me', 'especia1ista', 'cardiol_ogia', 'maos', 'paepl', 'boquetr.ão', 'pjaui', 'fornecinento', 'quatrocent~', 'destlnaoos', 'emergeoclal', 'qistilo', 'hospitalare', 'igg/', 'concreto', 'terreno', 'tapume', 'anexo-', 'posse', 'candidato', '035.853.703-73', 'municlpios', 'projeção', 'equlpamentos', 'terceirizacao', 'mao', 'execugao', 'números', 'prestção', 'impressões', 'diz', 'respeito', 'esse', 'obedecendo', 'solicitacdéo', '0372/20', '13007/2020', 'biiiz', 'educ-atlva', 'beneficiários', 'materlais', 'hlgiene', 'reutiliza', 'destilados', 'coordenados', 'fomecimenlo', 'funerarios', 'francês', 'doce', 'vulnerável', 'atingi.das', 'donatário', 'piauienses', 'dão', 'coronavírus/', 'necessá', 'rias', 'piaul-p', 'aqulsiçào', 'acrjlico', 'alum1n1o', 'aqulsição', 'impressa', 'centrffuga', 'anti-coagulante', 'sbr', 'feito', \"temporiri'a\", 'níveis', 'diversas', 'sawie', 'd/spenser', 'reutilizáveis', 'confeccionados', 'artesanalmente', 'secrelarla', 'lnfraestrutura', 'floriano-p', 'çpntrataçlo', 'nico', 'enfennagc.m', 'jμn~', '.-rctaria', 'mur.i', ':ipal', 'mmticfpio', 'jljataql', 'llte', 'intqrar', 'p~d', '=mia', 'do·covid-19', 'cara', 'higie', 'ização', 'emergf', 'elo', 'fecção', 'coronayirus', 'demarcação', 'dlstanclam.ento', 'icipal', 'papal', 'prog', 'ósticos', 'ofícios', 'uestões', 'esst', 'clas', 'parar..', 'imprensa', 'mentoria', 'asseptcim', 'clorofort-hip', 'creme', 'cin', '187', '046/2020', '047/2020', '30h/', 'urg~cia', 'p0blica', 'substituta', 'remedios', 'prefeitu', 'espeoallzada', 'detrimento', 'munjcf', 'urgfncia', '12/06', '293', 'metdlica', 'implantados', 'circulacdo', 'cantina', 'doador', 'laváveis', 'ol.230312020', 'modaudade', '001/2020-srp', '.2l0l/2020', \"en'ire\", 'tratar', 'testar', 'possiveis', 'correlacionados', 'trjagem', 'subsidiaras', 'imunocromatográfíco', 'sars-cov2l', 'municipro', 'deoxigênio', 'andlises', 'diagndéstico', 'ampliacao', 'cabines', 'nebulizadoras', 'desinfefecção', '8.1.', '010/2020-semduh/pmt', 'despacho', '452', '0777559', 'exarado', 'figurar', 'classificação', 'apostilado', '/atividade', '1753-ações', 'led', 'hdmi', 'lr.l', 'ímportãncla', 'íntemacklnal', 'decormnte', 'tambolll', 'tecllx', 'lobão-pino', 'carradas', 'potável', 'abastecimentos', '10.000l', 'corno', 'enfemelra', 'profiss.1o', 'mistigação', 'importancla', 'sars-cow-21', '29.400,00', '53.000,00', '260.000,00', '200l', 'haper', 'box', 'banquetas', 'inoxidável', 'reclináveis', 'suportes', 'emidio-pi', 'município.de', 'muniçipat', 'ilsistência', 'nara', ',o', '5çryiço5', 'núb', 'liça', 'çovid', 'comuinltárla', '258', '16/06/2020', 'caráte', 'atravj', 'emergl', 'controlados', 'contratacgaéo', 'doenca', 'atengao', 'ptiblicos', 'populacgao', 'adltivo', 'ajmeida', 'h.n.s-ação', 'p/aquisição', 'h.n.s', 'avançado', '29.07.2020', 'leia-', 'treinamentos', 'científicas', 'adil1vo', '2.820,21', '11.945,83', 'anterior', '3213,96', '3090,07', 'wumidade', 'tnt40', 'utin', 'conrraraçlo', 'pulverlu', 'dor', 'agrlcola', 'açiles', 'ambienibs', 'covi0..19', 'alerta', 'câncer', 'alcenor', 'licitaçao', 'rap/dos', 'emprfsa', 'pre.stação', 'consumo-equipamentos-destinado', 'profeção', \"epl'sj\", 'piatj1', 'perlododa', 'pandemia•', 'cópias', 'contrataçil', 'derorrente', 'trocas', 'municjpal', 'pertioeote', 'deepi', 'fimde', 'demonsenhor', 'etiquetas', 'couchê', 'ribbons', 'cera', '59/20', 'multiparãmentros', 'transformadores', 'sa.11itização', 'cnfrentamcnto', 'necess', 'vinopi', 'mn1eriais', 'ecretaria', 'assistê', 'enfrentaniemo', 'no-pi', 'servlço', 'ma1e1iais', 'stê', 'divi', 'no-r', 'tablets', '3g/4g/4g+', 'virtuais', 'abrigos', 'casas', 'mantidas', 'tenda.', 'inblalação', 'fu', 'olc', 'dwantt', '20/07/2020', '18.792,00', 'alertar', 'pintada', 'anticorrosivo', 'esmalte', 'sintético', '23,24', 'virgula', '58.847,33', 'localiz.ado', 'cessdo', 'criogénico', '4.500', 'fechados', 'higienizagéo', 'logistica', 'gasédmetro', 'quimioluminescência', 'regimento', 'assistênci.a', 'caxingópi', 'terpenoil', 'uruçui', '470g', 'temporãrjo', 'hoúria', 'semnml', '-rental', 'hoiias', 'parti', 'piiev', 'nção', 'combati', 'iigtnoa', 'saõde', 'pcibuca', 'decorllt', 'ftonavfrus', 'aqlílsição', 'toibms', 'municij', 'gil·', 'gal', 'controla', 'prevançlio', 'pastas', 'az', 'algodao', 'sccreta.-ia', 'sal', 'canitcr', 'cmcrgencial', 'm~', 'corona.vcrus', 'sars-cov•2', 'po.fg', \"s1'.o\", 'tapuiolpj', 'eonfonne', 'pecificações', 'rr', 'lr', 'propo.na', 'apre', 'entada', 'prcseqte', 'tempor.ãrio', \"in'tt\", 'resse', 'caipiga', 'ttc', 'rár.ta', 'hoaas', 'emergtncla', 'nol/0', 'icovid', 'lndivldual-epls', 'munfdpal', 'contrataçáo', 'zada', '137', 'caxingó·pi', 'aqul1lçlo', 'eph', 'prevençlo', 'aquislção', 'asslstência', 'püblicos', 'n°01/2020', 'clpio', 'h.igieniza.ção', '001.0002514/2020', '105,00', 'inocê', 'cio', 'óleos', 'lubrificanies', 'necfssidadfs', '213', 'calibração', 'certificação', '3.000.00', 'covirus', 'cirúigico', '30.07.2020', 'marcara', 'gramal\\\\jra', 'geminiano-pl', 'arame', 'pet', 'admiinstrativas', 'forne', 'c/pedaleira', 'idtnp', 'viral', 'comdisponibilidade', 'tod', 'dlaa', 'ho', 'pital', 'pire', 'desthados', 'atendmento', 'emerg1n', 'lal', 'secreta1a', 'munlc~i', 'empfesa', \"pêl'a\", 'igg/1gm', 'co.1d-1', '1-ipólito', 'capuz', 'avfrus', 'reutilizavel', 'valv', 'jaguar', 'inc', 'kalipso', 'pulverjzador', 'flta', 'zebrada', 'lamp', 'isw', 'fio', 'torcido', 'naconstituição', 'demedico', 'aj', 'rqsárk', 'cargahorária', 'caraübas', 'balacla', 'permeáveis', 'elático', 'co~ão', \"el1'4\", 'solicltação', 'mnistério', 'ofick', '45512020-prm/phb-gabslr', 'cartões', 'lacenpi', 'trotamento', 'zfper', 'municpol', 'munlctplo', 'coroo', '.t', 'lomo', 'lluoçõo', 'tãr', 'cou', 'yono', 'vim', 'pres1açao', 'seivlços', 'destlnados', 'enrrentamento', 'euseu', 'ulsi~o', 'higienizantes', 'an', 'overde-pi', 'assisltncia', 'ml.tllcipio', '5mx5m', 'sant', 'inieresse', 'públioo', 'sanit', 'prwios', 'púbuoos', 'estabelecimenfos', 'porlu', 'tl', 'cnico', 'semanas', 'profisisonais', 'processadora', '92g', 'pono', 'prorroga', 'acma', 'nominodo', 'olignal', '20.000.00', '\\\\/ínte', 'pcrcelas', 'iguais', '10,000.00', 'locaçõo', 'agasto', 'cfdem', 'daernergênclade', 'roronavl', 'ru', 'neo866idedes', 'piaul.pi', 'llpi', '5000ml', 'coronavims', 'lgg/igm', 'paraos', 'idep', 'cootrato', 'comiste', 'vacinação', 'soam', '.jardim', 'parnaíbapi', 'coronavirus·', 'preslaçllo', 'delerminado', 'cargo/funçilo', 'junlo', 'lotaçllo', 'critêrio', 'seerelaria', 'coma', 'obrigatório', 'parnaíba-pi', 'e/', 'conformes', 'tennôrnelro', 'display', 'e1úrentamen10', 'tnti', 'coronavírus-', 'tranferência', '04/2015', '459/20', '13780/2020', '33.570', 'cápsulas', 'pancreatina', '25.000', 'cap', 'no-pj', 'restruturação', 'digitalizadores', 'cágados', 'dores', 'benvindo', 'bertolínia-', 'flsicas', 'pla.ntonista', 'piracuruca.-pi', 'grande-pi', 'shields', 'hmef', 'lumiar', 'health', 'care', 'ventilacao', 'mecanica', 'inquerito', 'amostragem', 'aleatória', 'estratificada', 'sexo', 'emrgência', 'coronavírusa', 'estruturacao', 'canalizacgaéo', 'especificagao', 'necessidmjes', \"epl's\", 'fonecimento', 'cocal·', 'lé', '204/2020', '208/2020', 'conlratação', 'necfs5idades', 'operadora', 'exigsncias', '149', '85/2020/fepiserh', '1600', 'ampolas', 'fenitoina', 'mg/ml', 'meneie', 'smp', 'pós', 'modalidades', '4g', 'informação-ati', 'liquído', 'tanques', 'criogênicos', '29.06.2020', 'auxllio', 'rapioa', 'igg/iqm•', 'aq~içõo', 'equipamenlo', 'individuo', 'matenal', 'linpeza', 'conlrole', 'ofender', 'cs', 'secrelcno', 'síruaçõo', '24/07/2020', '140', '11/pmpji/pl', 'emergenciaj', 'tennômetro', 'possibili', 'tando', 'vidades', 'prjmitivo', 'secretarlas', 'pj•', 'nível', '/enfermeiro', 'igg/iom', 'dengue', 'igq/igm', 'rjbeiro', 'dmetros', 'adesivação', '/pi', 'aquisigaéo', 'aquisig¢do', 'promocional', 'esquadrilhas', 'metalicas', 'aui', 'covid19coronas', 'covi-19', 'covid-19/', 'atenda', 'qulnta', 'qu1nta', 'aditno', 'objetno', 'inqueritos', 'epidemiológicos', \"investigaçl'io\", 'amositagem', 'probabllfstlca', 'munkfpio', 'objetl\\\\lando', 'enfretamente', 'ronavlrus', 'combust', 'atedner', 'cruga', 'dentário', '/materiais', 'reutilizaveis', 'trataçáo', 'especialjzada', 'ave', '•aquisição', 'laboratporio', 'atoll', 'mldor', 'coonienaçao', 'awé', 'projeto/atmdade', 'acessórjos', 'álcol', 'coótratação', 'para·', '.harrefras', 'sariiclrlas', 'mumcíp10', 'de·', 'branca·no', '.contate', 'cóvid~', 'peío', 'truü', 'lnstoloçõo', 'monutençõo', 'barreiros', 'pandemias', '05/06', 'solicitagaéo', '461/20', '13815/2020', 'acerca', 'edições', 'midias', 'ârea', 'prese', 'clusão', 'primjt', 'filtrante/', '13,00', 'maximo', 'funções', 'determinada', 'atendem', 'especiauziida', 'r.ealizacao', 'laf', 'oratôrio', 'enfrenti\\\\mento', 'i\\\\li\\\\goinha', 'aul-pi', 'lndividual', 'brasjleira-pi', 'hrjbm', 'dividual-epl', 'tai', 'ôpoll', 's-pl', \"desenvolvlmeni'o\", \"enfrentameni'o\", 'ipinmsa', 'noer', 'macações', '68', 'cajazeiras', 'multifunção', '-toucas', 'gd-01', '276', 'ca-áter', 'coronavtrus', 'atençao', 'excelência', 'manutençao', 'seid', 'utensllios', 'i,58x38cm', 'estruturai', 'p.s', 'dispensar', 'parai', 'tapetes', '60x40cm', 'borracha', 'reforçada', 'solados', 'capacrr', 'compostas', 'enfermeiros', 'dentlslas', 'endemlas', 'ambulãnda', 'próximas', 'agências', 'sanitilria', 'aqu1s1çao', 'lavável', 'mantém', 'temporolrio', '1bhco', 'prcstaçllo', 'scmços', 'ehorária', 'sc', 'crctaria', 'ãrnbito', 'bancârio', 'oão', 'monitoram.ento', 'ntra', 'a/saída', 'essoas', 'umprimento', 'loté', 'mâscaras', 'outras~', 'onju', 'oqubi', 'uários', 'uruçuí', 'ituaç', 'i\\\\o', '23103/2020', '13.500,00', '29/06/2020', '28/08/2020', 'pen', 'detenninação', 'estin', 'istema', 'saúde.', 'neces.sidades', 'jundica', 'folders', 'conscienti', 'emergêncial', '09.07.2020', '314', 'modificado', '8.330,00', '7.000,00', 'lndividual-epls', 'selos', 'selo', 'amigo', 'idoso', 'çovid-1', 'aquisicão', 'rzea', 'link', 'mb', '06.07.2020', 'fomecimentll', 'equ~tos', 'compostll', 'desc.artáveis', 'álrool', 'ijloo', \"desca'távels\", \"desca'tável\", 'seaetlia', '~i', 'crls1lno', 'varjota-pi', 'prestagaéo', 'ressonancia', 'magnética', 'reguladoras', 'fixas', 'retedncia', '1in', '-aç', 'ões', 'en~', 'varjolalpi', 'bordados', 'vef', 'culo', 'secretarla', 'materias', 'quatrocentas', 'lmunocromatográ', 'fíco', 'lotai', 'jção', 'idades', 'serviçospara', '02.07.2020', 'sorviços', 'ínculo', 'repintura', 'mororô', 'francisco-', 'neuro', 'cirurgia', 'assistênc-ia', 'buritidos', 'lopes-pl', 'manute', 'çào', 'secretariam', 'jcjpal', 'desa', 'grandf/pi', 'apoiar', 'duração', 'aerossol', 'infável', 'tecnólogo', 'parnaguá', 'augusto', 'weguelin', 'fonseca', 'paranaguá', 'ums', '2ª', 'apresenlados', '24/06', '218', '10/07/2020', 'mundando', 'pandem1a', 'muntcípfo', 'acessório', 'colchonete', 'conting~ncia', 'portaril', 'ê', '1frentarnento', 'pandemta', 'âmbtto', 'muntctpto', 'ptres', 'compressor', 'trifásico', 'telecomunicação', 'retransmissão', 'sinal', 'satélite', 'antena', '10/', 'record', 'covicl', 'princfpio', 'ipi', 'as.tomos', 'teresina-hut', '5.000+', 'categoria', 'massap~', 'mara', \"massaj't\", 'piauí•piaui', 'auricia', 'inlegram', 'administ', 'ralivo', 'piauí-piau1', 'débora', 'sjl', 'bezerra', 'supressõo', '32.185.50', 'oitenlo', '141.280,50', 'q.', 'orento', 'míl', 'inquenta', 'odmlnlslroflvo', 'tundomentondo', 'otteroções', 'aquisiçl', 'm~apt', 'piaui-pjaui', 'elenilda', 'piaui-piauj', 'gracimone', 'fátima', 'gonzaga', 'benedito', 'piauí-pia', 'andreia', 'joselita', 'tekmo', 'piauf-piaui', 'josiana', 'francisca', '17.07.2020', 'dimensões', 'mínimas', '45x130cm', 'otender', 'secreforio', 'rruniclpio', 'príncípio', 'vlsfo', 'momenfo', 'tuoçõo', 'lnlecçõo', 'c0', 'ono', 'vfrus-', 'pjaui-piaui', 'urdes', 'contrataoo', 'saciai', 'marla', 'massapfi', 'pjau', '-piaul', 'maura', 'dapandemia', 'plaui-pia', 'olivia', 'jaianny', 'coyid', 'serviçostemporários', 'mljnicf', 'simone', 'domunicípio', 'massapé', 'thaynara', 'teles', 'individua', 'c~mara', 'avres', '02*', '10•', '15*', '17*', '21•', '22•', '23*', '24*', '36•', 'asssistente', '02para', '01*', '02·', '03•', '04•', '00·', 'o·', '12·', '13•', '14*', '1s·', 's·', '19*', '25*', '26*', '21·', '29*', '30*', '31•', '32*', '33•', '34•', '35*', '70/2020', 'imunicromatografia', 'municipalizados', 'nazare-pi', 'malcriais', 'cnfrcntarncnto', 'eovid', ',11c11clcr', 'ncocssidndcs', 'scnl', 'ora', 'mué-pi', 'sccictaria', 'saúdevisando', 'enficntamcnto', 'ví.rus', '11cocssi', 'd.adcs', 'scnhor.t', ',ré-pi', 'petróleo', '03*', 'auditoria', 'contábil', 'prestações', 'paraenteral', '13/07/2020', '1emperatura', '04*', 'materjal', '29,30', '38', '*', 'alugue', 'ficar', 'disponivel', 'scanner', 'mono', 'calor', '35ppm', 'mod', 'ads', '2200', 'canner', 'dr-', 'co1n', 'operacional', 'frete', 'funcionamen', 'especialluda', 'prefe', 'plau', '07.07.2020', 'lndivklual', 'aqul', 'necijssioades', 'secrilt', 'aria', 'assisti', '16/07/2020', 'alteraçlo', 'radio', 'aat', 'sclmo', 'feito/marmitex', '1.500,00', 'lmportãncla', 'mente', 'pactuada', 'adit', 'ivada', 'aúde', 'decor', 'rente', 'onavi', 'proce', 'jl\\\\dmini', 'stra', '000004', 'sau.de', 'iano', 'spe', 'cif', 'exigê', 'it', 'funçl', 'auillla.r', 'funcionária', 'mariene', 'nascimento', 'pwu', 'lcmpon\\\\ria', 'exc', 'epcional', 'intc', '~sse', 'vawr', 'tq', 'qt', 'arenla', '1.00,00', 'zurich', 'sondas', 'filtos', 'p/os', 'fe', 'rolao', 'nobre', 'liqulda', 'secretajua', \"municit'io\", 'pandemca', '~clivo', 'esentc', 'csteção', 'servi\\\\', 'empcnho', 'cargolfw', 'seccctária', 'mwticipol', 'bocgcspi', 'suo', 'lolaçlo', 'crittrio', 'colltratado', 'aioda', 'paooemia', 'ocasionado', 'situaç.ao', 'cala.midade', 'salva.r', 'c-idadaos', '4lx4lcm', 'tinta', 'f-2', 'm4x4', '150g', 'dourado', 'baner', '120x60cm', 'serã', 'cinquenlll', 'cano', 'enlre', \"con11'81antcs\", 'aquls~lo', 'lcg/ltm', 'coiu', 'de~o', 'qualilalin', 'lcg', 'uocutisoro/plasma', 'açlla', 'combalt', 'ltndemla', 'toronavlru', 'covj0-19', 'édica', 'aj.aooinha', 'ulilização', 'desre', 'gilmar', 'reinaldo', 'cme-', 'servi90s', 'fun.çllio', '002.', 'coostituiçllo', 'pora', '1045', 'medtex', '149,90', 'antigo', 'curimatá-', '/administração', 'curimatápi', 'tempor~rlo', 'vlsando', 'crista', 'icativas', 'prestaçllo', 'sciviços', 'colli', 'holliria', 'quareola', 'aixõnio-', '178', 'n-', 'rão', 'entrenta.ment', 'sa.ú.de', 'pt1blica', 'decorrll', '.nt.e', 'opostas', 'document', 'administr', '040.0000047/2020', 'cre', 'riano-', 'xi', 'gê.ncias', 'previsus', 'hrdjc', '197', '134.250,00', 'curimatã-p', 'pesqulsa', 'tgg', 'separado', '1.0óú', 'ioades', 'ontrato', 'superficies', '09/07/2020', '38•', '3.000/unidades', '3,66', '30/06', 'alocado', 'vlla', 'contratc1da', 'contntante', 'famílla', 'subordinada', 'dedarando', 'fun~o', 'dosador', 'cloro', 'centralizada', 'madeiras', '122.100', '87.495', 'dias-', 'íomedmento', 'coviih9-biocun', 'oontinuidade', 'eclarando', '1.680,00', 'creches', 'diretiamente', 'secretarfa', 'tência', 'ppf', 'oseltamivir', 'dexametaso', 'munlcípio', 'sccn', 'cnfn', 'ossa', 'nazaré-pi', '01/2017', '02/2017', '410', '3,4,5,6,7', 'ertre', 'fannacêuticos', 'fónnulas', 'coromvírus', 'mãscaras', 'vãlvula', 'cloreto', 'cálcio', 'ampola', 'parenteral', 'costijreira', 'resina', 'utilizam', 'dpl', 'lmplantação', '43m', 'secu', 'daria', 'trifásica', 'energla', 'elétrjca', 'pac', 'i.e', 'er', 'rédio', '24-horas', 'noite/diat', 'mar.colãndia', 're-gina', 'utilizaçào', 'empres', 'transferir', 'nlo', 'cilindrico', '10m3', 'reguladora', 'o2', '02/09', 'ininterrupto', 'roupa', 'atuarão', 'alves-pi', 'equlpamento', 'pires-pi', 'casal', 'colchonetes', 'piauílpi', 'imunocromatógrafico', 'sindrome', '-fms', 'resente', 'strumento', 'temporariam', 'eduardo', 'lot', 'uniclpal', 'fwnilia', 'angélica', 'moita', 'receberá', 'lentos', 'gratificação', '.575,00', 'contado', 'a~s', 'copos', '1,0', '.em', 'atuioer', 'necessidado', 'imediataos', 'secrermwrl', 'fi', 'camente', 'sema.nais', 'otação', 'unto', 'situ11do', 's/n', 'cep', '64760-000', 'cons', 'prestaç.ão', 'gcrul', '021.', 'áreu', 'compctêneia', 'nldade', 'baslea', 'soares', 'ilva', 'speitos', 'confiranados', 'ulém', 'tuaçàlo', 'cionada', 'município.', 'quundo', 'r11', 'ludo', 'd..-', 'parll', 'necessário~', 'atenden1e', 'situacdo', 'exigéncia', 'necessaria', 'exerclclo', 'nadja', 'karo', 'llne', '053/2020', 'induindo', 'pavimentacao', 'poliedrica', 'caminhao', 'usuarios', 'situacao', 'vulneralibilidade', 'covto', 'tomografias', 'computadorizadas', 'tórax', 'pacienter', 'forneciment', 'planton', 'jta', 'horória', '4.800', 'aquisjção', 'pirâmidais', '6x6=', '36m', 'eslrunjra', 'demervallobão-pinocombaibaocovil', 'a.fins', 'lender', 'nq', 'srp', 'correia-pi', '145.000', '5.100', '200mm', 'direcionados', 'correia', '10m³', 'prindpios', 'pia1d', 'j1tnto', 'bésica', 'avançada-ubas', '433/2020', '13428/2020', 'eficiênci1', '76.000', 'nº94/2020', 'canalizado', 'quimkos', 'portitels', 'desdnadal', 'blllz', 'eductdva', 'apolo', 'benefldários', 'auxlllo', 'emergenda', 'ozônio', 'fie~', 'vinte~', 'póblica', 'principias', 'uigidos', 'piau~', 'sanitirias', 'contenfão', '6.000', '6,5', '7,5', 'p~e~ente', 'novado', 'dê', 'hemostático', 'celulose', 'regenerada', 'oxidada', 'coiiratação', 'e111', 'corouavírus', 'utili2ando', 'plas111a/soro', 'paciellles', 'leste', 'llio', 'associado', 'investigação', 'fatores', 'ríl', 'epidemiológioos', 'iangue', 'extr.údo', 'punção', 'ceitrifugado', 'obter', 'pl8slro', 'istos', 'ediial', '2.050', 'pp', '8.600', '11.400', '3.800', '8,5', '440.000', '120.000', 'toucas/gorros', 'hotel/pousada', 'acompanhantes', 'pandemiadacovid-19noâmbitodomunicípio', '015/2020-001/', 'disp-cpl', 'emergente', 'esfj', 'medicos', 'lares', 'ultrasom', 'polpas', 'carárer', 'in1cnsificaçao', 'iden1ificação', 'poss', 'e.ases', 'capiclo', 'campós-pj', 'ripido', 'ioo/igm', 'aqu.isição', 'cnfretamento', 'covti', '24horas', 'qua1ro', 'sábados', 'sextas', '-fei', 'acréscimos', '900,00', 'avenfals', 'disfribljído', 'mantidos', 'b-dr', 'umedecida', 'tingir', 'superfi', 'possibil', 'itando', 'piaui-pl', ':ão', 'detiirmlnado', 'gramatiira', 'dj', 'fermjnado', 'costur.eíra', 'wilson', 'filho', 'batins', 'alimentlcios', 'simpheio', 'meodes/pi', 'tabela', 'abai1to', 'pre.stam', '20na', 'secfretaria', 'interrese', 'consertos', 'manljfençôes', '10/2020/idtnp', 'findando-se', 'mantendo-se', 'republicada', '03/08/2020', '550', 'ody', '2846', '023/2020', '25.443,45', '4-ida', 'tenderas', 'oil', \"aveni'ais\", 'distributoo', 'profjssionais', 'fstâo', 'trabalhanoo', 'educagao', '12.625,00', 'emergeneial', 'ccovid-19', 'ccessidades', 'prevençilo', 'prevençàô', 'v~to', 'nlecção', 'vírvs', '-covid-t9', 'planicies', 'litoranea', 'misericérdia', 'complementando', 'heparina', '5.000ui', '0,25ml', 'proveniente', 'avancgo', 'iar', 'pa1', 'união-pi..', '0002689/2020', 'digitalizador', 'radiográfica', 'corrtetiva', 'montagerr', 'desmootagem', 'atendinento', '0130/2020', 'kaio', 'patricio', 'guimaraes', '130/2020', '0131/2020', 'ingrid', 'leal', 'araujo', '131/2020', '0132/2020', 'bernardes', '132/2020', '139/2020', 'psicotropicos', '0151/2020', 'milena', '151/2020', '0154/2020', 'vanessa', '154/2020', '1.200.00', '24hs', 'e1npresa', 'fornectn1ento', 'mate', 'consun10', 'lmportancta', 'naclonal/lnternacto11al', 'co.-onavlrus', 'nec', 'essidades', 'ltauelra', 'alcóol', 'ákool', 'parente-pi', 'paa.a', 'muriq', 'murio', 'casacos', 'áqja', 'con1rato', 'decorrenie', 'servtços', 'téc', 'cos', 'espectaltzados', 'covtd-1', 'familia-psf', 'intere', 'nmn', 'np', 'comunitária', 'sapatinhas', 'descaráveis', 'formalizar', 'disciplinar', 'relacionamento', 'ccmtrataçho', 'e~pecla/l=acla', 'aquhuçllo', 'cuv', 'caráler', 'tado', '/lede', 'mrmicf', 'assuncl1o', 'corttrataç4o', 'emprua', 'pundcunia', 'cavid-19', 'carátm-~ia/', 'utinado', 'tu', 'lsúkuk.3', '~an', 'loteamento', 'catumbi', 'cardíaco', 'jesus/', 'educa.ção', 'âlcool', 'anterioftllente', 'homologados', 'procedente', '86,4', 'especificidade', '99.5', 'necessidadfs', 'franosco', 'oricinario', 'covj', 'fomedmento', 'insunos', 'de.stinados', 'ltaueira-', 'munlcípto', 'toter', 'insercdo', 'regido', 'transcricao', 'administrativonº', '001.0002615/2020', 'proteção/higienico', 'frascos/ampola', 'zoledrônico', '50mcg/ml', '100ml', 'automotivo', 'oxioenio', 'concentrará', 'adão', '515', \"assisi'ência\", 'assisttnoa', 'ler-se', 'agora', 'retificar', '·contratação', 'honorat', 'icente', 'alago', 'primordialmente', 'dital', 'emero~ncia', 'asslstencla', 'alaooinha', 'plaui-pl', 'alagoinl', 'anatômicas', 'oxfmetros', 'bisnagas', 'aquislçao', 'malhada', 'bois', '825,00', '2.325,00', '22/07/20', 'corr', '•pi', 'antisseptico', 'proteçào', 'covjd.19', 'nocentro', 'eo', 'coronevín.is', 'programe', 'nes', 'enfrantamanto', 'coronavín.is', 'cantro', 'coronavín.js', 'tentas', '0xl0', 'gela', 'delecçào', 'emergencjal', '1.67912020', 'portarja', '36912020', 'mos', 'piripirj.pi', 'coronavinis', 'guerra', 'enfennelra', 'bblca', 'filiação', '216/217', 'constar', 'semgov', '02.001.01.122.0017.2733', '3.3.90.30', '02.001.04.122.0017.2733', '4.4.90.52', 'camisolas', '/desinfecção', 'primavera', 'limpezar', '14/07/2020', 'lúgienização', 'iogomarca', 'emrentamento', 'dispensers', '/iqm', 'imunuensaio', 'munoensalo', 'fkjorescente', 'qualilatlvo', 'cμntitatlvo', 'leltlrcl', 'coyld', 'atendínef11d', 'c.ovld', 'ooatlenado', '.-npliação', 'wrroate', 'ooyo', 'aironavírus', '1.andri', '2020..', 'municí', 'iode', 'landrí', 'cxcrcicio', 'enfcnneira', 'prestagdo', 'dd', 'ficarão', 'l1i', 'taladas', 'loteria', 'penado', 'apres', 'ntada', 'q.e', '14/07', '283', 'docwnentos', '001.0003221/2020', 'laminado', 'atóxicos', 'hipoaléroicos', 'nidades', 'ide', 'fora', 'forta', 'lecer', 'jogo', 'travesseiros', 'funcionarios', 'fisioterapias', 'drones', 'centaltelefonica', 'ãlcool', 'demandac', 'passeio', '1.0', 'câmbio', 'airbergs', 'documentação', 'quitada', 'confec~o', 'sx1', 'emergªncia', 'espec', 'ializada', 'aditivar', '4x4-á', 'difsel', '-guarda', 'iggjigm', 'sanitizacgaéo', 'oxi-sanitizacao', 'splits', 'manipulado', 'hidroxlcloroqulna', 'suas/secretaria', 'coviij-19', 'kit-covid', 'plevenção', 'servi~os', 'saúdepública', 'provisôrio', 'titulo', 'precàrio', 'vfficulo', 'vige', 'organica', 'sanitára/sorológica', 'motolâncias', 'mpresa', '3erviço', '001.0002515/2020', 'diárioas', '635,00', 'percal', 'funcionarão', 'pátio', 'piauiprev', 'balcões', 'funcionam', 'plamta', 'iaspi-saúde', '476.818,30', '482.812,50', '100/iom', \"l.1i'ilizados\", 'uroéncia', 'emeroéncia', 'existéncia', 'antioenos', 'sarscov-02', 'nasofarinoe', 'exist~ncia', 'ministj', ':rio', 'profissionaisno', 'ida', 'públ', 'coronavirm', '900', 'novecentas', 'alteracao', 'cldusulas', 'colaboragao', '3.3', '-—', 'movimentacao', 'redacado', 'efetuado', 'custos', 'operacionais', 'hospitalde', '3*', '—-', 'servigo', 'bairros', 'prfstação', 'enfrenfamento', 'bnfrentamllnto', 'bmbrgenc', 'enfrentamllnto', 'bmbrgbnc', 'enfbrmeiro', 'enfrentamhnto', 'mbrgbncial', 'corporais', 'wlliam', 'reíerência', 'jost', 'direta/dispensa', '017', '055/2020/fepiserh', '056/2020/fepiserh', '057/2020/fepiserh', 'umas', 'socorrer', 'fanúlias', 'púiiuca', 'coronavfaus', 'sanitaftla', '.ao', 'rgtncia', 'l.9', 'contratac', 'temp0r.ãrio', 'nder', 'auco', 'ffmpoftário', 'horãjtla', 'quarenh', 'prevencã', 'combatic', 'noa', 'lbuca', 'píiblico', 'funyl', 'auxiuar', 'sanitarla', 'quarenta•', 'prewnção', 'emergfncia', 'oxigli', 'e.speciuli.2', 'bdá', 'emergenciat', 'tinado', 'saôde', 'prooogar', 'v~lo', 'inte', 'esses', 'odminislralivo', 'ntrataçõo', 'temparái', 'pre-s', 'taçõo', \"equll'es\", 'cokonavi', 'tus', 'covid·l', 'temporôria', 'preslaçõo', 'colllrato', 'sel', 'lliços', 'apresclllada', '3.339/2019', '13.995', '1.393', '1.448', 'celebracgado', '15235/2020', 'apensado', '13457/2020', 'sanitizaçào', '23/10/2020', 'decretado', 'vier', 'ocorrer', 'antes', 'coronavírus/covid-19', 'sray', 'fazem', 'utilizarem', 'dicom', 'envio', 'extradomiciliar', 'quartéis', \"fornecimeni'o\", 'hora=piaui', 'panemia', 'fornecimenro', '.fundo', 'hora-piaui', 'decoriibncia', '8,00', '7,49', '06-', '1.92', '7,98', '10-', ',45', '13-', '84,00', '8,40', '0,20', 'nazária-pi', 'aquísíção', 'equípamentos', 'especialízada', 'defensivos', 'al36', 'alimentagao', 'adequacao', 'ode', 'interligacdo', 'aquisicgaéo', 'defatima', 'campanhan.sra', 'insercd4o', 'atengdo', 'regiao', 'transcrigao', 'luzpi', 'educação.contratante', \"enfr'entamento\", 'sussuapa', 'ra-', 'perecíveis-carnes', 'gênero', 'carne', '04-', 'hortifrutigranjeiros', 'principal', '05-', 'hortifrutigranjeiros-', 'lácteos', 'refrigerados', 'mateial', 'apcientes', 'positivos', 'primeira-', 'utiliudos', 'assiouais', 'media', 'seg', 'subestação', 'aérea', 'toner', 'enxovais', 'vão', 'etc.', 'prevenç.ão', 'plíblicos', 'plíblicas', 'méscaras', 'proletores', 'oxlmetro', 'tennõmetro', 'igital', '063/2020/fepiserh', 'rescisão', '77', '2.1', 'baneres', 'pedestais', 'constltul', 'pr·esente', 'slmpuflcado', 'nli', '01/2020r', 'seletiv', 'carfater', 'temporfario', 'deenfermeiro', 'nq-', 'p,1bllco', 'temporár1as', 'admlssllo', 'pre.star', 'famllla', 'lria', 'ventais', 'llnas', 'macacõ~-', 'oxímeiros', \"'~\", 'descatáveis', 'tfztes', 'paquetá-pi0', 'interligacao', 'cooperacaéo', 'red', 'municípi', 'soi', 'eprs', 'trts', 'filomena-', 'vereda', 'lenções', 'pumblíferos', 'técnl.ca', 'oovid-19', 'tomog1·afia', 'ultrassonogrniia', 'enfrentam.ente', 'necessidad.e', 'cumprim.ento', 'co.nsiderand.o', 'covid-i', 'unicipio', 'udlizados', 'rovid-19', 'felto/marmitex', 'd6tinado.', 'ao.s', 'profillionais', 'demals', 'desl1nados', 'diil', 'piilndemiiil', 'qulnze', 'eh_', 'fomeddes', '2020.06.05.01.001', '1.44s', 'ooncordãncia', 'notadamente', 'relativos', 'deformaçao', 'paio', '■', 'imblto', 'realizando', 'proleçõo', \"lndl'llduol\", 'secrelaia', 'plauí', 'pii', 'siluoçõo', 'púbico', 'decooêncío', \"v'rus\", 'ox1metros', 'termômetilos', 'infravermeijios', 'igg/img', 'hilux', 'cd4x4', 'toyota', '2015', 'preta', 'prj-5000', 'chassi', '8ajfy29g4f8984765', 'aquisicaq', 'decampanha', 'contr', 'atação', 'funcion~rios', '/kit', 'ncja', 'púsur', 'integradas/', '1.870.589,78', 'recebeu', 'estimada:7.800', '46.800', '7,00', '54.600,00', '327.600,00', '0,6m3', '390', '2.340', '19,00', '7.410,00', '44.460,00', '78.000', '468.000', 'unitá-rio', '143.520,00', '861.120,00', 'óxido', 'nitroso', '236,6', '1.419,6', '28,74', '6.799,88', '40.799,30', '2.860', '17.160', '8,95', '25.597,00', '153.582,00', '41.200', '247.200', '78.000,00', '468.000,00', '780', '4.680', '9,00', '7.020,00', '42.120,00', 'dióxido', 'pureza', '15,6', '93,6', '28,83', '449,75', '2.698,50', '4.568,33', '27.409,98', 'oitocentas', 'toneladas', 'brita', '19mm', 'pedra', 'basáltica', 'aaquisição', 'lvermectlna', 'vitaminas', 'exs', \"□'alcântara/pi\", 'temo', 'floríano', 'edital*', 'emeq', 'encial', 'emp~sa', 'cimcnto', 'tcst.cs', '1gg', 'tgm', 'cssidadcs', 'scx', 'rclaria', 'muoicipa.1', 'populaç', 'municipi0', 'piripiri', 'razio', 'saude-', '311/2017', 'cinjunto', 'integramente', 'estudo', 'conceituatuação', 'concepção', 'intermediação', 'objetivos', 'qualquer', 'fifundir', 'ideias', 'infromar', 'b-525p', '4,000', 'eucudes', 'cunha', 'únidade', 'saúde-ubs', 'cardoso', 'noart', '§8ºda', 'éa', 'previsla', 'inslrumento', 'delação', 'confomidade', '8.666133', 'orçamentália', 'confonnidade', 'heiros', 'ngente', 'lêr', 'm.a', 'ascjme', 'leia', 'ascimento', 'medeiros', '-me', 'antibody', 'eletrocardiógrafos', 'palmei.ra', 'corona.virus', '7h', '16h', 'vezes', 'denis', 'wesley', 'oliveira/', 'crm', '0007816-pi', '12.400,00', 'ppf2/n95', 'atendime.nto', 'tottem', 'fabricado', 'galvanizada', 'revestida', 'conrratação', 'enfreittamento', 'betânia', \"'te\", 'radiologista', 'deslocamentos', 'excede', 'op', 'eãeênc', 'dedarandg', 'teumyla', 'eua', 'unçlo', 'rovoidafo', 'out.ro', 'praw', 'provocada', 'santoantônio•', 'novosanto', 'constituí', 'teda', 'matos', 'combateaocovid-19', 'fermeira', 'munícipal', 'sta', 'colaboracéo', 'movimentacgao', 'majorado', '206.071,31', 'essa', 'significativo', 'positivados', 'bipap', 'cpap', 'mecanico', 'situados', 'imediações', 'upa', 'secagem', 'laboratôrio', 'ieouipameitto', 'materiaisjmechcamentos', 'labora', 'tório', 'ouzent', 'asl', 'minutos', 'ceos', 'upload', 'arquivos', 'download', 'visualização', 'cov10', 'infectologia', 'neuropediatria', 'dermatologista', 'ginecologia', 'arla', 'endocrinopediatria', 'otorrino', 'urologista', 'abl80', '27/07', '018', 'desratização', 'descupinação', 'desintetização', 'mant', 'soft', 'tennômetros', 'vennelho', 'aguai', 'oxigl', 'secretar1a', '11.671', 's0', 'nece~idades', 'tds', '01.06.2020', 'andando', '30.08.2020', 'informes', 'dedetizacao', 'dctcnninado', 'flsioterapeut', 'saniliria', 'peixes', 'questionários', 'situacionais', 'sitijacionais', 'famjlias', 'trabalhaoores', 'familías', 'leão-pi', 'êmpresa', 'éi.i', 'atuauzação', 'ij0s', 'cov1d-19', 'captação', 'gravaçao', 'audio', 'vfdeo', 'distribulçao', 'teriiiómetro', 'populaça.o', 'publ/cftarias', 'p/au', 'chá', 'flocão', 'nutrição-genut/fms', 'upas', 'regulares', 'biscoito', 'nutrição-', 'genut/fmd', 'emergênica', 'sáude', 'comprida.', 'adiciowt.is', 'ab', 'rto', \"proc.tol~'l'o\", 'cl', 'rúllgico', 'rl', \"lâ.'tl\", '.x', \"na't\", 'oaaj..', \"fn'l'egro\", 'ljni', \"i'oftme\", \"cajo\\\\c'l'.8r19'l\", 'ca.3', 'aoicionais', 'lusri', '.f', 'caoa', 'estéri', '.móxica', 'desca.rtávet', \"ana't'ómico\", 'rbsj', \"sten't'f\", 'racao.cx', 'c/100', 'õl', 'u.lo', 'u~', \"1-'kô'l'~individual\", 'ma..tb', 'ri', 'armação', 'pol', 'carbonato', 'ma.te', \"lbn1'.8\", 'ca.fi.', 'onaxo', \"'ti\", \"p'ô\", 'le.n', 'tb', \"an'l-\", 'b.ma.açan', 'j.·', 'n~ura.', 'á.i', 'sco', 'soblfflposlção', 'p/ser', 'sobrb', 'graduados', '·rouca', \"hospi'ialar\", \".ma'l'.brial•\", 'prop', \"elás'l'ico\", \"'l'oda\", 'volta', 'gmmatuna*', 'cerca', 'zntr', 'g/m2', 'tamanho•', 'úni', 'uso·', 'caracterí', 'stica', 'ki', 'poju.', 'rg', 'nica', 'atóxi', 'inodora', 'unisse.x', 'aqibsição', '141', 'intibto', 'sada', 'públicacontratação', 'ssrviços', 'acessória', \"ll'fstitucional\", 'll', 'ocupação', 'solo', 'combats', \"atiiosp'érica\", 'licsnciaiiisnto', 'aiibisntal', 'implsmsntação', \"contll'fuidai\", 'continuidai', 'jcms', 'iccolóoico', \"mul'f\", 'especif1caçõics', 'dltscritas', 'anltxo', 'locar', 'caçamba', 'capacwade', '14m•', 'estradas', 'vicllfais', \"1'0\", 'satiide', 'economia', 'solidária', '–sdr', 'mateliais', 'secretalia', 'ubsl', 'corpna', '1çoy1p.1s1', 'municlpjo', \"'\\\\ltos\", 'colô1', 'enfrentameitto', 'cot-ltratação', \"e'pis\", 'mourão·', 'dáusula', 'quartaanterionnente', '069/2018', 'induso', 'fontede', '2159pennanecendo', 'apostil', '-se', 'quintaanteriormente', 'oprojeto', 'conlralàdo', 'atu.àni', 'nà.', 'a.çõc', 'mln', 'áà', \"sanit..'lrias\", 'concernentess', 'prel', '.1and.o', 'ooottatado', 'exercem', 'ntividndcs', 'con.ccmcrucs', 'oovid', 'nus', '9t', 'barreira.', 'sanitàrias', 'tnunicipio', 'contrar.3.do', 'aruará', 'covw', 'ípio', 's.crviços', 'bnrroiras', 'snnit.~rias', 'aruara', 'cont.ratado', 'cxcrccró', 'concc', 'mcntcs', 'vigi.lãncia', 'cxcrocrá', 'vigilã.ncia', 'oowbau', 'uklcmia', 'pre•ltwdo', 'sciviço', 'cxcrccrâ', 'concem', '..-', 'nlc', 'oondomin', 'concemeo.tes', 'técoico', 'enfennngem', 'comb.ate', 'l\\\\', 'po.rdemlil', 'tincubldo', 'secretruio', 'municioal', 'orestando', 'concclllcntes', 'vld', 'rãpido', 'vigéncia', 'colaboracdo', 'decima', '10.1', 'necessdrio', 'concluam', 'pagamentos', 'reprogramacao', 'apresentado', 'fisico', 'acomodação', 'diagnosticado', 'funçào', 'assisrtncia', 'varjota/pi', 'como.auxiliar', 'arjot', 'a/pi', 'pediátrico/', 'neonatal', '25.350,00', 'hepa', 'circuito', 'apar', '124.263,50', 'pediá-trico/neonata', '40.147,00', 'pediátrico/neonatal', '151.523,00', '3.400,00', '117.400,00', 'mdf/mdp', 'bp', '15mm/18mm', '25mm', 'fios', '07/08/2020', 'autoclaves', 'milagres-pi', 'calçada', 'eurinalva', 'dárcio', 'andréia', 'torres', 'roseno', 'senhoria', 'lgracilda', 'sen', 'rebeca', 'guimarães', 'nayara', 'heyde', 'angelino', 'granja', '4013', '010.454.783-93', '6611', '038.550.933-26', 'atendi', 'lariza', 'coren/pi', '149429', '007.117.223-82', 'isaac', 'miranda', 'amorim', 'pua', '1t', '_t', 'cçao', 'notória', 'notôria', '1.396,00', '2.792,00', '~cnica', 'ribeiro.pi', 'jurioica', 'imunocrómatografia', 'situacão', 'llquipamentos', 'painel', 'dispensor', 'orgãos', 'maleri', 'stência', 'social-fmas', 'cípio', 'fomecimen10', 'fardame', 'piauí/pt', 'prestoçqo', 'novo•', 'temporótia', 'deagente', 'temporóma', 'fempo~ório', 'prestaçõo', 'tvnçõo', 'saúpe', 'motorlsta', 'vig.ilância', 'sanitá.ria', 'vantajosa', 'santos-pi', '037/2017', '.0002363/2017', 'floriano.pi', '104/2020', '069/2020', '001.006862/2018', ':1', '.0', 'especializ', '\\\\dos', 'aaef', 'psiquiatria', 'usuaaios', 'sistem1', 'sa1íde-sus', '.500,00', 'doi3', 'contribllições', 'qlle', '75.000', 'tenta', 'gilbuês-pi', 'd.ecorrente', '56', 'eodemias', 'par-.t', '.lardim', 'salvar', 'solicitacéo', '00559/2020', '16813/2020', 'formalizagao', 'relacdo', 'parceria', 'mititua', 'cooperagado', 'o.s.c.', 'consecucaéo', 'finalidades', 'ptiblico', 'reciproco', 'execucdo', 'realizacao', 'prontudario', 'ptblico', 'modernizacao', 'homologacaéo', 'colaboracao', 'autorizados', 'decorréncia', 'rubricado', 'faoe', 'individuei', 'municipal/secretaria', '07.08.2020', 'pagina294', '28.000', '26.000', 'de.-prevenção', 'igg-igm', 'ant', 'geno-covjd-19', 'quinta-feira', 'sexta-feira', 'sábado', '1-2-7', '11·12', 'infravemelho', '/nebulizador', 'ubv-', 'constal', 'ei.etronico', 'panoameia', '1.250', 'genrui', '18,24', 'colaborativa', '25/06', '348', 'om', 'utura', 'meta', 'sup', 'orte', 'baixo', 'revençao', 'propost', '0002577/2020', 'unuçui-pi', 'prodecimento', 'pinça', 'multifuncionais', 'departamental', 'outsourcing', 'exceto', 'julio', 'hartman', '073/2020/fepiserh', 'kn', 'secretariai', 'municíf', 'pi.com', '04/08', '144', 'centra', '062/2020', 'sponibilização', ',ta', 'adm.inistrativonº', '0003520/', 'prorrogoçao', 'maia', 'trõs', 'prnzo', 'vigõncin', '063/2020', 'servi.ços', 'sars-cov', 'coronaviru.s', 'adrninistrativon~', '.0003521/2020', 'servfços', 'o1.itrj\\\\s', 'yres', '26/06', 'populacéo', '570', 'igg/igm/ag', 'cemitérios', 'idosa', 'algum', 'grau', 'dependência', 'instituições', 'permanência', 'indicado', 'ilp', 'semço', 'substituiçao', 'testagens', 'obíetivando', 'necessídodes', 'm6scoros', 'desla', '08.09.2020', 'macedo-pi', 'ráp', 'rúrgica', '128', 'covid-19destinado', 'funcionará', 'ponto', 'alcndendo', 'leão-', 'ensajo', 'imunocroma', 'tográfico', 'decorren1e', 'oeiras-p', 'covld-i9', 'secretria', 'parnaiba-pd', '~vermectina', 'cinarizina', '25mg', 'macacão~', '14/09/2020', 'àlcool', 'conservadora', 'vacina', '5.000,00', 'especlalizada', 'microtubo', '3ml', 'feitos', 'relacioados', 'juridlca', 'ciiindros', 'oxlglnlo', 'vélvula', 'redutora', 'coronavírue', '19.218,65', '42/2020', '§2', '8.666/93.-clausula', 'segunda-', 'excluídos', 'tensao', 'minima', 'anatomico', 'biobsorvivel', 'atoxica', 'hipoalergenica', '60.150,00', '253.755,00', '.0003787/2020', 'ipam', 'lmporttinc', 'rona', 'lrus', 'usador', 'acrtscimo', '0157/2020', '-fornecimento', '6.250,00', 'c.inquenta', '31.250,00', 'reai.s', 'cent', 'bióloga', 'cootribuições', 'ser.iço', '60,000,00', 'onico', 'poí', '9.000,00', 'incluldo', '45.000,00', 'sitio-pj', 'jurldica', 'medicamentospara', 'aperfeiçoamento', '1000g', '1000ml', 'ucos', 'bolos', 'pães', 'rocambole', 'destinadosa', 'lx', 'n.2', '142/2011', 'neurologista', 'prest', '13.979/', 'multiparametrico', 'm12', 'resp', 'pni', 'temp', 'suma', 'psicoterapêutico', 'conectados', 'gasm/sesapi', 'hpm', 'gerson', 'luzilândia', 'republicação', '21/08/2020', 'forneclmenro', 'hora-plaui', 'decorríincia', 'râpidos', 'anánses', 'temporórla', 'flore.sta', 'haste', 'flexivel', 'ponta', 'orofaringe', 'garganta', 'col1', '1emenlar', 'acontri\\\\tação', 'pli\\\\ntonista', 'ell', 'reiitamento', 'emergênc-a', 'púb', 'jcovid-19', 'valoi', 'obal', ':eaisl', 'aumenticios', 'acompanhadas', 'covid,19', 'prcstação', 'apicella', 'munieipio', 'cxerclcio', 'sejviços', 'c-ovid-19', 'afaswuento', 'médico.no', 'enfrcnlamento', 'excrcicio', 'enfcnncira', 'enfennagemno', 'delandri', 'prcstaçio', 'mwiicfpio', 'xérox', 'fotocópias', 'cadernos', 'esclarecimento', 'educação-', 'aiulas', 'coota', 'mater1al', 'equipamento·', 'pr.estação', 'instrumentauzar', 'arcondicionados', 'temporárjo', 'nec8ssidad8', 'excl', 'pcional', 'interess8', 'médtco', 'enfrer-itamllnto', 'vtrus', 'pia.ui', 'nbcbssidadb', 'bxcbpqonal', 'lnreresse', 'enfr.entam.ento', 't9', 'al8grb', 'necessitada', 'interessa', 'redençlo', 'guenra', '220/2020', 'aqulslçao', 'termomjffro', 'lasllr', 'oxj.mjffro', 'dtgital', '/o', 'vaporizadores', 'rah', 'íundo', 'aqujsiçao', 'scaktávl', 'pkopi', ':s', 'scartávl', 'covid-10', 'dosimetria', 'radiação', 'ionizante', 'monitorização', 'padrão', 'abriga', 'venezuelanos', 'customização', 'evolutiva', 'picc', 'prorrogafão', 'dostrabalhos', 'celufares', 'desenllolver', 'cadastrados', '7mp', 'objelivondo', 'secretorio', 'coroúbas', 'estornas', 'siluoçõode', 'púb6co', 'pek', 'coronavíus', 'caxlngó-pi', 'desca', 'rtável', 'assintatura', '25/08/2020', '97', 'construçâo', 'paredes', 'consultórios', 'dime', 'pacce', 'j\\\\.tecessidades', 'nicipio', 'str', 'alizar', 'ame', 'avír', 'dispen.sadores', 'ubs-unidade', '2ona', 'pem1anente', 'cllnicos', 'juri', 'dica', 'infra-vermelho', 'máscar', 'en.frentamento', '241', 'campa', 'otado', 'temporã.rios', 'atendime', 'toao', '17/08/2020', '303', 'prcáaçlo', 'catre', 'an.tônio', 'sra_', 'carllil', 'viei', 'araújo', 'abai1.o', 'contratagéo', 'consultérios', 'didrios', 'consultdérios', '31/07', 'prestagao', 'prestagéo', 'contrataca4o', 'manutengao', 'gratuitos', 'empregalfcio', 'excepçlonal', \"sal'.ide\", 'gurguela', 'sachê', 'répidos', 'anti-covid-19', 'qualitativo', 'anti-covid19', 'selante', 'fibrina', 'blusa', 'mwúcipal', 'branca-pi', '081/2020', '087', 'raz.ão', 'munldp', 'r-.a', ',.ão', 'execut3rá', 'exercendo', 'captar', 'monitorar', 'notjflca', 'entrando', 'nosso', 'oftalmológicos', 'álcoois', '006-a/2020/', 'disp.', 'vinrulado', 'proa', 'sso', 'udtação', \"enb'e\", 'contida', 'aaescer', 'peruntual', '30,000,00', '4°-i', '008/2020/disp.', 'vinajlado', 'promso', 'sej', 'uir', '4e', 'jx', 'prooogado', 'te-mos', 'vts', '064/2020', 'rmado', '09/05/2020', '0003425/2020', 'prestacão', 'sorologicos', '/\\\\tender', 'itainopolis', 'perjooo', 'cia/calamio/\\\\oe', 'coronj\\\\v', 'prese.ate', 'conlliste', 'objclo', 'p~nle', 'presht._', 'ào', 'de·combate', 'muhtto-pi', 'luguel', 'barraca', 'aaúde', 'pc', 'd.ireta', 'deecção', 'leitura', 'individualizada', 'iços', 'patos-pj', 'intensificando', 'previne', 'brasil', 'm.', '.scaras', 'cimrgicas', 'flexível', 'achninistrativo', '026/2020', 'aumentará', '8.395,00', 'rrúl', 'superando', 'corúorme', 'teriores', 'piaufpi', 'sorológico', 'pt-pcr', 'proc', '00045.021996/2020-72', '2,64', 'corresponderá', '7.825,57', 'inicialmente', 'adjudicado', '304.429,46', 'ser0cumpridos', 'enfermagem.o', 'presente·', 'arcovarde', 'sercumpridos', 'empregatlcio', 'érea', 'ares', 'escale', 'horério', 'wngá-pi', 'combateacovid-19nomu', 'icipiode', 'altolo', 'gá-pi', 'ril', 'elnh', 'equivalente', 'possivel', 'bertolinla', 'rontratação', 'emp-esa', 'equ~mento', 'munic~i', 'contratacão', 'estojo', 'formacão', 'higjene', '14/08', 'viagens', 'tecnicas', \"f'laloterapeuta\", 'can\\\\ter', 'temporé.rto', 'contlngéncla', 'awdllar', 'admlnl•trativo', 'roporto', 's~ço', 'crialfça', 'fbliz', 'aaa', 'iat', 'buriti/pi', 'visita.dora', \"crialt'ça\", \"p'eliz\", 'a.aalat6nda', 'burltl/pi', 't-■taclo', 'poeltlvo', 'cmergcncial', 'contingên', 'te.taclo', 'poeitivo', 'tclllporário', 'prcslttçi', 'erviço', 'monlt.or', 'pacie', 'nte•', 'te•tado', 'poalti', 'teniporârio', 'cmcrgenciaj', 'o.', 'cumprúncnto', 'e.straté-gias', 'enfrentatncnto', 'covio•', 'saú.dc', 'polbllca', 'lerviço', 'llon.lt', 'or', 'paelentea', 'teat.ado', 'po■', 'ltivo', 'cnn1.ter', 'emcrgencia.1', 'cumprilncnto', 'estratlgias', 'enfrenttuncnto', 'awtiliar', 'cerais', 'aeroporto', 'exccpcionol', 'seivi.ço', 'j9', 'necessidad', 'ede', 'cumprimen', 'enfrentamcnto', 'piau~pl', 'afastou', 'concorrer', 'elellv0', 'eleições', 'munlcf', 'pi0', 'piauhpi', 'piau~pi', '41-1.', 'fed', 'eral', 'transbordo', 'sólidos', 'bataçãu', 'cominitária', 'consequência', 'pscóloga', 'tarefas', 'motorista/samu', 'fiado', ',iços', 'cívil', 'onselheiro/orientador', 'conselheiro/orientador-', 'conselheiro/orientador', 'percebera', 'deposito', 'titularidade', '·objeto', 'atenderá', 'jaic6s-pi', 'jalcós-pi', 'jaioós-pi', 'peninente', 'pessoá', 'enfem', 'agem', 'vigilància', 'sanrtéria', 'novocoronaviius', 'vigllancla', 'colistjtui', 'objeto·', 'conttatáção', 'fl~ica', 'auxlllar', 'vlgllêncla', 'santtêrta', 'secreterte', 'lagoa.do', '11ovocoronavirus', 'vigllãncla', 'indicar', 'oficinas', 'c~acitação', 'ead', 'munjcjpjo', 'no-break', 'tecnologico', 'hioienização', 'municiais', 'conoravirus', '296', 'novamente', '106', '174/2020', '223/2020', '175/2020', '296-', 'secret.ária', 'ivíduos', 'portarla', 'individuas', 'isco', 'tuação', 'socioa', 'ssistencial', 'creasneste', 'mônlca', 'dantas', '17/08', '442', '14/08/2020', '14.035/2020', '313', '1200', 'comunitario', 'socioeducativo', 'usuárjos', 'conviv~ncia', 'piauipi', '6.500', 'sudeste', 'empregados', 'agespisa', 'laboral', 'magistrais', 'infrentamento', 'exerceni', 'enfenneira', 'servirá', 'cenlro', 'enfretamcnto', 'prest11çilo', 'detenninado', 'sllúde', 'indistintamente', '-piau', 'detectadas', 'admlnlsttaçio', 'compatlvels', 'enquadradas', 'suns', 'legal.a', 'obestret', \"sal'lde\", 'atendimenlos', 'materja1', 'impresso', 'conscienliz.ação', 'bate', 'atendar', 'anfrentamento', 'cuja', 'reguladas', 'ak', 'ool', 'cel', '~stinack', 'município~', 'laboratórlo', 'lru.-umos', 'hospitalart', 'berfolínia', '013dl/2020', 'atarem', 'estigmas', 'causadas', 'esquadria', 'mlnlboreal', 'jurídíca', '1.011', '.6', 'dianteira', 'sítiopl', 'possivelmente', 'ãmblto', 'secrt', 'ltaria', 'marcolãndia', 'profissiona', 'raslreamento', 'pos.slvelrnente', 'àmblto', 'temia', 'cooperaç.ão', 'ntre', 'marcolàndia', 'eslado', 'forneclmenld', 'tatal', 'lmunocromaldgrafla', 'blológlca', 'idtal', 'plslca', 'pornl', 'dlt', 'mão-dl', '-obra', 'mal5', 'maffrias', 'primas', 'proplssjonais', 'saiíde', 'vigllâjiicia', 'sajiiitãjua', 'stão', 'sajiiitárias', 'açõl', 'enprentamejiito', 'sjstema', 'e•sus', 'cnes', 'esus-ve', 'munjcfplo', '142', 'melhoria', 'comunicacao', 'diarios', 'exposiçãonesteexecutara', 'prevenç', 'ate.ndimento', 'transmissl', 'orientaçllo', 'fa', 'mílias', 'tffites', 'covid-18', 'sublimação', 'cartucho', 'completos', 'aprelho', 'destacando', 'usos', '/covi0-19\\\\', 'aquisl', ':ao', 'oxio€nlo', 'sef.tviços', '-no', 'ribelro-pi', '1rabalhar', 'enfrentamenta', 'sjncerino', 'essencialnecessidade', 'ttcnica', 'fin5', 'coronavíru5', 'igências', 'secret.oria', 'hipólitopi', 'azaré', '056/2020', '299', '222/2020', '225/2020', 'municipio_', 'díspenser', 'cartaz', 'ginecologista', 'obstetra', 'gramas', 'limpido', 'isento.', '864', '15,00mm2', 'm2', 'absorção', 'plastica', 'hidroxido', '384', 'saboneteria', '672', '1,66', 'isso', 'om-', '396', '0,98', 'empreendedores', 'aspepi', 'origem', 'viger', '01.08.2020', '01.10.2020', 'recebidos', 'tranferir', '15/06', '10b38', 'incubação', 'parada', 'ferramenta', 'audiências', 'conciliação', 'reuniões', 'defensores', 'áudio', 'texto', 'promova', 'participação', 'convidados', 'remotos', '-ati', 'fre', 'caria', 'ômjca', 'frentame', 'comissão', 'exames/testes', 'lençol', 'reformas', 'melhorias', 'joao', 'vivili', 'assentamento', 'capitao', '10.000,00', 'aqujsicao', 'respiratórios', 'precoce', 'rosapolis', 'vicente', 'conservacao', 'patrimonio', 'preservaçao', 'acões', 'protecão', 'orienta~o', '19/08', '171', 'aqutsição', 'munlcipío', 'c/20-25-sinocare', 'municjpío', 'co\\\\lld', 'nostermos', 'atendiemnto', '13.979n020', 'alime', '077', 'o~', '1cn', 'seerctaria', 'mllllicipal', 'caritcr', 'cmagencial', 'conmavfrua', 'san-cov-2', 'pai', 'tapuio/pi', 'realiza-se', 'décima', 'elemento', '44.90.52', 'ubs-', 'tucuns', 'êmbito', 'contactantes', 'vera', 'mendes/', '139.000,00', '27.500,00', 'altospl', '1,40', '0,35', '2r', 'contrat.a', '2g', 'cmg', 'enf~ent~ento', 'sauoe', 'edenciamento', 'prestaçào', 'limp', 'desenvolv', 'idas', 'adultot', 'idrofôbico', 'gramat', 'ura', 'olog/m', 'descarta', 'resolucão', 'roc', 'jur1dica', 'oteção', 'servjcos', 'residuos', 'sanitãrio', 'combatc.r', 'puadcmia', \"'i\", 'muniç', 'joc.a', 'contrat8910', 'detcnnina.do', 'cen·tro', 'tompo', 'dctonniiwlo', 'enficnwncnto', 'muniofpio', 'de.tenninado', 'enftentamenro', 'joç', 'hipólito·', 'prestacéo', 'trn5', 'pulverizadorfs', 'de1', 'ecçao', 'plasmaal', 'estes', 'açóes', '100/lgm', 'co111rall', '243', '66.500,00', '001.0003082/2020', '19/20202', '10b35', 'peracético', 'carrinhos', 'container', 'seletiva', 'roupeiros', 'bolsas/', 'fisiológico', '08/07', 'age', '03-', 'vigerá', 'altos-', 'gróflcos', 'confecçõo', 'populaçõo', 'prevençõo', 'bertolfnla', '015dl/2020', 'dooorrenta', 'piaui.pi', 'desunados', 'dooorrente', '.0000012s/2020', '.00000125/2020', 'descart', 'ável', 'p6blica', 'itainôpoli', '016/2020', 'ofertas', 'recuso', 'fmas', '173/2020', 'lntcresse', 'secn', 'vtgílancia', 'boms', 'dn', 'rufino', 'marque9', '20/08', 'recargas', 'paraatender', 'relacao', 'bjetivando', '03/09/2020', 'mundança', 'má.searas', 'seguintes', 'tio', \"'l\", 'rrr', 'má.~aras', 'necessidade.~', 'informática', 'hipoalergênica.', '119,50', '2.450', '20,00', '007/2020-td-semsas', '011/2020-td-semsas', '27.08.2020', '69', 'uisição', 'través', '8666/93', 'bocaina-pl', '016-a/2020', 'ratual', '17/2020', 'lificado', 'perrodo', 'r-r-ogado', '019/202', 'contr-ato', 'rr-ogado', '1/20', 'r-iu', '02312020', 'riundo', '02412020', 'a31', 'pra.2.0', '02512020', '02612020', 'sim', 'plificado', '028/20', '029/2020', 'ork.jndo', '030/2', '03112020', 'conltalo', '032/2020', '033120', 'oriu', '03412', 'doprocesso', '035/20', '036/20', '037/20', \"implif'tcado\", 'ítca', 'ergencial', 'simpliftcado', 'ftca', '039/2020', 'conttalo', '040/2020', 'rocesso', 'lho', '041/2020', 'utilizando', 'plasma/soro', 'empresa.', 'credenciament', 'tisi', 'cas', 'pres', 'gos', 'seguran', 'ça', 'reali', 'zar', 'higieni', 'set', 'pel', 'oronavi', 'velei.dos', 'julllo', 'guadalupe-pi', 'urgêiv', 'eirergêocia', '13no20', 'pennanente', '0l', 'lestes', 'iggiigm', 'gfl', 'comda', 'materws', 'agoes', '-apenas', 'deepis', \"atra'ds\", 'licitatória', 'fatura', 'multip11ramétrico', 'dionisia', '~ferincla', 'dionlsia', 'traqueal', 'calibre', '14.', 'medicamentos.', 'surfactante', 'geminiano', 'ateoder', 'danieu', 'fomecimeoto', 'ltaueira', 'aqltisição', 'eletrooomésticos', 'prot', '94/2020', '2021', 'suprimir', 'atualizado', 'divulgações', '0002513/2020', 'unitario', '21,77', '3.600', '155,00', 'izando', '310.000,00', 'sen•iço', 'vi~lância', 'nzidências', 'bouifação', \"pre1'cllção\", \"coronal'írus\", \"l'igilância\", 'visi111', 'borrifução', 'baa', 'eims', 'outro~', 'intenzse', 'secreracia', 'tolínia', 'av.m~lj', 'prefeti1jra', 'muntcwal', 'funda', 'rel\\\\lizaa', 'enfrentl\\\\mento', 'coronavirtis', 'secretaaia', 'mtjntcipal', 'çao', 'andemla', 'mn', 'radlologlco', 'fílmes', 'p/impresslo', 'auxuliar', 'considerados', 'viabilizando', 'contribuam', 'grupos', 'potência', 'retirada', '636', '360', '560', 'aproximadas', '0,40', '1,20', 'ipmt', 'tapete', 'capacho', 'sanitizante', 'borda', 'vedante', 'impede', 'vazamento', 'líquidos', '10mm', 'antichama', 'mancha', 'macrogotas', 'compatível', 'laudagem', 'esp', 'rebombinamento', 'enceradeira', 'corresposndente', 'ep/s', 'beneditinos-pi', 'tocas', 'acovid-19', 'eliminação', 'seqetaàa', 'coronayjrus', 'covid-19\\\\', 'jurema-', 'públícos', 'combusliveis', 'diesen', 'veiculas', 'tipa', 'aguisjcão', '/covid-19', 'individuai', 'emergencialde', 'gerenciaml', 'ale', 'perdurã', 'púbijca', 'transmitida', 'concessões', 'parcerias', 'concertos', 'manutenções', 'gabinetes', 'ooontolôgicos', 'gabinete', 'orgaos', 'muncipal', 'ribeiro-pj', 'assisttncia', 'contntação', 'emcrgcnclal', 'isidadcs', 'ícovid-19\\\\', 'fcovid-19', 'automoveis', '48.000,00', 'devidamente', 'isolada', 'esterilizada', 'fixado', '*prestação', 'emergll', 'itainópolis', 'sar1-cov-2', '55,00', 'coloidal', 'ltilldos', 'illvld-19', 'equipanntos', 'disponililizados', 'compõem', '-cras', 'ftmções', 'coid', '~dida', 'gramaturo', '60g', 'testado', 'decorrent.e', 'oovid·', '19/06/2010', 'ministtrio', 'saõí', 'tttulo', 'empregat1cio', 'totali1.ando', 'econômico', 'turismo', 'semdec', 'par.i', 'atendime_nt', 'covíd', 'aicós', 'aocovid', 'reutiuzavel', 'parnaiba-pil', 'par.1', 'biológica', 'emergtncia', 'ailde', '1.44', 'ml.n.lstérlo', 'scrv1ços', 'retarla', 'munklplo', 'especlocamente', 'mlnist6rio', '076/2020', '.870,00', 'inil', 'ttais', '13.360,00', 'treze', 'trcz', ':ntos', 'roais', '59', 'diferentes', 'originária', 'especificado', '1.490,00', 'ai5', 'creoencii\\\\meiito', 'complementa..', 'aoo', 'uouárioo', 'aooiotidoo', '269/2020', 'reajustando', 'previsao', 'terá', 'suportar', 'emotivo', '352', '49,93', 'primeira-do', 'sexta-', 'fm', '28/08', '31/08', 'geradas', 'paines', 'acrilicos', 'fachadas', 'recisão', 'dispensará', 'obrigações', 'contratuais', 'pendentes', 'apuradas', 'quitadas', 'próprio', '02.08.2020', 'fluxometro', 'softwares', 'notbook', 'analógico', 'dispondo', 'sistribuição', 'radiológicas', 'digitalizadas', 'eneria', 'eletriva', 'transformador', '225kva', 'telefonicos', 'pabx', '074/2020/fepiserh', 'radiologico', 'paulo', 'tibério', 'clinicor-clinica', '–eireli', 'reg.tibério', '02/09/2020', 'ma1eriais', 'miidicaml', 'emergencij\\\\l', 'dcslc', 'rataç.ilo', 'fron1cira', 'quarento', 'horos', 'especifico.mente', 'enfrctamento', 'constitui•sc', 'contrutaçilo', 'motorisul', 'crn', 'sccrc-taria', 'jolo', 'semanais.', 'açt', 'cnfrctamento', 'contr11.láç', 'ilo', \"set'viços\", 'tempon\\\\rio', 'àt', 'sem1', 'ma.is', 'r~pldo', 'metodok', 'gla', 'lmunocromatografla', 'detecç~o', 'antitorpos', 'cai', 'tom', 't.i', 'pldo', 'ta', 'diagnóstic', 'quallt', 'atlva', 'especlfü', 'antfgeno', 'co\\\\lld-19', '25/08', 'auxilia', 'temporúio', 'j11u11', 'prntado', 'secrdaria', 'municiplll', 'frootci', 'icfflalulis', 'piaut', 'específicaçõese', 'oonforme', 'conlrataçao', 'alimenlicios', 'ceslas', 'decorrenle', 'paraapresentarem', '09.09.2020', 'naações', 'condiçõe•', 'tabelecida•', '17.334,00', 'extraordinário', 'complementação', '827', 'rim', 'filmagem', 'violações', 'buscando', 'vltimas', 'soctoassistencial', 'enlretamento', 'socioasslstenciais', 'reorga', 'nização', 'r1sco', '-ete', 'multimídia', 'coffee', 'break', 'verdura', 'cestos', 'acrílicos', 'berço', 'encerramento', 'períodos', 'perdurar', 'enfrentament', 'efei', 'situa', 'importâ', 'declarada', '188', 'ministro', 'combustfveis', 'paquetá-p', 'paquetá-pl', 'estampadas', 'berlolfnla', '6dl/2020', \"l'o\", 'restar', 'culado', 'pandem', 'isseminação', 'írus', 'medidas/ação', '44,00', 'professor', 'regist', 'edita', 'curso', 'higienizacão', 'coronavinus', 'varzea', 'perf', 'poço', 'instal', 'submersa', 'mess', 'ga', 'semanai', 'junt', 'cone', 'borrifador', 'organizadora', 'garrafinha', 'wss', 'construções', 'telillo', 'confolljle', 'qu811titativos', 'ref~ncia', 'conjralo', 'pandemía', 'refer', 'siio', 'refemicia', 'municjpio', 'espcci.licaç', 'refclência', 'edilal', 'operador', 'trator', 'agrícola', 'açfies', 'colonia', 'materiais/', 'prevençl', 'istas', 'expedida•', 'tta', 'documento.', 'ploces.so', 'mlmicipal', '.lmbi', '.lmbito', 'hi', 'propo5ta5', 'documento5', 'admini•trativo', 'aquisiç4o', 'delllalldas', 'sbtema', 'expedida.s', 'siçlo', 'obrigat6ria.s', 'lmbi', 'judiciai•', 'contome', 'deocriç~oo', 'oxpedidu', 'oecntaria', 'espeoalizada', 'ijx', '.ação', 'ayrfs-pl', 'igo', 'munioipio', 'geral/', 'eventuais', 'politica', 'assis~ncia', 'iso', 'eorativoentre', 'bioabsorví-', 'medfarma', 'equip.hospitalares', 'eireli', '44,30', '5.316,00', 'cirúgica', 'arsete', 'refe~ncia', 'balaclava', '017dl/2020', '019dl/2020', 'fachada', '455/2020', 'prm/phb-gabslr', 'contkatação', \"mt'kesa\", \"t'aka\", 'lcos', 'baslca', 'ats', 'munlcíj', 'pr.eve', 'çâo', 'iibdicos', 'f.amília', 'süstema', 'rísicas', 'serviçosem', 'enrermeiro', 'enrermageh', \"cone'orme\", 'ur', 'ídica', 'fraldas', 'enfre.ntamento', 't1aúde', 'de.cor.rente', 'coronaviruo', 'propootao', 'documcntoo', 'jerumenha-pi', 'aqwsição', 'eqwpamentos', 'higieniza.ção', 'unicipal', 'scritas', 'col/ld19', 'equlp', 'dfsfinaoos', 'coluna', 'brother', 'dcp', '1602', '2mx2m', 'olaria', 'smpm', 'aqulslção', 'eequlpamentos', 'refrigeração', 'aditvo', 'prazos', 'relatvo', 'encomenda', 'inovador', 'rapidamente', 'inseridos', 'fossas', 'septicas', '020dl/2020', '021', '022dl/2020', '023dl/2020', 'bertolínla', '024dl/2020', '025dl/2020', '026dl/2020', 'piauf•pi', 'vislo', 'cousoda', 'secretãria', 'paridemia', 'propor-cionando', 'lndlviduos', 'vulnerabnidade', \"'ermsiro\", 'e.nfrentamento', ',envolvi', 'ari', 'sa.nitizacao', 'oisseminacao', 'ducacao', 'vacinas', 'hemoderivados', 'termolabeis', '4,6', 'hp', '64,7', 'lotes', 'dionisio', 'velho', 'abertas', '074/2020', 'localizadas', 'zen.a', 'união.pi', 'mbate', 'ga-pi', 'juventude-semjuv', 'esperança', 'nu', 'aré', '12.600,00', '8.800,00', '3.800,00', 'fomecrnento', 'medldnal', 'mun~i', 'f11t', 'cnronavhls', 'incluíndo', 'atendimento/vítimas', '4~', 'contralaçlkl', '4°', '70g', 'secretarià', \"desenvolvimeni'o\", \"covi0-19'\", 'aquislçlo', 'proí1ssion1is', 'realizaçio', 'detratamento', 'realizaçlo', 'iupidos', 'rt-pcr', 'precisio', 'identificam', 'dna', 'salíde', 'munlcfpio', 'sanitizacao', 'comoacao', 'disseminacao', 'ouro-', '15.09.2020', 'ondeselé', '.520,00', 'dividido', 'sejam.realizadas', 'gravacões', 'especif', 'administrati', '.0005682', 'padrões', '.0004704/2020', 'muntdpjo', 'jlha', 'chicô', 'osmarino', 'localaidade', 'malva', 'refiticação', 'traçao', 'ião-', '001.0004024/2020', '08/09', 'proteçãoindividual', 'versão•', 'pês', 'cortjunto', 'mldia', 'audiovisuais', 'informativo', 'fom', '027dl/2020', 'berlolínia', '031dl/2020', \"fj'/o\", '22.950.00', 'licitados', '035dl/2020', 'equlpamen1os', 'imag', 'a1ender', 'secre1ana', 'nicipal', 'silrio', 'realizad', 'gravações', '.0005662/2020', 'time', '86', 'especij\\\\lizl\\\\dos', 'nl\\\\', 'urorologia', '.11.tendihento', 'confohb', \"terl'.os\", 'estabelecidjis', 'iiditjil', 'gime', 'ao.1', 'usuâ.ri', 'a33i3tidos', 'riano', 'amparado', 'pelalei', 'provisoria', '18.895', '465/2020', '00573/20', '179232020', 'manicure', 'desing', 'aquisiç', 'uipamentos', 'transmtssão', 'ltves', 'informativas', 'municrpais', 'mediona', '19/06/2020', 'ministéuo', 'tfrulo', \"de'tatminado\", 'empregatfclo', 'qualificado', 'cultural', 'aldir', 'biano', 'sancionada', '14.017/2020', 'julgamento', 'editais', 'todo', 'esporte', 'lazer', 'bico', 'respectnos', 'munictpio', 'piso']\n",
            "\n",
            "Collocations\n",
            "\n",
            "secretaria municipal; para atender; saúde pública; novo coronavírus;\n",
            "presente contrato; proteção individual; empresa para; termo aditivo;\n",
            "empresa especializada; tem por; pública decorrente; carga horária; por\n",
            "objeto; excepcional interesse; barreiras sanitárias; testes rápidos;\n",
            "novo coronavirus; assistência social; horas semanais; com carga\n",
            "None\n",
            "Longterms:  ['abrangência', 'acordada', 'acordo', 'acréscimo', 'adequação', 'adicional', 'aditivo', 'administrativo', 'administração', 'adotadas', 'agente', 'agosto', 'alcool', 'alegre', 'alimentação', 'alimentícios', 'alteração', 'alterações', 'alunos', 'ambientes', 'andrade', 'anexos', 'anteriormente', 'anticorpos', 'antônio', 'aquisicao', 'aquisiçao', 'aquisição', 'assistencia', 'assistidos', 'assistência', 'atencdo', 'atendendo', 'atendente', 'atender', 'atendidas', 'atendimento', 'atenção', 'atividade', 'atividades', 'através', 'atuarem', 'atuação', 'aumento', 'autônomos', 'auxiliar', 'aventais', 'avental', 'barreira', 'barreiras', 'batista', 'benefícios', 'bertolínia', 'bombeiro', 'boqueirão', 'branca', 'básica', 'básicas', 'cabelereira', 'cadastramento', 'calamidade', 'campanha', 'capacidade', 'carater', 'caraúbas', 'caráter', 'causada', 'causado', 'causador', 'cautela', 'celebrado', 'centro', 'cestas', 'cidadania', 'cidade', 'cinquenta', 'cirúrgica', 'cirúrgicas', 'cláusula', 'coleta', 'comandos', 'combate', 'comitê', 'complementar', 'compra', 'condições', 'confecção', 'conforme', 'conformidade', 'consiste', 'constante', 'constantes', 'constitui', 'construção', 'consumo', 'contaminação', 'contenção', 'contingência', 'continuidade', 'contra', 'contratacéo', 'contratada', 'contratado', 'contratante', 'contratatadas', 'contrataçao', 'contratação', 'contrato', 'contratual', 'controle', 'coordenadas', 'coordenação', 'corona', 'coronavfrus', 'coronavirus', 'coronavlrus', 'coronavírus', 'corretiva', 'credenciamento', 'criança', 'cuidadora', 'cumprimento', 'decorrente', 'decorrência', 'demais', 'demanda', 'demandas', 'descartáveis', 'descartável', 'desempenhado', 'desenvolver', 'desenvolvidas', 'desenvolvimento', 'desinfecção', 'despesas', 'destinadas', 'destinado', 'destinados', 'detecção', 'detenninações', 'determinado', 'determinações', 'devido', 'dezembro', 'diagnóstico', 'diantes', 'diario', 'diarista', 'digital', 'direta', 'diretamente', 'dispensa', 'disseminação', 'distribuição', 'diversos', 'divulgação', 'documentos', 'domingos', 'dotação', 'durante', 'duzentos', 'edital', 'educação', 'efetivo', 'elaboradas', 'elaborados', 'elástico', 'emergencia', 'emergenciais', 'emergencial', 'emergência', 'empregatício', 'empresa', 'endemias', 'enfermagem', 'enfermeira', 'enfermeiro', 'enfrentamento', 'enfretamento', 'engenharia', 'enquanto', 'ensino', 'epidemia', 'equipamento', 'equipamentos', 'equipe', 'equipes', 'errata', 'escolar', 'especi', 'especial', 'especializada', 'especializados', 'especificamente', 'especificação', 'especificações', 'essencial', 'estabelecida', 'estabelecidas', 'estabelecimento', 'estado', 'estadual', 'estamos', 'estimado', 'estratégia', 'estrutura', 'estágios', 'etílico', 'exames', 'exceléncia', 'excepcional', 'executar', 'executara', 'execução', 'exercerá', 'exigências', 'exposição', 'expressamente', 'extras', 'extrato', 'facial', 'familia', 'família', 'famílias', 'fatima', 'federal', 'fevereiro', 'filtro', 'finalidade', 'financeiros', 'fiscal', 'fiscalização', 'fisica', 'floresta', 'floriano', 'fornecimento', 'francisco', 'frente', 'fundamento', 'fundação', 'função', 'física', 'físicas', 'garantia', 'garantindo', 'gerais', 'getulio', 'getúlio', 'global', 'grande', 'guadalupe', 'gêneros', 'higiene', 'higienização', 'horária', 'hospital', 'hospitalar', 'hospitalares', 'humana', 'implementação', 'importância', 'inalteradas', 'inciso', 'incluindo', 'incluso', 'individual', 'indivíduos', 'infantil', 'infectados', 'infectologista', 'infecção', 'informação', 'infravermelho', 'infusão', 'inicial', 'insalubridade', 'insertos', 'instalada', 'instalação', 'instrumentalizar', 'instrumento', 'insumos', 'integram', 'interessadas', 'interesse', 'internacional', 'jaicós', 'juridica', 'jurídica', 'justino', 'laboratoriais', 'laboratorial', 'laboratório', 'landri', 'legislação', 'leitos', 'licitação', 'lidade', 'limpeza', 'locação', 'lotada', 'lotação', 'lucídio', 'líquido', 'manutencdo', 'manutenção', 'mascara', 'mascaras', 'materiais', 'material', 'maternidade', 'medicamento', 'medicamentos', 'medicinal', 'medico', 'medida', 'medidas', 'mensal', 'messias', 'miguel', 'ministério', 'modificadas', 'modificação', 'momento', 'monitoramento', 'monsenhor', 'montagem', 'morada', 'motorista', 'mudança', 'municipais', 'municipal', 'municipio', 'municlpio', 'município', 'murici', 'máscara', 'máscaras', 'médica', 'médico', 'médicos', 'nacional', 'necessidade', 'necessidades', 'necessários', 'novembro', 'noventa', 'objetivando', 'objetivo', 'objeto', 'obriga', 'ocasionada', 'oferta', 'oitenta', 'operações', 'organização', 'orientador', 'orientação', 'orientações', 'original', 'originalmente', 'orçamentária', 'outras', 'outros', 'oxigênio', 'pacientes', 'pactuados', 'pagina', 'palmeira', 'pandemia', 'parcelas', 'parnaiba', 'parque', 'perecíveis', 'periodo', 'permanecendo', 'permanente', 'pertinente', 'período', 'pessoa', 'pessoal', 'pessoas', 'plantao', 'plantoes', 'plantonista', 'plantão', 'plantões', 'políticas', 'populacao', 'população', 'portaria', 'portela', 'preencher', 'prefeitura', 'preparar', 'presente', 'presento', 'preservação', 'prestadores', 'prestados', 'prestando', 'prestar', 'prestarem', 'prestaçao', 'prestação', 'preventiva', 'preventivas', 'prevenção', 'previstas', 'preços', 'primeiro', 'procedimento', 'procedimentos', 'processo', 'produtividade', 'produtos', 'produção', 'profissionais', 'profissional', 'programa', 'programas', 'projeto', 'pronto', 'proposta', 'propostas', 'propósito', 'prorrogação', 'protetor', 'proteção', 'provisória', 'prédios', 'ptiblica', 'publicada', 'publicado', 'publicação', 'publico', 'publicos', 'pública', 'públicas', 'público', 'públicos', 'qualitativa', 'quantidades', 'quantitativas', 'quarenta', 'quarta', 'quatro', 'quinhentos', 'realização', 'recepcionista', 'recepção', 'recurso', 'recursos', 'redenção', 'redução', 'referente', 'referência', 'reforma', 'regime', 'regional', 'registro', 'regular', 'regulação', 'relacionados', 'remoto', 'remuneração', 'reorganização', 'repasses', 'responsável', 'retificação', 'ribeiro', 'riscos', 'rápido', 'rápidos', 'saneamento', 'sanitização', 'sanitária', 'sanitárias', 'sanitário', 'satide', 'secretaria', 'secretarias', 'secretária', 'segurança', 'seletivo', 'semanais', 'semtas', 'senhora', 'servico', 'servicos', 'servidor', 'servidores', 'serviço', 'serviços', 'sesapi', 'sessenta', 'setores', 'simplificado', 'simplício', 'sintomas', 'sistema', 'situação', 'social', 'socioassistenciais', 'socioassistencial', 'socorro', 'suporte', 'suprir', 'suspeita', 'suspeitos', 'suspensão', 'tamanho', 'tecido', 'temporaria', 'temporária', 'temporário', 'temporários', 'tempos', 'tendas', 'teresina', 'termos', 'termômetro', 'termômetros', 'testes', 'tocante', 'totens', 'toucas', 'trabalha', 'trabalhar', 'trabalho', 'transmissão', 'tratamento', 'trezentos', 'trinta', 'técnica', 'técnicas', 'técnico', 'técnicos', 'unidade', 'unidades', 'unilateral', 'unitário', 'urbana', 'urgência', 'usuários', 'utilizado', 'utilizados', 'utilização', 'valores', 'vargas', 'veículos', 'vigilância', 'vigilãncia', 'vigorará', 'vigência', 'vinculado', 'vinculo', 'virtude', 'visando', 'vistas', 'volante', 'voltadas', 'vulnerabi', 'vulnerabilidade', 'válidas', 'vínculo', 'álcool', 'âmbito', 'óculos', 'órgãos']\n",
            "\n",
            "---------\n",
            "\n",
            "Não, pois todas as palavras únicas sem um contexto não ajudam muito a alucidar o significado do texto. As collocations por sua vez também não são muito úteis,por mais que sejam bigramas mais frequentes, também não dão contexto, porém outra propriedade que poderia ajudar a entender o texto seria as longterms, se filtrando palavras a partir de um certo lenght ajuda mais a selecionar termos palavras-chave que em conjunto dão um pouco da ideia do texto.\n"
          ]
        }
      ]
    },
    {
      "cell_type": "markdown",
      "metadata": {
        "id": "8TA1p4Wio3mC"
      },
      "source": [
        "### Conclusão\n"
      ]
    },
    {
      "cell_type": "markdown",
      "metadata": {
        "id": "V3kSMneMTHP_"
      },
      "source": [
        "Primeiramente, analisamos os 30 tokens mais frequentes, e verificamos que os mais frequentes eram preposições, símbolos e sinais. O corpus apresentava uma diversidade léxica de 5,51% e a proporção de utilização dos 30 tokens mais frequente era de 47,02%. Para melhorar a lista de palavras mais frequentes, eliminamos os símbolos, sinais e stopwords. Com esse tratamento nos tokens, obtivemos um corpus com tokens mais voltados para o problema em questão, que seriam as contratações diretas da administração pública para o enfrentamento da pandemia da COVID-19. A diversidade léxica sem as stopwords passou para 7,98% e a proporção dos 30 tokens mais utilizados passou para 27,89%. Por fim, analisamos os hapaxes e o collocations, onde os hapaxes não ajudam muito na análise do contexto pois aparecem muitas palavras com erro de grafia e palavras isoladas. No caso dos collocations, conseguimos extrair vários bigramas que nos ajudam a identificar o assunto do texto."
      ]
    }
  ]
}