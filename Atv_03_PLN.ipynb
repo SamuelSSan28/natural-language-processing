{
  "nbformat": 4,
  "nbformat_minor": 0,
  "metadata": {
    "colab": {
      "name": "Atv 03 - PLN.ipynb",
      "provenance": [],
      "collapsed_sections": []
    },
    "kernelspec": {
      "name": "python3",
      "display_name": "Python 3"
    },
    "language_info": {
      "name": "python"
    }
  },
  "cells": [
    {
      "cell_type": "markdown",
      "metadata": {
        "id": "dpjBe8cQ10R_"
      },
      "source": [
        "# Atividade Prática 2: Avaliação de classificadores baseados em features - Grupo 6"
      ]
    },
    {
      "cell_type": "markdown",
      "metadata": {
        "id": "alBONRcrI_vl"
      },
      "source": [
        "Participantes: Antonio Henrique, Pedro Lucca, Samuel Santos e Naum Celestino"
      ]
    },
    {
      "cell_type": "markdown",
      "metadata": {
        "id": "f6Ag3CPHovOe"
      },
      "source": [
        "### Introdução"
      ]
    },
    {
      "cell_type": "markdown",
      "metadata": {
        "id": "KQI2KLh3UJOb"
      },
      "source": [
        "Este trabalho tem como objetivo a análise textual das contratações emergenciais dos munícipios e Estado do Piauí, realizadas no período de março a setembro de 2020, referentes ao enfrentamento da pandemia da COVID-19. Os dados foram extraídos dos respectivos diários oficiais por uma comissão do Tribunal de Contas do Estado do Piauí, criada especificamente para o acompanhamento dessas contratações, e inseridos em uma planilha Excel. \n",
        "\n",
        "Desta forma, o corpus do trabalho foi construído baseado a partir da coluna “Objeto” da planilha em questão, e assim, será analisado o uso das palavras no corpus, extraindo as principais features que nos ajudam a entender o contexto e avaliar o desempenho de classificadores e implementar um novo classificador baseado em features, considerando os dados do corpus utilizado pelo grupo na atividade prática 1.\n",
        "\n",
        "\n"
      ]
    },
    {
      "cell_type": "markdown",
      "metadata": {
        "id": "rbLOVpOOjEYJ"
      },
      "source": [
        "#### Questão 1\n",
        "\n",
        "Considerando os classificadores de gêneros de nomes discutidos nas aulas: classif1 e classif2, responder as seguintes perguntas: \n",
        "\n",
        "a. Qual o desempenho (acurácia) dos dois modelos, ao utilizar os mesmos\n",
        "conjuntos de treinamento e testes para o processo de treinamento e avaliação?\n"
      ]
    },
    {
      "cell_type": "code",
      "metadata": {
        "id": "eFAVTZ3LjRi_",
        "colab": {
          "base_uri": "https://localhost:8080/"
        },
        "outputId": "d71a992a-22ed-4326-f7b9-422c7646c4d9"
      },
      "source": [
        "def gender_features(word):\n",
        "    return {'last_letter': word[-1]}\n",
        "gender_features('Shrek')\n",
        "#{‘last_letter’: ‘k’} ; dictionary"
      ],
      "execution_count": null,
      "outputs": [
        {
          "output_type": "execute_result",
          "data": {
            "text/plain": [
              "{'last_letter': 'k'}"
            ]
          },
          "metadata": {},
          "execution_count": 1
        }
      ]
    },
    {
      "cell_type": "code",
      "metadata": {
        "colab": {
          "base_uri": "https://localhost:8080/"
        },
        "id": "yC5M4dWKeksp",
        "outputId": "20fb9dd4-3c0b-446a-a296-fa251f78324c"
      },
      "source": [
        "def gender_features2(name):\n",
        "  feat = {}\n",
        "  feat['first_letter'] = name[0].lower()\n",
        "  feat['last_letter'] = name[-1].lower()\n",
        "  for let in 'abcdefghijklmnopqrstuvwxyz':\n",
        "    feat['count({})'.format(let)] = name.lower().count(let)\n",
        "    feat['has({})'.format(let)] = (let in name.lower())\n",
        "  return feat\n",
        "\n",
        "gender_features2('John')\n"
      ],
      "execution_count": null,
      "outputs": [
        {
          "output_type": "execute_result",
          "data": {
            "text/plain": [
              "{'count(a)': 0,\n",
              " 'count(b)': 0,\n",
              " 'count(c)': 0,\n",
              " 'count(d)': 0,\n",
              " 'count(e)': 0,\n",
              " 'count(f)': 0,\n",
              " 'count(g)': 0,\n",
              " 'count(h)': 1,\n",
              " 'count(i)': 0,\n",
              " 'count(j)': 1,\n",
              " 'count(k)': 0,\n",
              " 'count(l)': 0,\n",
              " 'count(m)': 0,\n",
              " 'count(n)': 1,\n",
              " 'count(o)': 1,\n",
              " 'count(p)': 0,\n",
              " 'count(q)': 0,\n",
              " 'count(r)': 0,\n",
              " 'count(s)': 0,\n",
              " 'count(t)': 0,\n",
              " 'count(u)': 0,\n",
              " 'count(v)': 0,\n",
              " 'count(w)': 0,\n",
              " 'count(x)': 0,\n",
              " 'count(y)': 0,\n",
              " 'count(z)': 0,\n",
              " 'first_letter': 'j',\n",
              " 'has(a)': False,\n",
              " 'has(b)': False,\n",
              " 'has(c)': False,\n",
              " 'has(d)': False,\n",
              " 'has(e)': False,\n",
              " 'has(f)': False,\n",
              " 'has(g)': False,\n",
              " 'has(h)': True,\n",
              " 'has(i)': False,\n",
              " 'has(j)': True,\n",
              " 'has(k)': False,\n",
              " 'has(l)': False,\n",
              " 'has(m)': False,\n",
              " 'has(n)': True,\n",
              " 'has(o)': True,\n",
              " 'has(p)': False,\n",
              " 'has(q)': False,\n",
              " 'has(r)': False,\n",
              " 'has(s)': False,\n",
              " 'has(t)': False,\n",
              " 'has(u)': False,\n",
              " 'has(v)': False,\n",
              " 'has(w)': False,\n",
              " 'has(x)': False,\n",
              " 'has(y)': False,\n",
              " 'has(z)': False,\n",
              " 'last_letter': 'n'}"
            ]
          },
          "metadata": {},
          "execution_count": 2
        }
      ]
    },
    {
      "cell_type": "code",
      "metadata": {
        "colab": {
          "base_uri": "https://localhost:8080/"
        },
        "id": "Xtifc9C-Tmua",
        "outputId": "9a28ae4e-7171-4375-cf77-ba0891a9520d"
      },
      "source": [
        "import nltk\n",
        "nltk.download('names')\n",
        "from nltk.corpus import names\n",
        "nomesRot = ([(name,'masc') for name in names.words('male.txt')] + [(name,'fem') for name in names.words('female.txt')])\n",
        "import random\n",
        "print(nomesRot)\n",
        "print(len(nomesRot))\n"
      ],
      "execution_count": null,
      "outputs": [
        {
          "output_type": "stream",
          "name": "stdout",
          "text": [
            "[nltk_data] Downloading package names to /root/nltk_data...\n",
            "[nltk_data]   Package names is already up-to-date!\n",
            "[('Aamir', 'masc'), ('Aaron', 'masc'), ('Abbey', 'masc'), ('Abbie', 'masc'), ('Abbot', 'masc'), ('Abbott', 'masc'), ('Abby', 'masc'), ('Abdel', 'masc'), ('Abdul', 'masc'), ('Abdulkarim', 'masc'), ('Abdullah', 'masc'), ('Abe', 'masc'), ('Abel', 'masc'), ('Abelard', 'masc'), ('Abner', 'masc'), ('Abraham', 'masc'), ('Abram', 'masc'), ('Ace', 'masc'), ('Adair', 'masc'), ('Adam', 'masc'), ('Adams', 'masc'), ('Addie', 'masc'), ('Adger', 'masc'), ('Aditya', 'masc'), ('Adlai', 'masc'), ('Adnan', 'masc'), ('Adolf', 'masc'), ('Adolfo', 'masc'), ('Adolph', 'masc'), ('Adolphe', 'masc'), ('Adolpho', 'masc'), ('Adolphus', 'masc'), ('Adrian', 'masc'), ('Adrick', 'masc'), ('Adrien', 'masc'), ('Agamemnon', 'masc'), ('Aguinaldo', 'masc'), ('Aguste', 'masc'), ('Agustin', 'masc'), ('Aharon', 'masc'), ('Ahmad', 'masc'), ('Ahmed', 'masc'), ('Ahmet', 'masc'), ('Ajai', 'masc'), ('Ajay', 'masc'), ('Al', 'masc'), ('Alaa', 'masc'), ('Alain', 'masc'), ('Alan', 'masc'), ('Alasdair', 'masc'), ('Alastair', 'masc'), ('Albatros', 'masc'), ('Albert', 'masc'), ('Alberto', 'masc'), ('Albrecht', 'masc'), ('Alden', 'masc'), ('Aldis', 'masc'), ('Aldo', 'masc'), ('Aldric', 'masc'), ('Aldrich', 'masc'), ('Aldus', 'masc'), ('Aldwin', 'masc'), ('Alec', 'masc'), ('Aleck', 'masc'), ('Alejandro', 'masc'), ('Aleks', 'masc'), ('Aleksandrs', 'masc'), ('Alessandro', 'masc'), ('Alex', 'masc'), ('Alexander', 'masc'), ('Alexei', 'masc'), ('Alexis', 'masc'), ('Alf', 'masc'), ('Alfie', 'masc'), ('Alfonse', 'masc'), ('Alfonso', 'masc'), ('Alfonzo', 'masc'), ('Alford', 'masc'), ('Alfred', 'masc'), ('Alfredo', 'masc'), ('Algernon', 'masc'), ('Ali', 'masc'), ('Alic', 'masc'), ('Alister', 'masc'), ('Alix', 'masc'), ('Allah', 'masc'), ('Allan', 'masc'), ('Allen', 'masc'), ('Alley', 'masc'), ('Allie', 'masc'), ('Allin', 'masc'), ('Allyn', 'masc'), ('Alonso', 'masc'), ('Alonzo', 'masc'), ('Aloysius', 'masc'), ('Alphonse', 'masc'), ('Alphonso', 'masc'), ('Alston', 'masc'), ('Alton', 'masc'), ('Alvin', 'masc'), ('Alwin', 'masc'), ('Amadeus', 'masc'), ('Ambros', 'masc'), ('Ambrose', 'masc'), ('Ambrosi', 'masc'), ('Ambrosio', 'masc'), ('Ambrosius', 'masc'), ('Amery', 'masc'), ('Amory', 'masc'), ('Amos', 'masc'), ('Anatol', 'masc'), ('Anatole', 'masc'), ('Anatollo', 'masc'), ('Anatoly', 'masc'), ('Anders', 'masc'), ('Andie', 'masc'), ('Andonis', 'masc'), ('Andre', 'masc'), ('Andrea', 'masc'), ('Andreas', 'masc'), ('Andrej', 'masc'), ('Andres', 'masc'), ('Andrew', 'masc'), ('Andrey', 'masc'), ('Andri', 'masc'), ('Andros', 'masc'), ('Andrus', 'masc'), ('Andrzej', 'masc'), ('Andy', 'masc'), ('Angel', 'masc'), ('Angelico', 'masc'), ('Angelo', 'masc'), ('Angie', 'masc'), ('Angus', 'masc'), ('Ansel', 'masc'), ('Ansell', 'masc'), ('Anselm', 'masc'), ('Anson', 'masc'), ('Anthony', 'masc'), ('Antin', 'masc'), ('Antoine', 'masc'), ('Anton', 'masc'), ('Antone', 'masc'), ('Antoni', 'masc'), ('Antonin', 'masc'), ('Antonino', 'masc'), ('Antonio', 'masc'), ('Antonius', 'masc'), ('Antony', 'masc'), ('Anurag', 'masc'), ('Apollo', 'masc'), ('Apostolos', 'masc'), ('Aram', 'masc'), ('Archibald', 'masc'), ('Archibold', 'masc'), ('Archie', 'masc'), ('Archon', 'masc'), ('Archy', 'masc'), ('Arel', 'masc'), ('Ari', 'masc'), ('Arie', 'masc'), ('Ariel', 'masc'), ('Aristotle', 'masc'), ('Arlo', 'masc'), ('Armand', 'masc'), ('Armando', 'masc'), ('Armond', 'masc'), ('Armstrong', 'masc'), ('Arne', 'masc'), ('Arnie', 'masc'), ('Arnold', 'masc'), ('Arnoldo', 'masc'), ('Aron', 'masc'), ('Arron', 'masc'), ('Art', 'masc'), ('Arther', 'masc'), ('Arthur', 'masc'), ('Artie', 'masc'), ('Artur', 'masc'), ('Arturo', 'masc'), ('Arvie', 'masc'), ('Arvin', 'masc'), ('Arvind', 'masc'), ('Arvy', 'masc'), ('Ash', 'masc'), ('Ashby', 'masc'), ('Ashish', 'masc'), ('Ashley', 'masc'), ('Ashton', 'masc'), ('Aub', 'masc'), ('Aube', 'masc'), ('Aubert', 'masc'), ('Aubrey', 'masc'), ('Augie', 'masc'), ('August', 'masc'), ('Augustin', 'masc'), ('Augustine', 'masc'), ('Augusto', 'masc'), ('Augustus', 'masc'), ('Austen', 'masc'), ('Austin', 'masc'), ('Ave', 'masc'), ('Averell', 'masc'), ('Averil', 'masc'), ('Averill', 'masc'), ('Avery', 'masc'), ('Avi', 'masc'), ('Avraham', 'masc'), ('Avram', 'masc'), ('Avrom', 'masc'), ('Axel', 'masc'), ('Aylmer', 'masc'), ('Aziz', 'masc'), ('Bailey', 'masc'), ('Bailie', 'masc'), ('Baillie', 'masc'), ('Baily', 'masc'), ('Baird', 'masc'), ('Baldwin', 'masc'), ('Bancroft', 'masc'), ('Barbabas', 'masc'), ('Barclay', 'masc'), ('Bard', 'masc'), ('Barde', 'masc'), ('Barn', 'masc'), ('Barnabas', 'masc'), ('Barnabe', 'masc'), ('Barnaby', 'masc'), ('Barnard', 'masc'), ('Barnebas', 'masc'), ('Barnett', 'masc'), ('Barney', 'masc'), ('Barnie', 'masc'), ('Barny', 'masc'), ('Baron', 'masc'), ('Barr', 'masc'), ('Barret', 'masc'), ('Barrett', 'masc'), ('Barri', 'masc'), ('Barrie', 'masc'), ('Barris', 'masc'), ('Barron', 'masc'), ('Barry', 'masc'), ('Bart', 'masc'), ('Bartel', 'masc'), ('Barth', 'masc'), ('Barthel', 'masc'), ('Bartholemy', 'masc'), ('Bartholomeo', 'masc'), ('Bartholomeus', 'masc'), ('Bartholomew', 'masc'), ('Bartie', 'masc'), ('Bartlet', 'masc'), ('Bartlett', 'masc'), ('Bartolemo', 'masc'), ('Bartolomei', 'masc'), ('Bartolomeo', 'masc'), ('Barton', 'masc'), ('Barty', 'masc'), ('Bary', 'masc'), ('Basil', 'masc'), ('Batholomew', 'masc'), ('Baxter', 'masc'), ('Bay', 'masc'), ('Bayard', 'masc'), ('Beale', 'masc'), ('Bealle', 'masc'), ('Bear', 'masc'), ('Bearnard', 'masc'), ('Beau', 'masc'), ('Beaufort', 'masc'), ('Beauregard', 'masc'), ('Beck', 'masc'), ('Bela', 'masc'), ('Ben', 'masc'), ('Benedict', 'masc'), ('Bengt', 'masc'), ('Benito', 'masc'), ('Benjamen', 'masc'), ('Benjamin', 'masc'), ('Benji', 'masc'), ('Benjie', 'masc'), ('Benjy', 'masc'), ('Benn', 'masc'), ('Bennet', 'masc'), ('Bennett', 'masc'), ('Bennie', 'masc'), ('Benny', 'masc'), ('Benson', 'masc'), ('Bentley', 'masc'), ('Benton', 'masc'), ('Beowulf', 'masc'), ('Berchtold', 'masc'), ('Berk', 'masc'), ('Berke', 'masc'), ('Berkeley', 'masc'), ('Berkie', 'masc'), ('Berkley', 'masc'), ('Bernard', 'masc'), ('Bernardo', 'masc'), ('Bernd', 'masc'), ('Bernhard', 'masc'), ('Bernie', 'masc'), ('Bert', 'masc'), ('Bertie', 'masc'), ('Bertram', 'masc'), ('Bertrand', 'masc'), ('Bharat', 'masc'), ('Biff', 'masc'), ('Bill', 'masc'), ('Billie', 'masc'), ('Billy', 'masc'), ('Bing', 'masc'), ('Binky', 'masc'), ('Bishop', 'masc'), ('Bjorn', 'masc'), ('Bjorne', 'masc'), ('Blaine', 'masc'), ('Blair', 'masc'), ('Blake', 'masc'), ('Blare', 'masc'), ('Blayne', 'masc'), ('Bo', 'masc'), ('Bob', 'masc'), ('Bobbie', 'masc'), ('Bobby', 'masc'), ('Bogart', 'masc'), ('Bogdan', 'masc'), ('Boniface', 'masc'), ('Boris', 'masc'), ('Boyce', 'masc'), ('Boyd', 'masc'), ('Brad', 'masc'), ('Braden', 'masc'), ('Bradford', 'masc'), ('Bradley', 'masc'), ('Bradly', 'masc'), ('Brady', 'masc'), ('Brandon', 'masc'), ('Brandy', 'masc'), ('Brant', 'masc'), ('Brendan', 'masc'), ('Brent', 'masc'), ('Bret', 'masc'), ('Brett', 'masc'), ('Brewer', 'masc'), ('Brewster', 'masc'), ('Brian', 'masc'), ('Brice', 'masc'), ('Briggs', 'masc'), ('Brinkley', 'masc'), ('Britt', 'masc'), ('Brock', 'masc'), ('Broddie', 'masc'), ('Broddy', 'masc'), ('Broderic', 'masc'), ('Broderick', 'masc'), ('Brodie', 'masc'), ('Brody', 'masc'), ('Bronson', 'masc'), ('Brook', 'masc'), ('Brooke', 'masc'), ('Brooks', 'masc'), ('Bruce', 'masc'), ('Bruno', 'masc'), ('Bryan', 'masc'), ('Bryant', 'masc'), ('Bryce', 'masc'), ('Bryn', 'masc'), ('Bryon', 'masc'), ('Bubba', 'masc'), ('Buck', 'masc'), ('Bucky', 'masc'), ('Bud', 'masc'), ('Buddy', 'masc'), ('Burgess', 'masc'), ('Burke', 'masc'), ('Burl', 'masc'), ('Burnaby', 'masc'), ('Burt', 'masc'), ('Burton', 'masc'), ('Buster', 'masc'), ('Butch', 'masc'), ('Butler', 'masc'), ('Byram', 'masc'), ('Byron', 'masc'), ('Caesar', 'masc'), ('Cain', 'masc'), ('Cal', 'masc'), ('Caldwell', 'masc'), ('Caleb', 'masc'), ('Calhoun', 'masc'), ('Calvin', 'masc'), ('Cam', 'masc'), ('Cameron', 'masc'), ('Cammy', 'masc'), ('Carey', 'masc'), ('Carl', 'masc'), ('Carleigh', 'masc'), ('Carlie', 'masc'), ('Carlin', 'masc'), ('Carlo', 'masc'), ('Carlos', 'masc'), ('Carlton', 'masc'), ('Carlyle', 'masc'), ('Carmine', 'masc'), ('Carroll', 'masc'), ('Carson', 'masc'), ('Carsten', 'masc'), ('Carter', 'masc'), ('Cary', 'masc'), ('Caryl', 'masc'), ('Case', 'masc'), ('Casey', 'masc'), ('Caspar', 'masc'), ('Casper', 'masc'), ('Cass', 'masc'), ('Cat', 'masc'), ('Cecil', 'masc'), ('Cesar', 'masc'), ('Chad', 'masc'), ('Chadd', 'masc'), ('Chaddie', 'masc'), ('Chaddy', 'masc'), ('Chadwick', 'masc'), ('Chaim', 'masc'), ('Chalmers', 'masc'), ('Chan', 'masc'), ('Chance', 'masc'), ('Chancey', 'masc'), ('Chanderjit', 'masc'), ('Chandler', 'masc'), ('Chane', 'masc'), ('Chariot', 'masc'), ('Charles', 'masc'), ('Charleton', 'masc'), ('Charley', 'masc'), ('Charlie', 'masc'), ('Charlton', 'masc'), ('Chas', 'masc'), ('Chase', 'masc'), ('Chaunce', 'masc'), ('Chauncey', 'masc'), ('Che', 'masc'), ('Chelton', 'masc'), ('Chen', 'masc'), ('Chester', 'masc'), ('Cheston', 'masc'), ('Chet', 'masc'), ('Chev', 'masc'), ('Chevalier', 'masc'), ('Chevy', 'masc'), ('Chip', 'masc'), ('Chris', 'masc'), ('Chrissy', 'masc'), ('Christ', 'masc'), ('Christian', 'masc'), ('Christiano', 'masc'), ('Christie', 'masc'), ('Christof', 'masc'), ('Christofer', 'masc'), ('Christoph', 'masc'), ('Christophe', 'masc'), ('Christopher', 'masc'), ('Christorpher', 'masc'), ('Christos', 'masc'), ('Christy', 'masc'), ('Chrisy', 'masc'), ('Chuck', 'masc'), ('Churchill', 'masc'), ('Clair', 'masc'), ('Claire', 'masc'), ('Clancy', 'masc'), ('Clarance', 'masc'), ('Clare', 'masc'), ('Clarence', 'masc'), ('Clark', 'masc'), ('Clarke', 'masc'), ('Claude', 'masc'), ('Claudio', 'masc'), ('Claudius', 'masc'), ('Claus', 'masc'), ('Clay', 'masc'), ('Clayborn', 'masc'), ('Clayborne', 'masc'), ('Claybourne', 'masc'), ('Clayton', 'masc'), ('Cleland', 'masc'), ('Clem', 'masc'), ('Clemens', 'masc'), ('Clement', 'masc'), ('Clemente', 'masc'), ('Clemmie', 'masc'), ('Cletus', 'masc'), ('Cleveland', 'masc'), ('Cliff', 'masc'), ('Clifford', 'masc'), ('Clifton', 'masc'), ('Clint', 'masc'), ('Clinten', 'masc'), ('Clinton', 'masc'), ('Clive', 'masc'), ('Clyde', 'masc'), ('Cob', 'masc'), ('Cobb', 'masc'), ('Cobbie', 'masc'), ('Cobby', 'masc'), ('Cody', 'masc'), ('Colbert', 'masc'), ('Cole', 'masc'), ('Coleman', 'masc'), ('Colin', 'masc'), ('Collin', 'masc'), ('Collins', 'masc'), ('Conan', 'masc'), ('Connie', 'masc'), ('Connolly', 'masc'), ('Connor', 'masc'), ('Conrad', 'masc'), ('Conroy', 'masc'), ('Constantin', 'masc'), ('Constantine', 'masc'), ('Constantinos', 'masc'), ('Conway', 'masc'), ('Cooper', 'masc'), ('Corbin', 'masc'), ('Corby', 'masc'), ('Corey', 'masc'), ('Corky', 'masc'), ('Cornelius', 'masc'), ('Cornellis', 'masc'), ('Corrie', 'masc'), ('Cortese', 'masc'), ('Corwin', 'masc'), ('Cory', 'masc'), ('Cosmo', 'masc'), ('Costa', 'masc'), ('Courtney', 'masc'), ('Craig', 'masc'), ('Crawford', 'masc'), ('Creighton', 'masc'), ('Cris', 'masc'), ('Cristopher', 'masc'), ('Curt', 'masc'), ('Curtice', 'masc'), ('Curtis', 'masc'), ('Cy', 'masc'), ('Cyril', 'masc'), ('Cyrill', 'masc'), ('Cyrille', 'masc'), ('Cyrillus', 'masc'), ('Cyrus', 'masc'), ('Dabney', 'masc'), ('Daffy', 'masc'), ('Dale', 'masc'), ('Dallas', 'masc'), ('Dalton', 'masc'), ('Damian', 'masc'), ('Damien', 'masc'), ('Damon', 'masc'), ('Dan', 'masc'), ('Dana', 'masc'), ('Dane', 'masc'), ('Dani', 'masc'), ('Danie', 'masc'), ('Daniel', 'masc'), ('Dannie', 'masc'), ('Danny', 'masc'), ('Dante', 'masc'), ('Darby', 'masc'), ('Darcy', 'masc'), ('Daren', 'masc'), ('Darian', 'masc'), ('Darien', 'masc'), ('Darin', 'masc'), ('Dario', 'masc'), ('Darius', 'masc'), ('Darrel', 'masc'), ('Darrell', 'masc'), ('Darren', 'masc'), ('Darrick', 'masc'), ('Darrin', 'masc'), ('Darryl', 'masc'), ('Darth', 'masc'), ('Darwin', 'masc'), ('Daryl', 'masc'), ('Daryle', 'masc'), ('Dave', 'masc'), ('Davey', 'masc'), ('David', 'masc'), ('Davidde', 'masc'), ('Davide', 'masc'), ('Davidson', 'masc'), ('Davie', 'masc'), ('Davin', 'masc'), ('Davis', 'masc'), ('Davon', 'masc'), ('Davoud', 'masc'), ('Davy', 'masc'), ('Dawson', 'masc'), ('Dean', 'masc'), ('Deane', 'masc'), ('Del', 'masc'), ('Delbert', 'masc'), ('Dell', 'masc'), ('Delmar', 'masc'), ('Demetre', 'masc'), ('Demetri', 'masc'), ('Demetris', 'masc'), ('Demetrius', 'masc'), ('Demosthenis', 'masc'), ('Denis', 'masc'), ('Dennie', 'masc'), ('Dennis', 'masc'), ('Denny', 'masc'), ('Derby', 'masc'), ('Derek', 'masc'), ('Derick', 'masc'), ('Derk', 'masc'), ('Derrek', 'masc'), ('Derrick', 'masc'), ('Derrin', 'masc'), ('Derrol', 'masc'), ('Derron', 'masc'), ('Deryl', 'masc'), ('Desmond', 'masc'), ('Desmund', 'masc'), ('Devin', 'masc'), ('Devon', 'masc'), ('Dewey', 'masc'), ('Dewitt', 'masc'), ('Dexter', 'masc'), ('Dick', 'masc'), ('Dickey', 'masc'), ('Dickie', 'masc'), ('Diego', 'masc'), ('Dieter', 'masc'), ('Dietrich', 'masc'), ('Dillon', 'masc'), ('Dimitri', 'masc'), ('Dimitrios', 'masc'), ('Dimitris', 'masc'), ('Dimitrou', 'masc'), ('Dimitry', 'masc'), ('Dino', 'masc'), ('Dion', 'masc'), ('Dionis', 'masc'), ('Dionysus', 'masc'), ('Dirk', 'masc'), ('Dmitri', 'masc'), ('Dom', 'masc'), ('Domenic', 'masc'), ('Domenico', 'masc'), ('Dominic', 'masc'), ('Dominick', 'masc'), ('Dominique', 'masc'), ('Don', 'masc'), ('Donal', 'masc'), ('Donald', 'masc'), ('Donn', 'masc'), ('Donnie', 'masc'), ('Donny', 'masc'), ('Donovan', 'masc'), ('Dorian', 'masc'), ('Dory', 'masc'), ('Doug', 'masc'), ('Douggie', 'masc'), ('Dougie', 'masc'), ('Douglas', 'masc'), ('Douglass', 'masc'), ('Douglis', 'masc'), ('Dov', 'masc'), ('Doyle', 'masc'), ('Drake', 'masc'), ('Drew', 'masc'), ('Dru', 'masc'), ('Dryke', 'masc'), ('Duane', 'masc'), ('Dudley', 'masc'), ('Duffie', 'masc'), ('Duffy', 'masc'), ('Dugan', 'masc'), ('Duke', 'masc'), ('Dunc', 'masc'), ('Duncan', 'masc'), ('Dunstan', 'masc'), ('Durand', 'masc'), ('Durant', 'masc'), ('Durante', 'masc'), ('Durward', 'masc'), ('Dustin', 'masc'), ('Dwain', 'masc'), ('Dwaine', 'masc'), ('Dwane', 'masc'), ('Dwayne', 'masc'), ('Dwight', 'masc'), ('Dylan', 'masc'), ('Dyson', 'masc'), ('Earl', 'masc'), ('Earle', 'masc'), ('Easton', 'masc'), ('Eben', 'masc'), ('Ebeneser', 'masc'), ('Ebenezer', 'masc'), ('Eberhard', 'masc'), ('Ed', 'masc'), ('Eddie', 'masc'), ('Eddy', 'masc'), ('Edgar', 'masc'), ('Edgardo', 'masc'), ('Edie', 'masc'), ('Edmond', 'masc'), ('Edmund', 'masc'), ('Edouard', 'masc'), ('Edsel', 'masc'), ('Eduard', 'masc'), ('Eduardo', 'masc'), ('Edward', 'masc'), ('Edwin', 'masc'), ('Efram', 'masc'), ('Egbert', 'masc'), ('Ehud', 'masc'), ('Elbert', 'masc'), ('Elden', 'masc'), ('Eldon', 'masc'), ('Eli', 'masc'), ('Elias', 'masc'), ('Elihu', 'masc'), ('Elijah', 'masc'), ('Eliot', 'masc'), ('Eliott', 'masc'), ('Elisha', 'masc'), ('Elliot', 'masc'), ('Elliott', 'masc'), ('Ellis', 'masc'), ('Ellsworth', 'masc'), ('Ellwood', 'masc'), ('Elmer', 'masc'), ('Elmore', 'masc'), ('Elnar', 'masc'), ('Elric', 'masc'), ('Elroy', 'masc'), ('Elton', 'masc'), ('Elvin', 'masc'), ('Elvis', 'masc'), ('Elwin', 'masc'), ('Elwood', 'masc'), ('Elwyn', 'masc'), ('Ely', 'masc'), ('Emanuel', 'masc'), ('Emerson', 'masc'), ('Emery', 'masc'), ('Emil', 'masc'), ('Emile', 'masc'), ('Emilio', 'masc'), ('Emmanuel', 'masc'), ('Emmery', 'masc'), ('Emmet', 'masc'), ('Emmett', 'masc'), ('Emmit', 'masc'), ('Emmott', 'masc'), ('Emmy', 'masc'), ('Emory', 'masc'), ('Ender', 'masc'), ('Engelbart', 'masc'), ('Engelbert', 'masc'), ('Englebart', 'masc'), ('Englebert', 'masc'), ('Enoch', 'masc'), ('Enrico', 'masc'), ('Enrique', 'masc'), ('Ephraim', 'masc'), ('Ephram', 'masc'), ('Ephrayim', 'masc'), ('Ephrem', 'masc'), ('Er', 'masc'), ('Erasmus', 'masc'), ('Erastus', 'masc'), ('Erek', 'masc'), ('Erhard', 'masc'), ('Erhart', 'masc'), ('Eric', 'masc'), ('Erich', 'masc'), ('Erick', 'masc'), ('Erik', 'masc'), ('Erin', 'masc'), ('Erl', 'masc'), ('Ernest', 'masc'), ('Ernesto', 'masc'), ('Ernie', 'masc'), ('Ernst', 'masc'), ('Erny', 'masc'), ('Errol', 'masc'), ('Ervin', 'masc'), ('Erwin', 'masc'), ('Esau', 'masc'), ('Esme', 'masc'), ('Esteban', 'masc'), ('Ethan', 'masc'), ('Ethelbert', 'masc'), ('Ethelred', 'masc'), ('Etienne', 'masc'), ('Euclid', 'masc'), ('Eugen', 'masc'), ('Eugene', 'masc'), ('Eustace', 'masc'), ('Ev', 'masc'), ('Evan', 'masc'), ('Evelyn', 'masc'), ('Everard', 'masc'), ('Everett', 'masc'), ('Ewan', 'masc'), ('Ewart', 'masc'), ('Ez', 'masc'), ('Ezechiel', 'masc'), ('Ezekiel', 'masc'), ('Ezra', 'masc'), ('Fabian', 'masc'), ('Fabio', 'masc'), ('Fairfax', 'masc'), ('Farley', 'masc'), ('Fazeel', 'masc'), ('Federico', 'masc'), ('Felice', 'masc'), ('Felicio', 'masc'), ('Felipe', 'masc'), ('Felix', 'masc'), ('Ferd', 'masc'), ('Ferdie', 'masc'), ('Ferdinand', 'masc'), ('Ferdy', 'masc'), ('Fergus', 'masc'), ('Ferguson', 'masc'), ('Ferinand', 'masc'), ('Fernando', 'masc'), ('Fidel', 'masc'), ('Filbert', 'masc'), ('Filip', 'masc'), ('Filipe', 'masc'), ('Filmore', 'masc'), ('Finley', 'masc'), ('Finn', 'masc'), ('Fitz', 'masc'), ('Fitzgerald', 'masc'), ('Flem', 'masc'), ('Fleming', 'masc'), ('Flemming', 'masc'), ('Fletch', 'masc'), ('Fletcher', 'masc'), ('Flin', 'masc'), ('Flinn', 'masc'), ('Flint', 'masc'), ('Flipper', 'masc'), ('Florian', 'masc'), ('Floyd', 'masc'), ('Flynn', 'masc'), ('Fons', 'masc'), ('Fonsie', 'masc'), ('Fonz', 'masc'), ('Fonzie', 'masc'), ('Forbes', 'masc'), ('Ford', 'masc'), ('Forest', 'masc'), ('Forester', 'masc'), ('Forrest', 'masc'), ('Forrester', 'masc'), ('Forster', 'masc'), ('Foster', 'masc'), ('Fowler', 'masc'), ('Fox', 'masc'), ('Fran', 'masc'), ('Francesco', 'masc'), ('Francis', 'masc'), ('Francisco', 'masc'), ('Francois', 'masc'), ('Frank', 'masc'), ('Frankie', 'masc'), ('Franklin', 'masc'), ('Franklyn', 'masc'), ('Franky', 'masc'), ('Frans', 'masc'), ('Franz', 'masc'), ('Fraser', 'masc'), ('Frazier', 'masc'), ('Fred', 'masc'), ('Freddie', 'masc'), ('Freddy', 'masc'), ('Frederic', 'masc'), ('Frederich', 'masc'), ('Frederick', 'masc'), ('Frederico', 'masc'), ('Frederik', 'masc'), ('Fredric', 'masc'), ('Fredrick', 'masc'), ('Freeman', 'masc'), ('Freemon', 'masc'), ('Fremont', 'masc'), ('French', 'masc'), ('Friedric', 'masc'), ('Friedrich', 'masc'), ('Friedrick', 'masc'), ('Fritz', 'masc'), ('Fulton', 'masc'), ('Fyodor', 'masc'), ('Gabe', 'masc'), ('Gabriel', 'masc'), ('Gabriele', 'masc'), ('Gabriell', 'masc'), ('Gabriello', 'masc'), ('Gail', 'masc'), ('Gale', 'masc'), ('Galen', 'masc'), ('Gallagher', 'masc'), ('Gamaliel', 'masc'), ('Garcia', 'masc'), ('Garcon', 'masc'), ('Gardener', 'masc'), ('Gardiner', 'masc'), ('Gardner', 'masc'), ('Garey', 'masc'), ('Garfield', 'masc'), ('Garfinkel', 'masc'), ('Garold', 'masc'), ('Garp', 'masc'), ('Garret', 'masc'), ('Garrett', 'masc'), ('Garrot', 'masc'), ('Garrott', 'masc'), ('Garry', 'masc'), ('Garth', 'masc'), ('Garv', 'masc'), ('Garvey', 'masc'), ('Garvin', 'masc'), ('Garvy', 'masc'), ('Garwin', 'masc'), ('Garwood', 'masc'), ('Gary', 'masc'), ('Gaspar', 'masc'), ('Gasper', 'masc'), ('Gaston', 'masc'), ('Gav', 'masc'), ('Gaven', 'masc'), ('Gavin', 'masc'), ('Gavriel', 'masc'), ('Gay', 'masc'), ('Gayle', 'masc'), ('Gearard', 'masc'), ('Gene', 'masc'), ('Geo', 'masc'), ('Geof', 'masc'), ('Geoff', 'masc'), ('Geoffrey', 'masc'), ('Geoffry', 'masc'), ('Georg', 'masc'), ('George', 'masc'), ('Georges', 'masc'), ('Georgia', 'masc'), ('Georgie', 'masc'), ('Georgy', 'masc'), ('Gerald', 'masc'), ('Geraldo', 'masc'), ('Gerard', 'masc'), ('Gere', 'masc'), ('Gerhard', 'masc'), ('Gerhardt', 'masc'), ('Geri', 'masc'), ('Germaine', 'masc'), ('Gerold', 'masc'), ('Gerome', 'masc'), ('Gerrard', 'masc'), ('Gerri', 'masc'), ('Gerrit', 'masc'), ('Gerry', 'masc'), ('Gershom', 'masc'), ('Gershon', 'masc'), ('Giacomo', 'masc'), ('Gian', 'masc'), ('Giancarlo', 'masc'), ('Giavani', 'masc'), ('Gibb', 'masc'), ('Gideon', 'masc'), ('Giff', 'masc'), ('Giffard', 'masc'), ('Giffer', 'masc'), ('Giffie', 'masc'), ('Gifford', 'masc'), ('Giffy', 'masc'), ('Gil', 'masc'), ('Gilbert', 'masc'), ('Gilberto', 'masc'), ('Gilburt', 'masc'), ('Giles', 'masc'), ('Gill', 'masc'), ('Gilles', 'masc'), ('Ginger', 'masc'), ('Gino', 'masc'), ('Giordano', 'masc'), ('Giorgi', 'masc'), ('Giorgio', 'masc'), ('Giovanne', 'masc'), ('Giovanni', 'masc'), ('Giraldo', 'masc'), ('Giraud', 'masc'), ('Giuseppe', 'masc'), ('Glen', 'masc'), ('Glenn', 'masc'), ('Glynn', 'masc'), ('Godard', 'masc'), ('Godart', 'masc'), ('Goddard', 'masc'), ('Goddart', 'masc'), ('Godfree', 'masc'), ('Godfrey', 'masc'), ('Godfry', 'masc'), ('Godwin', 'masc'), ('Gomer', 'masc'), ('Gonzales', 'masc'), ('Gonzalo', 'masc'), ('Goober', 'masc'), ('Goose', 'masc'), ('Gordan', 'masc'), ('Gordie', 'masc'), ('Gordon', 'masc'), ('Grace', 'masc'), ('Grady', 'masc'), ('Graehme', 'masc'), ('Graeme', 'masc'), ('Graham', 'masc'), ('Graig', 'masc'), ('Grant', 'masc'), ('Granville', 'masc'), ('Greg', 'masc'), ('Gregg', 'masc'), ('Greggory', 'masc'), ('Gregor', 'masc'), ('Gregorio', 'masc'), ('Gregory', 'masc'), ('Gretchen', 'masc'), ('Griff', 'masc'), ('Griffin', 'masc'), ('Griffith', 'masc'), ('Griswold', 'masc'), ('Grove', 'masc'), ('Grover', 'masc'), ('Guido', 'masc'), ('Guillaume', 'masc'), ('Guillermo', 'masc'), ('Gunner', 'masc'), ('Gunter', 'masc'), ('Gunther', 'masc'), ('Gus', 'masc'), ('Gustaf', 'masc'), ('Gustav', 'masc'), ('Gustave', 'masc'), ('Gustavo', 'masc'), ('Gustavus', 'masc'), ('Guthrey', 'masc'), ('Guthrie', 'masc'), ('Guthry', 'masc'), ('Guy', 'masc'), ('Hadleigh', 'masc'), ('Hadley', 'masc'), ('Hadrian', 'masc'), ('Hagan', 'masc'), ('Hagen', 'masc'), ('Hailey', 'masc'), ('Hakeem', 'masc'), ('Hakim', 'masc'), ('Hal', 'masc'), ('Hale', 'masc'), ('Haleigh', 'masc'), ('Haley', 'masc'), ('Hall', 'masc'), ('Hallam', 'masc'), ('Halvard', 'masc'), ('Ham', 'masc'), ('Hamel', 'masc'), ('Hamid', 'masc'), ('Hamil', 'masc'), ('Hamilton', 'masc'), ('Hamish', 'masc'), ('Hamlen', 'masc'), ('Hamlet', 'masc'), ('Hamlin', 'masc'), ('Hammad', 'masc'), ('Hamnet', 'masc'), ('Han', 'masc'), ('Hanan', 'masc'), ('Hanford', 'masc'), ('Hank', 'masc'), ('Hannibal', 'masc'), ('Hans', 'masc'), ('Hans-Peter', 'masc'), ('Hansel', 'masc'), ('Hanson', 'masc'), ('Harald', 'masc'), ('Harcourt', 'masc'), ('Hari', 'masc'), ('Harlan', 'masc'), ('Harland', 'masc'), ('Harley', 'masc'), ('Harlin', 'masc'), ('Harman', 'masc'), ('Harmon', 'masc'), ('Harold', 'masc'), ('Harris', 'masc'), ('Harrison', 'masc'), ('Harrold', 'masc'), ('Harry', 'masc'), ('Hart', 'masc'), ('Hartley', 'masc'), ('Hartwell', 'masc'), ('Harv', 'masc'), ('Harvard', 'masc'), ('Harvey', 'masc'), ('Harvie', 'masc'), ('Harwell', 'masc'), ('Hasheem', 'masc'), ('Hashim', 'masc'), ('Haskel', 'masc'), ('Haskell', 'masc'), ('Hassan', 'masc'), ('Hastings', 'masc'), ('Hasty', 'masc'), ('Haven', 'masc'), ('Hayden', 'masc'), ('Haydon', 'masc'), ('Hayes', 'masc'), ('Hayward', 'masc'), ('Haywood', 'masc'), ('Hazel', 'masc'), ('Heath', 'masc'), ('Heathcliff', 'masc'), ('Hebert', 'masc'), ('Hector', 'masc'), ('Heinrich', 'masc'), ('Heinz', 'masc'), ('Helmuth', 'masc'), ('Henderson', 'masc'), ('Hendrick', 'masc'), ('Hendrik', 'masc'), ('Henri', 'masc'), ('Henrie', 'masc'), ('Henrik', 'masc'), ('Henrique', 'masc'), ('Henry', 'masc'), ('Herb', 'masc'), ('Herbert', 'masc'), ('Herbie', 'masc'), ('Herby', 'masc'), ('Hercule', 'masc'), ('Hercules', 'masc'), ('Herculie', 'masc'), ('Herman', 'masc'), ('Hermann', 'masc'), ('Hermon', 'masc'), ('Hermy', 'masc'), ('Hernando', 'masc'), ('Herold', 'masc'), ('Herrick', 'masc'), ('Herrmann', 'masc'), ('Hersch', 'masc'), ('Herschel', 'masc'), ('Hersh', 'masc'), ('Hershel', 'masc'), ('Herve', 'masc'), ('Hervey', 'masc'), ('Hew', 'masc'), ('Hewe', 'masc'), ('Hewet', 'masc'), ('Hewett', 'masc'), ('Hewie', 'masc'), ('Hewitt', 'masc'), ('Heywood', 'masc'), ('Hezekiah', 'masc'), ('Higgins', 'masc'), ('Hilary', 'masc'), ('Hilbert', 'masc'), ('Hill', 'masc'), ('Hillard', 'masc'), ('Hillary', 'masc'), ('Hillel', 'masc'), ('Hillery', 'masc'), ('Hilliard', 'masc'), ('Hilton', 'masc'), ('Hiralal', 'masc'), ('Hiram', 'masc'), ('Hiro', 'masc'), ('Hirsch', 'masc'), ('Hobart', 'masc'), ('Hodge', 'masc'), ('Hogan', 'masc'), ('Hollis', 'masc'), ('Holly', 'masc'), ('Homer', 'masc'), ('Horace', 'masc'), ('Horacio', 'masc'), ('Horatio', 'masc'), ('Horatius', 'masc'), ('Horst', 'masc'), ('Howard', 'masc'), ('Howie', 'masc'), ('Hoyt', 'masc'), ('Hubert', 'masc'), ('Hudson', 'masc'), ('Huey', 'masc'), ('Hugh', 'masc'), ('Hugo', 'masc'), ('Humbert', 'masc'), ('Humphrey', 'masc'), ('Hunt', 'masc'), ('Hunter', 'masc'), ('Huntington', 'masc'), ('Huntlee', 'masc'), ('Huntley', 'masc'), ('Hurley', 'masc'), ('Husain', 'masc'), ('Husein', 'masc'), ('Hussein', 'masc'), ('Hy', 'masc'), ('Hyatt', 'masc'), ('Hyman', 'masc'), ('Hymie', 'masc'), ('Iago', 'masc'), ('Iain', 'masc'), ('Ian', 'masc'), ('Ibrahim', 'masc'), ('Ichabod', 'masc'), ('Iggie', 'masc'), ('Iggy', 'masc'), ('Ignace', 'masc'), ('Ignacio', 'masc'), ('Ignacius', 'masc'), ('Ignatius', 'masc'), ('Ignaz', 'masc'), ('Ignazio', 'masc'), ('Igor', 'masc'), ('Ike', 'masc'), ('Ikey', 'masc'), ('Immanuel', 'masc'), ('Ingamar', 'masc'), ('Ingelbert', 'masc'), ('Ingemar', 'masc'), ('Inglebert', 'masc'), ('Ingmar', 'masc'), ('Ingram', 'masc'), ('Inigo', 'masc'), ('Ira', 'masc'), ('Irvin', 'masc'), ('Irvine', 'masc'), ('Irving', 'masc'), ('Irwin', 'masc'), ('Isa', 'masc'), ('Isaac', 'masc'), ('Isaak', 'masc'), ('Isador', 'masc'), ('Isadore', 'masc'), ('Isaiah', 'masc'), ('Ishmael', 'masc'), ('Isidore', 'masc'), ('Ismail', 'masc'), ('Israel', 'masc'), ('Istvan', 'masc'), ('Ivan', 'masc'), ('Ivor', 'masc'), ('Izaak', 'masc'), ('Izak', 'masc'), ('Izzy', 'masc'), ('Jabez', 'masc'), ('Jack', 'masc'), ('Jackie', 'masc'), ('Jackson', 'masc'), ('Jacob', 'masc'), ('Jacques', 'masc'), ('Jae', 'masc'), ('Jaime', 'masc'), ('Jake', 'masc'), ('Jakob', 'masc'), ('James', 'masc'), ('Jameson', 'masc'), ('Jamey', 'masc'), ('Jamie', 'masc'), ('Jan', 'masc'), ('Janos', 'masc'), ('Janus', 'masc'), ('Jared', 'masc'), ('Jarrett', 'masc'), ('Jarvis', 'masc'), ('Jason', 'masc'), ('Jasper', 'masc'), ('Javier', 'masc'), ('Jay', 'masc'), ('Jean', 'masc'), ('Jean-Christophe', 'masc'), ('Jean-Francois', 'masc'), ('Jean-Lou', 'masc'), ('Jean-Luc', 'masc'), ('Jean-Marc', 'masc'), ('Jean-Paul', 'masc'), ('Jean-Pierre', 'masc'), ('Jeb', 'masc'), ('Jed', 'masc'), ('Jedediah', 'masc'), ('Jef', 'masc'), ('Jeff', 'masc'), ('Jefferey', 'masc'), ('Jefferson', 'masc'), ('Jeffery', 'masc'), ('Jeffie', 'masc'), ('Jeffrey', 'masc'), ('Jeffry', 'masc'), ('Jefry', 'masc'), ('Jehu', 'masc'), ('Jennings', 'masc'), ('Jens', 'masc'), ('Jephthah', 'masc'), ('Jerald', 'masc'), ('Jeramie', 'masc'), ('Jere', 'masc'), ('Jereme', 'masc'), ('Jeremiah', 'masc'), ('Jeremias', 'masc'), ('Jeremie', 'masc'), ('Jeremy', 'masc'), ('Jermain', 'masc'), ('Jermaine', 'masc'), ('Jermayne', 'masc'), ('Jerold', 'masc'), ('Jerome', 'masc'), ('Jeromy', 'masc'), ('Jerri', 'masc'), ('Jerrie', 'masc'), ('Jerrold', 'masc'), ('Jerrome', 'masc'), ('Jerry', 'masc'), ('Jervis', 'masc'), ('Jerzy', 'masc'), ('Jess', 'masc'), ('Jesse', 'masc'), ('Jessee', 'masc'), ('Jessey', 'masc'), ('Jessie', 'masc'), ('Jesus', 'masc'), ('Jeth', 'masc'), ('Jethro', 'masc'), ('Jim', 'masc'), ('Jimbo', 'masc'), ('Jimmie', 'masc'), ('Jimmy', 'masc'), ('Jo', 'masc'), ('Joab', 'masc'), ('Joachim', 'masc'), ('Joao', 'masc'), ('Joaquin', 'masc'), ('Job', 'masc'), ('Jock', 'masc'), ('Jodi', 'masc'), ('Jodie', 'masc'), ('Jody', 'masc'), ('Joe', 'masc'), ('Joel', 'masc'), ('Joey', 'masc'), ('Johan', 'masc'), ('Johann', 'masc'), ('Johannes', 'masc'), ('John', 'masc'), ('John-David', 'masc'), ('John-Patrick', 'masc'), ('Johnathan', 'masc'), ('Johnathon', 'masc'), ('Johnnie', 'masc'), ('Johnny', 'masc'), ('Johny', 'masc'), ('Jon', 'masc'), ('Jonah', 'masc'), ('Jonas', 'masc'), ('Jonathan', 'masc'), ('Jonathon', 'masc'), ('Jonny', 'masc'), ('Jordan', 'masc'), ('Jordon', 'masc'), ('Jordy', 'masc'), ('Jorge', 'masc'), ('Jory', 'masc'), ('Jose', 'masc'), ('Josef', 'masc'), ('Joseph', 'masc'), ('Josephus', 'masc'), ('Josh', 'masc'), ('Joshua', 'masc'), ('Joshuah', 'masc'), ('Josiah', 'masc'), ('Jotham', 'masc'), ('Juan', 'masc'), ('Juanita', 'masc'), ('Jud', 'masc'), ('Judah', 'masc'), ('Judas', 'masc'), ('Judd', 'masc'), ('Jude', 'masc'), ('Judith', 'masc'), ('Judson', 'masc'), ('Judy', 'masc'), ('Juergen', 'masc'), ('Jule', 'masc'), ('Jules', 'masc'), ('Julian', 'masc'), ('Julie', 'masc'), ('Julio', 'masc'), ('Julius', 'masc'), ('Justin', 'masc'), ('Justis', 'masc'), ('Kaiser', 'masc'), ('Kaleb', 'masc'), ('Kalil', 'masc'), ('Kalle', 'masc'), ('Kalman', 'masc'), ('Kalvin', 'masc'), ('Kam', 'masc'), ('Kane', 'masc'), ('Kareem', 'masc'), ('Karel', 'masc'), ('Karim', 'masc'), ('Karl', 'masc'), ('Karsten', 'masc'), ('Kaspar', 'masc'), ('Keefe', 'masc'), ('Keenan', 'masc'), ('Keene', 'masc'), ('Keil', 'masc'), ('Keith', 'masc'), ('Kellen', 'masc'), ('Kelley', 'masc'), ('Kelly', 'masc'), ('Kelsey', 'masc'), ('Kelvin', 'masc'), ('Kelwin', 'masc'), ('Ken', 'masc'), ('Kendal', 'masc'), ('Kendall', 'masc'), ('Kendrick', 'masc'), ('Kenn', 'masc'), ('Kennedy', 'masc'), ('Kenneth', 'masc'), ('Kenny', 'masc'), ('Kent', 'masc'), ('Kenton', 'masc'), ('Kenyon', 'masc'), ('Kermie', 'masc'), ('Kermit', 'masc'), ('Kerry', 'masc'), ('Kevan', 'masc'), ('Kevin', 'masc'), ('Kim', 'masc'), ('Kimball', 'masc'), ('Kimmo', 'masc'), ('Kin', 'masc'), ('Kincaid', 'masc'), ('King', 'masc'), ('Kingsley', 'masc'), ('Kingsly', 'masc'), ('Kingston', 'masc'), ('Kip', 'masc'), ('Kirby', 'masc'), ('Kirk', 'masc'), ('Kit', 'masc'), ('Klaus', 'masc'), ('Klee', 'masc'), ('Knox', 'masc'), ('Konrad', 'masc'), ('Konstantin', 'masc'), ('Kory', 'masc'), ('Kostas', 'masc'), ('Kraig', 'masc'), ('Kris', 'masc'), ('Krishna', 'masc'), ('Kristian', 'masc'), ('Kristopher', 'masc'), ('Kristos', 'masc'), ('Kurt', 'masc'), ('Kurtis', 'masc'), ('Kyle', 'masc'), ('Laird', 'masc'), ('Lamar', 'masc'), ('Lambert', 'masc'), ('Lamont', 'masc'), ('Lance', 'masc'), ('Lancelot', 'masc'), ('Lane', 'masc'), ('Langston', 'masc'), ('Lanny', 'masc'), ('Larry', 'masc'), ('Lars', 'masc'), ('Laurance', 'masc'), ('Lauren', 'masc'), ('Laurence', 'masc'), ('Laurens', 'masc'), ('Laurent', 'masc'), ('Laurie', 'masc'), ('Lawerence', 'masc'), ('Lawrence', 'masc'), ('Lawson', 'masc'), ('Lawton', 'masc'), ('Lay', 'masc'), ('Layton', 'masc'), ('Lazar', 'masc'), ('Lazare', 'masc'), ('Lazaro', 'masc'), ('Lazarus', 'masc'), ('Lazlo', 'masc'), ('Lee', 'masc'), ('Lefty', 'masc'), ('Leif', 'masc'), ('Leigh', 'masc'), ('Leighton', 'masc'), ('Leland', 'masc'), ('Lem', 'masc'), ('Lemar', 'masc'), ('Lemmie', 'masc'), ('Lemmy', 'masc'), ('Lemuel', 'masc'), ('Len', 'masc'), ('Lenard', 'masc'), ('Lennie', 'masc'), ('Lenny', 'masc'), ('Leo', 'masc'), ('Leon', 'masc'), ('Leonard', 'masc'), ('Leonardo', 'masc'), ('Leonerd', 'masc'), ('Leonhard', 'masc'), ('Leonid', 'masc'), ('Leonidas', 'masc'), ('Leopold', 'masc'), ('Leroy', 'masc'), ('Les', 'masc'), ('Lesley', 'masc'), ('Leslie', 'masc'), ('Lester', 'masc'), ('Lev', 'masc'), ('Levi', 'masc'), ('Levin', 'masc'), ('Levon', 'masc'), ('Levy', 'masc'), ('Lew', 'masc'), ('Lewis', 'masc'), ('Lex', 'masc'), ('Liam', 'masc'), ('Lin', 'masc'), ('Lincoln', 'masc'), ('Lind', 'masc'), ('Lindsay', 'masc'), ('Lindsey', 'masc'), ('Lindy', 'masc'), ('Linoel', 'masc'), ('Linus', 'masc'), ('Lion', 'masc'), ('Lionel', 'masc'), ('Lionello', 'masc'), ('Llewellyn', 'masc'), ('Lloyd', 'masc'), ('Locke', 'masc'), ('Lockwood', 'masc'), ('Logan', 'masc'), ('Lon', 'masc'), ('Lonnie', 'masc'), ('Lonny', 'masc'), ('Loren', 'masc'), ('Lorenzo', 'masc'), ('Lorne', 'masc'), ('Lorrie', 'masc'), ('Lothar', 'masc'), ('Lou', 'masc'), ('Louie', 'masc'), ('Louis', 'masc'), ('Lovell', 'masc'), ('Lowell', 'masc'), ('Lucas', 'masc'), ('Luce', 'masc'), ('Lucian', 'masc'), ('Luciano', 'masc'), ('Lucien', 'masc'), ('Lucio', 'masc'), ('Lucius', 'masc'), ('Ludvig', 'masc'), ('Ludwig', 'masc'), ('Luigi', 'masc'), ('Luis', 'masc'), ('Lukas', 'masc'), ('Luke', 'masc'), ('Luther', 'masc'), ('Lyle', 'masc'), ('Lyn', 'masc'), ('Lyndon', 'masc'), ('Lynn', 'masc'), ('Mac', 'masc'), ('Mace', 'masc'), ('Mack', 'masc'), ('Mackenzie', 'masc'), ('Maddie', 'masc'), ('Maddy', 'masc'), ('Madison', 'masc'), ('Magnum', 'masc'), ('Magnus', 'masc'), ('Mahesh', 'masc'), ('Mahmoud', 'masc'), ('Mahmud', 'masc'), ('Maison', 'masc'), ('Major', 'masc'), ('Malcolm', 'masc'), ('Manfred', 'masc'), ('Manish', 'masc'), ('Manny', 'masc'), ('Manuel', 'masc'), ('Marc', 'masc'), ('Marcel', 'masc'), ('Marcello', 'masc'), ('Marcellus', 'masc'), ('Marcelo', 'masc'), ('Marchall', 'masc'), ('Marcio', 'masc'), ('Marco', 'masc'), ('Marcos', 'masc'), ('Marcus', 'masc'), ('Marietta', 'masc'), ('Marilu', 'masc'), ('Mario', 'masc'), ('Marion', 'masc'), ('Marius', 'masc'), ('Mark', 'masc'), ('Marko', 'masc'), ('Markos', 'masc'), ('Markus', 'masc'), ('Marlin', 'masc'), ('Marlo', 'masc'), ('Marlon', 'masc'), ('Marlow', 'masc'), ('Marlowe', 'masc'), ('Marmaduke', 'masc'), ('Marsh', 'masc'), ('Marshal', 'masc'), ('Marshall', 'masc'), ('Mart', 'masc'), ('Martainn', 'masc'), ('Marten', 'masc'), ('Martie', 'masc'), ('Martin', 'masc'), ('Martino', 'masc'), ('Marty', 'masc'), ('Martyn', 'masc'), ('Marv', 'masc'), ('Marve', 'masc'), ('Marven', 'masc'), ('Marvin', 'masc'), ('Marwin', 'masc'), ('Mason', 'masc'), ('Mateo', 'masc'), ('Mathew', 'masc'), ('Mathias', 'masc'), ('Matias', 'masc'), ('Matt', 'masc'), ('Matteo', 'masc'), ('Matthaeus', 'masc'), ('Mattheus', 'masc'), ('Matthew', 'masc'), ('Matthias', 'masc'), ('Matthieu', 'masc'), ('Matthiew', 'masc'), ('Matthus', 'masc'), ('Mattias', 'masc'), ('Mattie', 'masc'), ('Matty', 'masc'), ('Maurice', 'masc'), ('Mauricio', 'masc'), ('Maurie', 'masc'), ('Maurise', 'masc'), ('Maurits', 'masc'), ('Mauritz', 'masc'), ('Maury', 'masc'), ('Max', 'masc'), ('Maxfield', 'masc'), ('Maxie', 'masc'), ('Maxim', 'masc'), ('Maximilian', 'masc'), ('Maximilien', 'masc'), ('Maxwell', 'masc'), ('Mayer', 'masc'), ('Maynard', 'masc'), ('Maynord', 'masc'), ('Mayor', 'masc'), ('Mead', 'masc'), ('Meade', 'masc'), ('Meier', 'masc'), ('Meir', 'masc'), ('Mel', 'masc'), ('Melvin', 'masc'), ('Melvyn', 'masc'), ('Menard', 'masc'), ('Mendel', 'masc'), ('Mendie', 'masc'), ('Meredeth', 'masc'), ('Meredith', 'masc'), ('Merell', 'masc'), ('Merill', 'masc'), ('Merle', 'masc'), ('Merlin', 'masc'), ('Merrel', 'masc'), ('Merrick', 'masc'), ('Merril', 'masc'), ('Merrill', 'masc'), ('Merry', 'masc'), ('Merv', 'masc'), ('Mervin', 'masc'), ('Merwin', 'masc'), ('Meryl', 'masc'), ('Meyer', 'masc'), ('Mic', 'masc'), ('Micah', 'masc'), ('Michael', 'masc'), ('Michail', 'masc'), ('Michal', 'masc'), ('Michale', 'masc'), ('Micheal', 'masc'), ('Micheil', 'masc'), ('Michel', 'masc'), ('Michele', 'masc'), ('Mick', 'masc'), ('Mickey', 'masc'), ('Mickie', 'masc'), ('Micky', 'masc'), ('Miguel', 'masc'), ('Mika', 'masc'), ('Mikael', 'masc'), ('Mike', 'masc'), ('Mikel', 'masc'), ('Mikey', 'masc'), ('Mikhail', 'masc'), ('Miles', 'masc'), ('Millicent', 'masc'), ('Milo', 'masc'), ('Milt', 'masc'), ('Milton', 'masc'), ('Mischa', 'masc'), ('Mitch', 'masc'), ('Mitchael', 'masc'), ('Mitchel', 'masc'), ('Mitchell', 'masc'), ('Moe', 'masc'), ('Mohamad', 'masc'), ('Mohamed', 'masc'), ('Mohammad', 'masc'), ('Mohammed', 'masc'), ('Mohan', 'masc'), ('Moise', 'masc'), ('Moises', 'masc'), ('Moishe', 'masc'), ('Monroe', 'masc'), ('Montague', 'masc'), ('Monte', 'masc'), ('Montgomery', 'masc'), ('Monty', 'masc'), ('Moore', 'masc'), ('Mordecai', 'masc'), ('Morgan', 'masc'), ('Morlee', 'masc'), ('Morley', 'masc'), ('Morly', 'masc'), ('Morrie', 'masc'), ('Morris', 'masc'), ('Morry', 'masc'), ('Morse', 'masc'), ('Mort', 'masc'), ('Morten', 'masc'), ('Mortie', 'masc'), ('Mortimer', 'masc'), ('Morton', 'masc'), ('Morty', 'masc'), ('Mose', 'masc'), ('Moses', 'masc'), ('Moshe', 'masc'), ('Moss', 'masc'), ('Muffin', 'masc'), ('Mugsy', 'masc'), ('Muhammad', 'masc'), ('Munmro', 'masc'), ('Munroe', 'masc'), ('Murdoch', 'masc'), ('Murdock', 'masc'), ('Murphy', 'masc'), ('Murray', 'masc'), ('Mustafa', 'masc'), ('Myke', 'masc'), ('Myles', 'masc'), ('Mylo', 'masc'), ('Myron', 'masc'), ('Nahum', 'masc'), ('Napoleon', 'masc'), ('Nat', 'masc'), ('Natale', 'masc'), ('Nate', 'masc'), ('Nathan', 'masc'), ('Nathanael', 'masc'), ('Nathanial', 'masc'), ('Nathaniel', 'masc'), ('Nathanil', 'masc'), ('Neal', 'masc'), ('Neale', 'masc'), ('Neall', 'masc'), ('Nealon', 'masc'), ('Nealson', 'masc'), ('Nealy', 'masc'), ('Ned', 'masc'), ('Neddie', 'masc'), ('Neddy', 'masc'), ('Neel', 'masc'), ('Neil', 'masc'), ('Nels', 'masc'), ('Nelsen', 'masc'), ('Nelson', 'masc'), ('Nero', 'masc'), ('Neron', 'masc'), ('Nester', 'masc'), ('Nestor', 'masc'), ('Nev', 'masc'), ('Nevil', 'masc'), ('Nevile', 'masc'), ('Neville', 'masc'), ('Nevin', 'masc'), ('Nevins', 'masc'), ('Newton', 'masc'), ('Niall', 'masc'), ('Niccolo', 'masc'), ('Nicholas', 'masc'), ('Nichole', 'masc'), ('Nichols', 'masc'), ('Nick', 'masc'), ('Nickey', 'masc'), ('Nickie', 'masc'), ('Nickolas', 'masc'), ('Nicky', 'masc'), ('Nico', 'masc'), ('Nicolas', 'masc'), ('Niels', 'masc'), ('Nigel', 'masc'), ('Niki', 'masc'), ('Nikita', 'masc'), ('Nikki', 'masc'), ('Nikolai', 'masc'), ('Nikos', 'masc'), ('Niles', 'masc'), ('Nils', 'masc'), ('Nilson', 'masc'), ('Niven', 'masc'), ('Noach', 'masc'), ('Noah', 'masc'), ('Noam', 'masc'), ('Noble', 'masc'), ('Noe', 'masc'), ('Noel', 'masc'), ('Nolan', 'masc'), ('Noland', 'masc'), ('Norbert', 'masc'), ('Norm', 'masc'), ('Norman', 'masc'), ('Normand', 'masc'), ('Normie', 'masc'), ('Norris', 'masc'), ('Northrop', 'masc'), ('Northrup', 'masc'), ('Norton', 'masc'), ('Norwood', 'masc'), ('Nunzio', 'masc'), ('Obadiah', 'masc'), ('Obadias', 'masc'), ('Oberon', 'masc'), ('Obie', 'masc'), ('Octavius', 'masc'), ('Odell', 'masc'), ('Odie', 'masc'), ('Odin', 'masc'), ('Odysseus', 'masc'), ('Olaf', 'masc'), ('Olag', 'masc'), ('Ole', 'masc'), ('Oleg', 'masc'), ('Olin', 'masc'), ('Oliver', 'masc'), ('Olivier', 'masc'), ('Olle', 'masc'), ('Ollie', 'masc'), ('Omar', 'masc'), ('Oral', 'masc'), ('Oran', 'masc'), ('Orazio', 'masc'), ('Orbadiah', 'masc'), ('Oren', 'masc'), ('Orin', 'masc'), ('Orion', 'masc'), ('Orlando', 'masc'), ('Orren', 'masc'), ('Orrin', 'masc'), ('Orson', 'masc'), ('Orton', 'masc'), ('Orville', 'masc'), ('Osbert', 'masc'), ('Osborn', 'masc'), ('Osborne', 'masc'), ('Osbourn', 'masc'), ('Osbourne', 'masc'), ('Oscar', 'masc'), ('Osgood', 'masc'), ('Osmond', 'masc'), ('Osmund', 'masc'), ('Ossie', 'masc'), ('Oswald', 'masc'), ('Oswell', 'masc'), ('Otes', 'masc'), ('Othello', 'masc'), ('Otho', 'masc'), ('Otis', 'masc'), ('Otto', 'masc'), ('Owen', 'masc'), ('Ozzie', 'masc'), ('Ozzy', 'masc'), ('Pablo', 'masc'), ('Pace', 'masc'), ('Paco', 'masc'), ('Paddie', 'masc'), ('Paddy', 'masc'), ('Padraig', 'masc'), ('Page', 'masc'), ('Paige', 'masc'), ('Pail', 'masc'), ('Palmer', 'masc'), ('Paolo', 'masc'), ('Park', 'masc'), ('Parke', 'masc'), ('Parker', 'masc'), ('Parnell', 'masc'), ('Parrnell', 'masc'), ('Parry', 'masc'), ('Parsifal', 'masc'), ('Partha', 'masc'), ('Pascal', 'masc'), ('Pascale', 'masc'), ('Pasquale', 'masc'), ('Pat', 'masc'), ('Pate', 'masc'), ('Patel', 'masc'), ('Paten', 'masc'), ('Patin', 'masc'), ('Paton', 'masc'), ('Patric', 'masc'), ('Patrice', 'masc'), ('Patricio', 'masc'), ('Patrick', 'masc'), ('Patrik', 'masc'), ('Patsy', 'masc'), ('Pattie', 'masc'), ('Patty', 'masc'), ('Paul', 'masc'), ('Paulo', 'masc'), ('Pavel', 'masc'), ('Pearce', 'masc'), ('Pedro', 'masc'), ('Peirce', 'masc'), ('Pembroke', 'masc'), ('Pen', 'masc'), ('Penn', 'masc'), ('Pennie', 'masc'), ('Penny', 'masc'), ('Penrod', 'masc'), ('Pepe', 'masc'), ('Pepillo', 'masc'), ('Pepito', 'masc'), ('Perceval', 'masc'), ('Percival', 'masc'), ('Percy', 'masc'), ('Perry', 'masc'), ('Pete', 'masc'), ('Peter', 'masc'), ('Petey', 'masc'), ('Petr', 'masc'), ('Peyter', 'masc'), ('Peyton', 'masc'), ('Phil', 'masc'), ('Philbert', 'masc'), ('Philip', 'masc'), ('Phillip', 'masc'), ('Phillipe', 'masc'), ('Phillipp', 'masc'), ('Phineas', 'masc'), ('Phip', 'masc'), ('Pierce', 'masc'), ('Pierre', 'masc'), ('Pierson', 'masc'), ('Piet', 'masc'), ('Pieter', 'masc'), ('Pietro', 'masc'), ('Piggy', 'masc'), ('Pincas', 'masc'), ('Pinchas', 'masc'), ('Pincus', 'masc'), ('Piotr', 'masc'), ('Pip', 'masc'), ('Plato', 'masc'), ('Pooh', 'masc'), ('Porter', 'masc'), ('Poul', 'masc'), ('Powell', 'masc'), ('Praneetf', 'masc'), ('Prasad', 'masc'), ('Prasun', 'masc'), ('Prent', 'masc'), ('Prentice', 'masc'), ('Prentiss', 'masc'), ('Prescott', 'masc'), ('Preston', 'masc'), ('Price', 'masc'), ('Prince', 'masc'), ('Pryce', 'masc'), ('Puff', 'masc'), ('Purcell', 'masc'), ('Putnam', 'masc'), ('Pyotr', 'masc'), ('Quent', 'masc'), ('Quentin', 'masc'), ('Quiggly', 'masc'), ('Quigly', 'masc'), ('Quigman', 'masc'), ('Quill', 'masc'), ('Quillan', 'masc'), ('Quincey', 'masc'), ('Quincy', 'masc'), ('Quinlan', 'masc'), ('Quinn', 'masc'), ('Quint', 'masc'), ('Quintin', 'masc'), ('Quinton', 'masc'), ('Quintus', 'masc'), ('Rab', 'masc'), ('Rabbi', 'masc'), ('Rabi', 'masc'), ('Rad', 'masc'), ('Radcliffe', 'masc'), ('Rafael', 'masc'), ('Rafe', 'masc'), ('Ragnar', 'masc'), ('Rahul', 'masc'), ('Raimund', 'masc'), ('Rainer', 'masc'), ('Raj', 'masc'), ('Rajeev', 'masc'), ('Raleigh', 'masc'), ('Ralf', 'masc'), ('Ralph', 'masc'), ('Ram', 'masc'), ('Ramesh', 'masc'), ('Ramon', 'masc'), ('Ramsay', 'masc'), ('Ramsey', 'masc'), ('Rand', 'masc'), ('Randal', 'masc'), ('Randall', 'masc'), ('Randell', 'masc'), ('Randi', 'masc'), ('Randie', 'masc'), ('Randolf', 'masc'), ('Randolph', 'masc'), ('Randy', 'masc'), ('Ransell', 'masc'), ('Ransom', 'masc'), ('Raoul', 'masc'), ('Raphael', 'masc'), ('Raul', 'masc'), ('Ravi', 'masc'), ('Ravil', 'masc'), ('Rawley', 'masc'), ('Ray', 'masc'), ('Raymond', 'masc'), ('Raymund', 'masc'), ('Raymundo', 'masc'), ('Raynard', 'masc'), ('Rayner', 'masc'), ('Raynor', 'masc'), ('Reagan', 'masc'), ('Red', 'masc'), ('Redford', 'masc'), ('Redmond', 'masc'), ('Reece', 'masc'), ('Reed', 'masc'), ('Rees', 'masc'), ('Reese', 'masc'), ('Reg', 'masc'), ('Regan', 'masc'), ('Regen', 'masc'), ('Reggie', 'masc'), ('Reggis', 'masc'), ('Reggy', 'masc'), ('Reginald', 'masc'), ('Reginauld', 'masc'), ('Reid', 'masc'), ('Reilly', 'masc'), ('Reinhard', 'masc'), ('Reinhold', 'masc'), ('Rem', 'masc'), ('Remington', 'masc'), ('Remus', 'masc'), ('Renado', 'masc'), ('Renaldo', 'masc'), ('Renard', 'masc'), ('Renato', 'masc'), ('Renaud', 'masc'), ('Renault', 'masc'), ('Rene', 'masc'), ('Reube', 'masc'), ('Reuben', 'masc'), ('Reuven', 'masc'), ('Rex', 'masc'), ('Rey', 'masc'), ('Reynard', 'masc'), ('Reynold', 'masc'), ('Reynolds', 'masc'), ('Reza', 'masc'), ('Rhett', 'masc'), ('Ric', 'masc'), ('Ricard', 'masc'), ('Ricardo', 'masc'), ('Riccardo', 'masc'), ('Rice', 'masc'), ('Rich', 'masc'), ('Richard', 'masc'), ('Richardo', 'masc'), ('Richie', 'masc'), ('Richmond', 'masc'), ('Richy', 'masc'), ('Rick', 'masc'), ('Rickard', 'masc'), ('Rickey', 'masc'), ('Ricki', 'masc'), ('Rickie', 'masc'), ('Ricky', 'masc'), ('Rik', 'masc'), ('Rikki', 'masc'), ('Riley', 'masc'), ('Rinaldo', 'masc'), ('Ripley', 'masc'), ('Ritch', 'masc'), ('Ritchie', 'masc'), ('Roarke', 'masc'), ('Rob', 'masc'), ('Robb', 'masc'), ('Robbert', 'masc'), ('Robbie', 'masc'), ('Robert', 'masc'), ('Roberto', 'masc'), ('Robin', 'masc'), ('Robinson', 'masc'), ('Rochester', 'masc'), ('Rock', 'masc'), ('Rockwell', 'masc'), ('Rocky', 'masc'), ('Rod', 'masc'), ('Rodd', 'masc'), ('Roddie', 'masc'), ('Roddy', 'masc'), ('Roderic', 'masc'), ('Roderich', 'masc'), ('Roderick', 'masc'), ('Roderigo', 'masc'), ('Rodge', 'masc'), ('Rodger', 'masc'), ('Rodney', 'masc'), ('Rodolfo', 'masc'), ('Rodolph', 'masc'), ('Rodolphe', 'masc'), ('Rodrick', 'masc'), ('Rodrigo', 'masc'), ('Rodrique', 'masc'), ('Rog', 'masc'), ('Roger', 'masc'), ('Rogers', 'masc'), ('Roice', 'masc'), ('Roland', 'masc'), ('Rolando', 'masc'), ('Rolf', 'masc'), ('Rolfe', 'masc'), ('Rolland', 'masc'), ('Rollin', 'masc'), ('Rollins', 'masc'), ('Rollo', 'masc'), ('Rolph', 'masc'), ('Romain', 'masc'), ('Roman', 'masc'), ('Romeo', 'masc'), ('Ron', 'masc'), ('Ronald', 'masc'), ('Ronen', 'masc'), ('Roni', 'masc'), ('Ronnie', 'masc'), ('Ronny', 'masc'), ('Roosevelt', 'masc'), ('Rory', 'masc'), ('Roscoe', 'masc'), ('Ross', 'masc'), ('Roth', 'masc'), ('Rourke', 'masc'), ('Rowland', 'masc'), ('Roy', 'masc'), ('Royal', 'masc'), ('Royce', 'masc'), ('Rube', 'masc'), ('Ruben', 'masc'), ('Rubin', 'masc'), ('Ruby', 'masc'), ('Rudd', 'masc'), ('Ruddie', 'masc'), ('Ruddy', 'masc'), ('Rudie', 'masc'), ('Rudiger', 'masc'), ('Rudolf', 'masc'), ('Rudolfo', 'masc'), ('Rudolph', 'masc'), ('Rudy', 'masc'), ('Rudyard', 'masc'), ('Rufe', 'masc'), ('Rufus', 'masc'), ('Rupert', 'masc'), ('Ruperto', 'masc'), ('Russ', 'masc'), ('Russel', 'masc'), ('Russell', 'masc'), ('Rustie', 'masc'), ('Rustin', 'masc'), ('Rusty', 'masc'), ('Rutger', 'masc'), ('Rutherford', 'masc'), ('Rutledge', 'masc'), ('Rutter', 'masc'), ('Ryan', 'masc'), ('Sal', 'masc'), ('Salem', 'masc'), ('Salim', 'masc'), ('Salman', 'masc'), ('Salmon', 'masc'), ('Salomo', 'masc'), ('Salomon', 'masc'), ('Salomone', 'masc'), ('Salvador', 'masc'), ('Salvatore', 'masc'), ('Salvidor', 'masc'), ('Sam', 'masc'), ('Sammie', 'masc'), ('Sammy', 'masc'), ('Sampson', 'masc'), ('Samson', 'masc'), ('Samuel', 'masc'), ('Samuele', 'masc'), ('Sancho', 'masc'), ('Sander', 'masc'), ('Sanders', 'masc'), ('Sanderson', 'masc'), ('Sandor', 'masc'), ('Sandro', 'masc'), ('Sandy', 'masc'), ('Sanford', 'masc'), ('Sanson', 'masc'), ('Sansone', 'masc'), ('Sarge', 'masc'), ('Sargent', 'masc'), ('Sascha', 'masc'), ('Sasha', 'masc'), ('Saul', 'masc'), ('Sauncho', 'masc'), ('Saunder', 'masc'), ('Saunders', 'masc'), ('Saunderson', 'masc'), ('Saundra', 'masc'), ('Saw', 'masc'), ('Sawyer', 'masc'), ('Sawyere', 'masc'), ('Sax', 'masc'), ('Saxe', 'masc'), ('Saxon', 'masc'), ('Say', 'masc'), ('Sayer', 'masc'), ('Sayers', 'masc'), ('Sayre', 'masc'), ('Sayres', 'masc'), ('Scarface', 'masc'), ('Schroeder', 'masc'), ('Schuyler', 'masc'), ('Scot', 'masc'), ('Scott', 'masc'), ('Scotti', 'masc'), ('Scottie', 'masc'), ('Scotty', 'masc'), ('Seamus', 'masc'), ('Sean', 'masc'), ('Sebastian', 'masc'), ('Sebastiano', 'masc'), ('Sebastien', 'masc'), ('See', 'masc'), ('Selby', 'masc'), ('Selig', 'masc'), ('Serge', 'masc'), ('Sergeant', 'masc'), ('Sergei', 'masc'), ('Sergent', 'masc'), ('Sergio', 'masc'), ('Seth', 'masc'), ('Seymour', 'masc'), ('Shadow', 'masc'), ('Shaine', 'masc'), ('Shalom', 'masc'), ('Shamus', 'masc'), ('Shanan', 'masc'), ('Shane', 'masc'), ('Shannan', 'masc'), ('Shannon', 'masc'), ('Shaughn', 'masc'), ('Shaun', 'masc'), ('Shaw', 'masc'), ('Shawn', 'masc'), ('Shay', 'masc'), ('Shayne', 'masc'), ('Shea', 'masc'), ('Sheff', 'masc'), ('Sheffie', 'masc'), ('Sheffield', 'masc'), ('Sheffy', 'masc'), ('Shelby', 'masc'), ('Shelden', 'masc'), ('Sheldon', 'masc'), ('Shell', 'masc'), ('Shelley', 'masc'), ('Shelton', 'masc'), ('Shem', 'masc'), ('Shep', 'masc'), ('Shepard', 'masc'), ('Shepherd', 'masc'), ('Sheppard', 'masc'), ('Shepperd', 'masc'), ('Sheridan', 'masc'), ('Sherlock', 'masc'), ('Sherlocke', 'masc'), ('Sherman', 'masc'), ('Sherwin', 'masc'), ('Sherwood', 'masc'), ('Sherwynd', 'masc'), ('Shimon', 'masc'), ('Shlomo', 'masc'), ('Sholom', 'masc'), ('Shorty', 'masc'), ('Shumeet', 'masc'), ('Shurlock', 'masc'), ('Shurlocke', 'masc'), ('Shurwood', 'masc'), ('Si', 'masc'), ('Sibyl', 'masc'), ('Sid', 'masc'), ('Siddhartha', 'masc'), ('Sidnee', 'masc'), ('Sidney', 'masc'), ('Siegfried', 'masc'), ('Siffre', 'masc'), ('Sig', 'masc'), ('Sigfrid', 'masc'), ('Sigfried', 'masc'), ('Sigmund', 'masc'), ('Silas', 'masc'), ('Silvain', 'masc'), ('Silvan', 'masc'), ('Silvano', 'masc'), ('Silvanus', 'masc'), ('Silvester', 'masc'), ('Silvio', 'masc'), ('Sim', 'masc'), ('Simeon', 'masc'), ('Simmonds', 'masc'), ('Simon', 'masc'), ('Simone', 'masc'), ('Sinclair', 'masc'), ('Sinclare', 'masc'), ('Sivert', 'masc'), ('Siward', 'masc'), ('Skell', 'masc'), ('Skelly', 'masc'), ('Skip', 'masc'), ('Skipp', 'masc'), ('Skipper', 'masc'), ('Skippie', 'masc'), ('Skippy', 'masc'), ('Skipton', 'masc'), ('Sky', 'masc'), ('Skye', 'masc'), ('Skylar', 'masc'), ('Skyler', 'masc'), ('Slade', 'masc'), ('Slim', 'masc'), ('Sloan', 'masc'), ('Sloane', 'masc'), ('Sly', 'masc'), ('Smith', 'masc'), ('Smitty', 'masc'), ('Socrates', 'masc'), ('Sol', 'masc'), ('Sollie', 'masc'), ('Solly', 'masc'), ('Solomon', 'masc'), ('Somerset', 'masc'), ('Son', 'masc'), ('Sonnie', 'masc'), ('Sonny', 'masc'), ('Sparky', 'masc'), ('Spence', 'masc'), ('Spencer', 'masc'), ('Spense', 'masc'), ('Spenser', 'masc'), ('Spike', 'masc'), ('Spiro', 'masc'), ('Spiros', 'masc'), ('Spud', 'masc'), ('Srinivas', 'masc'), ('Stacy', 'masc'), ('Staffard', 'masc'), ('Stafford', 'masc'), ('Staford', 'masc'), ('Stan', 'masc'), ('Standford', 'masc'), ('Stanfield', 'masc'), ('Stanford', 'masc'), ('Stanislaw', 'masc'), ('Stanleigh', 'masc'), ('Stanley', 'masc'), ('Stanly', 'masc'), ('Stanton', 'masc'), ('Stanwood', 'masc'), ('Stavros', 'masc'), ('Stearn', 'masc'), ('Stearne', 'masc'), ('Stefan', 'masc'), ('Stefano', 'masc'), ('Steffen', 'masc'), ('Stephan', 'masc'), ('Stephanus', 'masc'), ('Stephen', 'masc'), ('Sterling', 'masc'), ('Stern', 'masc'), ('Sterne', 'masc'), ('Steve', 'masc'), ('Steven', 'masc'), ('Stevie', 'masc'), ('Stevy', 'masc'), ('Stew', 'masc'), ('Steward', 'masc'), ('Stewart', 'masc'), ('Stig', 'masc'), ('Stillman', 'masc'), ('Stillmann', 'masc'), ('Sting', 'masc'), ('Stinky', 'masc'), ('Stirling', 'masc'), ('Stu', 'masc'), ('Stuart', 'masc'), ('Sturgis', 'masc'), ('Sullivan', 'masc'), ('Sully', 'masc'), ('Sumner', 'masc'), ('Sunny', 'masc'), ('Sutherland', 'masc'), ('Sutton', 'masc'), ('Sven', 'masc'), ('Swen', 'masc'), ('Syd', 'masc'), ('Sydney', 'masc'), ('Sylvan', 'masc'), ('Sylvester', 'masc'), ('Tab', 'masc'), ('Tabb', 'masc'), ('Tabbie', 'masc'), ('Tabby', 'masc'), ('Taber', 'masc'), ('Tabor', 'masc'), ('Tad', 'masc'), ('Tadd', 'masc'), ('Taddeo', 'masc'), ('Taddeus', 'masc'), ('Tadeas', 'masc'), ('Tailor', 'masc'), ('Tait', 'masc'), ('Taite', 'masc'), ('Talbert', 'masc'), ('Talbot', 'masc'), ('Tallie', 'masc'), ('Tally', 'masc'), ('Tam', 'masc'), ('Tamas', 'masc'), ('Tammie', 'masc'), ('Tammy', 'masc'), ('Tan', 'masc'), ('Tann', 'masc'), ('Tanner', 'masc'), ('Tanney', 'masc'), ('Tannie', 'masc'), ('Tanny', 'masc'), ('Tarrance', 'masc'), ('Tarrant', 'masc'), ('Tarzan', 'masc'), ('Tate', 'masc'), ('Taylor', 'masc'), ('Teador', 'masc'), ('Ted', 'masc'), ('Tedd', 'masc'), ('Teddie', 'masc'), ('Teddy', 'masc'), ('Tedie', 'masc'), ('Tedman', 'masc'), ('Tedmund', 'masc'), ('Tedrick', 'masc'), ('Temp', 'masc'), ('Temple', 'masc'), ('Templeton', 'masc'), ('Teodoor', 'masc'), ('Teodor', 'masc'), ('Teodorico', 'masc'), ('Teodoro', 'masc'), ('Terence', 'masc'), ('Terencio', 'masc'), ('Terrance', 'masc'), ('Terrel', 'masc'), ('Terrell', 'masc'), ('Terrence', 'masc'), ('Terri', 'masc'), ('Terrill', 'masc'), ('Terry', 'masc'), ('Thacher', 'masc'), ('Thad', 'masc'), ('Thaddeus', 'masc'), ('Thaddius', 'masc'), ('Thaddus', 'masc'), ('Thadeus', 'masc'), ('Thain', 'masc'), ('Thaine', 'masc'), ('Thane', 'masc'), ('Tharen', 'masc'), ('Thatch', 'masc'), ('Thatcher', 'masc'), ('Thaxter', 'masc'), ('Thayne', 'masc'), ('Thebault', 'masc'), ('Thedric', 'masc'), ('Thedrick', 'masc'), ('Theo', 'masc'), ('Theobald', 'masc'), ('Theodor', 'masc'), ('Theodore', 'masc'), ('Theodoric', 'masc'), ('Theophyllus', 'masc'), ('Thibaud', 'masc'), ('Thibaut', 'masc'), ('Thom', 'masc'), ('Thomas', 'masc'), ('Thor', 'masc'), ('Thorn', 'masc'), ('Thorndike', 'masc'), ('Thornie', 'masc'), ('Thornton', 'masc'), ('Thorny', 'masc'), ('Thorpe', 'masc'), ('Thorstein', 'masc'), ('Thorsten', 'masc'), ('Thorvald', 'masc'), ('Thurstan', 'masc'), ('Thurston', 'masc'), ('Tibold', 'masc'), ('Tiebold', 'masc'), ('Tiebout', 'masc'), ('Tiler', 'masc'), ('Tim', 'masc'), ('Timmie', 'masc'), ('Timmy', 'masc'), ('Timothee', 'masc'), ('Timotheus', 'masc'), ('Timothy', 'masc'), ('Tirrell', 'masc'), ('Tito', 'masc'), ('Titos', 'masc'), ('Titus', 'masc'), ('Tobe', 'masc'), ('Tobiah', 'masc'), ('Tobias', 'masc'), ('Tobie', 'masc'), ('Tobin', 'masc'), ('Tobit', 'masc'), ('Toby', 'masc'), ('Tod', 'masc'), ('Todd', 'masc'), ('Toddie', 'masc'), ('Toddy', 'masc'), ('Tom', 'masc'), ('Tomas', 'masc'), ('Tome', 'masc'), ('Tomkin', 'masc'), ('Tomlin', 'masc'), ('Tommie', 'masc'), ('Tommy', 'masc'), ('Tonnie', 'masc'), ('Tony', 'masc'), ('Tore', 'masc'), ('Torey', 'masc'), ('Torin', 'masc'), ('Torr', 'masc'), ('Torrance', 'masc'), ('Torre', 'masc'), ('Torrence', 'masc'), ('Torrey', 'masc'), ('Torrin', 'masc'), ('Torry', 'masc'), ('Town', 'masc'), ('Towney', 'masc'), ('Townie', 'masc'), ('Townsend', 'masc'), ('Towny', 'masc'), ('Trace', 'masc'), ('Tracey', 'masc'), ('Tracie', 'masc'), ('Tracy', 'masc'), ('Traver', 'masc'), ('Travers', 'masc'), ('Travis', 'masc'), ('Tray', 'masc'), ('Tre', 'masc'), ('Tremain', 'masc'), ('Tremaine', 'masc'), ('Tremayne', 'masc'), ('Trent', 'masc'), ('Trenton', 'masc'), ('Trev', 'masc'), ('Trevar', 'masc'), ('Trever', 'masc'), ('Trevor', 'masc'), ('Trey', 'masc'), ('Trip', 'masc'), ('Tristan', 'masc'), ('Troy', 'masc'), ('Truman', 'masc'), ('Tuck', 'masc'), ('Tucker', 'masc'), ('Tuckie', 'masc'), ('Tucky', 'masc'), ('Tudor', 'masc'), ('Tull', 'masc'), ('Tulley', 'masc'), ('Tully', 'masc'), ('Turner', 'masc'), ('Ty', 'masc'), ('Tybalt', 'masc'), ('Tye', 'masc'), ('Tyler', 'masc'), ('Tymon', 'masc'), ('Tymothy', 'masc'), ('Tynan', 'masc'), ('Tyrone', 'masc'), ('Tyrus', 'masc'), ('Tyson', 'masc'), ('Udale', 'masc'), ('Udall', 'masc'), ('Udell', 'masc'), ('Ugo', 'masc'), ('Ulberto', 'masc'), ('Uli', 'masc'), ('Ulick', 'masc'), ('Ulises', 'masc'), ('Ulric', 'masc'), ('Ulrich', 'masc'), ('Ulrick', 'masc'), ('Ulysses', 'masc'), ('Umberto', 'masc'), ('Upton', 'masc'), ('Urbain', 'masc'), ('Urban', 'masc'), ('Urbano', 'masc'), ('Urbanus', 'masc'), ('Uri', 'masc'), ('Uriah', 'masc'), ('Uriel', 'masc'), ('Urson', 'masc'), ('Vachel', 'masc'), ('Vaclav', 'masc'), ('Vail', 'masc'), ('Val', 'masc'), ('Valdemar', 'masc'), ('Vale', 'masc'), ('Valentin', 'masc'), ('Valentine', 'masc'), ('Van', 'masc'), ('Vance', 'masc'), ('Vasili', 'masc'), ('Vasilis', 'masc'), ('Vasily', 'masc'), ('Vassili', 'masc'), ('Vassily', 'masc'), ('Vaughan', 'masc'), ('Vaughn', 'masc'), ('Venkat', 'masc'), ('Verge', 'masc'), ('Vergil', 'masc'), ('Vern', 'masc'), ('Verne', 'masc'), ('Vernen', 'masc'), ('Verney', 'masc'), ('Vernon', 'masc'), ('Vernor', 'masc'), ('Vibhu', 'masc'), ('Vic', 'masc'), ('Vick', 'masc'), ('Victor', 'masc'), ('Vijay', 'masc'), ('Vilhelm', 'masc'), ('Vin', 'masc'), ('Vince', 'masc'), ('Vincent', 'masc'), ('Vincents', 'masc'), ('Vinnie', 'masc'), ('Vinny', 'masc'), ('Vinod', 'masc'), ('Virge', 'masc'), ('Virgie', 'masc'), ('Virgil', 'masc'), ('Virgilio', 'masc'), ('Vite', 'masc'), ('Vito', 'masc'), ('Vlad', 'masc'), ('Vladamir', 'masc'), ('Vladimir', 'masc'), ('Voltaire', 'masc'), ('Von', 'masc'), ('Wade', 'masc'), ('Wadsworth', 'masc'), ('Wain', 'masc'), ('Waine', 'masc'), ('Wainwright', 'masc'), ('Wait', 'masc'), ('Waite', 'masc'), ('Waiter', 'masc'), ('Wake', 'masc'), ('Wakefield', 'masc'), ('Wald', 'masc'), ('Waldemar', 'masc'), ('Walden', 'masc'), ('Waldo', 'masc'), ('Waldon', 'masc'), ('Waleed', 'masc'), ('Walker', 'masc'), ('Wallace', 'masc'), ('Wallache', 'masc'), ('Wallas', 'masc'), ('Wallie', 'masc'), ('Wallis', 'masc'), ('Wally', 'masc'), ('Walsh', 'masc'), ('Walt', 'masc'), ('Walter', 'masc'), ('Walther', 'masc'), ('Walton', 'masc'), ('Wang', 'masc'), ('Ward', 'masc'), ('Warde', 'masc'), ('Warden', 'masc'), ('Ware', 'masc'), ('Waring', 'masc'), ('Warner', 'masc'), ('Warren', 'masc'), ('Wash', 'masc'), ('Washington', 'masc'), ('Wat', 'masc'), ('Waverley', 'masc'), ('Waverly', 'masc'), ('Way', 'masc'), ('Waylan', 'masc'), ('Wayland', 'masc'), ('Waylen', 'masc'), ('Waylin', 'masc'), ('Waylon', 'masc'), ('Wayne', 'masc'), ('Web', 'masc'), ('Webb', 'masc'), ('Weber', 'masc'), ('Webster', 'masc'), ('Weidar', 'masc'), ('Weider', 'masc'), ('Welbie', 'masc'), ('Welby', 'masc'), ('Welch', 'masc'), ('Wells', 'masc'), ('Welsh', 'masc'), ('Wendall', 'masc'), ('Wendel', 'masc'), ('Wendell', 'masc'), ('Werner', 'masc'), ('Wes', 'masc'), ('Wesley', 'masc'), ('Weslie', 'masc'), ('West', 'masc'), ('Westbrook', 'masc'), ('Westbrooke', 'masc'), ('Westleigh', 'masc'), ('Westley', 'masc'), ('Weston', 'masc'), ('Weylin', 'masc'), ('Wheeler', 'masc'), ('Whit', 'masc'), ('Whitaker', 'masc'), ('Whitby', 'masc'), ('Whitman', 'masc'), ('Whitney', 'masc'), ('Whittaker', 'masc'), ('Wiatt', 'masc'), ('Wilber', 'masc'), ('Wilbert', 'masc'), ('Wilbur', 'masc'), ('Wilburn', 'masc'), ('Wilburt', 'masc'), ('Wilden', 'masc'), ('Wildon', 'masc'), ('Wilek', 'masc'), ('Wiley', 'masc'), ('Wilfred', 'masc'), ('Wilfrid', 'masc'), ('Wilhelm', 'masc'), ('Will', 'masc'), ('Willard', 'masc'), ('Willdon', 'masc'), ('Willem', 'masc'), ('Willey', 'masc'), ('Willi', 'masc'), ('William', 'masc'), ('Willie', 'masc'), ('Willis', 'masc'), ('Willmott', 'masc'), ('Willy', 'masc'), ('Wilmar', 'masc'), ('Wilmer', 'masc'), ('Wilson', 'masc'), ('Wilt', 'masc'), ('Wilton', 'masc'), ('Win', 'masc'), ('Windham', 'masc'), ('Winfield', 'masc'), ('Winford', 'masc'), ('Winfred', 'masc'), ('Winifield', 'masc'), ('Winn', 'masc'), ('Winnie', 'masc'), ('Winny', 'masc'), ('Winslow', 'masc'), ('Winston', 'masc'), ('Winthrop', 'masc'), ('Winton', 'masc'), ('Wit', 'masc'), ('Witold', 'masc'), ('Wittie', 'masc'), ('Witty', 'masc'), ('Wojciech', 'masc'), ('Wolf', 'masc'), ('Wolfgang', 'masc'), ('Wolfie', 'masc'), ('Wolfram', 'masc'), ('Wolfy', 'masc'), ('Woochang', 'masc'), ('Wood', 'masc'), ('Woodie', 'masc'), ('Woodman', 'masc'), ('Woodrow', 'masc'), ('Woody', 'masc'), ('Worden', 'masc'), ('Worth', 'masc'), ('Worthington', 'masc'), ('Worthy', 'masc'), ('Wright', 'masc'), ('Wyatan', 'masc'), ('Wyatt', 'masc'), ('Wye', 'masc'), ('Wylie', 'masc'), ('Wyn', 'masc'), ('Wyndham', 'masc'), ('Wynn', 'masc'), ('Wynton', 'masc'), ('Xavier', 'masc'), ('Xenos', 'masc'), ('Xerxes', 'masc'), ('Xever', 'masc'), ('Ximenes', 'masc'), ('Ximenez', 'masc'), ('Xymenes', 'masc'), ('Yaakov', 'masc'), ('Yacov', 'masc'), ('Yale', 'masc'), ('Yanaton', 'masc'), ('Yance', 'masc'), ('Yancey', 'masc'), ('Yancy', 'masc'), ('Yank', 'masc'), ('Yankee', 'masc'), ('Yard', 'masc'), ('Yardley', 'masc'), ('Yehudi', 'masc'), ('Yigal', 'masc'), ('Yule', 'masc'), ('Yuri', 'masc'), ('Yves', 'masc'), ('Zach', 'masc'), ('Zacharia', 'masc'), ('Zachariah', 'masc'), ('Zacharias', 'masc'), ('Zacharie', 'masc'), ('Zachary', 'masc'), ('Zacherie', 'masc'), ('Zachery', 'masc'), ('Zack', 'masc'), ('Zackariah', 'masc'), ('Zak', 'masc'), ('Zalman', 'masc'), ('Zane', 'masc'), ('Zared', 'masc'), ('Zary', 'masc'), ('Zeb', 'masc'), ('Zebadiah', 'masc'), ('Zebedee', 'masc'), ('Zebulen', 'masc'), ('Zebulon', 'masc'), ('Zechariah', 'masc'), ('Zed', 'masc'), ('Zedekiah', 'masc'), ('Zeke', 'masc'), ('Zelig', 'masc'), ('Zerk', 'masc'), ('Zeus', 'masc'), ('Zippy', 'masc'), ('Zollie', 'masc'), ('Zolly', 'masc'), ('Zorro', 'masc'), ('Abagael', 'fem'), ('Abagail', 'fem'), ('Abbe', 'fem'), ('Abbey', 'fem'), ('Abbi', 'fem'), ('Abbie', 'fem'), ('Abby', 'fem'), ('Abigael', 'fem'), ('Abigail', 'fem'), ('Abigale', 'fem'), ('Abra', 'fem'), ('Acacia', 'fem'), ('Ada', 'fem'), ('Adah', 'fem'), ('Adaline', 'fem'), ('Adara', 'fem'), ('Addie', 'fem'), ('Addis', 'fem'), ('Adel', 'fem'), ('Adela', 'fem'), ('Adelaide', 'fem'), ('Adele', 'fem'), ('Adelice', 'fem'), ('Adelina', 'fem'), ('Adelind', 'fem'), ('Adeline', 'fem'), ('Adella', 'fem'), ('Adelle', 'fem'), ('Adena', 'fem'), ('Adey', 'fem'), ('Adi', 'fem'), ('Adiana', 'fem'), ('Adina', 'fem'), ('Adora', 'fem'), ('Adore', 'fem'), ('Adoree', 'fem'), ('Adorne', 'fem'), ('Adrea', 'fem'), ('Adria', 'fem'), ('Adriaens', 'fem'), ('Adrian', 'fem'), ('Adriana', 'fem'), ('Adriane', 'fem'), ('Adrianna', 'fem'), ('Adrianne', 'fem'), ('Adrien', 'fem'), ('Adriena', 'fem'), ('Adrienne', 'fem'), ('Aeriel', 'fem'), ('Aeriela', 'fem'), ('Aeriell', 'fem'), ('Ag', 'fem'), ('Agace', 'fem'), ('Agata', 'fem'), ('Agatha', 'fem'), ('Agathe', 'fem'), ('Aggi', 'fem'), ('Aggie', 'fem'), ('Aggy', 'fem'), ('Agna', 'fem'), ('Agnella', 'fem'), ('Agnes', 'fem'), ('Agnese', 'fem'), ('Agnesse', 'fem'), ('Agneta', 'fem'), ('Agnola', 'fem'), ('Agretha', 'fem'), ('Aida', 'fem'), ('Aidan', 'fem'), ('Aigneis', 'fem'), ('Aila', 'fem'), ('Aile', 'fem'), ('Ailee', 'fem'), ('Aileen', 'fem'), ('Ailene', 'fem'), ('Ailey', 'fem'), ('Aili', 'fem'), ('Ailina', 'fem'), ('Ailyn', 'fem'), ('Aime', 'fem'), ('Aimee', 'fem'), ('Aimil', 'fem'), ('Aina', 'fem'), ('Aindrea', 'fem'), ('Ainslee', 'fem'), ('Ainsley', 'fem'), ('Ainslie', 'fem'), ('Ajay', 'fem'), ('Alaine', 'fem'), ('Alameda', 'fem'), ('Alana', 'fem'), ('Alanah', 'fem'), ('Alane', 'fem'), ('Alanna', 'fem'), ('Alayne', 'fem'), ('Alberta', 'fem'), ('Albertina', 'fem'), ('Albertine', 'fem'), ('Albina', 'fem'), ('Alecia', 'fem'), ('Aleda', 'fem'), ('Aleece', 'fem'), ('Aleecia', 'fem'), ('Aleen', 'fem'), ('Alejandra', 'fem'), ('Alejandrina', 'fem'), ('Alena', 'fem'), ('Alene', 'fem'), ('Alessandra', 'fem'), ('Aleta', 'fem'), ('Alethea', 'fem'), ('Alex', 'fem'), ('Alexa', 'fem'), ('Alexandra', 'fem'), ('Alexandrina', 'fem'), ('Alexi', 'fem'), ('Alexia', 'fem'), ('Alexina', 'fem'), ('Alexine', 'fem'), ('Alexis', 'fem'), ('Alfie', 'fem'), ('Alfreda', 'fem'), ('Ali', 'fem'), ('Alia', 'fem'), ('Alica', 'fem'), ('Alice', 'fem'), ('Alicea', 'fem'), ('Alicia', 'fem'), ('Alida', 'fem'), ('Alidia', 'fem'), ('Alina', 'fem'), ('Aline', 'fem'), ('Alis', 'fem'), ('Alisa', 'fem'), ('Alisha', 'fem'), ('Alison', 'fem'), ('Alissa', 'fem'), ('Alisun', 'fem'), ('Alix', 'fem'), ('Aliza', 'fem'), ('Alla', 'fem'), ('Alleen', 'fem'), ('Allegra', 'fem'), ('Allene', 'fem'), ('Alli', 'fem'), ('Allianora', 'fem'), ('Allie', 'fem'), ('Allina', 'fem'), ('Allis', 'fem'), ('Allison', 'fem'), ('Allissa', 'fem'), ('Allsun', 'fem'), ('Ally', 'fem'), ('Allyce', 'fem'), ('Allyn', 'fem'), ('Allys', 'fem'), ('Allyson', 'fem'), ('Alma', 'fem'), ('Almeda', 'fem'), ('Almeria', 'fem'), ('Almeta', 'fem'), ('Almira', 'fem'), ('Almire', 'fem'), ('Aloise', 'fem'), ('Aloisia', 'fem'), ('Aloysia', 'fem'), ('Alpa', 'fem'), ('Alta', 'fem'), ('Althea', 'fem'), ('Alvera', 'fem'), ('Alvina', 'fem'), ('Alvinia', 'fem'), ('Alvira', 'fem'), ('Alyce', 'fem'), ('Alyda', 'fem'), ('Alys', 'fem'), ('Alysa', 'fem'), ('Alyse', 'fem'), ('Alysia', 'fem'), ('Alyson', 'fem'), ('Alyss', 'fem'), ('Alyssa', 'fem'), ('Amabel', 'fem'), ('Amabelle', 'fem'), ('Amalea', 'fem'), ('Amalee', 'fem'), ('Amaleta', 'fem'), ('Amalia', 'fem'), ('Amalie', 'fem'), ('Amalita', 'fem'), ('Amalle', 'fem'), ('Amanda', 'fem'), ('Amandi', 'fem'), ('Amandie', 'fem'), ('Amandy', 'fem'), ('Amara', 'fem'), ('Amargo', 'fem'), ('Amata', 'fem'), ('Amber', 'fem'), ('Amberly', 'fem'), ('Ambrosia', 'fem'), ('Ambur', 'fem'), ('Ame', 'fem'), ('Amelia', 'fem'), ('Amelie', 'fem'), ('Amelina', 'fem'), ('Ameline', 'fem'), ('Amelita', 'fem'), ('Ami', 'fem'), ('Amie', 'fem'), ('Amity', 'fem'), ('Ammamaria', 'fem'), ('Amy', 'fem'), ('Ana', 'fem'), ('Anabel', 'fem'), ('Anabella', 'fem'), ('Anabelle', 'fem'), ('Anais', 'fem'), ('Analiese', 'fem'), ('Analise', 'fem'), ('Anallese', 'fem'), ('Anallise', 'fem'), ('Anastasia', 'fem'), ('Anastasie', 'fem'), ('Anastassia', 'fem'), ('Anatola', 'fem'), ('Andee', 'fem'), ('Andi', 'fem'), ('Andie', 'fem'), ('Andra', 'fem'), ('Andrea', 'fem'), ('Andreana', 'fem'), ('Andree', 'fem'), ('Andrei', 'fem'), ('Andria', 'fem'), ('Andriana', 'fem'), ('Andriette', 'fem'), ('Andromache', 'fem'), ('Andromeda', 'fem'), ('Andy', 'fem'), ('Anestassia', 'fem'), ('Anet', 'fem'), ('Anett', 'fem'), ('Anetta', 'fem'), ('Anette', 'fem'), ('Ange', 'fem'), ('Angel', 'fem'), ('Angela', 'fem'), ('Angele', 'fem'), ('Angelia', 'fem'), ('Angelica', 'fem'), ('Angelika', 'fem'), ('Angelina', 'fem'), ('Angeline', 'fem'), ('Angelique', 'fem'), ('Angelita', 'fem'), ('Angelle', 'fem'), ('Angie', 'fem'), ('Angil', 'fem'), ('Angy', 'fem'), ('Ania', 'fem'), ('Anica', 'fem'), ('Anissa', 'fem'), ('Anita', 'fem'), ('Anitra', 'fem'), ('Anja', 'fem'), ('Anjanette', 'fem'), ('Anjela', 'fem'), ('Ann', 'fem'), ('Ann-Mari', 'fem'), ('Ann-Marie', 'fem'), ('Anna', 'fem'), ('Anna-Diana', 'fem'), ('Anna-Diane', 'fem'), ('Anna-Maria', 'fem'), ('Annabal', 'fem'), ('Annabel', 'fem'), ('Annabela', 'fem'), ('Annabell', 'fem'), ('Annabella', 'fem'), ('Annabelle', 'fem'), ('Annadiana', 'fem'), ('Annadiane', 'fem'), ('Annalee', 'fem'), ('Annalena', 'fem'), ('Annaliese', 'fem'), ('Annalisa', 'fem'), ('Annalise', 'fem'), ('Annalyse', 'fem'), ('Annamari', 'fem'), ('Annamaria', 'fem'), ('Annamarie', 'fem'), ('Anne', 'fem'), ('Anne-Corinne', 'fem'), ('Anne-Mar', 'fem'), ('Anne-Marie', 'fem'), ('Annecorinne', 'fem'), ('Anneliese', 'fem'), ('Annelise', 'fem'), ('Annemarie', 'fem'), ('Annetta', 'fem'), ('Annette', 'fem'), ('Anni', 'fem'), ('Annice', 'fem'), ('Annie', 'fem'), ('Annissa', 'fem'), ('Annmaria', 'fem'), ('Annmarie', 'fem'), ('Annnora', 'fem'), ('Annora', 'fem'), ('Anny', 'fem'), ('Anselma', 'fem'), ('Ansley', 'fem'), ('Anstice', 'fem'), ('Anthe', 'fem'), ('Anthea', 'fem'), ('Anthia', 'fem'), ('Antoinette', 'fem'), ('Antonella', 'fem'), ('Antonetta', 'fem'), ('Antonia', 'fem'), ('Antonie', 'fem'), ('Antonietta', 'fem'), ('Antonina', 'fem'), ('Anya', 'fem'), ('Aphrodite', 'fem'), ('Appolonia', 'fem'), ('April', 'fem'), ('Aprilette', 'fem'), ('Ara', 'fem'), ('Arabel', 'fem'), ('Arabela', 'fem'), ('Arabele', 'fem'), ('Arabella', 'fem'), ('Arabelle', 'fem'), ('Arda', 'fem'), ('Ardath', 'fem'), ('Ardeen', 'fem'), ('Ardelia', 'fem'), ('Ardelis', 'fem'), ('Ardella', 'fem'), ('Ardelle', 'fem'), ('Arden', 'fem'), ('Ardene', 'fem'), ('Ardenia', 'fem'), ('Ardine', 'fem'), ('Ardis', 'fem'), ('Ardith', 'fem'), ('Ardra', 'fem'), ('Ardyce', 'fem'), ('Ardys', 'fem'), ('Ardyth', 'fem'), ('Aretha', 'fem'), ('Ariadne', 'fem'), ('Ariana', 'fem'), ('Arianne', 'fem'), ('Aridatha', 'fem'), ('Ariel', 'fem'), ('Ariela', 'fem'), ('Ariella', 'fem'), ('Arielle', 'fem'), ('Arlana', 'fem'), ('Arlee', 'fem'), ('Arleen', 'fem'), ('Arlen', 'fem'), ('Arlena', 'fem'), ('Arlene', 'fem'), ('Arleta', 'fem'), ('Arlette', 'fem'), ('Arleyne', 'fem'), ('Arlie', 'fem'), ('Arliene', 'fem'), ('Arlina', 'fem'), ('Arlinda', 'fem'), ('Arline', 'fem'), ('Arly', 'fem'), ('Arlyn', 'fem'), ('Arlyne', 'fem'), ('Aryn', 'fem'), ('Ashely', 'fem'), ('Ashlee', 'fem'), ('Ashleigh', 'fem'), ('Ashlen', 'fem'), ('Ashley', 'fem'), ('Ashli', 'fem'), ('Ashlie', 'fem'), ('Ashly', 'fem'), ('Asia', 'fem'), ('Astra', 'fem'), ('Astrid', 'fem'), ('Astrix', 'fem'), ('Atalanta', 'fem'), ('Athena', 'fem'), ('Athene', 'fem'), ('Atlanta', 'fem'), ('Atlante', 'fem'), ('Auberta', 'fem'), ('Aubine', 'fem'), ('Aubree', 'fem'), ('Aubrette', 'fem'), ('Aubrey', 'fem'), ('Aubrie', 'fem'), ('Aubry', 'fem'), ('Audi', 'fem'), ('Audie', 'fem'), ('Audra', 'fem'), ('Audre', 'fem'), ('Audrey', 'fem'), ('Audrie', 'fem'), ('Audry', 'fem'), ('Audrye', 'fem'), ('Audy', 'fem'), ('Augusta', 'fem'), ('Auguste', 'fem'), ('Augustina', 'fem'), ('Augustine', 'fem'), ('Aura', 'fem'), ('Aurea', 'fem'), ('Aurel', 'fem'), ('Aurelea', 'fem'), ('Aurelia', 'fem'), ('Aurelie', 'fem'), ('Auria', 'fem'), ('Aurie', 'fem'), ('Aurilia', 'fem'), ('Aurlie', 'fem'), ('Auroora', 'fem'), ('Aurora', 'fem'), ('Aurore', 'fem'), ('Austin', 'fem'), ('Austina', 'fem'), ('Austine', 'fem'), ('Ava', 'fem'), ('Aveline', 'fem'), ('Averil', 'fem'), ('Averyl', 'fem'), ('Avie', 'fem'), ('Avis', 'fem'), ('Aviva', 'fem'), ('Avivah', 'fem'), ('Avril', 'fem'), ('Avrit', 'fem'), ('Ayn', 'fem'), ('Bab', 'fem'), ('Babara', 'fem'), ('Babette', 'fem'), ('Babita', 'fem'), ('Babs', 'fem'), ('Bambi', 'fem'), ('Bambie', 'fem'), ('Bamby', 'fem'), ('Barb', 'fem'), ('Barbabra', 'fem'), ('Barbara', 'fem'), ('Barbara-Anne', 'fem'), ('Barbaraanne', 'fem'), ('Barbe', 'fem'), ('Barbee', 'fem'), ('Barbette', 'fem'), ('Barbey', 'fem'), ('Barbi', 'fem'), ('Barbie', 'fem'), ('Barbra', 'fem'), ('Barby', 'fem'), ('Bari', 'fem'), ('Barrie', 'fem'), ('Barry', 'fem'), ('Basia', 'fem'), ('Bathsheba', 'fem'), ('Batsheva', 'fem'), ('Bea', 'fem'), ('Beatrice', 'fem'), ('Beatrisa', 'fem'), ('Beatrix', 'fem'), ('Beatriz', 'fem'), ('Beau', 'fem'), ('Bebe', 'fem'), ('Becca', 'fem'), ('Becka', 'fem'), ('Becki', 'fem'), ('Beckie', 'fem'), ('Becky', 'fem'), ('Bee', 'fem'), ('Beilul', 'fem'), ('Beitris', 'fem'), ('Bekki', 'fem'), ('Bel', 'fem'), ('Belia', 'fem'), ('Belicia', 'fem'), ('Belinda', 'fem'), ('Belita', 'fem'), ('Bell', 'fem'), ('Bella', 'fem'), ('Bellamy', 'fem'), ('Bellanca', 'fem'), ('Belle', 'fem'), ('Bellina', 'fem'), ('Belva', 'fem'), ('Belvia', 'fem'), ('Bendite', 'fem'), ('Benedetta', 'fem'), ('Benedicta', 'fem'), ('Benedikta', 'fem'), ('Benetta', 'fem'), ('Benita', 'fem'), ('Benni', 'fem'), ('Bennie', 'fem'), ('Benny', 'fem'), ('Benoite', 'fem'), ('Berenice', 'fem'), ('Beret', 'fem'), ('Berget', 'fem'), ('Berna', 'fem'), ('Bernadene', 'fem'), ('Bernadette', 'fem'), ('Bernadina', 'fem'), ('Bernadine', 'fem'), ('Bernardina', 'fem'), ('Bernardine', 'fem'), ('Bernelle', 'fem'), ('Bernete', 'fem'), ('Bernetta', 'fem'), ('Bernette', 'fem'), ('Berni', 'fem'), ('Bernice', 'fem'), ('Bernie', 'fem'), ('Bernita', 'fem'), ('Berny', 'fem'), ('Berri', 'fem'), ('Berrie', 'fem'), ('Berry', 'fem'), ('Bert', 'fem'), ('Berta', 'fem'), ('Berte', 'fem'), ('Bertha', 'fem'), ('Berthe', 'fem'), ('Berti', 'fem'), ('Bertie', 'fem'), ('Bertina', 'fem'), ('Bertine', 'fem'), ('Berty', 'fem'), ('Beryl', 'fem'), ('Beryle', 'fem'), ('Bess', 'fem'), ('Bessie', 'fem'), ('Bessy', 'fem'), ('Beth', 'fem'), ('Bethanne', 'fem'), ('Bethany', 'fem'), ('Bethena', 'fem'), ('Bethina', 'fem'), ('Betsey', 'fem'), ('Betsy', 'fem'), ('Betta', 'fem'), ('Bette', 'fem'), ('Bette-Ann', 'fem'), ('Betteann', 'fem'), ('Betteanne', 'fem'), ('Betti', 'fem'), ('Bettie', 'fem'), ('Bettina', 'fem'), ('Bettine', 'fem'), ('Betty', 'fem'), ('Bettye', 'fem'), ('Beulah', 'fem'), ('Bev', 'fem'), ('Beverie', 'fem'), ('Beverlee', 'fem'), ('Beverlie', 'fem'), ('Beverly', 'fem'), ('Bevvy', 'fem'), ('Bianca', 'fem'), ('Bianka', 'fem'), ('Biddy', 'fem'), ('Bidget', 'fem'), ('Bill', 'fem'), ('Billi', 'fem'), ('Billie', 'fem'), ('Billy', 'fem'), ('Binni', 'fem'), ('Binnie', 'fem'), ('Binny', 'fem'), ('Bird', 'fem'), ('Birdie', 'fem'), ('Birgit', 'fem'), ('Birgitta', 'fem'), ('Blair', 'fem'), ('Blaire', 'fem'), ('Blake', 'fem'), ('Blakelee', 'fem'), ('Blakeley', 'fem'), ('Blanca', 'fem'), ('Blanch', 'fem'), ('Blancha', 'fem'), ('Blanche', 'fem'), ('Blinni', 'fem'), ('Blinnie', 'fem'), ('Blinny', 'fem'), ('Bliss', 'fem'), ('Blisse', 'fem'), ('Blithe', 'fem'), ('Blondell', 'fem'), ('Blondelle', 'fem'), ('Blondie', 'fem'), ('Blondy', 'fem'), ('Blythe', 'fem'), ('Bo', 'fem'), ('Bobbette', 'fem'), ('Bobbi', 'fem'), ('Bobbie', 'fem'), ('Bobby', 'fem'), ('Bobette', 'fem'), ('Bobina', 'fem'), ('Bobine', 'fem'), ('Bobinette', 'fem'), ('Bonita', 'fem'), ('Bonnee', 'fem'), ('Bonni', 'fem'), ('Bonnie', 'fem'), ('Bonny', 'fem'), ('Brana', 'fem'), ('Brandais', 'fem'), ('Brande', 'fem'), ('Brandea', 'fem'), ('Brandi', 'fem'), ('Brandice', 'fem'), ('Brandie', 'fem'), ('Brandise', 'fem'), ('Brandy', 'fem'), ('Brea', 'fem'), ('Breanne', 'fem'), ('Brear', 'fem'), ('Bree', 'fem'), ('Breena', 'fem'), ('Bren', 'fem'), ('Brena', 'fem'), ('Brenda', 'fem'), ('Brenn', 'fem'), ('Brenna', 'fem'), ('Brett', 'fem'), ('Bria', 'fem'), ('Briana', 'fem'), ('Brianna', 'fem'), ('Brianne', 'fem'), ('Bride', 'fem'), ('Bridget', 'fem'), ('Bridgett', 'fem'), ('Bridgette', 'fem'), ('Bridie', 'fem'), ('Brier', 'fem'), ('Brietta', 'fem'), ('Brigid', 'fem'), ('Brigida', 'fem'), ('Brigit', 'fem'), ('Brigitta', 'fem'), ('Brigitte', 'fem'), ('Brina', 'fem'), ('Briney', 'fem'), ('Briny', 'fem'), ('Brit', 'fem'), ('Brita', 'fem'), ('Britaney', 'fem'), ('Britani', 'fem'), ('Briteny', 'fem'), ('Britney', 'fem'), ('Britni', 'fem'), ('Britt', 'fem'), ('Britta', 'fem'), ('Brittan', 'fem'), ('Brittany', 'fem'), ('Britte', 'fem'), ('Brittney', 'fem'), ('Brook', 'fem'), ('Brooke', 'fem'), ('Brooks', 'fem'), ('Brunella', 'fem'), ('Brunhilda', 'fem'), ('Brunhilde', 'fem'), ('Bryana', 'fem'), ('Bryn', 'fem'), ('Bryna', 'fem'), ('Brynn', 'fem'), ('Brynna', 'fem'), ('Brynne', 'fem'), ('Buffy', 'fem'), ('Bunni', 'fem'), ('Bunnie', 'fem'), ('Bunny', 'fem'), ('Burta', 'fem'), ('Cabrina', 'fem'), ('Cacilia', 'fem'), ('Cacilie', 'fem'), ('Caitlin', 'fem'), ('Caitrin', 'fem'), ('Cal', 'fem'), ('Calida', 'fem'), ('Calla', 'fem'), ('Calley', 'fem'), ('Calli', 'fem'), ('Callida', 'fem'), ('Callie', 'fem'), ('Cally', 'fem'), ('Calypso', 'fem'), ('Cam', 'fem'), ('Camala', 'fem'), ('Camel', 'fem'), ('Camella', 'fem'), ('Camellia', 'fem'), ('Cameo', 'fem'), ('Cami', 'fem'), ('Camila', 'fem'), ('Camile', 'fem'), ('Camilla', 'fem'), ('Camille', 'fem'), ('Cammi', 'fem'), ('Cammie', 'fem'), ('Cammy', 'fem'), ('Canada', 'fem'), ('Candace', 'fem'), ('Candi', 'fem'), ('Candice', 'fem'), ('Candida', 'fem'), ('Candide', 'fem'), ('Candie', 'fem'), ('Candis', 'fem'), ('Candra', 'fem'), ('Candy', 'fem'), ('Cappella', 'fem'), ('Caprice', 'fem'), ('Cara', 'fem'), ('Caralie', 'fem'), ('Caren', 'fem'), ('Carena', 'fem'), ('Caresa', 'fem'), ('Caressa', 'fem'), ('Caresse', 'fem'), ('Carey', 'fem'), ('Cari', 'fem'), ('Caria', 'fem'), ('Carie', 'fem'), ('Caril', 'fem'), ('Carilyn', 'fem'), ('Carin', 'fem'), ('Carina', 'fem'), ('Carine', 'fem'), ('Cariotta', 'fem'), ('Carissa', 'fem'), ('Carita', 'fem'), ('Caritta', 'fem'), ('Carla', 'fem'), ('Carlee', 'fem'), ('Carleen', 'fem'), ('Carlen', 'fem'), ('Carlena', 'fem'), ('Carlene', 'fem'), ('Carley', 'fem'), ('Carli', 'fem'), ('Carlie', 'fem'), ('Carlin', 'fem'), ('Carlina', 'fem'), ('Carline', 'fem'), ('Carlisle', 'fem'), ('Carlita', 'fem'), ('Carlota', 'fem'), ('Carlotta', 'fem'), ('Carly', 'fem'), ('Carlye', 'fem'), ('Carlyn', 'fem'), ('Carlynn', 'fem'), ('Carlynne', 'fem'), ('Carma', 'fem'), ('Carmel', 'fem'), ('Carmela', 'fem'), ('Carmelia', 'fem'), ('Carmelina', 'fem'), ('Carmelita', 'fem'), ('Carmella', 'fem'), ('Carmelle', 'fem'), ('Carmen', 'fem'), ('Carmina', 'fem'), ('Carmine', 'fem'), ('Carmita', 'fem'), ('Carmon', 'fem'), ('Caro', 'fem'), ('Carol', 'fem'), ('Carol-Jean', 'fem'), ('Carola', 'fem'), ('Carolan', 'fem'), ('Carolann', 'fem'), ('Carole', 'fem'), ('Carolee', 'fem'), ('Caroleen', 'fem'), ('Carolie', 'fem'), ('Carolin', 'fem'), ('Carolina', 'fem'), ('Caroline', 'fem'), ('Caroljean', 'fem'), ('Carolyn', 'fem'), ('Carolyne', 'fem'), ('Carolynn', 'fem'), ('Caron', 'fem'), ('Carree', 'fem'), ('Carri', 'fem'), ('Carrie', 'fem'), ('Carrissa', 'fem'), ('Carrol', 'fem'), ('Carroll', 'fem'), ('Carry', 'fem'), ('Cary', 'fem'), ('Caryl', 'fem'), ('Caryn', 'fem'), ('Casandra', 'fem'), ('Casey', 'fem'), ('Casi', 'fem'), ('Casia', 'fem'), ('Casie', 'fem'), ('Cass', 'fem'), ('Cassandra', 'fem'), ('Cassandre', 'fem'), ('Cassandry', 'fem'), ('Cassaundra', 'fem'), ('Cassey', 'fem'), ('Cassi', 'fem'), ('Cassie', 'fem'), ('Cassondra', 'fem'), ('Cassy', 'fem'), ('Cat', 'fem'), ('Catarina', 'fem'), ('Cate', 'fem'), ('Caterina', 'fem'), ('Catha', 'fem'), ('Catharina', 'fem'), ('Catharine', 'fem'), ('Cathe', 'fem'), ('Cathee', 'fem'), ('Catherin', 'fem'), ('Catherina', 'fem'), ('Catherine', 'fem'), ('Cathi', 'fem'), ('Cathie', 'fem'), ('Cathleen', 'fem'), ('Cathlene', 'fem'), ('Cathrin', 'fem'), ('Cathrine', 'fem'), ('Cathryn', 'fem'), ('Cathy', 'fem'), ('Cathyleen', 'fem'), ('Cati', 'fem'), ('Catie', 'fem'), ('Catina', 'fem'), ('Catlaina', 'fem'), ('Catlee', 'fem'), ('Catlin', 'fem'), ('Catrina', 'fem'), ('Catriona', 'fem'), ('Caty', 'fem'), ('Cayla', 'fem'), ('Cecelia', 'fem'), ('Cecil', 'fem'), ('Cecile', 'fem'), ('Ceciley', 'fem'), ('Cecilia', 'fem'), ('Cecilla', 'fem'), ('Cecily', 'fem'), ('Ceil', 'fem'), ('Cele', 'fem'), ('Celene', 'fem'), ('Celesta', 'fem'), ('Celeste', 'fem'), ('Celestia', 'fem'), ('Celestina', 'fem'), ('Celestine', 'fem'), ('Celestyn', 'fem'), ('Celestyna', 'fem'), ('Celia', 'fem'), ('Celie', 'fem'), ('Celina', 'fem'), ('Celinda', 'fem'), ('Celine', 'fem'), ('Celinka', 'fem'), ('Celisse', 'fem'), ('Celle', 'fem'), ('Cesya', 'fem'), ('Chad', 'fem'), ('Chanda', 'fem'), ('Chandal', 'fem'), ('Chandra', 'fem'), ('Channa', 'fem'), ('Chantal', 'fem'), ('Chantalle', 'fem'), ('Charil', 'fem'), ('Charin', 'fem'), ('Charis', 'fem'), ('Charissa', 'fem'), ('Charisse', 'fem'), ('Charita', 'fem'), ('Charity', 'fem'), ('Charla', 'fem'), ('Charlean', 'fem'), ('Charleen', 'fem'), ('Charlena', 'fem'), ('Charlene', 'fem'), ('Charline', 'fem'), ('Charlot', 'fem'), ('Charlott', 'fem'), ('Charlotta', 'fem'), ('Charlotte', 'fem'), ('Charmain', 'fem'), ('Charmaine', 'fem'), ('Charmane', 'fem'), ('Charmian', 'fem'), ('Charmine', 'fem'), ('Charmion', 'fem'), ('Charo', 'fem'), ('Charyl', 'fem'), ('Chastity', 'fem'), ('Chelsae', 'fem'), ('Chelsea', 'fem'), ('Chelsey', 'fem'), ('Chelsie', 'fem'), ('Chelsy', 'fem'), ('Cher', 'fem'), ('Chere', 'fem'), ('Cherey', 'fem'), ('Cheri', 'fem'), ('Cherianne', 'fem'), ('Cherice', 'fem'), ('Cherida', 'fem'), ('Cherie', 'fem'), ('Cherilyn', 'fem'), ('Cherilynn', 'fem'), ('Cherin', 'fem'), ('Cherise', 'fem'), ('Cherish', 'fem'), ('Cherlyn', 'fem'), ('Cherri', 'fem'), ('Cherrita', 'fem'), ('Cherry', 'fem'), ('Chery', 'fem'), ('Cherye', 'fem'), ('Cheryl', 'fem'), ('Cheslie', 'fem'), ('Chiarra', 'fem'), ('Chickie', 'fem'), ('Chicky', 'fem'), ('Chiquita', 'fem'), ('Chloe', 'fem'), ('Chloette', 'fem'), ('Chloris', 'fem'), ('Chris', 'fem'), ('Chriss', 'fem'), ('Chrissa', 'fem'), ('Chrissie', 'fem'), ('Chrissy', 'fem'), ('Christa', 'fem'), ('Christabel', 'fem'), ('Christabella', 'fem'), ('Christabelle', 'fem'), ('Christal', 'fem'), ('Christalle', 'fem'), ('Christan', 'fem'), ('Christean', 'fem'), ('Christel', 'fem'), ('Christen', 'fem'), ('Christi', 'fem'), ('Christian', 'fem'), ('Christiana', 'fem'), ('Christiane', 'fem'), ('Christie', 'fem'), ('Christin', 'fem'), ('Christina', 'fem'), ('Christine', 'fem'), ('Christy', 'fem'), ('Christyna', 'fem'), ('Chrysa', 'fem'), ('Chrysler', 'fem'), ('Chrystal', 'fem'), ('Chryste', 'fem'), ('Chrystel', 'fem'), ('Ciara', 'fem'), ('Cicely', 'fem'), ('Cicily', 'fem'), ('Ciel', 'fem'), ('Cilka', 'fem'), ('Cinda', 'fem'), ('Cindee', 'fem'), ('Cindelyn', 'fem'), ('Cinderella', 'fem'), ('Cindi', 'fem'), ('Cindie', 'fem'), ('Cindra', 'fem'), ('Cindy', 'fem'), ('Cinnamon', 'fem'), ('Cissie', 'fem'), ('Cissy', 'fem'), ('Clair', 'fem'), ('Claire', 'fem'), ('Clara', 'fem'), ('Clarabelle', 'fem'), ('Clare', 'fem'), ('Claresta', 'fem'), ('Clareta', 'fem'), ('Claretta', 'fem'), ('Clarette', 'fem'), ('Clarey', 'fem'), ('Clari', 'fem'), ('Claribel', 'fem'), ('Clarice', 'fem'), ('Clarie', 'fem'), ('Clarinda', 'fem'), ('Clarine', 'fem'), ('Clarisa', 'fem'), ('Clarissa', 'fem'), ('Clarisse', 'fem'), ('Clarita', 'fem'), ('Clary', 'fem'), ('Claude', 'fem'), ('Claudelle', 'fem'), ('Claudetta', 'fem'), ('Claudette', 'fem'), ('Claudia', 'fem'), ('Claudie', 'fem'), ('Claudina', 'fem'), ('Claudine', 'fem'), ('Clea', 'fem'), ('Clem', 'fem'), ('Clemence', 'fem'), ('Clementia', 'fem'), ('Clementina', 'fem'), ('Clementine', 'fem'), ('Clemmie', 'fem'), ('Clemmy', 'fem'), ('Cleo', 'fem'), ('Cleopatra', 'fem'), ('Clerissa', 'fem'), ('Cleva', 'fem'), ('Clio', 'fem'), ('Clo', 'fem'), ('Cloe', 'fem'), ('Cloris', 'fem'), ('Clotilda', 'fem'), ('Clovis', 'fem'), ('Codee', 'fem'), ('Codi', 'fem'), ('Codie', 'fem'), ('Cody', 'fem'), ('Coleen', 'fem'), ('Colene', 'fem'), ('Coletta', 'fem'), ('Colette', 'fem'), ('Colleen', 'fem'), ('Collete', 'fem'), ('Collette', 'fem'), ('Collie', 'fem'), ('Colline', 'fem'), ('Colly', 'fem'), ('Con', 'fem'), ('Concettina', 'fem'), ('Conchita', 'fem'), ('Concordia', 'fem'), ('Conney', 'fem'), ('Conni', 'fem'), ('Connie', 'fem'), ('Conny', 'fem'), ('Consolata', 'fem'), ('Constance', 'fem'), ('Constancia', 'fem'), ('Constancy', 'fem'), ('Constanta', 'fem'), ('Constantia', 'fem'), ('Constantina', 'fem'), ('Constantine', 'fem'), ('Consuela', 'fem'), ('Consuelo', 'fem'), ('Cookie', 'fem'), ('Cora', 'fem'), ('Corabel', 'fem'), ('Corabella', 'fem'), ('Corabelle', 'fem'), ('Coral', 'fem'), ('Coralie', 'fem'), ('Coraline', 'fem'), ('Coralyn', 'fem'), ('Cordelia', 'fem'), ('Cordelie', 'fem'), ('Cordey', 'fem'), ('Cordie', 'fem'), ('Cordula', 'fem'), ('Cordy', 'fem'), ('Coreen', 'fem'), ('Corella', 'fem'), ('Corena', 'fem'), ('Corenda', 'fem'), ('Corene', 'fem'), ('Coretta', 'fem'), ('Corette', 'fem'), ('Corey', 'fem'), ('Cori', 'fem'), ('Corie', 'fem'), ('Corilla', 'fem'), ('Corina', 'fem'), ('Corine', 'fem'), ('Corinna', 'fem'), ('Corinne', 'fem'), ('Coriss', 'fem'), ('Corissa', 'fem'), ('Corliss', 'fem'), ('Corly', 'fem'), ('Cornela', 'fem'), ('Cornelia', 'fem'), ('Cornelle', 'fem'), ('Cornie', 'fem'), ('Corny', 'fem'), ('Correna', 'fem'), ('Correy', 'fem'), ('Corri', 'fem'), ('Corrianne', 'fem'), ('Corrie', 'fem'), ('Corrina', 'fem'), ('Corrine', 'fem'), ('Corrinne', 'fem'), ('Corry', 'fem'), ('Cortney', 'fem'), ('Cory', 'fem'), ('Cosetta', 'fem'), ('Cosette', 'fem'), ('Courtenay', 'fem'), ('Courtney', 'fem'), ('Cresa', 'fem'), ('Cris', 'fem'), ('Crissie', 'fem'), ('Crissy', 'fem'), ('Crista', 'fem'), ('Cristabel', 'fem'), ('Cristal', 'fem'), ('Cristen', 'fem'), ('Cristi', 'fem'), ('Cristie', 'fem'), ('Cristin', 'fem'), ('Cristina', 'fem'), ('Cristine', 'fem'), ('Cristionna', 'fem'), ('Cristy', 'fem'), ('Crysta', 'fem'), ('Crystal', 'fem'), ('Crystie', 'fem'), ('Cyb', 'fem'), ('Cybal', 'fem'), ('Cybel', 'fem'), ('Cybelle', 'fem'), ('Cybil', 'fem'), ('Cybill', 'fem'), ('Cyndi', 'fem'), ('Cyndy', 'fem'), ('Cynthea', 'fem'), ('Cynthia', 'fem'), ('Cynthie', 'fem'), ('Cynthy', 'fem'), ('Dacey', 'fem'), ('Dacia', 'fem'), ('Dacie', 'fem'), ('Dacy', 'fem'), ('Dael', 'fem'), ('Daffi', 'fem'), ('Daffie', 'fem'), ('Daffy', 'fem'), ('Dafna', 'fem'), ('Dagmar', 'fem'), ('Dahlia', 'fem'), ('Daile', 'fem'), ('Daisey', 'fem'), ('Daisi', 'fem'), ('Daisie', 'fem'), ('Daisy', 'fem'), ('Dale', 'fem'), ('Dalenna', 'fem'), ('Dalia', 'fem'), ('Dalila', 'fem'), ('Dallas', 'fem'), ('Daloris', 'fem'), ('Damara', 'fem'), ('Damaris', 'fem'), ('Damita', 'fem'), ('Dana', 'fem'), ('Danell', 'fem'), ('Danella', 'fem'), ('Danelle', 'fem'), ('Danette', 'fem'), ('Dani', 'fem'), ('Dania', 'fem'), ('Danica', 'fem'), ('Danice', 'fem'), ('Daniel', 'fem'), ('Daniela', 'fem'), ('Daniele', 'fem'), ('Daniella', 'fem'), ('Danielle', 'fem'), ('Danika', 'fem'), ('Danila', 'fem'), ('Danit', 'fem'), ('Danita', 'fem'), ('Danna', 'fem'), ('Danni', 'fem'), ('Dannie', 'fem'), ('Danny', 'fem'), ('Dannye', 'fem'), ('Danya', 'fem'), ('Danyelle', 'fem'), ('Danyette', 'fem'), ('Daphene', 'fem'), ('Daphna', 'fem'), ('Daphne', 'fem'), ('Dara', 'fem'), ('Darb', 'fem'), ('Darbie', 'fem'), ('Darby', 'fem'), ('Darcee', 'fem'), ('Darcey', 'fem'), ('Darci', 'fem'), ('Darcie', 'fem'), ('Darcy', 'fem'), ('Darda', 'fem'), ('Dareen', 'fem'), ('Darell', 'fem'), ('Darelle', 'fem'), ('Dari', 'fem'), ('Daria', 'fem'), ('Darice', 'fem'), ('Darla', 'fem'), ('Darleen', 'fem'), ('Darlene', 'fem'), ('Darline', 'fem'), ('Darryl', 'fem'), ('Darsey', 'fem'), ('Darsie', 'fem'), ('Darya', 'fem'), ('Daryl', 'fem'), ('Daryn', 'fem'), ('Dasha', 'fem'), ('Dasi', 'fem'), ('Dasie', 'fem'), ('Dasya', 'fem'), ('Datha', 'fem'), ('Daune', 'fem'), ('Daveen', 'fem'), ('Daveta', 'fem'), ('Davida', 'fem'), ('Davina', 'fem'), ('Davine', 'fem'), ('Davita', 'fem'), ('Dawn', 'fem'), ('Dawna', 'fem'), ('Dayle', 'fem'), ('Dayna', 'fem'), ('Dea', 'fem'), ('Deana', 'fem'), ('Deane', 'fem'), ('Deanna', 'fem'), ('Deanne', 'fem'), ('Deb', 'fem'), ('Debbi', 'fem'), ('Debbie', 'fem'), ('Debbra', 'fem'), ('Debby', 'fem'), ('Debee', 'fem'), ('Debera', 'fem'), ('Debi', 'fem'), ('Debor', 'fem'), ('Debora', 'fem'), ('Deborah', 'fem'), ('Debra', 'fem'), ('Dede', 'fem'), ('Dedie', 'fem'), ('Dedra', 'fem'), ('Dee', 'fem'), ('Dee Dee', 'fem'), ('Deeann', 'fem'), ('Deeanne', 'fem'), ('Deedee', 'fem'), ('Deena', 'fem'), ('Deerdre', 'fem'), ('Dehlia', 'fem'), ('Deidre', 'fem'), ('Deina', 'fem'), ('Deirdre', 'fem'), ('Del', 'fem'), ('Dela', 'fem'), ('Delaney', 'fem'), ('Delcina', 'fem'), ('Delcine', 'fem'), ('Delia', 'fem'), ('Delila', 'fem'), ('Delilah', 'fem'), ('Delinda', 'fem'), ('Dell', 'fem'), ('Della', 'fem'), ('Delly', 'fem'), ('Delora', 'fem'), ('Delores', 'fem'), ('Deloria', 'fem'), ('Deloris', 'fem'), ('Delphina', 'fem'), ('Delphine', 'fem'), ('Delphinia', 'fem'), ('Demeter', 'fem'), ('Demetra', 'fem'), ('Demetria', 'fem'), ('Demetris', 'fem'), ('Dena', 'fem'), ('Deni', 'fem'), ('Denice', 'fem'), ('Denise', 'fem'), ('Denna', 'fem'), ('Denni', 'fem'), ('Dennie', 'fem'), ('Denny', 'fem'), ('Deny', 'fem'), ('Denys', 'fem'), ('Denyse', 'fem'), ('Deonne', 'fem'), ('Desaree', 'fem'), ('Desdemona', 'fem'), ('Desirae', 'fem'), ('Desiree', 'fem'), ('Desiri', 'fem'), ('Deva', 'fem'), ('Devan', 'fem'), ('Devi', 'fem'), ('Devin', 'fem'), ('Devina', 'fem'), ('Devinne', 'fem'), ('Devon', 'fem'), ('Devondra', 'fem'), ('Devonna', 'fem'), ('Devonne', 'fem'), ('Devora', 'fem'), ('Dew', 'fem'), ('Di', 'fem'), ('Diahann', 'fem'), ('Diamond', 'fem'), ('Dian', 'fem'), ('Diana', 'fem'), ('Diandra', 'fem'), ('Diane', 'fem'), ('Diane-Marie', 'fem'), ('Dianemarie', 'fem'), ('Diann', 'fem'), ('Dianna', 'fem'), ('Dianne', 'fem'), ('Diannne', 'fem'), ('Didi', 'fem'), ('Dido', 'fem'), ('Diena', 'fem'), ('Dierdre', 'fem'), ('Dina', 'fem'), ('Dinah', 'fem'), ('Dinnie', 'fem'), ('Dinny', 'fem'), ('Dion', 'fem'), ('Dione', 'fem'), ('Dionis', 'fem'), ('Dionne', 'fem'), ('Dita', 'fem'), ('Dix', 'fem'), ('Dixie', 'fem'), ('Dode', 'fem'), ('Dodi', 'fem'), ('Dodie', 'fem'), ('Dody', 'fem'), ('Doe', 'fem'), ('Doll', 'fem'), ('Dolley', 'fem'), ('Dolli', 'fem'), ('Dollie', 'fem'), ('Dolly', 'fem'), ('Dolora', 'fem'), ('Dolores', 'fem'), ('Dolorita', 'fem'), ('Doloritas', 'fem'), ('Dominica', 'fem'), ('Dominique', 'fem'), ('Dona', 'fem'), ('Donella', 'fem'), ('Donelle', 'fem'), ('Donetta', 'fem'), ('Donia', 'fem'), ('Donica', 'fem'), ('Donielle', 'fem'), ('Donna', 'fem'), ('Donnajean', 'fem'), ('Donnamarie', 'fem'), ('Donni', 'fem'), ('Donnie', 'fem'), ('Donny', 'fem'), ('Dora', 'fem'), ('Doralia', 'fem'), ('Doralin', 'fem'), ('Doralyn', 'fem'), ('Doralynn', 'fem'), ('Doralynne', 'fem'), ('Dorcas', 'fem'), ('Dore', 'fem'), ('Doreen', 'fem'), ('Dorelia', 'fem'), ('Dorella', 'fem'), ('Dorelle', 'fem'), ('Dorena', 'fem'), ('Dorene', 'fem'), ('Doretta', 'fem'), ('Dorette', 'fem'), ('Dorey', 'fem'), ('Dori', 'fem'), ('Doria', 'fem'), ('Dorian', 'fem'), ('Dorice', 'fem'), ('Dorie', 'fem'), ('Dorine', 'fem'), ('Doris', 'fem'), ('Dorisa', 'fem'), ('Dorise', 'fem'), ('Dorit', 'fem'), ('Dorita', 'fem'), ('Doro', 'fem'), ('Dorolice', 'fem'), ('Dorolisa', 'fem'), ('Dorotea', 'fem'), ('Doroteya', 'fem'), ('Dorothea', 'fem'), ('Dorothee', 'fem'), ('Dorothy', 'fem'), ('Dorree', 'fem'), ('Dorri', 'fem'), ('Dorrie', 'fem'), ('Dorris', 'fem'), ('Dorry', 'fem'), ('Dorthea', 'fem'), ('Dorthy', 'fem'), ('Dory', 'fem'), ('Dosi', 'fem'), ('Dot', 'fem'), ('Doti', 'fem'), ('Dotti', 'fem'), ('Dottie', 'fem'), ('Dotty', 'fem'), ('Dove', 'fem'), ('Drea', 'fem'), ('Drew', 'fem'), ('Dulce', 'fem'), ('Dulcea', 'fem'), ('Dulci', 'fem'), ('Dulcia', 'fem'), ('Dulciana', 'fem'), ('Dulcie', 'fem'), ('Dulcine', 'fem'), ('Dulcinea', 'fem'), ('Dulcy', 'fem'), ('Dulsea', 'fem'), ('Dusty', 'fem'), ('Dyan', 'fem'), ('Dyana', 'fem'), ('Dyane', 'fem'), ('Dyann', 'fem'), ('Dyanna', 'fem'), ('Dyanne', 'fem'), ('Dyna', 'fem'), ('Dynah', 'fem'), (\"E'Lane\", 'fem'), ('Eada', 'fem'), ('Eadie', 'fem'), ('Eadith', 'fem'), ('Ealasaid', 'fem'), ('Eartha', 'fem'), ('Easter', 'fem'), ('Eba', 'fem'), ('Ebba', 'fem'), ('Ebonee', 'fem'), ('Ebony', 'fem'), ('Eda', 'fem'), ('Eddi', 'fem'), ('Eddie', 'fem'), ('Eddy', 'fem'), ('Ede', 'fem'), ('Edee', 'fem'), ('Edeline', 'fem'), ('Eden', 'fem'), ('Edi', 'fem'), ('Edie', 'fem'), ('Edin', 'fem'), ('Edita', 'fem'), ('Edith', 'fem'), ('Editha', 'fem'), ('Edithe', 'fem'), ('Ediva', 'fem'), ('Edna', 'fem'), ('Edwina', 'fem'), ('Edy', 'fem'), ('Edyth', 'fem'), ('Edythe', 'fem'), ('Effie', 'fem'), ('Eileen', 'fem'), ('Eilis', 'fem'), ('Eimile', 'fem'), ('Eirena', 'fem'), ('Ekaterina', 'fem'), ('Elaina', 'fem'), ('Elaine', 'fem'), ('Elana', 'fem'), ('Elane', 'fem'), ('Elayne', 'fem'), ('Elberta', 'fem'), ('Elbertina', 'fem'), ('Elbertine', 'fem'), ('Eleanor', 'fem'), ('Eleanora', 'fem'), ('Eleanore', 'fem'), ('Electra', 'fem'), ('Elena', 'fem'), ('Elene', 'fem'), ('Eleni', 'fem'), ('Elenore', 'fem'), ('Eleonora', 'fem'), ('Eleonore', 'fem'), ('Elfie', 'fem'), ('Elfreda', 'fem'), ('Elfrida', 'fem'), ('Elfrieda', 'fem'), ('Elga', 'fem'), ('Elianora', 'fem'), ('Elianore', 'fem'), ('Elicia', 'fem'), ('Elie', 'fem'), ('Elinor', 'fem'), ('Elinore', 'fem'), ('Elisa', 'fem'), ('Elisabet', 'fem'), ('Elisabeth', 'fem'), ('Elisabetta', 'fem'), ('Elise', 'fem'), ('Elisha', 'fem'), ('Elissa', 'fem'), ('Elita', 'fem'), ('Eliza', 'fem'), ('Elizabet', 'fem'), ('Elizabeth', 'fem'), ('Elka', 'fem'), ('Elke', 'fem'), ('Ella', 'fem'), ('Elladine', 'fem'), ('Elle', 'fem'), ('Ellen', 'fem'), ('Ellene', 'fem'), ('Ellette', 'fem'), ('Elli', 'fem'), ('Ellie', 'fem'), ('Ellissa', 'fem'), ('Elly', 'fem'), ('Ellyn', 'fem'), ('Ellynn', 'fem'), ('Elmira', 'fem'), ('Elna', 'fem'), ('Elnora', 'fem'), ('Elnore', 'fem'), ('Eloisa', 'fem'), ('Eloise', 'fem'), ('Elonore', 'fem'), ('Elora', 'fem'), ('Elsa', 'fem'), ('Elsbeth', 'fem'), ('Else', 'fem'), ('Elsey', 'fem'), ('Elsi', 'fem'), ('Elsie', 'fem'), ('Elsinore', 'fem'), ('Elspeth', 'fem'), ('Elsy', 'fem'), ('Elva', 'fem'), ('Elvera', 'fem'), ('Elvina', 'fem'), ('Elvira', 'fem'), ('Elwina', 'fem'), ('Elwira', 'fem'), ('Elyn', 'fem'), ('Elyse', 'fem'), ('Elysee', 'fem'), ('Elysha', 'fem'), ('Elysia', 'fem'), ('Elyssa', 'fem'), ('Em', 'fem'), ('Ema', 'fem'), ('Emalee', 'fem'), ('Emalia', 'fem'), ('Emanuela', 'fem'), ('Emelda', 'fem'), ('Emelia', 'fem'), ('Emelina', 'fem'), ('Emeline', 'fem'), ('Emelita', 'fem'), ('Emelyne', 'fem'), ('Emera', 'fem'), ('Emilee', 'fem'), ('Emili', 'fem'), ('Emilia', 'fem'), ('Emilie', 'fem'), ('Emiline', 'fem'), ('Emily', 'fem'), ('Emlyn', 'fem'), ('Emlynn', 'fem'), ('Emlynne', 'fem'), ('Emma', 'fem'), ('Emmalee', 'fem'), ('Emmaline', 'fem'), ('Emmalyn', 'fem'), ('Emmalynn', 'fem'), ('Emmalynne', 'fem'), ('Emmeline', 'fem'), ('Emmey', 'fem'), ('Emmi', 'fem'), ('Emmie', 'fem'), ('Emmy', 'fem'), ('Emmye', 'fem'), ('Emogene', 'fem'), ('Emyle', 'fem'), ('Emylee', 'fem'), ('Endora', 'fem'), ('Engracia', 'fem'), ('Enid', 'fem'), ('Enrica', 'fem'), ('Enrichetta', 'fem'), ('Enrika', 'fem'), ('Enriqueta', 'fem'), ('Enya', 'fem'), ('Eolanda', 'fem'), ('Eolande', 'fem'), ('Eran', 'fem'), ('Erda', 'fem'), ('Erena', 'fem'), ('Erica', 'fem'), ('Ericha', 'fem'), ('Ericka', 'fem'), ('Erika', 'fem'), ('Erin', 'fem'), ('Erina', 'fem'), ('Erinn', 'fem'), ('Erinna', 'fem'), ('Erma', 'fem'), ('Ermengarde', 'fem'), ('Ermentrude', 'fem'), ('Ermina', 'fem'), ('Erminia', 'fem'), ('Erminie', 'fem'), ('Erna', 'fem'), ('Ernaline', 'fem'), ('Ernesta', 'fem'), ('Ernestine', 'fem'), ('Ertha', 'fem'), ('Eryn', 'fem'), ('Esma', 'fem'), ('Esmaria', 'fem'), ('Esme', 'fem'), ('Esmeralda', 'fem'), ('Esmerelda', 'fem'), ('Essa', 'fem'), ('Essie', 'fem'), ('Essy', 'fem'), ('Esta', 'fem'), ('Estel', 'fem'), ('Estele', 'fem'), ('Estell', 'fem'), ('Estella', 'fem'), ('Estelle', 'fem'), ('Ester', 'fem'), ('Esther', 'fem'), ('Estrella', 'fem'), ('Estrellita', 'fem'), ('Ethel', 'fem'), ('Ethelda', 'fem'), ('Ethelin', 'fem'), ('Ethelind', 'fem'), ('Etheline', 'fem'), ('Ethelyn', 'fem'), ('Ethyl', 'fem'), ('Etta', 'fem'), ('Etti', 'fem'), ('Ettie', 'fem'), ('Etty', 'fem'), ('Eudora', 'fem'), ('Eugenia', 'fem'), ('Eugenie', 'fem'), ('Eugine', 'fem'), ('Eula', 'fem'), ('Eulalie', 'fem'), ('Eunice', 'fem'), ('Euphemia', 'fem'), ('Eustacia', 'fem'), ('Eva', 'fem'), ('Evaleen', 'fem'), ('Evangelia', 'fem'), ('Evangelin', 'fem'), ('Evangelina', 'fem'), ('Evangeline', 'fem'), ('Evania', 'fem'), ('Evanne', 'fem'), ('Eve', 'fem'), ('Eveleen', 'fem'), ('Evelina', 'fem'), ('Eveline', 'fem'), ('Evelyn', 'fem'), ('Evette', 'fem'), ('Evey', 'fem'), ('Evie', 'fem'), ('Evita', 'fem'), ('Evonne', 'fem'), ('Evvie', 'fem'), ('Evvy', 'fem'), ('Evy', 'fem'), ('Eyde', 'fem'), ('Eydie', 'fem'), ('Fabrianne', 'fem'), ('Fabrice', 'fem'), ('Fae', 'fem'), ('Faina', 'fem'), ('Faith', 'fem'), ('Fallon', 'fem'), ('Fan', 'fem'), ('Fanchette', 'fem'), ('Fanchon', 'fem'), ('Fancie', 'fem'), ('Fancy', 'fem'), ('Fanechka', 'fem'), ('Fania', 'fem'), ('Fanni', 'fem'), ('Fannie', 'fem'), ('Fanny', 'fem'), ('Fanya', 'fem'), ('Fara', 'fem'), ('Farah', 'fem'), ('Farand', 'fem'), ('Farica', 'fem'), ('Farra', 'fem'), ('Farrah', 'fem'), ('Farrand', 'fem'), ('Fatima', 'fem'), ('Faun', 'fem'), ('Faunie', 'fem'), ('Faustina', 'fem'), ('Faustine', 'fem'), ('Fawn', 'fem'), ('Fawna', 'fem'), ('Fawne', 'fem'), ('Fawnia', 'fem'), ('Fay', 'fem'), ('Faydra', 'fem'), ('Faye', 'fem'), ('Fayette', 'fem'), ('Fayina', 'fem'), ('Fayre', 'fem'), ('Fayth', 'fem'), ('Faythe', 'fem'), ('Federica', 'fem'), ('Fedora', 'fem'), ('Felecia', 'fem'), ('Felicdad', 'fem'), ('Felice', 'fem'), ('Felicia', 'fem'), ('Felicity', 'fem'), ('Felicle', 'fem'), ('Felipa', 'fem'), ('Felisha', 'fem'), ('Felita', 'fem'), ('Feliza', 'fem'), ('Fenelia', 'fem'), ('Feodora', 'fem'), ('Ferdinanda', 'fem'), ('Ferdinande', 'fem'), ('Fern', 'fem'), ('Fernanda', 'fem'), ('Fernande', 'fem'), ('Fernandina', 'fem'), ('Ferne', 'fem'), ('Fey', 'fem'), ('Fiann', 'fem'), ('Fianna', 'fem'), ('Fidela', 'fem'), ('Fidelia', 'fem'), ('Fidelity', 'fem'), ('Fifi', 'fem'), ('Fifine', 'fem'), ('Filia', 'fem'), ('Filide', 'fem'), ('Filippa', 'fem'), ('Fina', 'fem'), ('Fiona', 'fem'), ('Fionna', 'fem'), ('Fionnula', 'fem'), ('Fiorenze', 'fem'), ('Fleur', 'fem'), ('Fleurette', 'fem'), ('Flo', 'fem'), ('Flor', 'fem'), ('Flora', 'fem'), ('Florance', 'fem'), ('Flore', 'fem'), ('Florella', 'fem'), ('Florence', 'fem'), ('Florencia', 'fem'), ('Florentia', 'fem'), ('Florenza', 'fem'), ('Florette', 'fem'), ('Flori', 'fem'), ('Floria', 'fem'), ('Florice', 'fem'), ('Florida', 'fem'), ('Florie', 'fem'), ('Florina', 'fem'), ('Florinda', 'fem'), ('Floris', 'fem'), ('Florri', 'fem'), ('Florrie', 'fem'), ('Florry', 'fem'), ('Flory', 'fem'), ('Flossi', 'fem'), ('Flossie', 'fem'), ('Flossy', 'fem'), ('Flower', 'fem'), ('Fortuna', 'fem'), ('Fortune', 'fem'), ('Fran', 'fem'), ('France', 'fem'), ('Francene', 'fem'), ('Frances', 'fem'), ('Francesca', 'fem'), ('Francesmary', 'fem'), ('Francine', 'fem'), ('Francis', 'fem'), ('Francisca', 'fem'), ('Franciska', 'fem'), ('Francoise', 'fem'), ('Francyne', 'fem'), ('Frank', 'fem'), ('Frankie', 'fem'), ('Franky', 'fem'), ('Franni', 'fem'), ('Frannie', 'fem'), ('Franny', 'fem'), ('Frayda', 'fem'), ('Fred', 'fem'), ('Freda', 'fem'), ('Freddi', 'fem'), ('Freddie', 'fem'), ('Freddy', 'fem'), ('Fredelia', 'fem'), ('Frederica', 'fem'), ('Fredericka', 'fem'), ('Fredi', 'fem'), ('Fredia', 'fem'), ('Fredra', 'fem'), ('Fredrika', 'fem'), ('Freida', 'fem'), ('Frieda', 'fem'), ('Friederike', 'fem'), ('Fulvia', 'fem'), ('Gabbey', 'fem'), ('Gabbi', 'fem'), ('Gabbie', 'fem'), ('Gabey', 'fem'), ('Gabi', 'fem'), ('Gabie', 'fem'), ('Gabriel', 'fem'), ('Gabriela', 'fem'), ('Gabriell', 'fem'), ('Gabriella', 'fem'), ('Gabrielle', 'fem'), ('Gabriellia', 'fem'), ('Gabrila', 'fem'), ('Gaby', 'fem'), ('Gae', 'fem'), ('Gael', 'fem'), ('Gail', 'fem'), ('Gale', 'fem'), ('Gale ', 'fem'), ('Galina', 'fem'), ('Garland', 'fem'), ('Garnet', 'fem'), ('Garnette', 'fem'), ('Gates', 'fem'), ('Gavra', 'fem'), ('Gavrielle', 'fem'), ('Gay', 'fem'), ('Gayla', 'fem'), ('Gayle', 'fem'), ('Gayleen', 'fem'), ('Gaylene', 'fem'), ('Gaynor', 'fem'), ('Geeta', 'fem'), ('Gelya', 'fem'), ('Gen', 'fem'), ('Gena', 'fem'), ('Gene', 'fem'), ('Geneva', 'fem'), ('Genevieve', 'fem'), ('Genevra', 'fem'), ('Genia', 'fem'), ('Genna', 'fem'), ('Genni', 'fem'), ('Gennie', 'fem'), ('Gennifer', 'fem'), ('Genny', 'fem'), ('Genovera', 'fem'), ('Genvieve', 'fem'), ('George', 'fem'), ('Georgeanna', 'fem'), ('Georgeanne', 'fem'), ('Georgena', 'fem'), ('Georgeta', 'fem'), ('Georgetta', 'fem'), ('Georgette', 'fem'), ('Georgia', 'fem'), ('Georgiamay', 'fem'), ('Georgiana', 'fem'), ('Georgianna', 'fem'), ('Georgianne', 'fem'), ('Georgie', 'fem'), ('Georgina', 'fem'), ('Georgine', 'fem'), ('Gera', 'fem'), ('Geralda', 'fem'), ('Geraldina', 'fem'), ('Geraldine', 'fem'), ('Gerda', 'fem'), ('Gerhardine', 'fem'), ('Geri', 'fem'), ('Gerianna', 'fem'), ('Gerianne', 'fem'), ('Gerladina', 'fem'), ('Germain', 'fem'), ('Germaine', 'fem'), ('Germana', 'fem'), ('Gerri', 'fem'), ('Gerrie', 'fem'), ('Gerrilee', 'fem'), ('Gerry', 'fem'), ('Gert', 'fem'), ('Gerta', 'fem'), ('Gerti', 'fem'), ('Gertie', 'fem'), ('Gertrud', 'fem'), ('Gertruda', 'fem'), ('Gertrude', 'fem'), ('Gertrudis', 'fem'), ('Gerty', 'fem'), ('Giacinta', 'fem'), ('Giana', 'fem'), ('Gianina', 'fem'), ('Gianna', 'fem'), ('Gigi', 'fem'), ('Gilberta', 'fem'), ('Gilberte', 'fem'), ('Gilbertina', 'fem'), ('Gilbertine', 'fem'), ('Gilda', 'fem'), ('Gill', 'fem'), ('Gillan', 'fem'), ('Gilli', 'fem'), ('Gillian', 'fem'), ('Gillie', 'fem'), ('Gilligan', 'fem'), ('Gilly', 'fem'), ('Gina', 'fem'), ('Ginelle', 'fem'), ('Ginevra', 'fem'), ('Ginger', 'fem'), ('Ginni', 'fem'), ('Ginnie', 'fem'), ('Ginnifer', 'fem'), ('Ginny', 'fem'), ('Giorgia', 'fem'), ('Giovanna', 'fem'), ('Gipsy', 'fem'), ('Giralda', 'fem'), ('Gisela', 'fem'), ('Gisele', 'fem'), ('Gisella', 'fem'), ('Giselle', 'fem'), ('Gita', 'fem'), ('Gizela', 'fem'), ('Glad', 'fem'), ('Gladi', 'fem'), ('Gladis', 'fem'), ('Gladys', 'fem'), ('Gleda', 'fem'), ('Glen', 'fem'), ('Glenda', 'fem'), ('Glenine', 'fem'), ('Glenn', 'fem'), ('Glenna', 'fem'), ('Glennie', 'fem'), ('Glennis', 'fem'), ('Glori', 'fem'), ('Gloria', 'fem'), ('Gloriana', 'fem'), ('Gloriane', 'fem'), ('Glorianna', 'fem'), ('Glory', 'fem'), ('Glyn', 'fem'), ('Glynda', 'fem'), ('Glynis', 'fem'), ('Glynnis', 'fem'), ('Godiva', 'fem'), ('Golda', 'fem'), ('Goldarina', 'fem'), ('Goldi', 'fem'), ('Goldia', 'fem'), ('Goldie', 'fem'), ('Goldina', 'fem'), ('Goldy', 'fem'), ('Grace', 'fem'), ('Gracia', 'fem'), ('Gracie', 'fem'), ('Grata', 'fem'), ('Gratia', 'fem'), ('Gratiana', 'fem'), ('Gray', 'fem'), ('Grayce', 'fem'), ('Grazia', 'fem'), ('Gredel', 'fem'), ('Greer', 'fem'), ('Greta', 'fem'), ('Gretal', 'fem'), ('Gretchen', 'fem'), ('Grete', 'fem'), ('Gretel', 'fem'), ('Grethel', 'fem'), ('Gretna', 'fem'), ('Gretta', 'fem'), ('Grier', 'fem'), ('Griselda', 'fem'), ('Grissel', 'fem'), ('Guendolen', 'fem'), ('Guenevere', 'fem'), ('Guenna', 'fem'), ('Guglielma', 'fem'), ('Gui', 'fem'), ('Guillema', 'fem'), ('Guillemette', 'fem'), ('Guinevere', 'fem'), ('Guinna', 'fem'), ('Gunilla', 'fem'), ('Gunvor', 'fem'), ('Gus', 'fem'), ('Gusella', 'fem'), ('Gussi', 'fem'), ('Gussie', 'fem'), ('Gussy', 'fem'), ('Gusta', 'fem'), ('Gusti', 'fem'), ('Gustie', 'fem'), ('Gusty', 'fem'), ('Gwen', 'fem'), ('Gwendolen', 'fem'), ('Gwendolin', 'fem'), ('Gwendolyn', 'fem'), ('Gweneth', 'fem'), ('Gwenette', 'fem'), ('Gwenn', 'fem'), ('Gwenneth', 'fem'), ('Gwenni', 'fem'), ('Gwennie', 'fem'), ('Gwenny', 'fem'), ('Gwenora', 'fem'), ('Gwenore', 'fem'), ('Gwyn', 'fem'), ('Gwyneth', 'fem'), ('Gwynne', 'fem'), ('Gypsy', 'fem'), ('Hadria', 'fem'), ('Hailee', 'fem'), ('Haily', 'fem'), ('Haleigh', 'fem'), ('Halette', 'fem'), ('Haley', 'fem'), ('Hali', 'fem'), ('Halie', 'fem'), ('Halimeda', 'fem'), ('Halley', 'fem'), ('Halli', 'fem'), ('Hallie', 'fem'), ('Hally', 'fem'), ('Hana', 'fem'), ('Hanna', 'fem'), ('Hannah', 'fem'), ('Hanni', 'fem'), ('Hannibal', 'fem'), ('Hannie', 'fem'), ('Hannis', 'fem'), ('Hanny', 'fem'), ('Happy', 'fem'), ('Harlene', 'fem'), ('Harley', 'fem'), ('Harli', 'fem'), ('Harlie', 'fem'), ('Harmonia', 'fem'), ('Harmonie', 'fem'), ('Harmony', 'fem'), ('Harri', 'fem'), ('Harrie', 'fem'), ('Harriet', 'fem'), ('Harriett', 'fem'), ('Harrietta', 'fem'), ('Harriette', 'fem'), ('Harriot', 'fem'), ('Harriott', 'fem'), ('Hatti', 'fem'), ('Hattie', 'fem'), ('Hatty', 'fem'), ('Havivah', 'fem'), ('Hayley', 'fem'), ('Hazel', 'fem'), ('Heath', 'fem'), ('Heather', 'fem'), ('Heda', 'fem'), ('Hedda', 'fem'), ('Heddi', 'fem'), ('Heddie', 'fem'), ('Hedi', 'fem'), ('Hedvig', 'fem'), ('Hedwig', 'fem'), ('Hedy', 'fem'), ('Heida', 'fem'), ('Heide', 'fem'), ('Heidi', 'fem'), ('Heidie', 'fem'), ('Helaina', 'fem'), ('Helaine', 'fem'), ('Helen', 'fem'), ('Helen-Elizabeth', 'fem'), ('Helena', 'fem'), ('Helene', 'fem'), ('Helga', 'fem'), ('Helge', 'fem'), ('Helise', 'fem'), ('Hellene', 'fem'), ('Helli', 'fem'), ('Heloise', 'fem'), ('Helsa', 'fem'), ('Helyn', 'fem'), ('Hendrika', 'fem'), ('Henka', 'fem'), ('Henrie', 'fem'), ('Henrieta', 'fem'), ('Henrietta', 'fem'), ('Henriette', 'fem'), ('Henryetta', 'fem'), ('Hephzibah', 'fem'), ('Hermia', 'fem'), ('Hermina', 'fem'), ('Hermine', 'fem'), ('Herminia', 'fem'), ('Hermione', 'fem'), ('Herta', 'fem'), ('Hertha', 'fem'), ('Hester', 'fem'), ('Hesther', 'fem'), ('Hestia', 'fem'), ('Hetti', 'fem'), ('Hettie', 'fem'), ('Hetty', 'fem'), ('Hilarie', 'fem'), ('Hilary', 'fem'), ('Hilda', 'fem'), ('Hildagard', 'fem'), ('Hildagarde', 'fem'), ('Hilde', 'fem'), ('Hildegaard', 'fem'), ('Hildegarde', 'fem'), ('Hildy', 'fem'), ('Hillary', 'fem'), ('Hilliary', 'fem'), ('Hinda', 'fem'), ('Holley', 'fem'), ('Holli', 'fem'), ('Hollie', 'fem'), ('Holly', 'fem'), ('Holly-Anne', 'fem'), ('Hollyanne', 'fem'), ('Honey', 'fem'), ('Honor', 'fem'), ('Honoria', 'fem'), ('Hope', 'fem'), ('Horatia', 'fem'), ('Hortense', 'fem'), ('Hortensia', 'fem'), ('Hulda', 'fem'), ('Hyacinth', 'fem'), ('Hyacintha', 'fem'), ('Hyacinthe', 'fem'), ('Hyacinthia', 'fem'), ('Hyacinthie', 'fem'), ('Hynda', 'fem'), ('Ianthe', 'fem'), ('Ibbie', 'fem'), ('Ibby', 'fem'), ('Ida', 'fem'), ('Idalia', 'fem'), ('Idalina', 'fem'), ('Idaline', 'fem'), ('Idell', 'fem'), ('Idelle', 'fem'), ('Idette', 'fem'), ('Ike', 'fem'), ('Ikey', 'fem'), ('Ilana', 'fem'), ('Ileana', 'fem'), ('Ileane', 'fem'), ('Ilene', 'fem'), ('Ilise', 'fem'), ('Ilka', 'fem'), ('Illa', 'fem'), ('Ilona', 'fem'), ('Ilsa', 'fem'), ('Ilse', 'fem'), ('Ilysa', 'fem'), ('Ilyse', 'fem'), ('Ilyssa', 'fem'), ('Imelda', 'fem'), ('Imogen', 'fem'), ('Imogene', 'fem'), ('Imojean', 'fem'), ('Ina', 'fem'), ('Inci', 'fem'), ('Indira', 'fem'), ('Ines', 'fem'), ('Inesita', 'fem'), ('Inessa', 'fem'), ('Inez', 'fem'), ('Inga', 'fem'), ('Ingaberg', 'fem'), ('Ingaborg', 'fem'), ('Inge', 'fem'), ('Ingeberg', 'fem'), ('Ingeborg', 'fem'), ('Inger', 'fem'), ('Ingrid', 'fem'), ('Ingunna', 'fem'), ('Inna', 'fem'), ('Ioana', 'fem'), ('Iolande', 'fem'), ('Iolanthe', 'fem'), ('Iona', 'fem'), ('Iormina', 'fem'), ('Ira', 'fem'), ('Irena', 'fem'), ('Irene', 'fem'), ('Irina', 'fem'), ('Iris', 'fem'), ('Irita', 'fem'), ('Irma', 'fem'), ('Isa', 'fem'), ('Isabeau', 'fem'), ('Isabel', 'fem'), ('Isabelita', 'fem'), ('Isabella', 'fem'), ('Isabelle', 'fem'), ('Isador', 'fem'), ('Isadora', 'fem'), ('Isadore', 'fem'), ('Isahella', 'fem'), ('Iseabal', 'fem'), ('Isidora', 'fem'), ('Isis', 'fem'), ('Isobel', 'fem'), ('Issi', 'fem'), ('Issie', 'fem'), ('Issy', 'fem'), ('Ivett', 'fem'), ('Ivette', 'fem'), ('Ivie', 'fem'), ('Ivonne', 'fem'), ('Ivory', 'fem'), ('Ivy', 'fem'), ('Izabel', 'fem'), ('Izzi', 'fem'), ('Jacenta', 'fem'), ('Jacinda', 'fem'), ('Jacinta', 'fem'), ('Jacintha', 'fem'), ('Jacinthe', 'fem'), ('Jackelyn', 'fem'), ('Jacki', 'fem'), ('Jackie', 'fem'), ('Jacklin', 'fem'), ('Jacklyn', 'fem'), ('Jackquelin', 'fem'), ('Jackqueline', 'fem'), ('Jacky', 'fem'), ('Jaclin', 'fem'), ('Jaclyn', 'fem'), ('Jacquelin', 'fem'), ('Jacqueline', 'fem'), ('Jacquelyn', 'fem'), ('Jacquelynn', 'fem'), ('Jacquenetta', 'fem'), ('Jacquenette', 'fem'), ('Jacquetta', 'fem'), ('Jacquette', 'fem'), ('Jacqui', 'fem'), ('Jacquie', 'fem'), ('Jacynth', 'fem'), ('Jada', 'fem'), ('Jade', 'fem'), ('Jaime', 'fem'), ('Jaimie', 'fem'), ('Jaine', 'fem'), ('Jaleh', 'fem'), ('Jami', 'fem'), ('Jamie', 'fem'), ('Jamima', 'fem'), ('Jammie', 'fem'), ('Jan', 'fem'), ('Jana', 'fem'), ('Janaya', 'fem'), ('Janaye', 'fem'), ('Jandy', 'fem'), ('Jane', 'fem'), ('Janean', 'fem'), ('Janeczka', 'fem'), ('Janeen', 'fem'), ('Janel', 'fem'), ('Janela', 'fem'), ('Janella', 'fem'), ('Janelle', 'fem'), ('Janene', 'fem'), ('Janenna', 'fem'), ('Janessa', 'fem'), ('Janet', 'fem'), ('Janeta', 'fem'), ('Janetta', 'fem'), ('Janette', 'fem'), ('Janeva', 'fem'), ('Janey', 'fem'), ('Jania', 'fem'), ('Janice', 'fem'), ('Janie', 'fem'), ('Janifer', 'fem'), ('Janina', 'fem'), ('Janine', 'fem'), ('Janis', 'fem'), ('Janith', 'fem'), ('Janka', 'fem'), ('Janna', 'fem'), ('Jannel', 'fem'), ('Jannelle', 'fem'), ('Janot', 'fem'), ('Jany', 'fem'), ('Jaquelin', 'fem'), ('Jaquelyn', 'fem'), ('Jaquenetta', 'fem'), ('Jaquenette', 'fem'), ('Jaquith', 'fem'), ('Jasmin', 'fem'), ('Jasmina', 'fem'), ('Jasmine', 'fem'), ('Jayme', 'fem'), ('Jaymee', 'fem'), ('Jayne', 'fem'), ('Jaynell', 'fem'), ('Jazmin', 'fem'), ('Jean', 'fem'), ('Jeana', 'fem'), ('Jeane', 'fem'), ('Jeanelle', 'fem'), ('Jeanette', 'fem'), ('Jeanie', 'fem'), ('Jeanine', 'fem'), ('Jeanna', 'fem'), ('Jeanne', 'fem'), ('Jeannette', 'fem'), ('Jeannie', 'fem'), ('Jeannine', 'fem'), ('Jehanna', 'fem'), ('Jelene', 'fem'), ('Jemie', 'fem'), ('Jemima', 'fem'), ('Jemimah', 'fem'), ('Jemmie', 'fem'), ('Jemmy', 'fem'), ('Jen', 'fem'), ('Jena', 'fem'), ('Jenda', 'fem'), ('Jenelle', 'fem'), ('Jenette', 'fem'), ('Jeni', 'fem'), ('Jenica', 'fem'), ('Jeniece', 'fem'), ('Jenifer', 'fem'), ('Jeniffer', 'fem'), ('Jenilee', 'fem'), ('Jenine', 'fem'), ('Jenn', 'fem'), ('Jenna', 'fem'), ('Jennee', 'fem'), ('Jennette', 'fem'), ('Jenni', 'fem'), ('Jennica', 'fem'), ('Jennie', 'fem'), ('Jennifer', 'fem'), ('Jennilee', 'fem'), ('Jennine', 'fem'), ('Jenny', 'fem'), ('Jeraldine', 'fem'), ('Jeralee', 'fem'), ('Jere', 'fem'), ('Jeri', 'fem'), ('Jermaine', 'fem'), ('Jerrie', 'fem'), ('Jerrilee', 'fem'), ('Jerrilyn', 'fem'), ('Jerrine', 'fem'), ('Jerry', 'fem'), ('Jerrylee', 'fem'), ('Jess', 'fem'), ('Jessa', 'fem'), ('Jessalin', 'fem'), ('Jessalyn', 'fem'), ('Jessamine', 'fem'), ('Jessamyn', 'fem'), ('Jesse', 'fem'), ('Jesselyn', 'fem'), ('Jessi', 'fem'), ('Jessica', 'fem'), ('Jessie', 'fem'), ('Jessika', 'fem'), ('Jessy', 'fem'), ('Jewel', 'fem'), ('Jewell', 'fem'), ('Jewelle', 'fem'), ('Jill', 'fem'), ('Jillana', 'fem'), ('Jillane', 'fem'), ('Jillayne', 'fem'), ('Jilleen', 'fem'), ('Jillene', 'fem'), ('Jilli', 'fem'), ('Jillian', 'fem'), ('Jillie', 'fem'), ('Jilly', 'fem'), ('Jinny', 'fem'), ('Jo', 'fem'), ('Jo Ann', 'fem'), ('Jo-Ann', 'fem'), ('JoAnn', 'fem'), ('Jo-Anne', 'fem'), ('JoAnne', 'fem'), ('Joan', 'fem'), ('Joana', 'fem'), ('Joane', 'fem'), ('Joanie', 'fem'), ('Joann', 'fem'), ('Joanna', 'fem'), ('Joanne', 'fem'), ('Joannes', 'fem'), ('Jobey', 'fem'), ('Jobi', 'fem'), ('Jobie', 'fem'), ('Jobina', 'fem'), ('Joby', 'fem'), ('Jobye', 'fem'), ('Jobyna', 'fem'), ('Jocelin', 'fem'), ('Joceline', 'fem'), ('Jocelyn', 'fem'), ('Jocelyne', 'fem'), ('Jodee', 'fem'), ('Jodi', 'fem'), ('Jodie', 'fem'), ('Jody', 'fem'), ('Joela', 'fem'), ('Joelie', 'fem'), ('Joell', 'fem'), ('Joella', 'fem'), ('Joelle', 'fem'), ('Joellen', 'fem'), ('Joelly', 'fem'), ('Joellyn', 'fem'), ('Joelynn', 'fem'), ('Joete', 'fem'), ('Joey', 'fem'), ('Johanna', 'fem'), ('Johannah', 'fem'), ('Johnette', 'fem'), ('Johnna', 'fem'), ('Joice', 'fem'), ('Jojo', 'fem'), ('Jolee', 'fem'), ('Joleen', 'fem'), ('Jolene', 'fem'), ('Joletta', 'fem'), ('Joli', 'fem'), ('Jolie', 'fem'), ('Joline', 'fem'), ('Joly', 'fem'), ('Jolyn', 'fem'), ('Jolynn', 'fem'), ('Jonell', 'fem'), ('Joni', 'fem'), ('Jonie', 'fem'), ('Jonis', 'fem'), ('Jordain', 'fem'), ('Jordan', 'fem'), ('Jordana', 'fem'), ('Jordanna', 'fem'), ('Jorey', 'fem'), ('Jori', 'fem'), ('Jorie', 'fem'), ('Jorrie', 'fem'), ('Jorry', 'fem'), ('Joscelin', 'fem'), ('Josee', 'fem'), ('Josefa', 'fem'), ('Josefina', 'fem'), ('Joselyn', 'fem'), ('Josepha', 'fem'), ('Josephina', 'fem'), ('Josephine', 'fem'), ('Josey', 'fem'), ('Josi', 'fem'), ('Josie', 'fem'), ('Joslyn', 'fem'), ('Josselyn', 'fem'), ('Josy', 'fem'), ('Jourdan', 'fem'), ('Joy', 'fem'), ('Joya', 'fem'), ('Joyan', 'fem'), ('Joyann', 'fem'), ('Joyce', 'fem'), ('Joycelin', 'fem'), ('Joye', 'fem'), ('Joyous', 'fem'), ('Juana', 'fem'), ('Juanita', 'fem'), ('Jude', 'fem'), ('Judi', 'fem'), ('Judie', 'fem'), ('Judith', 'fem'), ('Juditha', 'fem'), ('Judy', 'fem'), ('Judye', 'fem'), ('Julee', 'fem'), ('Juli', 'fem'), ('Julia', 'fem'), ('Juliana', 'fem'), ('Juliane', 'fem'), ('Juliann', 'fem'), ('Julianna', 'fem'), ('Julianne', 'fem'), ('Julie', 'fem'), ('Julienne', 'fem'), ('Juliet', 'fem'), ('Julieta', 'fem'), ('Julietta', 'fem'), ('Juliette', 'fem'), ('Julina', 'fem'), ('Juline', 'fem'), ('Julissa', 'fem'), ('Julita', 'fem'), ('June', 'fem'), ('Junette', 'fem'), ('Junia', 'fem'), ('Junie', 'fem'), ('Junina', 'fem'), ('Justin', 'fem'), ('Justina', 'fem'), ('Justine', 'fem'), ('Jyoti', 'fem'), ('Kaari', 'fem'), ('Kacey', 'fem'), ('Kacie', 'fem'), ('Kacy', 'fem'), ('Kai', 'fem'), ('Kaia', 'fem'), ('Kaila', 'fem'), ('Kaile', 'fem'), ('Kailey', 'fem'), ('Kaitlin', 'fem'), ('Kaitlyn', 'fem'), ('Kaitlynn', 'fem'), ('Kaja', 'fem'), ('Kakalina', 'fem'), ('Kala', 'fem'), ('Kaleena', 'fem'), ('Kali', 'fem'), ('Kalie', 'fem'), ('Kalila', 'fem'), ('Kalina', 'fem'), ('Kalinda', 'fem'), ('Kalindi', 'fem'), ('Kalli', 'fem'), ('Kally', 'fem'), ('Kameko', 'fem'), ('Kamila', 'fem'), ('Kamilah', 'fem'), ('Kamillah', 'fem'), ('Kandace', 'fem'), ('Kandy', 'fem'), ('Kania', 'fem'), ('Kanya', 'fem'), ('Kara', 'fem'), ('Kara-Lynn', 'fem'), ('Karalee', 'fem'), ('Karalynn', 'fem'), ('Kare', 'fem'), ('Karee', 'fem'), ('Karel', 'fem'), ('Karen', 'fem'), ('Karena', 'fem'), ('Kari', 'fem'), ('Karia', 'fem'), ('Karie', 'fem'), ('Karil', 'fem'), ('Karilynn', 'fem'), ('Karin', 'fem'), ('Karina', 'fem'), ('Karine', 'fem'), ('Kariotta', 'fem'), ('Karisa', 'fem'), ('Karissa', 'fem'), ('Karita', 'fem'), ('Karla', 'fem'), ('Karlee', 'fem'), ('Karleen', 'fem'), ('Karlen', 'fem'), ('Karlene', 'fem'), ('Karlie', 'fem'), ('Karlotta', 'fem'), ('Karlotte', 'fem'), ('Karly', 'fem'), ('Karlyn', 'fem'), ('Karmen', 'fem'), ('Karna', 'fem'), ('Karol', 'fem'), ('Karola', 'fem'), ('Karole', 'fem'), ('Karolina', 'fem'), ('Karoline', 'fem'), ('Karoly', 'fem'), ('Karon', 'fem'), ('Karrah', 'fem'), ('Karrie', 'fem'), ('Karry', 'fem'), ('Kary', 'fem'), ('Karyl', 'fem'), ('Karylin', 'fem'), ('Karyn', 'fem'), ('Kasey', 'fem'), ('Kass', 'fem'), ('Kassandra', 'fem'), ('Kassey', 'fem'), ('Kassi', 'fem'), ('Kassia', 'fem'), ('Kassie', 'fem'), ('Kaster', 'fem'), ('Kat', 'fem'), ('Kata', 'fem'), ('Katalin', 'fem'), ('Kate', 'fem'), ('Katee', 'fem'), ('Katerina', 'fem'), ('Katerine', 'fem'), ('Katey', 'fem'), ('Kath', 'fem'), ('Katha', 'fem'), ('Katharina', 'fem'), ('Katharine', 'fem'), ('Katharyn', 'fem'), ('Kathe', 'fem'), ('Katheleen', 'fem'), ('Katherina', 'fem'), ('Katherine', 'fem'), ('Katheryn', 'fem'), ('Kathi', 'fem'), ('Kathie', 'fem'), ('Kathleen', 'fem'), ('Kathlene', 'fem'), ('Kathlin', 'fem'), ('Kathrine', 'fem'), ('Kathryn', 'fem'), ('Kathryne', 'fem'), ('Kathy', 'fem'), ('Kathye', 'fem'), ('Kati', 'fem'), ('Katie', 'fem'), ('Katina', 'fem'), ('Katine', 'fem'), ('Katinka', 'fem'), ('Katleen', 'fem'), ('Katlin', 'fem'), ('Katrina', 'fem'), ('Katrine', 'fem'), ('Katrinka', 'fem'), ('Katti', 'fem'), ('Kattie', 'fem'), ('Katuscha', 'fem'), ('Katusha', 'fem'), ('Katy', 'fem'), ('Katya', 'fem'), ('Kay', 'fem'), ('Kaycee', 'fem'), ('Kaye', 'fem'), ('Kayla', 'fem'), ('Kayle', 'fem'), ('Kaylee', 'fem'), ('Kayley', 'fem'), ('Kaylil', 'fem'), ('Kaylyn', 'fem'), ('Kee', 'fem'), ('Keeley', 'fem'), ('Keelia', 'fem'), ('Keely', 'fem'), ('Kelcey', 'fem'), ('Kelci', 'fem'), ('Kelcie', 'fem'), ('Kelcy', 'fem'), ('Kelila', 'fem'), ('Kellen', 'fem'), ('Kelley', 'fem'), ('Kelli', 'fem'), ('Kellia', 'fem'), ('Kellie', 'fem'), ('Kellina', 'fem'), ('Kellsie', 'fem'), ('Kelly', 'fem'), ('Kellyann', 'fem'), ('Kelsey', 'fem'), ('Kelsi', 'fem'), ('Kelsy', 'fem'), ('Kendra', 'fem'), ('Kendre', 'fem'), ('Kenna', 'fem'), ('Keren', 'fem'), ('Keri', 'fem'), ('Keriann', 'fem'), ('Kerianne', 'fem'), ('Kerri', 'fem'), ('Kerrie', 'fem'), ('Kerrill', 'fem'), ('Kerrin', 'fem'), ('Kerry', 'fem'), ('Kerstin', 'fem'), ('Kesley', 'fem'), ('Keslie', 'fem'), ('Kessia', 'fem'), ('Kessiah', 'fem'), ('Ketti', 'fem'), ('Kettie', 'fem'), ('Ketty', 'fem'), ('Kevina', 'fem'), ('Kevyn', 'fem'), ('Ki', 'fem'), ('Kia', 'fem'), ('Kiah', 'fem'), ('Kial', 'fem'), ('Kiele', 'fem'), ('Kiersten', 'fem'), ('Kikelia', 'fem'), ('Kiley', 'fem'), ('Kim', 'fem'), ('Kimberlee', 'fem'), ('Kimberley', 'fem'), ('Kimberli', 'fem'), ('Kimberly', 'fem'), ('Kimberlyn', 'fem'), ('Kimbra', 'fem'), ('Kimmi', 'fem'), ('Kimmie', 'fem'), ('Kimmy', 'fem'), ('Kinna', 'fem'), ('Kip', 'fem'), ('Kipp', 'fem'), ('Kippie', 'fem'), ('Kippy', 'fem'), ('Kira', 'fem'), ('Kirbee', 'fem'), ('Kirbie', 'fem'), ('Kirby', 'fem'), ('Kiri', 'fem'), ('Kirsten', 'fem'), ('Kirsteni', 'fem'), ('Kirsti', 'fem'), ('Kirstie', 'fem'), ('Kirstin', 'fem'), ('Kirstyn', 'fem'), ('Kissee', 'fem'), ('Kissiah', 'fem'), ('Kissie', 'fem'), ('Kit', 'fem'), ('Kitti', 'fem'), ('Kittie', 'fem'), ('Kitty', 'fem'), ('Kizzee', 'fem'), ('Kizzie', 'fem'), ('Klara', 'fem'), ('Klarika', 'fem'), ('Klarrisa', 'fem'), ('Konstance', 'fem'), ('Konstanze', 'fem'), ('Koo', 'fem'), ('Kora', 'fem'), ('Koral', 'fem'), ('Koralle', 'fem'), ('Kordula', 'fem'), ('Kore', 'fem'), ('Korella', 'fem'), ('Koren', 'fem'), ('Koressa', 'fem'), ('Kori', 'fem'), ('Korie', 'fem'), ('Korney', 'fem'), ('Korrie', 'fem'), ('Korry', 'fem'), ('Kourtney', 'fem'), ('Kris', 'fem'), ('Krissie', 'fem'), ('Krissy', 'fem'), ('Krista', 'fem'), ('Kristal', 'fem'), ('Kristan', 'fem'), ('Kriste', 'fem'), ('Kristel', 'fem'), ('Kristen', 'fem'), ('Kristi', 'fem'), ('Kristien', 'fem'), ('Kristin', 'fem'), ('Kristina', 'fem'), ('Kristine', 'fem'), ('Kristy', 'fem'), ('Kristyn', 'fem'), ('Krysta', 'fem'), ('Krystal', 'fem'), ('Krystalle', 'fem'), ('Krystle', 'fem'), ('Krystyna', 'fem'), ('Kyla', 'fem'), ('Kyle', 'fem'), ('Kylen', 'fem'), ('Kylie', 'fem'), ('Kylila', 'fem'), ('Kylynn', 'fem'), ('Kym', 'fem'), ('Kynthia', 'fem'), ('Kyrstin', 'fem'), ('La', 'fem'), ('Lacee', 'fem'), ('Lacey', 'fem'), ('Lacie', 'fem'), ('Lacy', 'fem'), ('Ladonna', 'fem'), ('Laetitia', 'fem'), ('Laila', 'fem'), ('Laina', 'fem'), ('Lainey', 'fem'), ('Lamb', 'fem'), ('Lana', 'fem'), ('Lane', 'fem'), ('Lanette', 'fem'), ('Laney', 'fem'), ('Lani', 'fem'), ('Lanie', 'fem'), ('Lanita', 'fem'), ('Lanna', 'fem'), ('Lanni', 'fem'), ('Lanny', 'fem'), ('Lara', 'fem'), ('Laraine', 'fem'), ('Lari', 'fem'), ('Larina', 'fem'), ('Larine', 'fem'), ('Larisa', 'fem'), ('Larissa', 'fem'), ('Lark', 'fem'), ('Laryssa', 'fem'), ('Latashia', 'fem'), ('Latia', 'fem'), ('Latisha', 'fem'), ('Latrena', 'fem'), ('Latrina', 'fem'), ('Laura', 'fem'), ('Lauraine', 'fem'), ('Laural', 'fem'), ('Lauralee', 'fem'), ('Laure', 'fem'), ('Lauree', 'fem'), ('Laureen', 'fem'), ('Laurel', 'fem'), ('Laurella', 'fem'), ('Lauren', 'fem'), ('Laurena', 'fem'), ('Laurene', 'fem'), ('Lauretta', 'fem'), ('Laurette', 'fem'), ('Lauri', 'fem'), ('Laurianne', 'fem'), ('Laurice', 'fem'), ('Laurie', 'fem'), ('Lauryn', 'fem'), ('Lavena', 'fem'), ('Laverna', 'fem'), ('Laverne', 'fem'), ('Lavina', 'fem'), ('Lavinia', 'fem'), ('Lavinie', 'fem'), ('Layla', 'fem'), ('Layne', 'fem'), ('Layney', 'fem'), ('Lea', 'fem'), ('Leah', 'fem'), ('Leandra', 'fem'), ('Leann', 'fem'), ('Leanna', 'fem'), ('Leanne', 'fem'), ('Leanor', 'fem'), ('Leanora', 'fem'), ('Lebbie', 'fem'), ('Leda', 'fem'), ('Lee', 'fem'), ('LeeAnn', 'fem'), ('Leeann', 'fem'), ('Leeanne', 'fem'), ('Leela', 'fem'), ('Leelah', 'fem'), ('Leena', 'fem'), ('Leesa', 'fem'), ('Leese', 'fem'), ('Legra', 'fem'), ('Leia', 'fem'), ('Leiah', 'fem'), ('Leigh', 'fem'), ('Leigha', 'fem'), ('Leila', 'fem'), ('Leilah', 'fem'), ('Leisha', 'fem'), ('Lela', 'fem'), ('Lelah', 'fem'), ('Leland', 'fem'), ('Lelia', 'fem'), ('Lena', 'fem'), ('Lenee', 'fem'), ('Lenette', 'fem'), ('Lenka', 'fem'), ('Lenna', 'fem'), ('Lenora', 'fem'), ('Lenore', 'fem'), ('Leodora', 'fem'), ('Leoine', 'fem'), ('Leola', 'fem'), ('Leoline', 'fem'), ('Leona', 'fem'), ('Leonanie', 'fem'), ('Leone', 'fem'), ('Leonelle', 'fem'), ('Leonie', 'fem'), ('Leonora', 'fem'), ('Leonore', 'fem'), ('Leontine', 'fem'), ('Leontyne', 'fem'), ('Leora', 'fem'), ('Leorah', 'fem'), ('Leshia', 'fem'), ('Lesley', 'fem'), ('Lesli', 'fem'), ('Leslie', 'fem'), ('Lesly', 'fem'), ('Lesya', 'fem'), ('Leta', 'fem'), ('Lethia', 'fem'), ('Leticia', 'fem'), ('Letisha', 'fem'), ('Letitia', 'fem'), ('Letta', 'fem'), ('Letti', 'fem'), ('Lettie', 'fem'), ('Letty', 'fem'), ('Leyla', 'fem'), ('Lezlie', 'fem'), ('Lia', 'fem'), ('Lian', 'fem'), ('Liana', 'fem'), ('Liane', 'fem'), ('Lianna', 'fem'), ('Lianne', 'fem'), ('Lib', 'fem'), ('Libbey', 'fem'), ('Libbi', 'fem'), ('Libbie', 'fem'), ('Libby', 'fem'), ('Licha', 'fem'), ('Lida', 'fem'), ('Lidia', 'fem'), ('Lil', 'fem'), ('Lila', 'fem'), ('Lilah', 'fem'), ('Lilas', 'fem'), ('Lilia', 'fem'), ('Lilian', 'fem'), ('Liliane', 'fem'), ('Lilias', 'fem'), ('Lilith', 'fem'), ('Lilla', 'fem'), ('Lilli', 'fem'), ('Lillian', 'fem'), ('Lillis', 'fem'), ('Lilllie', 'fem'), ('Lilly', 'fem'), ('Lily', 'fem'), ('Lilyan', 'fem'), ('Lin', 'fem'), ('Lina', 'fem'), ('Lind', 'fem'), ('Linda', 'fem'), ('Lindi', 'fem'), ('Lindie', 'fem'), ('Lindsay', 'fem'), ('Lindsey', 'fem'), ('Lindsy', 'fem'), ('Lindy', 'fem'), ('Linea', 'fem'), ('Linell', 'fem'), ('Linet', 'fem'), ('Linette', 'fem'), ('Linn', 'fem'), ('Linnea', 'fem'), ('Linnell', 'fem'), ('Linnet', 'fem'), ('Linnie', 'fem'), ('Linzy', 'fem'), ('Liora', 'fem'), ('Liorah', 'fem'), ('Lira', 'fem'), ('Lisa', 'fem'), ('Lisabeth', 'fem'), ('Lisandra', 'fem'), ('Lisbeth', 'fem'), ('Lise', 'fem'), ('Lisetta', 'fem'), ('Lisette', 'fem'), ('Lisha', 'fem'), ('Lishe', 'fem'), ('Lissa', 'fem'), ('Lissi', 'fem'), ('Lissie', 'fem'), ('Lissy', 'fem'), ('Lita', 'fem'), ('Liuka', 'fem'), ('Livia', 'fem'), ('Liz', 'fem'), ('Liza', 'fem'), ('Lizabeth', 'fem'), ('Lizbeth', 'fem'), ('Lizette', 'fem'), ('Lizzie', 'fem'), ('Lizzy', 'fem'), ('Loella', 'fem'), ('Lois', 'fem'), ('Loise', 'fem'), ('Lola', 'fem'), ('Lolande', 'fem'), ('Loleta', 'fem'), ('Lolita', 'fem'), ('Lolly', 'fem'), ('Lona', 'fem'), ('Lonee', 'fem'), ('Loni', 'fem'), ('Lonna', 'fem'), ('Lonni', 'fem'), ('Lonnie', 'fem'), ('Lora', 'fem'), ('Lorain', 'fem'), ('Loraine', 'fem'), ('Loralee', 'fem'), ('Loralie', 'fem'), ('Loralyn', 'fem'), ('Loree', 'fem'), ('Loreen', 'fem'), ('Lorelei', 'fem'), ('Lorelle', 'fem'), ('Loren', 'fem'), ('Lorena', 'fem'), ('Lorene', 'fem'), ('Lorenza', 'fem'), ('Loretta', 'fem'), ('Lorettalorna', 'fem'), ('Lorette', 'fem'), ('Lori', 'fem'), ('Loria', 'fem'), ('Lorianna', 'fem'), ('Lorianne', 'fem'), ('Lorie', 'fem'), ('Lorilee', 'fem'), ('Lorilyn', 'fem'), ('Lorinda', 'fem'), ('Lorine', 'fem'), ('Lorita', 'fem'), ('Lorna', 'fem'), ('Lorne', 'fem'), ('Lorraine', 'fem'), ('Lorrayne', 'fem'), ('Lorri', 'fem'), ('Lorrie', 'fem'), ('Lorrin', 'fem'), ('Lorry', 'fem'), ('Lory', 'fem'), ('Lotta', 'fem'), ('Lotte', 'fem'), ('Lotti', 'fem'), ('Lottie', 'fem'), ('Lotty', 'fem'), ('Lou', 'fem'), ('Louella', 'fem'), ('Louisa', 'fem'), ('Louise', 'fem'), ('Louisette', 'fem'), ('Love', 'fem'), ('Luana', 'fem'), ('Luanna', 'fem'), ('Luce', 'fem'), ('Luci', 'fem'), ('Lucia', 'fem'), ('Luciana', 'fem'), ('Lucie', 'fem'), ('Lucienne', 'fem'), ('Lucila', 'fem'), ('Lucilia', 'fem'), ('Lucille', 'fem'), ('Lucina', 'fem'), ('Lucinda', 'fem'), ('Lucine', 'fem'), ('Lucita', 'fem'), ('Lucky', 'fem'), ('Lucretia', 'fem'), ('Lucy', 'fem'), ('Luella', 'fem'), ('Luelle', 'fem'), ('Luisa', 'fem'), ('Luise', 'fem'), ('Lula', 'fem'), ('Lulita', 'fem'), ('Lulu', 'fem'), ('Luna', 'fem'), ('Lura', 'fem'), ('Lurette', 'fem'), ('Lurleen', 'fem'), ('Lurlene', 'fem'), ('Lurline', 'fem'), ('Lusa', 'fem'), ('Lust', 'fem'), ('Lyda', 'fem'), ('Lydia', 'fem'), ('Lydie', 'fem'), ('Lyn', 'fem'), ('Lynda', 'fem'), ('Lynde', 'fem'), ('Lyndel', 'fem'), ('Lyndell', 'fem'), ('Lyndsay', 'fem'), ('Lyndsey', 'fem'), ('Lyndsie', 'fem'), ('Lyndy', 'fem'), ('Lynea', 'fem'), ('Lynelle', 'fem'), ('Lynett', 'fem'), ('Lynette', 'fem'), ('Lynn', 'fem'), ('Lynna', 'fem'), ('Lynne', 'fem'), ('Lynnea', 'fem'), ('Lynnell', 'fem'), ('Lynnelle', 'fem'), ('Lynnet', 'fem'), ('Lynnett', 'fem'), ('Lynnette', 'fem'), ('Lynsey', 'fem'), ('Lysandra', 'fem'), ('Lyssa', 'fem'), ('Mab', 'fem'), ('Mabel', 'fem'), ('Mabelle', 'fem'), ('Mable', 'fem'), ('Mada', 'fem'), ('Madalena', 'fem'), ('Madalyn', 'fem'), ('Maddalena', 'fem'), ('Maddi', 'fem'), ('Maddie', 'fem'), ('Maddy', 'fem'), ('Madel', 'fem'), ('Madelaine', 'fem'), ('Madeleine', 'fem'), ('Madelena', 'fem'), ('Madelene', 'fem'), ('Madelin', 'fem'), ('Madelina', 'fem'), ('Madeline', 'fem'), ('Madella', 'fem'), ('Madelle', 'fem'), ('Madelon', 'fem'), ('Madelyn', 'fem'), ('Madge', 'fem'), ('Madlen', 'fem'), ('Madlin', 'fem'), ('Madona', 'fem'), ('Madonna', 'fem'), ('Mady', 'fem'), ('Mae', 'fem'), ('Maegan', 'fem'), ('Mag', 'fem'), ('Magda', 'fem'), ('Magdaia', 'fem'), ('Magdalen', 'fem'), ('Magdalena', 'fem'), ('Magdalene', 'fem'), ('Maggee', 'fem'), ('Maggi', 'fem'), ('Maggie', 'fem'), ('Maggy', 'fem'), ('Magna', 'fem'), ('Mahala', 'fem'), ('Mahalia', 'fem'), ('Maia', 'fem'), ('Maible', 'fem'), ('Maiga', 'fem'), ('Mair', 'fem'), ('Maire', 'fem'), ('Mairead', 'fem'), ('Maisey', 'fem'), ('Maisie', 'fem'), ('Mala', 'fem'), ('Malanie', 'fem'), ('Malcah', 'fem'), ('Malena', 'fem'), ('Malia', 'fem'), ('Malina', 'fem'), ('Malinda', 'fem'), ('Malinde', 'fem'), ('Malissa', 'fem'), ('Malissia', 'fem'), ('Malka', 'fem'), ('Malkah', 'fem'), ('Mallissa', 'fem'), ('Mallorie', 'fem'), ('Mallory', 'fem'), ('Malorie', 'fem'), ('Malory', 'fem'), ('Malva', 'fem'), ('Malvina', 'fem'), ('Malynda', 'fem'), ('Mame', 'fem'), ('Mamie', 'fem'), ('Manda', 'fem'), ('Mandi', 'fem'), ('Mandie', 'fem'), ('Mandy', 'fem'), ('Manon', 'fem'), ('Manya', 'fem'), ('Mara', 'fem'), ('Marabel', 'fem'), ('Marcela', 'fem'), ('Marcelia', 'fem'), ('Marcella', 'fem'), ('Marcelle', 'fem'), ('Marcellina', 'fem'), ('Marcelline', 'fem'), ('Marchelle', 'fem'), ('Marci', 'fem'), ('Marcia', 'fem'), ('Marcie', 'fem'), ('Marcile', 'fem'), ('Marcille', 'fem'), ('Marcy', 'fem'), ('Mareah', 'fem'), ('Maren', 'fem'), ('Marena', 'fem'), ('Maressa', 'fem'), ('Marga', 'fem'), ('Margalit', 'fem'), ('Margalo', 'fem'), ('Margaret', 'fem'), ('Margareta', 'fem'), ('Margarete', 'fem'), ('Margaretha', 'fem'), ('Margarethe', 'fem'), ('Margaretta', 'fem'), ('Margarette', 'fem'), ('Margarita', 'fem'), ('Margaux', 'fem'), ('Marge', 'fem'), ('Margeaux', 'fem'), ('Margery', 'fem'), ('Marget', 'fem'), ('Margette', 'fem'), ('Margi', 'fem'), ('Margie', 'fem'), ('Margit', 'fem'), ('Marglerite', 'fem'), ('Margo', 'fem'), ('Margot', 'fem'), ('Margret', 'fem'), ('Marguerite', 'fem'), ('Margurite', 'fem'), ('Margy', 'fem'), ('Mari', 'fem'), ('Maria', 'fem'), ('Mariam', 'fem'), ('Marian', 'fem'), ('Mariana', 'fem'), ('Mariann', 'fem'), ('Marianna', 'fem'), ('Marianne', 'fem'), ('Maribel', 'fem'), ('Maribelle', 'fem'), ('Maribeth', 'fem'), ('Marice', 'fem'), ('Maridel', 'fem'), ('Marie', 'fem'), ('Marie-Ann', 'fem'), ('Marie-Jeanne', 'fem'), ('Marieann', 'fem'), ('Mariejeanne', 'fem'), ('Mariel', 'fem'), ('Mariele', 'fem'), ('Marielle', 'fem'), ('Mariellen', 'fem'), ('Marietta', 'fem'), ('Mariette', 'fem'), ('Marigold', 'fem'), ('Marijo', 'fem'), ('Marika', 'fem'), ('Marilee', 'fem'), ('Marilin', 'fem'), ('Marillin', 'fem'), ('Marilyn', 'fem'), ('Marin', 'fem'), ('Marina', 'fem'), ('Marinna', 'fem'), ('Marion', 'fem'), ('Mariquilla', 'fem'), ('Maris', 'fem'), ('Marisa', 'fem'), ('Mariska', 'fem'), ('Marissa', 'fem'), ('Marit', 'fem'), ('Marita', 'fem'), ('Maritsa', 'fem'), ('Mariya', 'fem'), ('Marj', 'fem'), ('Marja', 'fem'), ('Marje', 'fem'), ('Marji', 'fem'), ('Marjie', 'fem'), ('Marjorie', 'fem'), ('Marjory', 'fem'), ('Marjy', 'fem'), ('Marketa', 'fem'), ('Marla', 'fem'), ('Marlane', 'fem'), ('Marleah', 'fem'), ('Marlee', 'fem'), ('Marleen', 'fem'), ('Marlena', 'fem'), ('Marlene', 'fem'), ('Marley', 'fem'), ('Marlie', 'fem'), ('Marline', 'fem'), ('Marlo', 'fem'), ('Marlyn', 'fem'), ('Marna', 'fem'), ('Marne', 'fem'), ('Marney', 'fem'), ('Marni', 'fem'), ('Marnia', 'fem'), ('Marnie', 'fem'), ('Marquita', 'fem'), ('Marrilee', 'fem'), ('Marris', 'fem'), ('Marrissa', 'fem'), ('Marry', 'fem'), ('Marsha', 'fem'), ('Marsiella', 'fem'), ('Marta', 'fem'), ('Martelle', 'fem'), ('Martguerita', 'fem'), ('Martha', 'fem'), ('Marthe', 'fem'), ('Marthena', 'fem'), ('Marti', 'fem'), ('Martica', 'fem'), ('Martie', 'fem'), ('Martina', 'fem'), ('Martita', 'fem'), ('Marty', 'fem'), ('Martynne', 'fem'), ('Mary', 'fem'), ('Marya', 'fem'), ('Maryangelyn', 'fem'), ('Maryann', 'fem'), ('Maryanna', 'fem'), ('Maryanne', 'fem'), ('Marybelle', 'fem'), ('Marybeth', 'fem'), ('Maryellen', 'fem'), ('Maryjane', 'fem'), ('Maryjo', 'fem'), ('Maryl', 'fem'), ('Marylee', 'fem'), ('Marylin', 'fem'), ('Marylinda', 'fem'), ('Marylou', 'fem'), ('Marylynne', 'fem'), ('Maryrose', 'fem'), ('Marys', 'fem'), ('Marysa', 'fem'), ('Masha', 'fem'), ('Matelda', 'fem'), ('Mathilda', 'fem'), ('Mathilde', 'fem'), ('Matilda', 'fem'), ('Matilde', 'fem'), ('Matti', 'fem'), ('Mattie', 'fem'), ('Matty', 'fem'), ('Maud', 'fem'), ('Maude', 'fem'), ('Maudie', 'fem'), ('Maura', 'fem'), ('Maure', 'fem'), ('Maureen', 'fem'), ('Maureene', 'fem'), ('Maurene', 'fem'), ('Maurine', 'fem'), ('Maurise', 'fem'), ('Maurita', 'fem'), ('Mavis', 'fem'), ('Mavra', 'fem'), ('Max', 'fem'), ('Maxi', 'fem'), ('Maxie', 'fem'), ('Maxine', 'fem'), ('Maxy', 'fem'), ('May', 'fem'), ('Maya', 'fem'), ('Maybelle', 'fem'), ('Mayda', 'fem'), ('Maye', 'fem'), ('Mead', 'fem'), ('Meade', 'fem'), ('Meagan', 'fem'), ('Meaghan', 'fem'), ('Meara', 'fem'), ('Mechelle', 'fem'), ('Meg', 'fem'), ('Megan', 'fem'), ('Megen', 'fem'), ('Meggan', 'fem'), ('Meggi', 'fem'), ('Meggie', 'fem'), ('Meggy', 'fem'), ('Meghan', 'fem'), ('Meghann', 'fem'), ('Mehetabel', 'fem'), ('Mei', 'fem'), ('Meira', 'fem'), ('Mel', 'fem'), ('Mela', 'fem'), ('Melamie', 'fem'), ('Melania', 'fem'), ('Melanie', 'fem'), ('Melantha', 'fem'), ('Melany', 'fem'), ('Melba', 'fem'), ('Melesa', 'fem'), ('Melessa', 'fem'), ('Melicent', 'fem'), ('Melina', 'fem'), ('Melinda', 'fem'), ('Melinde', 'fem'), ('Melisa', 'fem'), ('Melisande', 'fem'), ('Melisandra', 'fem'), ('Melisenda', 'fem'), ('Melisent', 'fem'), ('Melissa', 'fem'), ('Melisse', 'fem'), ('Melita', 'fem'), ('Melitta', 'fem'), ('Mella', 'fem'), ('Melli', 'fem'), ('Mellicent', 'fem'), ('Mellie', 'fem'), ('Mellisa', 'fem'), ('Mellisent', 'fem'), ('Mellissa', 'fem'), ('Melloney', 'fem'), ('Melly', 'fem'), ('Melodee', 'fem'), ('Melodie', 'fem'), ('Melody', 'fem'), ('Melonie', 'fem'), ('Melony', 'fem'), ('Melosa', 'fem'), ('Melva', 'fem'), ('Mercedes', 'fem'), ('Merci', 'fem'), ('Mercie', 'fem'), ('Mercy', 'fem'), ('Meredith', 'fem'), ('Meredithe', 'fem'), ('Meridel', 'fem'), ('Meridith', 'fem'), ('Meriel', 'fem'), ('Merilee', 'fem'), ('Merilyn', 'fem'), ('Meris', 'fem'), ('Merissa', 'fem'), ('Merl', 'fem'), ('Merla', 'fem'), ('Merle', 'fem'), ('Merlina', 'fem'), ('Merline', 'fem'), ('Merna', 'fem'), ('Merola', 'fem'), ('Merralee', 'fem'), ('Merridie', 'fem'), ('Merrie', 'fem'), ('Merrielle', 'fem'), ('Merrile', 'fem'), ('Merrilee', 'fem'), ('Merrili', 'fem'), ('Merrill', 'fem'), ('Merrily', 'fem'), ('Merry', 'fem'), ('Mersey', 'fem'), ('Meryl', 'fem'), ('Meta', 'fem'), ('Mia', 'fem'), ('Micaela', 'fem'), ('Michaela', 'fem'), ('Michaelina', 'fem'), ('Michaeline', 'fem'), ('Michaella', 'fem'), ('Michal', 'fem'), ('Michel', 'fem'), ('Michele', 'fem'), ('Michelina', 'fem'), ('Micheline', 'fem'), ('Michell', 'fem'), ('Michelle', 'fem'), ('Micki', 'fem'), ('Mickie', 'fem'), ('Micky', 'fem'), ('Midge', 'fem'), ('Mignon', 'fem'), ('Mignonne', 'fem'), ('Miguela', 'fem'), ('Miguelita', 'fem'), ('Mikako', 'fem'), ('Mildred', 'fem'), ('Mildrid', 'fem'), ('Milena', 'fem'), ('Milicent', 'fem'), ('Milissent', 'fem'), ('Milka', 'fem'), ('Milli', 'fem'), ('Millicent', 'fem'), ('Millie', 'fem'), ('Millisent', 'fem'), ('Milly', 'fem'), ('Milzie', 'fem'), ('Mimi', 'fem'), ('Min', 'fem'), ('Mina', 'fem'), ('Minda', 'fem'), ('Mindy', 'fem'), ('Minerva', 'fem'), ('Minetta', 'fem'), ('Minette', 'fem'), ('Minna', 'fem'), ('Minni', 'fem'), ('Minnie', 'fem'), ('Minny', 'fem'), ('Minta', 'fem'), ('Miquela', 'fem'), ('Mira', 'fem'), ('Mirabel', 'fem'), ('Mirabella', 'fem'), ('Mirabelle', 'fem'), ('Miran', 'fem'), ('Miranda', 'fem'), ('Mireielle', 'fem'), ('Mireille', 'fem'), ('Mirella', 'fem'), ('Mirelle', 'fem'), ('Miriam', 'fem'), ('Mirilla', 'fem'), ('Mirna', 'fem'), ('Misha', 'fem'), ('Missie', 'fem'), ('Missy', 'fem'), ('Misti', 'fem'), ('Misty', 'fem'), ('Mitra', 'fem'), ('Mitzi', 'fem'), ('Mmarianne', 'fem'), ('Modesta', 'fem'), ('Modestia', 'fem'), ('Modestine', 'fem'), ('Modesty', 'fem'), ('Moina', 'fem'), ('Moira', 'fem'), ('Moll', 'fem'), ('Mollee', 'fem'), ('Molli', 'fem'), ('Mollie', 'fem'), ('Molly', 'fem'), ('Mommy', 'fem'), ('Mona', 'fem'), ('Monah', 'fem'), ('Monica', 'fem'), ('Monika', 'fem'), ('Monique', 'fem'), ('Mora', 'fem'), ('Moreen', 'fem'), ('Morena', 'fem'), ('Morgan', 'fem'), ('Morgana', 'fem'), ('Morganica', 'fem'), ('Morganne', 'fem'), ('Morgen', 'fem'), ('Moria', 'fem'), ('Morissa', 'fem'), ('Morlee', 'fem'), ('Morna', 'fem'), ('Moselle', 'fem'), ('Moya', 'fem'), ('Moyna', 'fem'), ('Moyra', 'fem'), ('Mozelle', 'fem'), ('Muffin', 'fem'), ('Mufi', 'fem'), ('Mufinella', 'fem'), ('Muire', 'fem'), ('Mureil', 'fem'), ('Murial', 'fem'), ('Muriel', 'fem'), ('Murielle', 'fem'), ('Myna', 'fem'), ('Myra', 'fem'), ('Myrah', 'fem'), ('Myranda', 'fem'), ('Myriam', 'fem'), ('Myrilla', 'fem'), ('Myrle', 'fem'), ('Myrlene', 'fem'), ('Myrna', 'fem'), ('Myrta', 'fem'), ('Myrtia', 'fem'), ('Myrtice', 'fem'), ('Myrtie', 'fem'), ('Myrtle', 'fem'), ('Nada', 'fem'), ('Nadean', 'fem'), ('Nadeen', 'fem'), ('Nadia', 'fem'), ('Nadine', 'fem'), ('Nadiya', 'fem'), ('Nady', 'fem'), ('Nadya', 'fem'), ('Nalani', 'fem'), ('Nan', 'fem'), ('Nana', 'fem'), ('Nananne', 'fem'), ('Nance', 'fem'), ('Nancee', 'fem'), ('Nancey', 'fem'), ('Nanci', 'fem'), ('Nancie', 'fem'), ('Nancy', 'fem'), ('Nanete', 'fem'), ('Nanette', 'fem'), ('Nani', 'fem'), ('Nanice', 'fem'), ('Nanine', 'fem'), ('Nannette', 'fem'), ('Nanni', 'fem'), ('Nannie', 'fem'), ('Nanny', 'fem'), ('Nanon', 'fem'), ('Naoma', 'fem'), ('Naomi', 'fem'), ('Nara', 'fem'), ('Nari', 'fem'), ('Nariko', 'fem'), ('Nat', 'fem'), ('Nata', 'fem'), ('Natala', 'fem'), ('Natalee', 'fem'), ('Natalia', 'fem'), ('Natalie', 'fem'), ('Natalina', 'fem'), ('Nataline', 'fem'), ('Natalya', 'fem'), ('Natasha', 'fem'), ('Natassia', 'fem'), ('Nathalia', 'fem'), ('Nathalie', 'fem'), ('Natka', 'fem'), ('Natty', 'fem'), ('Neala', 'fem'), ('Neda', 'fem'), ('Nedda', 'fem'), ('Nedi', 'fem'), ('Neely', 'fem'), ('Neila', 'fem'), ('Neile', 'fem'), ('Neilla', 'fem'), ('Neille', 'fem'), ('Nela', 'fem'), ('Nelia', 'fem'), ('Nelie', 'fem'), ('Nell', 'fem'), ('Nelle', 'fem'), ('Nelli', 'fem'), ('Nellie', 'fem'), ('Nelly', 'fem'), ('Nena', 'fem'), ('Nerissa', 'fem'), ('Nerita', 'fem'), ('Nert', 'fem'), ('Nerta', 'fem'), ('Nerte', 'fem'), ('Nerti', 'fem'), ('Nertie', 'fem'), ('Nerty', 'fem'), ('Nessa', 'fem'), ('Nessi', 'fem'), ('Nessie', 'fem'), ('Nessy', 'fem'), ('Nesta', 'fem'), ('Netta', 'fem'), ('Netti', 'fem'), ('Nettie', 'fem'), ('Nettle', 'fem'), ('Netty', 'fem'), ('Nevsa', 'fem'), ('Neysa', 'fem'), ('Nichol', 'fem'), ('Nichole', 'fem'), ('Nicholle', 'fem'), ('Nicki', 'fem'), ('Nickie', 'fem'), ('Nicky', 'fem'), ('Nicol', 'fem'), ('Nicola', 'fem'), ('Nicole', 'fem'), ('Nicolea', 'fem'), ('Nicolette', 'fem'), ('Nicoli', 'fem'), ('Nicolina', 'fem'), ('Nicoline', 'fem'), ('Nicolle', 'fem'), ('Nidia', 'fem'), ('Nike', 'fem'), ('Niki', 'fem'), ('Nikki', 'fem'), ('Nikkie', 'fem'), ('Nikoletta', 'fem'), ('Nikolia', 'fem'), ('Nil', 'fem'), ('Nina', 'fem'), ('Ninetta', 'fem'), ('Ninette', 'fem'), ('Ninnetta', 'fem'), ('Ninnette', 'fem'), ('Ninon', 'fem'), ('Nisa', 'fem'), ('Nissa', 'fem'), ('Nisse', 'fem'), ('Nissie', 'fem'), ('Nissy', 'fem'), ('Nita', 'fem'), ('Nitin', 'fem'), ('Nixie', 'fem'), ('Noami', 'fem'), ('Noel', 'fem'), ('Noelani', 'fem'), ('Noell', 'fem'), ('Noella', 'fem'), ('Noelle', 'fem'), ('Noellyn', 'fem'), ('Noelyn', 'fem'), ('Noemi', 'fem'), ('Nola', 'fem'), ('Nolana', 'fem'), ('Nolie', 'fem'), ('Nollie', 'fem'), ('Nomi', 'fem'), ('Nona', 'fem'), ('Nonah', 'fem'), ('Noni', 'fem'), ('Nonie', 'fem'), ('Nonna', 'fem'), ('Nonnah', 'fem'), ('Nora', 'fem'), ('Norah', 'fem'), ('Norean', 'fem'), ('Noreen', 'fem'), ('Norene', 'fem'), ('Norina', 'fem'), ('Norine', 'fem'), ('Norma', 'fem'), ('Norri', 'fem'), ('Norrie', 'fem'), ('Norry', 'fem'), ('Nova', 'fem'), ('Novelia', 'fem'), ('Nydia', 'fem'), ('Nyssa', 'fem'), ('Octavia', 'fem'), ('Odele', 'fem'), ('Odelia', 'fem'), ('Odelinda', 'fem'), ('Odella', 'fem'), ('Odelle', 'fem'), ('Odessa', 'fem'), ('Odetta', 'fem'), ('Odette', 'fem'), ('Odilia', 'fem'), ('Odille', 'fem'), ('Ofelia', 'fem'), ('Ofella', 'fem'), ('Ofilia', 'fem'), ('Ola', 'fem'), ('Olenka', 'fem'), ('Olga', 'fem'), ('Olia', 'fem'), ('Olimpia', 'fem'), ('Olive', 'fem'), ('Olivette', 'fem'), ('Olivia', 'fem'), ('Olivie', 'fem'), ('Oliy', 'fem'), ('Ollie', 'fem'), ('Olly', 'fem'), ('Olva', 'fem'), ('Olwen', 'fem'), ('Olympe', 'fem'), ('Olympia', 'fem'), ('Olympie', 'fem'), ('Ondrea', 'fem'), ('Oneida', 'fem'), ('Onida', 'fem'), ('Onlea', 'fem'), ('Oona', 'fem'), ('Opal', 'fem'), ('Opalina', 'fem'), ('Opaline', 'fem'), ('Ophelia', 'fem'), ('Ophelie', 'fem'), ('Oprah', 'fem'), ('Ora', 'fem'), ('Oralee', 'fem'), ('Oralia', 'fem'), ('Oralie', 'fem'), ('Oralla', 'fem'), ('Oralle', 'fem'), ('Orel', 'fem'), ('Orelee', 'fem'), ('Orelia', 'fem'), ('Orelie', 'fem'), ('Orella', 'fem'), ('Orelle', 'fem'), ('Oreste', 'fem'), ('Oriana', 'fem'), ('Orly', 'fem'), ('Orsa', 'fem'), ('Orsola', 'fem'), ('Ortensia', 'fem'), ('Otha', 'fem'), ('Othelia', 'fem'), ('Othella', 'fem'), ('Othilia', 'fem'), ('Othilie', 'fem'), ('Ottilie', 'fem'), ('Pacifica', 'fem'), ('Page', 'fem'), ('Paige', 'fem'), ('Paloma', 'fem'), ('Pam', 'fem'), ('Pamela', 'fem'), ('Pamelina', 'fem'), ('Pamella', 'fem'), ('Pammi', 'fem'), ('Pammie', 'fem'), ('Pammy', 'fem'), ('Pandora', 'fem'), ('Pansie', 'fem'), ('Pansy', 'fem'), ('Paola', 'fem'), ('Paolina', 'fem'), ('Parwane', 'fem'), ('Pat', 'fem'), ('Patience', 'fem'), ('Patrica', 'fem'), ('Patrice', 'fem'), ('Patricia', 'fem'), ('Patrizia', 'fem'), ('Patsy', 'fem'), ('Patti', 'fem'), ('Pattie', 'fem'), ('Patty', 'fem'), ('Paula', 'fem'), ('Paula-Grace', 'fem'), ('Paule', 'fem'), ('Pauletta', 'fem'), ('Paulette', 'fem'), ('Pauli', 'fem'), ('Paulie', 'fem'), ('Paulina', 'fem'), ('Pauline', 'fem'), ('Paulita', 'fem'), ('Pauly', 'fem'), ('Pavia', 'fem'), ('Pavla', 'fem'), ('Pearl', 'fem'), ('Pearla', 'fem'), ('Pearle', 'fem'), ('Pearline', 'fem'), ('Peg', 'fem'), ('Pegeen', 'fem'), ('Peggi', 'fem'), ('Peggie', 'fem'), ('Peggy', 'fem'), ('Pen', 'fem'), ('Penelopa', 'fem'), ('Penelope', 'fem'), ('Penni', 'fem'), ('Pennie', 'fem'), ('Penny', 'fem'), ('Pepi', 'fem'), ('Pepita', 'fem'), ('Peri', 'fem'), ('Peria', 'fem'), ('Perl', 'fem'), ('Perla', 'fem'), ('Perle', 'fem'), ('Perri', 'fem'), ('Perrine', 'fem'), ('Perry', 'fem'), ('Persis', 'fem'), ('Pet', 'fem'), ('Peta', 'fem'), ('Petra', 'fem'), ('Petrina', 'fem'), ('Petronella', 'fem'), ('Petronia', 'fem'), ('Petronilla', 'fem'), ('Petronille', 'fem'), ('Petunia', 'fem'), ('Phaedra', 'fem'), ('Phaidra', 'fem'), ('Phebe', 'fem'), ('Phedra', 'fem'), ('Phelia', 'fem'), ('Phil', 'fem'), ('Philipa', 'fem'), ('Philippa', 'fem'), ('Philippe', 'fem'), ('Philippine', 'fem'), ('Philis', 'fem'), ('Phillida', 'fem'), ('Phillie', 'fem'), ('Phillis', 'fem'), ('Philly', 'fem'), ('Philomena', 'fem'), ('Phoebe', 'fem'), ('Phylis', 'fem'), ('Phyllida', 'fem'), ('Phyllis', 'fem'), ('Phyllys', 'fem'), ('Phylys', 'fem'), ('Pia', 'fem'), ('Pier', 'fem'), ('Pierette', 'fem'), ('Pierrette', 'fem'), ('Pietra', 'fem'), ('Piper', 'fem'), ('Pippa', 'fem'), ('Pippy', 'fem'), ('Polly', 'fem'), ('Pollyanna', 'fem'), ('Pooh', 'fem'), ('Poppy', 'fem'), ('Portia', 'fem'), ('Pris', 'fem'), ('Prisca', 'fem'), ('Priscella', 'fem'), ('Priscilla', 'fem'), ('Prissie', 'fem'), ('Pru', 'fem'), ('Prudence', 'fem'), ('Prudi', 'fem'), ('Prudy', 'fem'), ('Prue', 'fem'), ('Prunella', 'fem'), ('Queada', 'fem'), ('Queenie', 'fem'), ('Quentin', 'fem'), ('Querida', 'fem'), ('Quinn', 'fem'), ('Quinta', 'fem'), ('Quintana', 'fem'), ('Quintilla', 'fem'), ('Quintina', 'fem'), ('Rachael', 'fem'), ('Rachel', 'fem'), ('Rachele', 'fem'), ('Rachelle', 'fem'), ('Rae', 'fem'), ('Raf', 'fem'), ('Rafa', 'fem'), ('Rafaela', 'fem'), ('Rafaelia', 'fem'), ('Rafaelita', 'fem'), ('Ragnhild', 'fem'), ('Rahal', 'fem'), ('Rahel', 'fem'), ('Raina', 'fem'), ('Raine', 'fem'), ('Rakel', 'fem'), ('Ralina', 'fem'), ('Ramona', 'fem'), ('Ramonda', 'fem'), ('Rana', 'fem'), ('Randa', 'fem'), ('Randee', 'fem'), ('Randene', 'fem'), ('Randi', 'fem'), ('Randie', 'fem'), ('Randy', 'fem'), ('Ranee', 'fem'), ('Rani', 'fem'), ('Rania', 'fem'), ('Ranice', 'fem'), ('Ranique', 'fem'), ('Ranna', 'fem'), ('Raphaela', 'fem'), ('Raquel', 'fem'), ('Raquela', 'fem'), ('Rasia', 'fem'), ('Rasla', 'fem'), ('Raven', 'fem'), ('Ray', 'fem'), ('Raychel', 'fem'), ('Raye', 'fem'), ('Rayna', 'fem'), ('Raynell', 'fem'), ('Rayshell', 'fem'), ('Rea', 'fem'), ('Reba', 'fem'), ('Rebbecca', 'fem'), ('Rebe', 'fem'), ('Rebeca', 'fem'), ('Rebecca', 'fem'), ('Rebecka', 'fem'), ('Rebeka', 'fem'), ('Rebekah', 'fem'), ('Rebekkah', 'fem'), ('Ree', 'fem'), ('Reeba', 'fem'), ('Reena', 'fem'), ('Reeta', 'fem'), ('Reeva', 'fem'), ('Regan', 'fem'), ('Reggi', 'fem'), ('Reggie', 'fem'), ('Regina', 'fem'), ('Regine', 'fem'), ('Reiko', 'fem'), ('Reina', 'fem'), ('Reine', 'fem'), ('Remy', 'fem'), ('Rena', 'fem'), ('Renae', 'fem'), ('Renata', 'fem'), ('Renate', 'fem'), ('Rene', 'fem'), ('Renee', 'fem'), ('Renel', 'fem'), ('Renell', 'fem'), ('Renelle', 'fem'), ('Renie', 'fem'), ('Rennie', 'fem'), ('Reta', 'fem'), ('Retha', 'fem'), ('Revkah', 'fem'), ('Rey', 'fem'), ('Reyna', 'fem'), ('Rhea', 'fem'), ('Rheba', 'fem'), ('Rheta', 'fem'), ('Rhetta', 'fem'), ('Rhiamon', 'fem'), ('Rhianna', 'fem'), ('Rhianon', 'fem'), ('Rhoda', 'fem'), ('Rhodia', 'fem'), ('Rhodie', 'fem'), ('Rhody', 'fem'), ('Rhona', 'fem'), ('Rhonda', 'fem'), ('Riane', 'fem'), ('Riannon', 'fem'), ('Rianon', 'fem'), ('Rica', 'fem'), ('Ricca', 'fem'), ('Rici', 'fem'), ('Ricki', 'fem'), ('Rickie', 'fem'), ('Ricky', 'fem'), ('Riki', 'fem'), ('Rikki', 'fem'), ('Rina', 'fem'), ('Risa', 'fem'), ('Rissa', 'fem'), ('Rita', 'fem'), ('Riva', 'fem'), ('Rivalee', 'fem'), ('Rivi', 'fem'), ('Rivkah', 'fem'), ('Rivy', 'fem'), ('Roana', 'fem'), ('Roanna', 'fem'), ('Roanne', 'fem'), ('Robbi', 'fem'), ('Robbie', 'fem'), ('Robbin', 'fem'), ('Robby', 'fem'), ('Robbyn', 'fem'), ('Robena', 'fem'), ('Robenia', 'fem'), ('Roberta', 'fem'), ('Robin', 'fem'), ('Robina', 'fem'), ('Robinet', 'fem'), ('Robinett', 'fem'), ('Robinetta', 'fem'), ('Robinette', 'fem'), ('Robinia', 'fem'), ('Roby', 'fem'), ('Robyn', 'fem'), ('Roch', 'fem'), ('Rochell', 'fem'), ('Rochella', 'fem'), ('Rochelle', 'fem'), ('Rochette', 'fem'), ('Roda', 'fem'), ('Rodi', 'fem'), ('Rodie', 'fem'), ('Rodina', 'fem'), ('Romola', 'fem'), ('Romona', 'fem'), ('Romonda', 'fem'), ('Romy', 'fem'), ('Rona', 'fem'), ('Ronalda', 'fem'), ('Ronda', 'fem'), ('Ronica', 'fem'), ('Ronna', 'fem'), ('Ronni', 'fem'), ('Ronnica', 'fem'), ('Ronnie', 'fem'), ('Ronny', 'fem'), ('Roobbie', 'fem'), ('Rora', 'fem'), ('Rori', 'fem'), ('Rorie', 'fem'), ('Rory', 'fem'), ('Ros', 'fem'), ('Rosa', 'fem'), ('Rosabel', 'fem'), ('Rosabella', 'fem'), ('Rosabelle', 'fem'), ('Rosaleen', 'fem'), ('Rosalia', 'fem'), ('Rosalie', 'fem'), ('Rosalind', 'fem'), ('Rosalinda', 'fem'), ('Rosalinde', 'fem'), ('Rosaline', 'fem'), ('Rosalyn', 'fem'), ('Rosalynd', 'fem'), ('Rosamond', 'fem'), ('Rosamund', 'fem'), ('Rosana', 'fem'), ('Rosanna', 'fem'), ('Rosanne', 'fem'), ('Rosario', 'fem'), ('Rose', 'fem'), ('Roseann', 'fem'), ('Roseanna', 'fem'), ('Roseanne', 'fem'), ('Roselia', 'fem'), ('Roselin', 'fem'), ('Roseline', 'fem'), ('Rosella', 'fem'), ('Roselle', 'fem'), ('Roselyn', 'fem'), ('Rosemaria', 'fem'), ('Rosemarie', 'fem'), ('Rosemary', 'fem'), ('Rosemonde', 'fem'), ('Rosene', 'fem'), ('Rosetta', 'fem'), ('Rosette', 'fem'), ('Roshelle', 'fem'), ('Rosie', 'fem'), ('Rosina', 'fem'), ('Rosita', 'fem'), ('Roslyn', 'fem'), ('Rosmunda', 'fem'), ('Rosy', 'fem'), ('Row', 'fem'), ('Rowe', 'fem'), ('Rowena', 'fem'), ('Roxana', 'fem'), ('Roxane', 'fem'), ('Roxanna', 'fem'), ('Roxanne', 'fem'), ('Roxi', 'fem'), ('Roxie', 'fem'), ('Roxine', 'fem'), ('Roxy', 'fem'), ('Roz', 'fem'), ('Rozalie', 'fem'), ('Rozalin', 'fem'), ('Rozamond', 'fem'), ('Rozanna', 'fem'), ('Rozanne', 'fem'), ('Roze', 'fem'), ('Rozele', 'fem'), ('Rozella', 'fem'), ('Rozelle', 'fem'), ('Rozina', 'fem'), ('Rubetta', 'fem'), ('Rubi', 'fem'), ('Rubia', 'fem'), ('Rubie', 'fem'), ('Rubina', 'fem'), ('Ruby', 'fem'), ('Ruella', 'fem'), ('Ruperta', 'fem'), ('Ruth', 'fem'), ('Ruthann', 'fem'), ('Ruthanne', 'fem'), ('Ruthe', 'fem'), ('Ruthi', 'fem'), ('Ruthie', 'fem'), ('Ruthy', 'fem'), ('Ryann', 'fem'), ('Rycca', 'fem'), ('Saba', 'fem'), ('Sabina', 'fem'), ('Sabine', 'fem'), ('Sabra', 'fem'), ('Sabrina', 'fem'), ('Sacha', 'fem'), ('Sada', 'fem'), ('Sadella', 'fem'), ('Sadie', 'fem'), ('Sal', 'fem'), ('Sallee', 'fem'), ('Salli', 'fem'), ('Sallie', 'fem'), ('Sally', 'fem'), ('Sallyann', 'fem'), ('Sallyanne', 'fem'), ('Salome', 'fem'), ('Sam', 'fem'), ('Samantha', 'fem'), ('Samara', 'fem'), ('Samaria', 'fem'), ('Sammy', 'fem'), ('Samuela', 'fem'), ('Samuella', 'fem'), ('Sande', 'fem'), ('Sandi', 'fem'), ('Sandie', 'fem'), ('Sandra', 'fem'), ('Sandy', 'fem'), ('Sandye', 'fem'), ('Sapphira', 'fem'), ('Sapphire', 'fem'), ('Sara', 'fem'), ('Sara-Ann', 'fem'), ('Saraann', 'fem'), ('Sarah', 'fem'), ('Sarajane', 'fem'), ('Saree', 'fem'), ('Sarena', 'fem'), ('Sarene', 'fem'), ('Sarette', 'fem'), ('Sari', 'fem'), ('Sarina', 'fem'), ('Sarine', 'fem'), ('Sarita', 'fem'), ('Sascha', 'fem'), ('Sasha', 'fem'), ('Sashenka', 'fem'), ('Saudra', 'fem'), ('Saundra', 'fem'), ('Savina', 'fem'), ('Sayre', 'fem'), ('Scarlet', 'fem'), ('Scarlett', 'fem'), ('Scotty', 'fem'), ('Sean', 'fem'), ('Seana', 'fem'), ('Secunda', 'fem'), ('Seka', 'fem'), ('Sela', 'fem'), ('Selena', 'fem'), ('Selene', 'fem'), ('Selestina', 'fem'), ('Selia', 'fem'), ('Selie', 'fem'), ('Selina', 'fem'), ('Selinda', 'fem'), ('Seline', 'fem'), ('Sella', 'fem'), ('Selle', 'fem'), ('Selma', 'fem'), ('Sena', 'fem'), ('Sephira', 'fem'), ('Serena', 'fem'), ('Serene', 'fem'), ('Shaina', 'fem'), ('Shaine', 'fem'), ('Shalna', 'fem'), ('Shalne', 'fem'), ('Shamit', 'fem'), ('Shana', 'fem'), ('Shanda', 'fem'), ('Shandee', 'fem'), ('Shandie', 'fem'), ('Shandra', 'fem'), ('Shandy', 'fem'), ('Shane', 'fem'), ('Shani', 'fem'), ('Shanie', 'fem'), ('Shanna', 'fem'), ('Shannah', 'fem'), ('Shannen', 'fem'), ('Shannon', 'fem'), ('Shanon', 'fem'), ('Shanta', 'fem'), ('Shantee', 'fem'), ('Shara', 'fem'), ('Sharai', 'fem'), ('Shari', 'fem'), ('Sharia', 'fem'), ('Sharie', 'fem'), ('Sharity', 'fem'), ('Sharl', 'fem'), ('Sharla', 'fem'), ('Sharleen', 'fem'), ('Sharlene', 'fem'), ('Sharline', 'fem'), ('Sharna', 'fem'), ('Sharon', 'fem'), ('Sharona', 'fem'), ('Sharra', 'fem'), ('Sharron', 'fem'), ('Sharyl', 'fem'), ('Shaun', 'fem'), ('Shauna', 'fem'), ('Shawn', 'fem'), ('Shawna', 'fem'), ('Shawnee', 'fem'), ('Shay', 'fem'), ('Shayla', 'fem'), ('Shaylah', 'fem'), ('Shaylyn', 'fem'), ('Shaylynn', 'fem'), ('Shayna', 'fem'), ('Shayne', 'fem'), ('Shea', 'fem'), ('Sheba', 'fem'), ('Sheela', 'fem'), ('Sheelagh', 'fem'), ('Sheelah', 'fem'), ('Sheena', 'fem'), ('Sheeree', 'fem'), ('Sheila', 'fem'), ('Sheila-Kathryn', 'fem'), ('Sheilah', 'fem'), ('Sheilakathryn', 'fem'), ('Shel', 'fem'), ('Shela', 'fem'), ('Shelagh', 'fem'), ('Shelba', 'fem'), ('Shelbi', 'fem'), ('Shelby', 'fem'), ('Shelia', 'fem'), ('Shell', 'fem'), ('Shelley', 'fem'), ('Shelli', 'fem'), ('Shellie', 'fem'), ('Shelly', 'fem'), ('Shena', 'fem'), ('Sher', 'fem'), ('Sheree', 'fem'), ('Sheri', 'fem'), ('Sherie', 'fem'), ('Sheril', 'fem'), ('Sherill', 'fem'), ('Sherilyn', 'fem'), ('Sherline', 'fem'), ('Sherri', 'fem'), ('Sherrie', 'fem'), ('Sherry', 'fem'), ('Sherye', 'fem'), ('Sheryl', 'fem'), ('Shilpa', 'fem'), ('Shina', 'fem'), ('Shir', 'fem'), ('Shira', 'fem'), ('Shirah', 'fem'), ('Shirl', 'fem'), ('Shirlee', 'fem'), ('Shirleen', 'fem'), ('Shirlene', 'fem'), ('Shirley', 'fem'), ('Shirline', 'fem'), ('Shoshana', 'fem'), ('Shoshanna', 'fem'), ('Shoshie', 'fem'), ('Siana', 'fem'), ('Sianna', 'fem'), ('Sib', 'fem'), ('Sibbie', 'fem'), ('Sibby', 'fem'), ('Sibeal', 'fem'), ('Sibel', 'fem'), ('Sibella', 'fem'), ('Sibelle', 'fem'), ('Sibilla', 'fem'), ('Sibley', 'fem'), ('Sibyl', 'fem'), ('Sibylla', 'fem'), ('Sibylle', 'fem'), ('Sidoney', 'fem'), ('Sidonia', 'fem'), ('Sidonnie', 'fem'), ('Sigrid', 'fem'), ('Sile', 'fem'), ('Sileas', 'fem'), ('Silva', 'fem'), ('Silvana', 'fem'), ('Silvia', 'fem'), ('Silvie', 'fem'), ('Simona', 'fem'), ('Simone', 'fem'), ('Simonette', 'fem'), ('Simonne', 'fem'), ('Sindee', 'fem'), ('Sinead', 'fem'), ('Siobhan', 'fem'), ('Sioux', 'fem'), ('Siouxie', 'fem'), ('Sisely', 'fem'), ('Sisile', 'fem'), ('Sissie', 'fem'), ('Sissy', 'fem'), ('Sofia', 'fem'), ('Sofie', 'fem'), ('Solange', 'fem'), ('Sondra', 'fem'), ('Sonia', 'fem'), ('Sonja', 'fem'), ('Sonni', 'fem'), ('Sonnie', 'fem'), ('Sonnnie', 'fem'), ('Sonny', 'fem'), ('Sonya', 'fem'), ('Sophey', 'fem'), ('Sophi', 'fem'), ('Sophia', 'fem'), ('Sophie', 'fem'), ('Sophronia', 'fem'), ('Sorcha', 'fem'), ('Sosanna', 'fem'), ('Stace', 'fem'), ('Stacee', 'fem'), ('Stacey', 'fem'), ('Staci', 'fem'), ('Stacia', 'fem'), ('Stacie', 'fem'), ('Stacy', 'fem'), ('Stafani', 'fem'), ('Star', 'fem'), ('Starla', 'fem'), ('Starlene', 'fem'), ('Starlin', 'fem'), ('Starr', 'fem'), ('Stefa', 'fem'), ('Stefania', 'fem'), ('Stefanie', 'fem'), ('Steffane', 'fem'), ('Steffi', 'fem'), ('Steffie', 'fem'), ('Stella', 'fem'), ('Stepha', 'fem'), ('Stephana', 'fem'), ('Stephani', 'fem'), ('Stephanie', 'fem'), ('Stephannie', 'fem'), ('Stephenie', 'fem'), ('Stephi', 'fem'), ('Stephie', 'fem'), ('Stephine', 'fem'), ('Stesha', 'fem'), ('Stevana', 'fem'), ('Stevena', 'fem'), ('Stoddard', 'fem'), ('Storey', 'fem'), ('Storm', 'fem'), ('Stormi', 'fem'), ('Stormie', 'fem'), ('Stormy', 'fem'), ('Sue', 'fem'), ('Sue-elle', 'fem'), ('Suellen', 'fem'), ('Sukey', 'fem'), ('Suki', 'fem'), ('Sula', 'fem'), ('Sunny', 'fem'), ('Sunshine', 'fem'), ('Susan', 'fem'), ('Susana', 'fem'), ('Susanetta', 'fem'), ('Susann', 'fem'), ('Susanna', 'fem'), ('Susannah', 'fem'), ('Susanne', 'fem'), ('Susette', 'fem'), ('Susi', 'fem'), ('Susie', 'fem'), ('Sussi', 'fem'), ('Susy', 'fem'), ('Suzan', 'fem'), ('Suzann', 'fem'), ('Suzanna', 'fem'), ('Suzanne', 'fem'), ('Suzetta', 'fem'), ('Suzette', 'fem'), ('Suzi', 'fem'), ('Suzie', 'fem'), ('Suzy', 'fem'), ('Suzzy', 'fem'), ('Sybil', 'fem'), ('Sybila', 'fem'), ('Sybilla', 'fem'), ('Sybille', 'fem'), ('Sybyl', 'fem'), ('Sydel', 'fem'), ('Sydelle', 'fem'), ('Sydney', 'fem'), ('Sylvia', 'fem'), ('Sylvie', 'fem'), ('Tabatha', 'fem'), ('Tabbatha', 'fem'), ('Tabbi', 'fem'), ('Tabbie', 'fem'), ('Tabbitha', 'fem'), ('Tabby', 'fem'), ('Tabina', 'fem'), ('Tabitha', 'fem'), ('Taffy', 'fem'), ('Talia', 'fem'), ('Tallia', 'fem'), ('Tallie', 'fem'), ('Tally', 'fem'), ('Talya', 'fem'), ('Talyah', 'fem'), ('Tamar', 'fem'), ('Tamara', 'fem'), ('Tamarah', 'fem'), ('Tamarra', 'fem'), ('Tamera', 'fem'), ('Tami', 'fem'), ('Tamiko', 'fem'), ('Tamma', 'fem'), ('Tammara', 'fem'), ('Tammi', 'fem'), ('Tammie', 'fem'), ('Tammy', 'fem'), ('Tamra', 'fem'), ('Tana', 'fem'), ('Tandi', 'fem'), ('Tandie', 'fem'), ('Tandy', 'fem'), ('Tani', 'fem'), ('Tania', 'fem'), ('Tansy', 'fem'), ('Tanya', 'fem'), ('Tara', 'fem'), ('Tarah', 'fem'), ('Tarra', 'fem'), ('Tarrah', 'fem'), ('Taryn', 'fem'), ('Tasha', 'fem'), ('Tasia', 'fem'), ('Tate', 'fem'), ('Tatiana', 'fem'), ('Tatiania', 'fem'), ('Tatum', 'fem'), ('Tawnya', 'fem'), ('Tawsha', 'fem'), ('Teane', 'fem'), ('Ted', 'fem'), ('Tedda', 'fem'), ('Teddi', 'fem'), ('Teddie', 'fem'), ('Teddy', 'fem'), ('Tedi', 'fem'), ('Tedra', 'fem'), ('Teena', 'fem'), ('Tella', 'fem'), ('Teodora', 'fem'), ('Tera', 'fem'), ('Teresa', 'fem'), ('TeresaAnne', 'fem'), ('Terese', 'fem'), ('Teresina', 'fem'), ('Teresita', 'fem'), ('Teressa', 'fem'), ('Teri', 'fem'), ('Teriann', 'fem'), ('Terina', 'fem'), ('Terra', 'fem'), ('Terri', 'fem'), ('Terri-Jo', 'fem'), ('Terrianne', 'fem'), ('Terrie', 'fem'), ('Terry', 'fem'), ('Terrye', 'fem'), ('Tersina', 'fem'), ('Teryl', 'fem'), ('Terza', 'fem'), ('Tess', 'fem'), ('Tessa', 'fem'), ('Tessi', 'fem'), ('Tessie', 'fem'), ('Tessy', 'fem'), ('Thalia', 'fem'), ('Thea', 'fem'), ('Theada', 'fem'), ('Theadora', 'fem'), ('Theda', 'fem'), ('Thekla', 'fem'), ('Thelma', 'fem'), ('Theo', 'fem'), ('Theodora', 'fem'), ('Theodosia', 'fem'), ('Theresa', 'fem'), ('Theresa-Marie', 'fem'), ('Therese', 'fem'), ('Theresina', 'fem'), ('Theresita', 'fem'), ('Theressa', 'fem'), ('Therine', 'fem'), ('Thia', 'fem'), ('Thomasa', 'fem'), ('Thomasin', 'fem'), ('Thomasina', 'fem'), ('Thomasine', 'fem'), ('Tia', 'fem'), ('Tiana', 'fem'), ('Tiena', 'fem'), ('Tierney', 'fem'), ('Tiertza', 'fem'), ('Tiff', 'fem'), ('Tiffani', 'fem'), ('Tiffanie', 'fem'), ('Tiffany', 'fem'), ('Tiffi', 'fem'), ('Tiffie', 'fem'), ('Tiffy', 'fem'), ('Tilda', 'fem'), ('Tildi', 'fem'), ('Tildie', 'fem'), ('Tildy', 'fem'), ('Tillie', 'fem'), ('Tilly', 'fem'), ('Tim', 'fem'), ('Timi', 'fem'), ('Timmi', 'fem'), ('Timmie', 'fem'), ('Timmy', 'fem'), ('Timothea', 'fem'), ('Tina', 'fem'), ('Tine', 'fem'), ('Tiphani', 'fem'), ('Tiphanie', 'fem'), ('Tiphany', 'fem'), ('Tish', 'fem'), ('Tisha', 'fem'), ('Tobe', 'fem'), ('Tobey', 'fem'), ('Tobi', 'fem'), ('Tobie', 'fem'), ('Toby', 'fem'), ('Tobye', 'fem'), ('Toinette', 'fem'), ('Toma', 'fem'), ('Tomasina', 'fem'), ('Tomasine', 'fem'), ('Tomi', 'fem'), ('Tomiko', 'fem'), ('Tommi', 'fem'), ('Tommie', 'fem'), ('Tommy', 'fem'), ('Toni', 'fem'), ('Tonia', 'fem'), ('Tonie', 'fem'), ('Tony', 'fem'), ('Tonya', 'fem'), ('Tootsie', 'fem'), ('Torey', 'fem'), ('Tori', 'fem'), ('Torie', 'fem'), ('Torrie', 'fem'), ('Tory', 'fem'), ('Tova', 'fem'), ('Tove', 'fem'), ('Trace', 'fem'), ('Tracee', 'fem'), ('Tracey', 'fem'), ('Traci', 'fem'), ('Tracie', 'fem'), ('Tracy', 'fem'), ('Trenna', 'fem'), ('Tresa', 'fem'), ('Trescha', 'fem'), ('Tressa', 'fem'), ('Tricia', 'fem'), ('Trina', 'fem'), ('Trish', 'fem'), ('Trisha', 'fem'), ('Trista', 'fem'), ('Trix', 'fem'), ('Trixi', 'fem'), ('Trixie', 'fem'), ('Trixy', 'fem'), ('Truda', 'fem'), ('Trude', 'fem'), ('Trudey', 'fem'), ('Trudi', 'fem'), ('Trudie', 'fem'), ('Trudy', 'fem'), ('Trula', 'fem'), ('Tuesday', 'fem'), ('Twila', 'fem'), ('Twyla', 'fem'), ('Tybi', 'fem'), ('Tybie', 'fem'), ('Tyne', 'fem'), ('Ula', 'fem'), ('Ulla', 'fem'), ('Ulrica', 'fem'), ('Ulrika', 'fem'), ('Ulrike', 'fem'), ('Umeko', 'fem'), ('Una', 'fem'), ('Ursa', 'fem'), ('Ursala', 'fem'), ('Ursola', 'fem'), ('Ursula', 'fem'), ('Ursulina', 'fem'), ('Ursuline', 'fem'), ('Uta', 'fem'), ('Val', 'fem'), ('Valaree', 'fem'), ('Valaria', 'fem'), ('Vale', 'fem'), ('Valeda', 'fem'), ('Valencia', 'fem'), ('Valene', 'fem'), ('Valenka', 'fem'), ('Valentia', 'fem'), ('Valentina', 'fem'), ('Valentine', 'fem'), ('Valera', 'fem'), ('Valeria', 'fem'), ('Valerie', 'fem'), ('Valery', 'fem'), ('Valerye', 'fem'), ('Valida', 'fem'), ('Valina', 'fem'), ('Valli', 'fem'), ('Vallie', 'fem'), ('Vally', 'fem'), ('Valma', 'fem'), ('Valry', 'fem'), ('Van', 'fem'), ('Vanda', 'fem'), ('Vanessa', 'fem'), ('Vania', 'fem'), ('Vanna', 'fem'), ('Vanni', 'fem'), ('Vannie', 'fem'), ('Vanny', 'fem'), ('Vanya', 'fem'), ('Veda', 'fem'), ('Velma', 'fem'), ('Velvet', 'fem'), ('Vena', 'fem'), ('Venita', 'fem'), ('Ventura', 'fem'), ('Venus', 'fem'), ('Vera', 'fem'), ('Veradis', 'fem'), ('Vere', 'fem'), ('Verena', 'fem'), ('Verene', 'fem'), ('Veriee', 'fem'), ('Verile', 'fem'), ('Verina', 'fem'), ('Verine', 'fem'), ('Verla', 'fem'), ('Verna', 'fem'), ('Vernice', 'fem'), ('Veronica', 'fem'), ('Veronika', 'fem'), ('Veronike', 'fem'), ('Veronique', 'fem'), ('Vi', 'fem'), ('Vicki', 'fem'), ('Vickie', 'fem'), ('Vicky', 'fem'), ('Victoria', 'fem'), ('Vida', 'fem'), ('Viki', 'fem'), ('Vikki', 'fem'), ('Vikkie', 'fem'), ('Vikky', 'fem'), ('Vilhelmina', 'fem'), ('Vilma', 'fem'), ('Vin', 'fem'), ('Vina', 'fem'), ('Vinita', 'fem'), ('Vinni', 'fem'), ('Vinnie', 'fem'), ('Vinny', 'fem'), ('Viola', 'fem'), ('Violante', 'fem'), ('Viole', 'fem'), ('Violet', 'fem'), ('Violetta', 'fem'), ('Violette', 'fem'), ('Virgie', 'fem'), ('Virgina', 'fem'), ('Virginia', 'fem'), ('Virginie', 'fem'), ('Vita', 'fem'), ('Vitia', 'fem'), ('Vitoria', 'fem'), ('Vittoria', 'fem'), ('Viv', 'fem'), ('Viva', 'fem'), ('Vivi', 'fem'), ('Vivia', 'fem'), ('Vivian', 'fem'), ('Viviana', 'fem'), ('Vivianna', 'fem'), ('Vivianne', 'fem'), ('Vivie', 'fem'), ('Vivien', 'fem'), ('Viviene', 'fem'), ('Vivienne', 'fem'), ('Viviyan', 'fem'), ('Vivyan', 'fem'), ('Vivyanne', 'fem'), ('Vonni', 'fem'), ('Vonnie', 'fem'), ('Vonny', 'fem'), ('Wallie', 'fem'), ('Wallis', 'fem'), ('Wally', 'fem'), ('Waly', 'fem'), ('Wanda', 'fem'), ('Wandie', 'fem'), ('Wandis', 'fem'), ('Waneta', 'fem'), ('Wenda', 'fem'), ('Wendeline', 'fem'), ('Wendi', 'fem'), ('Wendie', 'fem'), ('Wendy', 'fem'), ('Wenona', 'fem'), ('Wenonah', 'fem'), ('Whitney', 'fem'), ('Wileen', 'fem'), ('Wilhelmina', 'fem'), ('Wilhelmine', 'fem'), ('Wilie', 'fem'), ('Willa', 'fem'), ('Willabella', 'fem'), ('Willamina', 'fem'), ('Willetta', 'fem'), ('Willette', 'fem'), ('Willi', 'fem'), ('Willie', 'fem'), ('Willow', 'fem'), ('Willy', 'fem'), ('Willyt', 'fem'), ('Wilma', 'fem'), ('Wilmette', 'fem'), ('Wilona', 'fem'), ('Wilone', 'fem'), ('Wilow', 'fem'), ('Windy', 'fem'), ('Wini', 'fem'), ('Winifred', 'fem'), ('Winna', 'fem'), ('Winnah', 'fem'), ('Winne', 'fem'), ('Winni', 'fem'), ('Winnie', 'fem'), ('Winnifred', 'fem'), ('Winny', 'fem'), ('Winona', 'fem'), ('Winonah', 'fem'), ('Wren', 'fem'), ('Wrennie', 'fem'), ('Wylma', 'fem'), ('Wynn', 'fem'), ('Wynne', 'fem'), ('Wynnie', 'fem'), ('Wynny', 'fem'), ('Xaviera', 'fem'), ('Xena', 'fem'), ('Xenia', 'fem'), ('Xylia', 'fem'), ('Xylina', 'fem'), ('Yalonda', 'fem'), ('Yehudit', 'fem'), ('Yelena', 'fem'), ('Yetta', 'fem'), ('Yettie', 'fem'), ('Yetty', 'fem'), ('Yevette', 'fem'), ('Yoko', 'fem'), ('Yolanda', 'fem'), ('Yolande', 'fem'), ('Yolane', 'fem'), ('Yolanthe', 'fem'), ('Yonina', 'fem'), ('Yoshi', 'fem'), ('Yoshiko', 'fem'), ('Yovonnda', 'fem'), ('Yvette', 'fem'), ('Yvonne', 'fem'), ('Zabrina', 'fem'), ('Zahara', 'fem'), ('Zandra', 'fem'), ('Zaneta', 'fem'), ('Zara', 'fem'), ('Zarah', 'fem'), ('Zaria', 'fem'), ('Zarla', 'fem'), ('Zea', 'fem'), ('Zelda', 'fem'), ('Zelma', 'fem'), ('Zena', 'fem'), ('Zenia', 'fem'), ('Zia', 'fem'), ('Zilvia', 'fem'), ('Zita', 'fem'), ('Zitella', 'fem'), ('Zoe', 'fem'), ('Zola', 'fem'), ('Zonda', 'fem'), ('Zondra', 'fem'), ('Zonnya', 'fem'), ('Zora', 'fem'), ('Zorah', 'fem'), ('Zorana', 'fem'), ('Zorina', 'fem'), ('Zorine', 'fem'), ('Zsa Zsa', 'fem'), ('Zsazsa', 'fem'), ('Zulema', 'fem'), ('Zuzana', 'fem')]\n",
            "7944\n"
          ]
        }
      ]
    },
    {
      "cell_type": "code",
      "metadata": {
        "id": "kiAH0xKDTvIS",
        "colab": {
          "base_uri": "https://localhost:8080/"
        },
        "outputId": "74a50614-550e-4734-9880-24df195239ce"
      },
      "source": [
        "random.shuffle(nomesRot)\n",
        "\n",
        "#fsets = [(gender_features(n), gen) for (n, gen) in nomesRot]\n",
        "\n",
        "fsets = []\n",
        "fsets2 = []\n",
        "\n",
        "for (n, gen) in nomesRot:\n",
        "  fsets.append([gender_features(n), gen])\n",
        "  fsets2.append([gender_features2(n), gen])\n",
        "\n",
        "size = int(0.1 * len(fsets)) #10% para teste\n",
        "\n",
        "train, test = fsets[size:], fsets[:size]\n",
        "train2, test2 = fsets2[size:], fsets2[:size]\n",
        "classif1 = nltk.NaiveBayesClassifier.train(train)\n",
        "classif2 = nltk.NaiveBayesClassifier.train(train2)\n",
        "\n",
        "#print(nltk.classify.accuracy(classif1, test))\n",
        "print(\"Taxa de acurácia da classificação 1: \",nltk.classify.accuracy(classif1, test))\n",
        "print(\"Taxa de acurácia da classificação 2: \",nltk.classify.accuracy(classif2, test2))"
      ],
      "execution_count": null,
      "outputs": [
        {
          "output_type": "stream",
          "name": "stdout",
          "text": [
            "Taxa de acurácia da classificação 1:  0.7695214105793451\n",
            "Taxa de acurácia da classificação 2:  0.7670025188916877\n"
          ]
        }
      ]
    },
    {
      "cell_type": "code",
      "metadata": {
        "colab": {
          "base_uri": "https://localhost:8080/"
        },
        "id": "rzpFnnsMUJ9j",
        "outputId": "0ca43cda-a97c-40c7-b973-22ceffbbf855"
      },
      "source": [
        "#classif1.classify(gender_features('Neo'))\n",
        "print(\"Classificação de Neo (classif1): \",classif1.classify(gender_features('Neo')))\n",
        "print(\"Classificação de Neo (classif2): \",classif2.classify(gender_features('Neo')))\n",
        "#'masc'"
      ],
      "execution_count": null,
      "outputs": [
        {
          "output_type": "stream",
          "name": "stdout",
          "text": [
            "Classificação de Neo (classif1):  masc\n",
            "Classificação de Neo (classif2):  masc\n"
          ]
        }
      ]
    },
    {
      "cell_type": "code",
      "metadata": {
        "id": "P7nefRqkUPgO",
        "colab": {
          "base_uri": "https://localhost:8080/"
        },
        "outputId": "7c5d88b6-448a-4e1c-b561-948de9c17826"
      },
      "source": [
        "#classif1.classify(gender_features('Trinity'))\n",
        "print(\"Classificação de Neo (classif1): \",classif1.classify(gender_features('Trinity')))\n",
        "print(\"Classificação de Neo (classif2): \",classif2.classify(gender_features('Trinity')))\n",
        "#'fem'"
      ],
      "execution_count": null,
      "outputs": [
        {
          "output_type": "stream",
          "name": "stdout",
          "text": [
            "Classificação de Neo (classif1):  fem\n",
            "Classificação de Neo (classif2):  fem\n"
          ]
        }
      ]
    },
    {
      "cell_type": "code",
      "metadata": {
        "colab": {
          "base_uri": "https://localhost:8080/"
        },
        "id": "X6jNqQgMk7vS",
        "outputId": "fa8640f1-87f8-481c-fd28-e3de588083c0"
      },
      "source": [
        "classif1.show_most_informative_features(10)\n",
        "classif2.show_most_informative_features(10)"
      ],
      "execution_count": null,
      "outputs": [
        {
          "output_type": "stream",
          "name": "stdout",
          "text": [
            "Most Informative Features\n",
            "             last_letter = 'a'               fem : masc   =     34.9 : 1.0\n",
            "             last_letter = 'k'              masc : fem    =     30.3 : 1.0\n",
            "             last_letter = 'f'              masc : fem    =     15.0 : 1.0\n",
            "             last_letter = 'p'              masc : fem    =     11.0 : 1.0\n",
            "             last_letter = 'v'              masc : fem    =      9.7 : 1.0\n",
            "             last_letter = 'm'              masc : fem    =      9.7 : 1.0\n",
            "             last_letter = 'd'              masc : fem    =      9.3 : 1.0\n",
            "             last_letter = 'o'              masc : fem    =      8.8 : 1.0\n",
            "             last_letter = 'r'              masc : fem    =      6.7 : 1.0\n",
            "             last_letter = 'w'              masc : fem    =      6.1 : 1.0\n",
            "Most Informative Features\n",
            "             last_letter = 'a'               fem : masc   =     34.9 : 1.0\n",
            "             last_letter = 'k'              masc : fem    =     30.3 : 1.0\n",
            "             last_letter = 'f'              masc : fem    =     15.0 : 1.0\n",
            "             last_letter = 'p'              masc : fem    =     11.0 : 1.0\n",
            "             last_letter = 'v'              masc : fem    =      9.7 : 1.0\n",
            "             last_letter = 'm'              masc : fem    =      9.7 : 1.0\n",
            "             last_letter = 'd'              masc : fem    =      9.3 : 1.0\n",
            "                count(v) = 2                 fem : masc   =      9.0 : 1.0\n",
            "             last_letter = 'o'              masc : fem    =      8.8 : 1.0\n",
            "             last_letter = 'r'              masc : fem    =      6.7 : 1.0\n"
          ]
        }
      ]
    },
    {
      "cell_type": "markdown",
      "metadata": {
        "id": "VcnejH1Qk4jo"
      },
      "source": [
        "b. Qual o desempenho (acurácia) dos dois modelos, ao utilizar a técnica 10-fold cross validation e os mesmos conjuntos de treinamento e testes para o processo de treinamento e avaliação?"
      ]
    },
    {
      "cell_type": "markdown",
      "metadata": {
        "id": "3zqD993_kVyU"
      },
      "source": [
        "Desempenho (acurácia) do modelo ao utilizar a técnica 10-fold\n",
        "cross validation \n",
        "- Dividir o\tcorpus em N\tsubsets,\tchamados folds\n",
        "\n",
        "- Para\tcada fold,\ttreinamos um\tmodelo usando\n",
        "todos os dados,\texceto os dados\tdesse fold e\t\n",
        "então testamos o\tmodelo com\tele."
      ]
    },
    {
      "cell_type": "code",
      "metadata": {
        "colab": {
          "base_uri": "https://localhost:8080/"
        },
        "id": "2Aw6vVwCPmz9",
        "outputId": "e694ee1c-ee05-47b9-bbc9-5061345c004b"
      },
      "source": [
        "import numpy as np\n",
        "sum_classif1 = 0\n",
        "sum_classif2 = 0\n",
        "round_classify = 1\n",
        "\n",
        "random.shuffle(nomesRot)\n",
        "\n",
        "#fsets = [(gender_features(n), gen) for (n, gen) in nomesRot]\n",
        "\n",
        "fsets = []\n",
        "fsets2 = []\n",
        "\n",
        "for (n, gen) in nomesRot:\n",
        "  fsets.append([gender_features(n), gen])\n",
        "  fsets2.append([gender_features2(n), gen])\n",
        "\n",
        "size = int(0.1 * len(fsets)) #10% para teste\n",
        "\n",
        "for j in range(10):\n",
        "  i = j+1\n",
        "  if i == 1:\n",
        "    train, test = fsets[size:], fsets[:size]\n",
        "    train2, test2 = fsets2[size:], fsets2[:size]\n",
        "  elif i == 10:\n",
        "    train, test = fsets[:size], fsets[size:] \n",
        "    train2, test2 = fsets2[:size], fsets2[size:]\n",
        "  else:\n",
        "    args = (fsets[:size*(i-1)],fsets[size*i:])\n",
        "    args2 = (fsets2[:size*(i-1)],fsets2[size*i:])\n",
        "    train, test = np.concatenate(args), fsets[size*(i-1):size*i]\n",
        "    train2, test2 = np.concatenate(args2), fsets2[size*(i-1):size*i]\n",
        "\n",
        "\n",
        "  classif1 = nltk.NaiveBayesClassifier.train(train)\n",
        "  classif2 = nltk.NaiveBayesClassifier.train(train2)\n",
        "\n",
        "  #print(nltk.classify.accuracy(classif1, test))\n",
        "  print(f\"ROUND: {round_classify} - Taxa de acurácia da classificação 1: \",nltk.classify.accuracy(classif1, test))\n",
        "  print(f\"ROUND: {round_classify} - Taxa de acurácia da classificação 2: \",nltk.classify.accuracy(classif2, test2))\n",
        "\n",
        "#####\n",
        "#    train_data = np.array(fsets)[train]\n",
        "#    test_data = np.array(fsets)[test]\n",
        "#    classifier = nltk.NaiveBayesClassifier.train(train_data)\n",
        "#    print(f\"ROUND: {round_classify} - Taxa de acurácia da classificação: \",nltk.classify.accuracy(classifier, test_data))\n",
        "#####\n",
        "\n",
        "  sum_classif1 += nltk.classify.accuracy(classif1, test)\n",
        "  sum_classif2 += nltk.classify.accuracy(classif2, test2)\n",
        "  round_classify += 1\n",
        "\n",
        "average1 = round(sum_classif1/10,3)\n",
        "average2 = round(sum_classif2/10,3)\n",
        "\n",
        "print(f\"\\nTaxa de acurácia média da classificação 1: {average1}\")\n",
        "print(f\"\\nTaxa de acurácia média da classificação 2: {average2}\")"
      ],
      "execution_count": null,
      "outputs": [
        {
          "output_type": "stream",
          "name": "stdout",
          "text": [
            "ROUND: 1 - Taxa de acurácia da classificação 1:  0.7443324937027708\n",
            "ROUND: 1 - Taxa de acurácia da classificação 2:  0.7493702770780857\n",
            "ROUND: 2 - Taxa de acurácia da classificação 1:  0.7506297229219143\n",
            "ROUND: 2 - Taxa de acurácia da classificação 2:  0.7632241813602015\n",
            "ROUND: 3 - Taxa de acurácia da classificação 1:  0.7380352644836272\n",
            "ROUND: 3 - Taxa de acurácia da classificação 2:  0.7720403022670025\n",
            "ROUND: 4 - Taxa de acurácia da classificação 1:  0.7695214105793451\n",
            "ROUND: 4 - Taxa de acurácia da classificação 2:  0.7632241813602015\n",
            "ROUND: 5 - Taxa de acurácia da classificação 1:  0.7644836272040302\n",
            "ROUND: 5 - Taxa de acurácia da classificação 2:  0.77455919395466\n",
            "ROUND: 6 - Taxa de acurácia da classificação 1:  0.7770780856423174\n",
            "ROUND: 6 - Taxa de acurácia da classificação 2:  0.7770780856423174\n",
            "ROUND: 7 - Taxa de acurácia da classificação 1:  0.756926952141058\n",
            "ROUND: 7 - Taxa de acurácia da classificação 2:  0.783375314861461\n",
            "ROUND: 8 - Taxa de acurácia da classificação 1:  0.7795969773299748\n",
            "ROUND: 8 - Taxa de acurácia da classificação 2:  0.7896725440806045\n",
            "ROUND: 9 - Taxa de acurácia da classificação 1:  0.7682619647355163\n",
            "ROUND: 9 - Taxa de acurácia da classificação 2:  0.7707808564231738\n",
            "ROUND: 10 - Taxa de acurácia da classificação 1:  0.7423776223776224\n",
            "ROUND: 10 - Taxa de acurácia da classificação 2:  0.7593006993006993\n",
            "\n",
            "Taxa de acurácia média da classificação 1: 0.759\n",
            "\n",
            "Taxa de acurácia média da classificação 2: 0.77\n"
          ]
        }
      ]
    },
    {
      "cell_type": "markdown",
      "metadata": {
        "id": "4mtsJfpBiybR"
      },
      "source": [
        "#### 2\n",
        "\n",
        "Modificar a função gender_features() para criar um classificador usando outras\n",
        "features (ex: tamanho do nome, primeira letra do nome, uso de dígrafos, ...). Avaliar o novo classificador considerando as mesmas condições descritas na questão 1."
      ]
    },
    {
      "cell_type": "code",
      "metadata": {
        "colab": {
          "base_uri": "https://localhost:8080/"
        },
        "id": "kuDIjvenk2P7",
        "outputId": "acaaa0f3-0e33-415a-d8c4-0a4c9406b407"
      },
      "source": [
        "import re\n",
        "pattern_ditongo = re.compile('[aeiou][aeiou]')\n",
        "pattern_tritongo = re.compile('[aeiou][aeiou][aeiou]')\n",
        "pattern_ditongo_end = re.compile('[a-z]*[aeiou][aeiou]')\n",
        "\n",
        "def gender_features3(name):\n",
        "  feat = {}\n",
        "  feat['first_letter'] = name[0].lower()\n",
        "  feat['last_letter'] = name[-1].lower()\n",
        "  feat['len_name'] = len(name)\n",
        "  feat['ditongo'] = False\n",
        "  if pattern_ditongo.findall(name.lower()):\n",
        "    feat['ditongo'] = True\n",
        "  feat['ditongo_end'] = False\n",
        "  if pattern_ditongo_end.match(name.lower()):\n",
        "    feat['ditongo_end'] = True\n",
        "  for let in 'abcdefghijklmnopqrstuvwxyz':\n",
        "    feat['count({})'.format(let)] = name.lower().count(let)\n",
        "    feat['has({})'.format(let)] = (let in name.lower())\n",
        "  return feat\n",
        "\n",
        "gender_features3('Marcia')\n"
      ],
      "execution_count": null,
      "outputs": [
        {
          "output_type": "execute_result",
          "data": {
            "text/plain": [
              "{'count(a)': 2,\n",
              " 'count(b)': 0,\n",
              " 'count(c)': 1,\n",
              " 'count(d)': 0,\n",
              " 'count(e)': 0,\n",
              " 'count(f)': 0,\n",
              " 'count(g)': 0,\n",
              " 'count(h)': 0,\n",
              " 'count(i)': 1,\n",
              " 'count(j)': 0,\n",
              " 'count(k)': 0,\n",
              " 'count(l)': 0,\n",
              " 'count(m)': 1,\n",
              " 'count(n)': 0,\n",
              " 'count(o)': 0,\n",
              " 'count(p)': 0,\n",
              " 'count(q)': 0,\n",
              " 'count(r)': 1,\n",
              " 'count(s)': 0,\n",
              " 'count(t)': 0,\n",
              " 'count(u)': 0,\n",
              " 'count(v)': 0,\n",
              " 'count(w)': 0,\n",
              " 'count(x)': 0,\n",
              " 'count(y)': 0,\n",
              " 'count(z)': 0,\n",
              " 'ditongo': True,\n",
              " 'ditongo_end': True,\n",
              " 'first_letter': 'm',\n",
              " 'has(a)': True,\n",
              " 'has(b)': False,\n",
              " 'has(c)': True,\n",
              " 'has(d)': False,\n",
              " 'has(e)': False,\n",
              " 'has(f)': False,\n",
              " 'has(g)': False,\n",
              " 'has(h)': False,\n",
              " 'has(i)': True,\n",
              " 'has(j)': False,\n",
              " 'has(k)': False,\n",
              " 'has(l)': False,\n",
              " 'has(m)': True,\n",
              " 'has(n)': False,\n",
              " 'has(o)': False,\n",
              " 'has(p)': False,\n",
              " 'has(q)': False,\n",
              " 'has(r)': True,\n",
              " 'has(s)': False,\n",
              " 'has(t)': False,\n",
              " 'has(u)': False,\n",
              " 'has(v)': False,\n",
              " 'has(w)': False,\n",
              " 'has(x)': False,\n",
              " 'has(y)': False,\n",
              " 'has(z)': False,\n",
              " 'last_letter': 'a',\n",
              " 'len_name': 6}"
            ]
          },
          "metadata": {},
          "execution_count": 9
        }
      ]
    },
    {
      "cell_type": "code",
      "metadata": {
        "colab": {
          "base_uri": "https://localhost:8080/"
        },
        "id": "YM-xvFKmk1We",
        "outputId": "8ac00c1e-45d4-4b2a-a222-007582a229ef"
      },
      "source": [
        "random.shuffle(nomesRot)\n",
        "\n",
        "fsets = []\n",
        "fsets2 = []\n",
        "fsets3 = []\n",
        "\n",
        "for (n, gen) in nomesRot:\n",
        "  fsets.append([gender_features(n), gen])\n",
        "  fsets2.append([gender_features2(n), gen])\n",
        "  fsets3.append([gender_features3(n), gen])\n",
        "\n",
        "size = int(0.1 * len(fsets)) #10% para teste\n",
        "\n",
        "train, test = fsets[size:], fsets[:size]\n",
        "train2, test2 = fsets2[size:], fsets2[:size]\n",
        "train3, test3 = fsets3[size:], fsets3[:size]\n",
        "classif1 = nltk.NaiveBayesClassifier.train(train)\n",
        "classif2 = nltk.NaiveBayesClassifier.train(train2)\n",
        "classif3 = nltk.NaiveBayesClassifier.train(train3)\n",
        "\n",
        "#print(nltk.classify.accuracy(classif1, test))\n",
        "print(\"Taxa de acurácia da classificação 1: \",nltk.classify.accuracy(classif1, test))\n",
        "print(\"Taxa de acurácia da classificação 2: \",nltk.classify.accuracy(classif2, test2))\n",
        "print(\"Taxa de acurácia da classificação 3: \",nltk.classify.accuracy(classif3, test3))"
      ],
      "execution_count": null,
      "outputs": [
        {
          "output_type": "stream",
          "name": "stdout",
          "text": [
            "Taxa de acurácia da classificação 1:  0.7695214105793451\n",
            "Taxa de acurácia da classificação 2:  0.7884130982367759\n",
            "Taxa de acurácia da classificação 3:  0.7858942065491183\n"
          ]
        }
      ]
    },
    {
      "cell_type": "code",
      "metadata": {
        "colab": {
          "base_uri": "https://localhost:8080/"
        },
        "id": "_0AXGWiIWcS3",
        "outputId": "c8c0a14d-79b9-45d0-dcf1-6dc062f47fac"
      },
      "source": [
        "classif1.show_most_informative_features(10)\n",
        "classif2.show_most_informative_features(10)\n",
        "classif3.show_most_informative_features(10)"
      ],
      "execution_count": null,
      "outputs": [
        {
          "output_type": "stream",
          "name": "stdout",
          "text": [
            "Most Informative Features\n",
            "             last_letter = 'a'               fem : masc   =     34.1 : 1.0\n",
            "             last_letter = 'k'              masc : fem    =     32.0 : 1.0\n",
            "             last_letter = 'v'              masc : fem    =     18.6 : 1.0\n",
            "             last_letter = 'p'              masc : fem    =     17.4 : 1.0\n",
            "             last_letter = 'f'              masc : fem    =     15.9 : 1.0\n",
            "             last_letter = 'd'              masc : fem    =     10.4 : 1.0\n",
            "             last_letter = 'm'              masc : fem    =      9.1 : 1.0\n",
            "             last_letter = 'o'              masc : fem    =      8.4 : 1.0\n",
            "             last_letter = 'r'              masc : fem    =      6.5 : 1.0\n",
            "             last_letter = 'g'              masc : fem    =      5.9 : 1.0\n",
            "Most Informative Features\n",
            "             last_letter = 'a'               fem : masc   =     34.1 : 1.0\n",
            "             last_letter = 'k'              masc : fem    =     32.0 : 1.0\n",
            "             last_letter = 'v'              masc : fem    =     18.6 : 1.0\n",
            "             last_letter = 'p'              masc : fem    =     17.4 : 1.0\n",
            "             last_letter = 'f'              masc : fem    =     15.9 : 1.0\n",
            "             last_letter = 'd'              masc : fem    =     10.4 : 1.0\n",
            "             last_letter = 'm'              masc : fem    =      9.1 : 1.0\n",
            "                count(v) = 2                 fem : masc   =      8.9 : 1.0\n",
            "             last_letter = 'o'              masc : fem    =      8.4 : 1.0\n",
            "             last_letter = 'r'              masc : fem    =      6.5 : 1.0\n",
            "Most Informative Features\n",
            "             last_letter = 'a'               fem : masc   =     34.1 : 1.0\n",
            "             last_letter = 'k'              masc : fem    =     32.0 : 1.0\n",
            "             last_letter = 'v'              masc : fem    =     18.6 : 1.0\n",
            "             last_letter = 'p'              masc : fem    =     17.4 : 1.0\n",
            "             last_letter = 'f'              masc : fem    =     15.9 : 1.0\n",
            "             last_letter = 'd'              masc : fem    =     10.4 : 1.0\n",
            "             last_letter = 'm'              masc : fem    =      9.1 : 1.0\n",
            "                count(v) = 2                 fem : masc   =      8.9 : 1.0\n",
            "             last_letter = 'o'              masc : fem    =      8.4 : 1.0\n",
            "             last_letter = 'r'              masc : fem    =      6.5 : 1.0\n"
          ]
        }
      ]
    },
    {
      "cell_type": "markdown",
      "metadata": {
        "id": "J9urm4eojy4g"
      },
      "source": [
        "#### 3. \n",
        "\n",
        "Implementar um classificador baseado em features, considerando os dados do corpus utilizado pelo grupo na atividade prática 02\n"
      ]
    },
    {
      "cell_type": "markdown",
      "metadata": {
        "id": "-vR5Gyb2jWB5"
      },
      "source": [
        "##### Tratamento do Corpus\n"
      ]
    },
    {
      "cell_type": "code",
      "metadata": {
        "id": "uelv73sirgyj",
        "colab": {
          "base_uri": "https://localhost:8080/",
          "height": 590
        },
        "outputId": "3b3464d1-67a1-4179-a2d4-d0c015b727cd"
      },
      "source": [
        "#Para a leitura do arquivo da segunda atividade\n",
        "import io\n",
        "import pandas as pd\n",
        "import nltk\n",
        "from sklearn.feature_extraction.text import CountVectorizer\n",
        "\n",
        "git_doc = 'https://github.com/PedroLucca/PLN-exercises/blob/master/diarios_oficiais_COVID_classific.xlsx?raw=true'\n",
        "dfs = pd.read_excel(git_doc, sheet_name=None)\n",
        "dfs['diarios_oficiais'].head(5)\n"
      ],
      "execution_count": null,
      "outputs": [
        {
          "output_type": "execute_result",
          "data": {
            "text/html": [
              "<div>\n",
              "<style scoped>\n",
              "    .dataframe tbody tr th:only-of-type {\n",
              "        vertical-align: middle;\n",
              "    }\n",
              "\n",
              "    .dataframe tbody tr th {\n",
              "        vertical-align: top;\n",
              "    }\n",
              "\n",
              "    .dataframe thead th {\n",
              "        text-align: right;\n",
              "    }\n",
              "</style>\n",
              "<table border=\"1\" class=\"dataframe\">\n",
              "  <thead>\n",
              "    <tr style=\"text-align: right;\">\n",
              "      <th></th>\n",
              "      <th>Esfera</th>\n",
              "      <th>Diario</th>\n",
              "      <th>Data_do_Diario</th>\n",
              "      <th>Pagina</th>\n",
              "      <th>Tipo_de_contratacao</th>\n",
              "      <th>Num_do_procedimento</th>\n",
              "      <th>Original_Aditivo_Apostilamento</th>\n",
              "      <th>Ratificacao_Extratro_do_contrato_Portaria</th>\n",
              "      <th>Orgao</th>\n",
              "      <th>Municipio</th>\n",
              "      <th>Objeto</th>\n",
              "      <th>Objeto_simplificado</th>\n",
              "      <th>Nome_do_Contratado</th>\n",
              "      <th>CNPJ_CPF</th>\n",
              "      <th>Valor</th>\n",
              "      <th>Num_Contrato</th>\n",
              "      <th>Data_de_assinatura</th>\n",
              "      <th>Prazo_de_Vigencia</th>\n",
              "      <th>Fundamentacao_Legal</th>\n",
              "      <th>Fonte_de_Recurso</th>\n",
              "      <th>Acao_Orcamentaria</th>\n",
              "      <th>Natureza_de_Despesa</th>\n",
              "    </tr>\n",
              "  </thead>\n",
              "  <tbody>\n",
              "    <tr>\n",
              "      <th>0</th>\n",
              "      <td>Estadual</td>\n",
              "      <td>DOE - Diário Oficial do Estado</td>\n",
              "      <td>2020-02-19</td>\n",
              "      <td>0029</td>\n",
              "      <td>Dispensa</td>\n",
              "      <td>Não informado</td>\n",
              "      <td>Original</td>\n",
              "      <td>Extrato do contrato</td>\n",
              "      <td>INSTITUTO DE DOENÇAS TROPICAIS NATAN PORTELA</td>\n",
              "      <td>TERESINA</td>\n",
              "      <td>CONTRATAÇAO DE EMPRESA PRESTAÇÃO DE SERVIÇO DE...</td>\n",
              "      <td>Manutenção de veículos e de outros equipamentos</td>\n",
              "      <td>SEMPRE FRIO LTDA</td>\n",
              "      <td>06.837.991/0001-48</td>\n",
              "      <td>133045</td>\n",
              "      <td>001/2020</td>\n",
              "      <td>13/02/2020</td>\n",
              "      <td>12.02.2020 a 27.07.2020</td>\n",
              "      <td>ART. 24, IV DA LEI 8.666/93 e ART. 4º da Lei 1...</td>\n",
              "      <td>100001001</td>\n",
              "      <td>Não informado</td>\n",
              "      <td>Não informado</td>\n",
              "    </tr>\n",
              "    <tr>\n",
              "      <th>1</th>\n",
              "      <td>Estadual</td>\n",
              "      <td>DOE - Diário Oficial do Estado</td>\n",
              "      <td>2020-03-06</td>\n",
              "      <td>0015</td>\n",
              "      <td>Dispensa</td>\n",
              "      <td>14/2020</td>\n",
              "      <td>Original</td>\n",
              "      <td>Extrato do contrato</td>\n",
              "      <td>HOSPITAL REGIONAL CHAGAS RODRIGUES</td>\n",
              "      <td>PIRIPIRI</td>\n",
              "      <td>CONTRATAÇÃO DE EMPRESA PESSOA JURÍDICA na Aqui...</td>\n",
              "      <td>Aquisição de equipamentos médico-hospitalares</td>\n",
              "      <td>ALFA MED - SISTEMAS MÉDICOS LTDA</td>\n",
              "      <td>11.405.384/0001-49</td>\n",
              "      <td>24450</td>\n",
              "      <td>Não informado</td>\n",
              "      <td>Não informado</td>\n",
              "      <td>180 dias</td>\n",
              "      <td>Art. 24, IV, da Lei 8.666/93 e Lei nº 13.979, ...</td>\n",
              "      <td>Não informado</td>\n",
              "      <td>Não informado</td>\n",
              "      <td>Não informado</td>\n",
              "    </tr>\n",
              "    <tr>\n",
              "      <th>2</th>\n",
              "      <td>Estadual</td>\n",
              "      <td>DOE - Diário Oficial do Estado</td>\n",
              "      <td>2020-03-06</td>\n",
              "      <td>0016</td>\n",
              "      <td>Dispensa</td>\n",
              "      <td>14/2020</td>\n",
              "      <td>Original</td>\n",
              "      <td>Extrato do contrato</td>\n",
              "      <td>HOSPITAL REGIONAL CHAGAS RODRIGUES</td>\n",
              "      <td>PIRIPIRI</td>\n",
              "      <td>CONTRATAÇÃO DE EMPRESA PESSOA JURÍDICA na Aqui...</td>\n",
              "      <td>Aquisição de equipamentos médico-hospitalares</td>\n",
              "      <td>J R D BRANDÃO EIRELI - MODELO MÓVEIS</td>\n",
              "      <td>23.511.454/0001-22</td>\n",
              "      <td>8185</td>\n",
              "      <td>Não informado</td>\n",
              "      <td>Não informado</td>\n",
              "      <td>180 dias</td>\n",
              "      <td>Art. 24, IV, da Lei 8.666/93 e Lei nº 13.979, ...</td>\n",
              "      <td>Não informado</td>\n",
              "      <td>Não informado</td>\n",
              "      <td>Não informado</td>\n",
              "    </tr>\n",
              "    <tr>\n",
              "      <th>3</th>\n",
              "      <td>Estadual</td>\n",
              "      <td>DOE - Diário Oficial do Estado</td>\n",
              "      <td>2020-03-06</td>\n",
              "      <td>0016</td>\n",
              "      <td>Dispensa</td>\n",
              "      <td>14/2020</td>\n",
              "      <td>Original</td>\n",
              "      <td>Extrato do contrato</td>\n",
              "      <td>HOSPITAL REGIONAL CHAGAS RODRIGUES</td>\n",
              "      <td>PIRIPIRI</td>\n",
              "      <td>CONTRATAÇÃO DE EMPRESA PESSOA JURÍDICA na Aqui...</td>\n",
              "      <td>Aquisição de equipamentos médico-hospitalares</td>\n",
              "      <td>KSS COMERCIO E INDUSTRIA DE EQUIPAMENTOS MEDIC...</td>\n",
              "      <td>79.805.263/0001-28</td>\n",
              "      <td>14094</td>\n",
              "      <td>Não informado</td>\n",
              "      <td>Não informado</td>\n",
              "      <td>180 dias</td>\n",
              "      <td>Art. 24, IV, da Lei 8.666/93 e Lei nº 13.979, ...</td>\n",
              "      <td>Não informado</td>\n",
              "      <td>Não informado</td>\n",
              "      <td>Não informado</td>\n",
              "    </tr>\n",
              "    <tr>\n",
              "      <th>4</th>\n",
              "      <td>Estadual</td>\n",
              "      <td>DOE - Diário Oficial do Estado</td>\n",
              "      <td>2020-03-06</td>\n",
              "      <td>0016</td>\n",
              "      <td>Dispensa</td>\n",
              "      <td>14/2020</td>\n",
              "      <td>Original</td>\n",
              "      <td>Extrato do contrato</td>\n",
              "      <td>HOSPITAL REGIONAL CHAGAS RODRIGUES</td>\n",
              "      <td>PIRIPIRI</td>\n",
              "      <td>CONTRATAÇÃO DE EMPRESA PESSOA JURÍDICA na Aqui...</td>\n",
              "      <td>Aquisição de equipamentos médico-hospitalares</td>\n",
              "      <td>MAGNAMED - TECNOLOGIA MÉDICA S/A (FILIAL)</td>\n",
              "      <td>01.298.443/0002-54</td>\n",
              "      <td>143700</td>\n",
              "      <td>Não informado</td>\n",
              "      <td>Não informado</td>\n",
              "      <td>180 dias</td>\n",
              "      <td>Art. 24, IV, da Lei 8.666/93 e Lei nº 13.979, ...</td>\n",
              "      <td>Não informado</td>\n",
              "      <td>Não informado</td>\n",
              "      <td>Não informado</td>\n",
              "    </tr>\n",
              "  </tbody>\n",
              "</table>\n",
              "</div>"
            ],
            "text/plain": [
              "     Esfera  ... Natureza_de_Despesa\n",
              "0  Estadual  ...       Não informado\n",
              "1  Estadual  ...       Não informado\n",
              "2  Estadual  ...       Não informado\n",
              "3  Estadual  ...       Não informado\n",
              "4  Estadual  ...       Não informado\n",
              "\n",
              "[5 rows x 22 columns]"
            ]
          },
          "metadata": {},
          "execution_count": 12
        }
      ]
    },
    {
      "cell_type": "code",
      "metadata": {
        "colab": {
          "base_uri": "https://localhost:8080/"
        },
        "id": "SzgDO_j9dP8H",
        "outputId": "1d17e8a1-77c2-45ff-83d0-b5ca7e024f39"
      },
      "source": [
        "diarios = dfs['diarios_oficiais']\n",
        "#corpus = pd.DataFrame(diarios, columns= ['Objeto'])\n",
        "#obj = corpus.head(5).to_numpy()\n",
        "corpus = diarios.get('Objeto').to_numpy().tolist()\n",
        "print(corpus[-5:])\n",
        "corpus_obj_simp = diarios.get('Objeto_simplificado').to_numpy().tolist()"
      ],
      "execution_count": null,
      "outputs": [
        {
          "output_type": "stream",
          "name": "stdout",
          "text": [
            "['Contratação de Empresa para fornecimentos de Teste Rápido para detecção especifica de IGG e IGM do COVID-19, para o Município de Dom Inocêncio - PI.', 'Prestação de contrataçao de profissional para dar suporte técnico ao desenvolvimento do trabalho de: Acompanhamento a Lei Emergenclal Cultural Aldir Biano, sancionada através do Decreto Federal no 14.017/2020; Alimentação dos sistemas e plataformas necessárias; acompanhamento e julgamento dos editais, todo suporte técnico ao Setor de Cultura junto a Secretaria Municipal de Cultura, Esporte e Lazer e a Prefeitura Municipal de São Jose do Piaul - PI.', 'AQUISIÇÃO DE PULVERIZADOR 20 LT FIBRA BICO PLASTICO PARA SECRETARIA MUNICIPAL DE EDUCAÇÃO E ESCOLAS DA REDE ESTADUAL E MUNICIPAL DO MUNICÍPIO DE SÃO JOSÉ DO PIAUÍ· PI.', 'AQUISIÇÃO DE ÁGUA SANITÁRIA I LT, DETERGENTE 500 ML E PAPEL TOALHA PARA SECRETARIA MUNICIPAL DE EDUCAÇÃO E SEUS RESPECTNOS ÓRGÃOS DO MUNICtPIO DE SÃO JOSE DO PIAUÍ - PI.', 'PRESTAÇÃO DE SERVIÇOS DE TROCA DE PISO DA SECRETARIA MUNICIPAL DE SAÚDE (SEMUSA) DE DEMERV AL LOBÃO - PIAUÍ.']\n"
          ]
        }
      ]
    },
    {
      "cell_type": "code",
      "metadata": {
        "colab": {
          "base_uri": "https://localhost:8080/"
        },
        "id": "DdQN-3MIgU_P",
        "outputId": "61f2cb19-35ae-4da5-fade-314d31a230c5"
      },
      "source": [
        "from collections import Counter\n",
        "\n",
        "Counter(diarios.get('Objeto_simplificado'))"
      ],
      "execution_count": null,
      "outputs": [
        {
          "output_type": "execute_result",
          "data": {
            "text/plain": [
              "Counter({'Aquisição de EPIs e/ou medicamentos': 1431,\n",
              "         'Aquisição de ambulâncias e/ou veículos': 11,\n",
              "         'Aquisição de combustíveis e/ou lubrificantes': 22,\n",
              "         'Aquisição de equipamentos diversos': 200,\n",
              "         'Aquisição de equipamentos médico-hospitalares': 283,\n",
              "         'Aquisição de insumos laboratoriais e/ou material médico-hospitalar': 347,\n",
              "         'Aquisição de materiais de distribuição gratuita': 15,\n",
              "         'Aquisição de materiais diversos': 223,\n",
              "         'Aquisição de material de limpeza': 98,\n",
              "         'Aquisição de testes para diagnóstico de COVID-19': 326,\n",
              "         'Construção, reforma e/ou ampliação de unidade hospitalar': 76,\n",
              "         'Contratação de bens e serviços diversos': 259,\n",
              "         'Contratação de entidade para gestão hospitalar': 8,\n",
              "         'Contratação de prestador de serviço - pessoa física': 2283,\n",
              "         'Contratação de prestador de serviço - pessoa jurÍdica': 5,\n",
              "         'Contratação de prestador de serviço - pessoa jurídica': 143,\n",
              "         'Fomento a hospitais filantrópicos': 9,\n",
              "         'Fornecimento de alimentação e/ou cestas básicas': 138,\n",
              "         'Locação de equipamentos e/ou veículos': 151,\n",
              "         'Locação de leitos hospitalares': 15,\n",
              "         'Manutenção de veículos e de outros equipamentos': 59,\n",
              "         'Obras e serviços de engenharia diversos': 33,\n",
              "         'Serviços de publicidade e propaganda': 55})"
            ]
          },
          "metadata": {},
          "execution_count": 14
        }
      ]
    },
    {
      "cell_type": "code",
      "metadata": {
        "colab": {
          "base_uri": "https://localhost:8080/"
        },
        "id": "Cljjo3loSgx5",
        "outputId": "898711b1-2629-473f-e599-f8ef55f15aa9"
      },
      "source": [
        "#Importar nltk\n",
        "import nltk\n",
        "from nltk.corpus import stopwords\n",
        "nltk.download('stopwords')\n",
        "sw = stopwords.words('portuguese')\n",
        "nltk.download('punkt')"
      ],
      "execution_count": null,
      "outputs": [
        {
          "output_type": "stream",
          "name": "stdout",
          "text": [
            "[nltk_data] Downloading package stopwords to /root/nltk_data...\n",
            "[nltk_data]   Package stopwords is already up-to-date!\n",
            "[nltk_data] Downloading package punkt to /root/nltk_data...\n",
            "[nltk_data]   Package punkt is already up-to-date!\n"
          ]
        },
        {
          "output_type": "execute_result",
          "data": {
            "text/plain": [
              "True"
            ]
          },
          "metadata": {},
          "execution_count": 15
        }
      ]
    },
    {
      "cell_type": "code",
      "metadata": {
        "id": "QOWwc02EMe5t"
      },
      "source": [
        "#Tokenizar dados e remover stopwords\n",
        "\n",
        "new_sw = (['atender', 'novo', 'contrato', 'saúde', 'coronavírus', 'combate', 'secretaria', 'objeto',\n",
        "           'covid', 'pública', '2020', 'municipal', 'pi','necessidades', '00', '19', '13', '40',\n",
        "           'pandemia', 'ações', 'coronavirus', 'município', 'municipio', 'termo', 'emergencial', 'piauí',\n",
        "           'emergência', 'nº', 'interesse', 'presente', 'decorrente', 'fornecimento', 'valor', 'conforme',\n",
        "           'aditivo', 'caráter', 'destinados', 'medidas', 'atendimento', 'prevenção', 'necessidade',\n",
        "           'excepcional', 'lei', 'pacientes', 'enfrentamento', 'corona', 'público', 'situação', 'parnaiba', \n",
        "           'junto', 'vírus' ])\n",
        "sw.extend(new_sw)\n",
        "#sw.append(['secretaria', 'municipal', 'pi', 'saúde', 'covid']) \n",
        "#'prestação', 'contratação', 'aquisição', 'serviços' \n",
        "\n",
        "def tokenizar(corpus):\n",
        "  tokens = []\n",
        "  for objeto in corpus:\n",
        "      tokens_objeto = nltk.word_tokenize(objeto, language='portuguese')\n",
        "      tokens_objeto = [token.lower() for token in tokens_objeto]\n",
        "      for token in tokens_objeto:\n",
        "          tokens.append(token)\n",
        "  tokens_menos_sw = []\n",
        "  for t in tokens:\n",
        "    if t not in sw and t.isalpha() :\n",
        "      tokens_menos_sw.append(t)\n",
        "  return tokens_menos_sw"
      ],
      "execution_count": null,
      "outputs": []
    },
    {
      "cell_type": "code",
      "metadata": {
        "colab": {
          "base_uri": "https://localhost:8080/"
        },
        "id": "38bqqNzAe3vs",
        "outputId": "7fcf9602-86dd-457f-a231-36f2a28c4eb0"
      },
      "source": [
        "dados_obj = tokenizar(corpus)\n",
        "dados_obj_simpl = tokenizar(corpus_obj_simp)\n",
        "\n",
        "dados_totais = dados_obj + dados_obj_simpl\n",
        "\n",
        "print(len(dados_obj))"
      ],
      "execution_count": null,
      "outputs": [
        {
          "output_type": "stream",
          "name": "stdout",
          "text": [
            "78523\n"
          ]
        }
      ]
    },
    {
      "cell_type": "markdown",
      "metadata": {
        "id": "0BL4dS-4ozpf"
      },
      "source": [
        "### Resultados\n"
      ]
    },
    {
      "cell_type": "markdown",
      "metadata": {
        "id": "6uRIX2YzgEkv"
      },
      "source": [
        "Representação binária"
      ]
    },
    {
      "cell_type": "code",
      "metadata": {
        "id": "uCD15m0NL9LL",
        "colab": {
          "base_uri": "https://localhost:8080/"
        },
        "outputId": "7cd96e46-862b-4dbf-a526-2650fcfecb69"
      },
      "source": [
        "#Binário\n",
        "import random\n",
        "\n",
        "#Pegando as palavras mais frequentes\n",
        "allWords = nltk.FreqDist(w.lower() for w in dados_obj)\n",
        "\n",
        "\n",
        "#key_words = list(allWords)[0:20]\n",
        "key_words = ('teste', 'testes', 'rápidos', 'igg', 'igm', 'alimentação', 'reforma', 'medicamentos', \n",
        "             'especializada', 'locação', 'serviço', 'serviços', 'cargo', 'epi', 'epis', 'epi\\'s', \n",
        "             'máscara' 'máscaras', 'materiais', 'empresa', 'luvas', 'leitos', 'limpeza', 'higiene', \n",
        "             'hospitalar', 'enfermeiro', 'médico', 'álcool', 'gel', 'insumos', 'veículos', 'equipamentos', \n",
        "             'física', 'pessoa', 'temporário', 'função')\n",
        "\n",
        "def corpus_features(doc):\n",
        "  i = 1\n",
        "# doc_words = [w for w in dados_obj]\n",
        "  doc_words = key_words\n",
        "  feats = {}\n",
        "  #if i == 1:\n",
        "    #print(doc_words)\n",
        "    #i = i + 1\n",
        "  for word in doc_words:\n",
        "    if (word in doc):\n",
        "      feats[f'countains({word})'] = True\n",
        "#      feats[f'countains({word})'] = (word in doc)\n",
        "  return feats\n",
        "\n",
        "labeled_names = []\n",
        "for i in range(len(corpus)):\n",
        "#    print(i, corpus[i], corpus_obj_simp[i])\n",
        "    labeled_names.append([corpus[i], corpus_obj_simp[i]])  \n",
        "\n",
        "#labeled_names = ([(name, 'obj') for name in dados_obj[0:5000]] + [(name, 'obj_simpl') for name in dados_obj_simpl[0:5000]])\n",
        "print(labeled_names[-5:])\n",
        "random.shuffle(labeled_names)\n",
        "\n",
        "featuresets = [(corpus_features(n), cat) for (n, cat) in labeled_names]\n",
        "train_set, test_set = featuresets[0:5400], featuresets[5400:]\n",
        "classifier = nltk.NaiveBayesClassifier.train(train_set)\n",
        "print(\"Taxa de acurácia da classificação: \",nltk.classify.accuracy(classifier, test_set))\n",
        "print(classifier.show_most_informative_features())"
      ],
      "execution_count": null,
      "outputs": [
        {
          "output_type": "stream",
          "name": "stdout",
          "text": [
            "[['Contratação de Empresa para fornecimentos de Teste Rápido para detecção especifica de IGG e IGM do COVID-19, para o Município de Dom Inocêncio - PI.', 'Aquisição de testes para diagnóstico de COVID-19'], ['Prestação de contrataçao de profissional para dar suporte técnico ao desenvolvimento do trabalho de: Acompanhamento a Lei Emergenclal Cultural Aldir Biano, sancionada através do Decreto Federal no 14.017/2020; Alimentação dos sistemas e plataformas necessárias; acompanhamento e julgamento dos editais, todo suporte técnico ao Setor de Cultura junto a Secretaria Municipal de Cultura, Esporte e Lazer e a Prefeitura Municipal de São Jose do Piaul - PI.', 'Contratação de prestador de serviço - pessoa física'], ['AQUISIÇÃO DE PULVERIZADOR 20 LT FIBRA BICO PLASTICO PARA SECRETARIA MUNICIPAL DE EDUCAÇÃO E ESCOLAS DA REDE ESTADUAL E MUNICIPAL DO MUNICÍPIO DE SÃO JOSÉ DO PIAUÍ· PI.', 'Aquisição de equipamentos diversos'], ['AQUISIÇÃO DE ÁGUA SANITÁRIA I LT, DETERGENTE 500 ML E PAPEL TOALHA PARA SECRETARIA MUNICIPAL DE EDUCAÇÃO E SEUS RESPECTNOS ÓRGÃOS DO MUNICtPIO DE SÃO JOSE DO PIAUÍ - PI.', 'Aquisição de material de limpeza'], ['PRESTAÇÃO DE SERVIÇOS DE TROCA DE PISO DA SECRETARIA MUNICIPAL DE SAÚDE (SEMUSA) DE DEMERV AL LOBÃO - PIAUÍ.', 'Construção, reforma e/ou ampliação de unidade hospitalar']]\n",
            "Taxa de acurácia da classificação:  0.4911392405063291\n",
            "Most Informative Features\n",
            "        countains(teste) = True           Aquisi : Contra =    450.9 : 1.0\n",
            "       countains(testes) = True           Aquisi : Contra =    380.0 : 1.0\n",
            "      countains(empresa) = True           Aquisi : Contra =    369.8 : 1.0\n",
            "      countains(locação) = True           Locaçã : Contra =    368.1 : 1.0\n",
            "    countains(materiais) = True           Aquisi : Contra =    193.5 : 1.0\n",
            " countains(equipamentos) = True           Aquisi : Contra =    160.3 : 1.0\n",
            "          countains(gel) = True           Aquisi : Contra =    153.6 : 1.0\n",
            "       countains(física) = True           Locaçã : Aquisi =    138.8 : 1.0\n",
            "       countains(leitos) = True           Locaçã : Aquisi =    102.0 : 1.0\n",
            "      countains(rápidos) = True           Aquisi : Aquisi =    100.1 : 1.0\n",
            "None\n"
          ]
        }
      ]
    },
    {
      "cell_type": "markdown",
      "metadata": {
        "id": "Y5DZcIX9koSX"
      },
      "source": [
        "Teste de desempenho (acurácia) - Representação binária"
      ]
    },
    {
      "cell_type": "code",
      "metadata": {
        "id": "wEgivZBhkvNM",
        "colab": {
          "base_uri": "https://localhost:8080/"
        },
        "outputId": "01091362-49f9-4f90-a1bd-a164654b3416"
      },
      "source": [
        "print(\"Taxa de acurácia da classificação: \",nltk.classify.accuracy(classifier, test_set))"
      ],
      "execution_count": null,
      "outputs": [
        {
          "output_type": "stream",
          "name": "stdout",
          "text": [
            "Taxa de acurácia da classificação:  0.4911392405063291\n"
          ]
        }
      ]
    },
    {
      "cell_type": "code",
      "metadata": {
        "id": "Se2WYBwHknu9",
        "colab": {
          "base_uri": "https://localhost:8080/"
        },
        "outputId": "eaaba296-c765-45b9-e04f-cff11544ef03"
      },
      "source": [
        "import numpy as np\n",
        "from sklearn.model_selection import KFold\n",
        "\n",
        "kf = KFold(n_splits=10)\n",
        "\n",
        "sum_classify = 0\n",
        "round_classify = 1\n",
        "\n",
        "for train, test in kf.split(featuresets):\n",
        "    train_data = np.array(featuresets)[train]\n",
        "    test_data = np.array(featuresets)[test]\n",
        "    classifier = nltk.NaiveBayesClassifier.train(train_data)\n",
        "    print(f\"ROUND: {round_classify} - Taxa de acurácia da classificação: \",nltk.classify.accuracy(classifier, test_data))\n",
        "    sum_classify += nltk.classify.accuracy(classifier, test_data)\n",
        "    round_classify += 1\n",
        "\n",
        "average = round(sum_classify/10,3)\n",
        "\n",
        "print(f\"\\nTaxa de acurácia média  da classificação: {average}\")"
      ],
      "execution_count": null,
      "outputs": [
        {
          "output_type": "stream",
          "name": "stdout",
          "text": [
            "ROUND: 1 - Taxa de acurácia da classificação:  0.4491114701130856\n",
            "ROUND: 2 - Taxa de acurácia da classificação:  0.4911147011308562\n",
            "ROUND: 3 - Taxa de acurácia da classificação:  0.5137318255250404\n",
            "ROUND: 4 - Taxa de acurácia da classificação:  0.5088852988691438\n",
            "ROUND: 5 - Taxa de acurácia da classificação:  0.4620355411954766\n",
            "ROUND: 6 - Taxa de acurácia da classificação:  0.4878836833602585\n",
            "ROUND: 7 - Taxa de acurácia da classificação:  0.48465266558966075\n",
            "ROUND: 8 - Taxa de acurácia da classificação:  0.4911147011308562\n",
            "ROUND: 9 - Taxa de acurácia da classificação:  0.4927302100161551\n",
            "ROUND: 10 - Taxa de acurácia da classificação:  0.49434571890145396\n",
            "\n",
            "Taxa de acurácia média  da classificação: 0.488\n"
          ]
        }
      ]
    },
    {
      "cell_type": "markdown",
      "metadata": {
        "id": "yviVcqD1f0DL"
      },
      "source": [
        "Representação Term-Frequency (TF)"
      ]
    },
    {
      "cell_type": "code",
      "metadata": {
        "colab": {
          "base_uri": "https://localhost:8080/"
        },
        "id": "UtGbiHnrf9EY",
        "outputId": "20233c93-f622-4b41-a359-a5b1cfb25397"
      },
      "source": [
        "#Formato TF\n",
        "\n",
        "\n",
        "# Cria o objeto vetorizador\n",
        "vectorizer_TF = CountVectorizer(analyzer='word', binary=False, decode_error='strict', encoding='utf-8', input='content',\n",
        "                lowercase=True, max_df=1.0, max_features=35, min_df=1,\n",
        "                ngram_range=(1, 1), preprocessor=None, stop_words=sw,\n",
        "                strip_accents=None, token_pattern='(?u)\\\\b\\\\w\\\\w+\\\\b',\n",
        "                tokenizer=None, vocabulary=None)\n",
        "\n",
        "\n",
        "# Aplica o vetorizador nos dados\n",
        "vectorizer_TF.fit(corpus)\n",
        "\n",
        "\n",
        "# Saída:\n",
        "\n",
        "print(\"Temos um dicionário com o termo e suas respectivas frequências, ou seja quantas vezes aquele termo apareceu na base de dados:\\n\",vectorizer_TF.vocabulary_)\n",
        "\n",
        "# Aplicando o transformador\n",
        "matrix = vectorizer_TF.transform(corpus)\n",
        "\n",
        "# Visualizando a forma da matriz gerada\n",
        "print(\"\\nSHAPE:\",matrix.shape)\n",
        "\n",
        "# Imprimindo a matriz binária\n",
        "print(\"\\n\",matrix.toarray())\n",
        "\n",
        "#esse vetor tem muitos zeros, por essa razão eles são chamados de vetores esparsos."
      ],
      "execution_count": null,
      "outputs": [
        {
          "output_type": "stream",
          "name": "stdout",
          "text": [
            "Temos um dicionário com o termo e suas respectivas frequências, ou seja quantas vezes aquele termo apareceu na base de dados:\n",
            " {'empresa': 6, 'prestação': 23, 'serviço': 30, 'contratação': 5, 'pessoa': 20, 'aquisição': 1, 'equipamentos': 8, 'médico': 19, 'risco': 27, 'material': 16, 'hospitalar': 13, 'hospital': 12, 'especializada': 9, 'materiais': 15, 'serviços': 31, 'rede': 26, 'profissionais': 24, 'sanitária': 28, 'medicamentos': 17, 'agente': 0, 'proteção': 25, 'individual': 14, 'testes': 34, 'carga': 3, 'horas': 11, 'semanais': 29, 'máscaras': 18, 'temporário': 33, 'função': 10, 'enfermagem': 7, 'social': 32, 'prazo': 21, 'prestar': 22, 'barreiras': 2, 'cargo': 4}\n",
            "\n",
            "SHAPE: (6190, 35)\n",
            "\n",
            " [[0 0 0 ... 0 0 0]\n",
            " [0 1 0 ... 0 0 0]\n",
            " [0 1 0 ... 0 0 0]\n",
            " ...\n",
            " [0 1 0 ... 0 0 0]\n",
            " [0 1 0 ... 0 0 0]\n",
            " [0 0 0 ... 0 0 0]]\n"
          ]
        }
      ]
    },
    {
      "cell_type": "code",
      "metadata": {
        "colab": {
          "base_uri": "https://localhost:8080/"
        },
        "id": "YEbNsWDBgmDU",
        "outputId": "bb343ae9-3868-45cf-8f26-ee95ba56d665"
      },
      "source": [
        "def matrix_features(linha):\n",
        "  feats = {}\n",
        "  for i in range(len(linha)):\n",
        "    if linha[i] == 1:\n",
        "      feats[f'countains({i})'] = True\n",
        "  return feats\n",
        "\n",
        "\n",
        "matriz_classif = []\n",
        "for i in range(len(corpus_obj_simp)):\n",
        "    matriz_classif.append([matrix.toarray()[i], corpus_obj_simp[i]])  \n",
        "\n",
        "print(matriz_classif[-5:])\n",
        "random.shuffle(matriz_classif)\n",
        "\n",
        "featuresets = [(matrix_features(n), cat) for (n, cat) in matriz_classif]\n",
        "train_set, test_set = featuresets[0:5400], featuresets[5400:]\n",
        "classifier_TF = nltk.NaiveBayesClassifier.train(train_set)\n",
        "print(\"Taxa de acurácia da classificação: \",nltk.classify.accuracy(classifier_TF, test_set))\n",
        "print(classifier_TF.show_most_informative_features())"
      ],
      "execution_count": null,
      "outputs": [
        {
          "output_type": "stream",
          "name": "stdout",
          "text": [
            "[[array([0, 0, 0, 0, 0, 1, 1, 0, 0, 0, 0, 0, 0, 0, 0, 0, 0, 0, 0, 0, 0, 0,\n",
            "       0, 0, 0, 0, 0, 0, 0, 0, 0, 0, 0, 0, 0]), 'Aquisição de testes para diagnóstico de COVID-19'], [array([0, 0, 0, 0, 0, 0, 0, 0, 0, 0, 0, 0, 0, 0, 0, 0, 0, 0, 0, 0, 0, 0,\n",
            "       0, 1, 0, 0, 0, 0, 0, 0, 0, 0, 0, 0, 0]), 'Contratação de prestador de serviço - pessoa física'], [array([0, 1, 0, 0, 0, 0, 0, 0, 0, 0, 0, 0, 0, 0, 0, 0, 0, 0, 0, 0, 0, 0,\n",
            "       0, 0, 0, 0, 1, 0, 0, 0, 0, 0, 0, 0, 0]), 'Aquisição de equipamentos diversos'], [array([0, 1, 0, 0, 0, 0, 0, 0, 0, 0, 0, 0, 0, 0, 0, 0, 0, 0, 0, 0, 0, 0,\n",
            "       0, 0, 0, 0, 0, 0, 1, 0, 0, 0, 0, 0, 0]), 'Aquisição de material de limpeza'], [array([0, 0, 0, 0, 0, 0, 0, 0, 0, 0, 0, 0, 0, 0, 0, 0, 0, 0, 0, 0, 0, 0,\n",
            "       0, 1, 0, 0, 0, 0, 0, 0, 0, 1, 0, 0, 0]), 'Construção, reforma e/ou ampliação de unidade hospitalar']]\n",
            "Taxa de acurácia da classificação:  0.6468354430379747\n",
            "Most Informative Features\n",
            "           countains(15) = True           Aquisi : Contra =    314.0 : 1.0\n",
            "           countains(21) = True           Contra : Aquisi =    178.6 : 1.0\n",
            "            countains(8) = True           Aquisi : Contra =    140.0 : 1.0\n",
            "           countains(34) = True           Aquisi : Aquisi =    127.0 : 1.0\n",
            "            countains(6) = True           Contra : Contra =    122.7 : 1.0\n",
            "            countains(1) = True           Aquisi : Contra =    122.5 : 1.0\n",
            "           countains(23) = True           Contra : Aquisi =     96.8 : 1.0\n",
            "           countains(31) = True           Contra : Aquisi =     53.1 : 1.0\n",
            "           countains(16) = True           Aquisi : Aquisi =     48.9 : 1.0\n",
            "           countains(32) = True           Contra : Aquisi =     42.6 : 1.0\n",
            "None\n"
          ]
        }
      ]
    },
    {
      "cell_type": "markdown",
      "metadata": {
        "id": "dAZZFda9nkyN"
      },
      "source": [
        "Teste de desempenho (acurácia) - Representação Term-Frequency (TF)"
      ]
    },
    {
      "cell_type": "code",
      "metadata": {
        "colab": {
          "base_uri": "https://localhost:8080/"
        },
        "id": "5NbyC2SYnsHu",
        "outputId": "7e72e18b-6e13-45a1-d864-b894c12058c4"
      },
      "source": [
        "print(\"Taxa de acurácia da classificação: \",nltk.classify.accuracy(classifier_TF, test_set))"
      ],
      "execution_count": null,
      "outputs": [
        {
          "output_type": "stream",
          "name": "stdout",
          "text": [
            "Taxa de acurácia da classificação:  0.6468354430379747\n"
          ]
        }
      ]
    },
    {
      "cell_type": "markdown",
      "metadata": {
        "id": "dEOOdMkmn29p"
      },
      "source": [
        "Representação TF-IDF"
      ]
    },
    {
      "cell_type": "code",
      "metadata": {
        "colab": {
          "base_uri": "https://localhost:8080/"
        },
        "id": "tYIuczOZn7FI",
        "outputId": "aa1321e7-2d7b-40c5-92ba-61deb311b62e"
      },
      "source": [
        "#Formato Tf-idf\n",
        "from sklearn.feature_extraction.text import TfidfVectorizer\n",
        "\n",
        "\n",
        "# Instanciar o objeto TFIDF \n",
        "vectorizer_TF_IDF = TfidfVectorizer(analyzer='word', binary=False, decode_error='strict', encoding='utf-8',\n",
        "                input='content', lowercase=True, max_df=1.0, max_features=35,\n",
        "                min_df=1, ngram_range=(1, 1), norm='l2', preprocessor=None,\n",
        "                smooth_idf=True, stop_words=sw, strip_accents=None,\n",
        "                sublinear_tf=False, token_pattern='(?u)\\\\b\\\\w\\\\w+\\\\b',\n",
        "                tokenizer=None, use_idf=True, vocabulary=None)\n",
        "\n",
        "\n",
        "# Constroi o vetorizador nos dados\n",
        "vectorizer_TF_IDF.fit(corpus)\n",
        "\n",
        "# saída:\n",
        "\n",
        "# Imprime o vocabulario\n",
        "print(vectorizer_TF_IDF.vocabulary_)\n",
        "\n",
        "print(\"\\n\",\"Essas são as pontuações que foram dadas para cada um dos termos da base de dados. As palavras mais relevantes tem uma pontuação maior:\\n\",vectorizer_TF_IDF.idf_)\n",
        "\n",
        "# Aplicando aos dados\n",
        "matrix = vectorizer_TF_IDF.transform(corpus)\n",
        "\n",
        "# Imprime a forma da matrix\n",
        "print(\"\\n\",\"SHAPE:\",matrix.shape)\n",
        "print(\"\\n\",matrix.toarray())"
      ],
      "execution_count": null,
      "outputs": [
        {
          "output_type": "stream",
          "name": "stdout",
          "text": [
            "{'empresa': 6, 'prestação': 23, 'serviço': 30, 'contratação': 5, 'pessoa': 20, 'aquisição': 1, 'equipamentos': 8, 'médico': 19, 'risco': 27, 'material': 16, 'hospitalar': 13, 'hospital': 12, 'especializada': 9, 'materiais': 15, 'serviços': 31, 'rede': 26, 'profissionais': 24, 'sanitária': 28, 'medicamentos': 17, 'agente': 0, 'proteção': 25, 'individual': 14, 'testes': 34, 'carga': 3, 'horas': 11, 'semanais': 29, 'máscaras': 18, 'temporário': 33, 'função': 10, 'enfermagem': 7, 'social': 32, 'prazo': 21, 'prestar': 22, 'barreiras': 2, 'cargo': 4}\n",
            "\n",
            " Essas são as pontuações que foram dadas para cada um dos termos da base de dados. As palavras mais relevantes tem uma pontuação maior:\n",
            " [4.2670201  2.20845167 4.43253454 4.44258487 4.44764817 2.26462435\n",
            " 2.86287749 3.97195013 3.78543129 3.96253091 4.1625074  4.21339901\n",
            " 3.51624381 4.05752864 4.18177582 3.91374074 3.57387292 3.82821857\n",
            " 4.37426563 4.21339901 4.25858123 4.37426563 4.41273191 2.5919849\n",
            " 3.76470516 3.64180703 4.6746061  5.26494378 4.36955974 4.32368013\n",
            " 3.68584659 2.26806275 4.03711976 4.41273191 4.22552037]\n",
            "\n",
            " SHAPE: (6190, 35)\n",
            "\n",
            " [[0.         0.         0.         ... 0.         0.         0.        ]\n",
            " [0.         0.2252359  0.         ... 0.         0.         0.        ]\n",
            " [0.         0.2252359  0.         ... 0.         0.         0.        ]\n",
            " ...\n",
            " [0.         0.42716426 0.         ... 0.         0.         0.        ]\n",
            " [0.         0.4510774  0.         ... 0.         0.         0.        ]\n",
            " [0.         0.         0.         ... 0.         0.         0.        ]]\n"
          ]
        }
      ]
    },
    {
      "cell_type": "code",
      "metadata": {
        "colab": {
          "base_uri": "https://localhost:8080/"
        },
        "id": "9oPEItSfoJxe",
        "outputId": "364bb738-70bd-4ade-f539-cd16b33876bb"
      },
      "source": [
        "def matrix_TF_IDF_features(linha):\n",
        "  feats = {}\n",
        "  for i in range(len(linha)):\n",
        "    if linha[i] != 0:\n",
        "      if linha[i] >= 0.7:\n",
        "        feats[f'maior({i})'] = True\n",
        "      elif linha[i] >= 0.4:\n",
        "        feats[f'medio({i})'] = True\n",
        "      else:\n",
        "        feats[f'menor({i})'] = True\n",
        "  return feats\n",
        "\n",
        "\n",
        "matriz_classif = []\n",
        "for i in range(len(corpus_obj_simp)):\n",
        "    matriz_classif.append([matrix.toarray()[i], corpus_obj_simp[i]])  \n",
        "\n",
        "print(matriz_classif[-5:])\n",
        "random.shuffle(matriz_classif)\n",
        "\n",
        "featuresets = [(matrix_TF_IDF_features(n), cat) for (n, cat) in matriz_classif]\n",
        "train_set, test_set = featuresets[0:5400], featuresets[5400:]\n",
        "classifier_TF_IDF = nltk.NaiveBayesClassifier.train(train_set)\n",
        "print(\"Taxa de acurácia da classificação: \",nltk.classify.accuracy(classifier_TF_IDF, test_set))\n",
        "print(classifier_TF_IDF.show_most_informative_features())"
      ],
      "execution_count": null,
      "outputs": [
        {
          "output_type": "stream",
          "name": "stdout",
          "text": [
            "[[array([0.        , 0.        , 0.        , 0.        , 0.        ,\n",
            "       0.62039634, 0.78428845, 0.        , 0.        , 0.        ,\n",
            "       0.        , 0.        , 0.        , 0.        , 0.        ,\n",
            "       0.        , 0.        , 0.        , 0.        , 0.        ,\n",
            "       0.        , 0.        , 0.        , 0.        , 0.        ,\n",
            "       0.        , 0.        , 0.        , 0.        , 0.        ,\n",
            "       0.        , 0.        , 0.        , 0.        , 0.        ]), 'Aquisição de testes para diagnóstico de COVID-19'], [array([0., 0., 0., 0., 0., 0., 0., 0., 0., 0., 0., 0., 0., 0., 0., 0., 0.,\n",
            "       0., 0., 0., 0., 0., 0., 1., 0., 0., 0., 0., 0., 0., 0., 0., 0., 0.,\n",
            "       0.]), 'Contratação de prestador de serviço - pessoa física'], [array([0.        , 0.42716426, 0.        , 0.        , 0.        ,\n",
            "       0.        , 0.        , 0.        , 0.        , 0.        ,\n",
            "       0.        , 0.        , 0.        , 0.        , 0.        ,\n",
            "       0.        , 0.        , 0.        , 0.        , 0.        ,\n",
            "       0.        , 0.        , 0.        , 0.        , 0.        ,\n",
            "       0.        , 0.90417404, 0.        , 0.        , 0.        ,\n",
            "       0.        , 0.        , 0.        , 0.        , 0.        ]), 'Aquisição de equipamentos diversos'], [array([0.        , 0.4510774 , 0.        , 0.        , 0.        ,\n",
            "       0.        , 0.        , 0.        , 0.        , 0.        ,\n",
            "       0.        , 0.        , 0.        , 0.        , 0.        ,\n",
            "       0.        , 0.        , 0.        , 0.        , 0.        ,\n",
            "       0.        , 0.        , 0.        , 0.        , 0.        ,\n",
            "       0.        , 0.        , 0.        , 0.89248484, 0.        ,\n",
            "       0.        , 0.        , 0.        , 0.        , 0.        ]), 'Aquisição de material de limpeza'], [array([0.        , 0.        , 0.        , 0.        , 0.        ,\n",
            "       0.        , 0.        , 0.        , 0.        , 0.        ,\n",
            "       0.        , 0.        , 0.        , 0.        , 0.        ,\n",
            "       0.        , 0.        , 0.        , 0.        , 0.        ,\n",
            "       0.        , 0.        , 0.        , 0.75256577, 0.        ,\n",
            "       0.        , 0.        , 0.        , 0.        , 0.        ,\n",
            "       0.        , 0.6585171 , 0.        , 0.        , 0.        ]), 'Construção, reforma e/ou ampliação de unidade hospitalar']]\n",
            "Taxa de acurácia da classificação:  0.6253164556962025\n",
            "Most Informative Features\n",
            "                medio(6) = True           Contra : Contra =    332.7 : 1.0\n",
            "                medio(9) = True           Contra : Contra =    332.7 : 1.0\n",
            "               maior(26) = True           Foment : Aquisi =    259.8 : 1.0\n",
            "               medio(34) = True           Aquisi : Contra =    153.5 : 1.0\n",
            "               maior(15) = True           Aquisi : Contra =    142.6 : 1.0\n",
            "               maior(34) = True           Aquisi : Aquisi =    124.0 : 1.0\n",
            "               maior(31) = True           Contra : Aquisi =    114.3 : 1.0\n",
            "               maior(12) = True           Contra : Contra =     96.0 : 1.0\n",
            "               menor(13) = True           Locaçã : Aquisi =     89.1 : 1.0\n",
            "                medio(8) = True           Aquisi : Contra =     88.7 : 1.0\n",
            "None\n"
          ]
        }
      ]
    },
    {
      "cell_type": "markdown",
      "metadata": {
        "id": "AEDWQfr_RCMp"
      },
      "source": [
        "### Conclusão"
      ]
    },
    {
      "cell_type": "markdown",
      "metadata": {
        "id": "ANcti5BTRNUU"
      },
      "source": [
        "Na questão 1, foi pedido para fazer uma comparação entre os dois modelos de classificadores de gêneros de nomes apresentados em sala de aula. O primeiro modelo apresentava uma única feature, que era a última letra da palavra. O segundo modelo, além da feature anterior, apresentava mais 3 features, a primeira letra do nome, se o nome tinha uma determinada letra e a quantidade vezes que uma determinada letra se petia no nome. O segundo modelo sempre apresentou uma acurácia melhor do que o primeiro modelo, porém sempre com valores muito próximos. Isto ocorreu porque a feature mais representativa era a última letra do nome, sendo, mesmo no modelo 2, 9 das 10 features mais representativas, o que deixou a acurácia dos dois modelos com valores muito próximos. Essa feature diferente que aparecia, \"has\" ou \"count\", era o que tornava a acurácia do modelo 2 um pouco melhor. Essa característica continuou quando usamos a técnica 10-fold cross validation. Tanto em cada rodada, como na média final o classificador do modelo 2 sempre apresentou uma acurácia um pouco melhor. Ficando uma média de 0.75 para o modelo 1 e 0.77 para o modelo 2.  "
      ]
    },
    {
      "cell_type": "markdown",
      "metadata": {
        "id": "-P-4TRA4VVEH"
      },
      "source": [
        "Na questão 2, alteramos nossa função gender_features acrescentado as features \"tamanho do nome\", \"possui ditongo\" e \"termina com ditongo\". Esse modelo apresentou uma acurácia muito parecida com o modelo 2, sendo na maioria das vezes, um valor um pouco superior. E continuou apresentando a \"última letra do nome\" como feature mais representativa. "
      ]
    },
    {
      "cell_type": "markdown",
      "metadata": {
        "id": "7RsR7ttPXnvy"
      },
      "source": [
        "Com relação a questão 3, implementamos classificadores baseados em features com as representações binárias, Term-Frequency (TF) e TF-idF. Utilizamos a planilha utilizada na atividade prática 02 como corpus dessa questão. Essa planilha foi criada com dados de contratospublicados nos diários oficiais do municípios e do Estado do Piauí referentes as compras emergenciais feitas pelos órgãos públicos no período de março a setembro de 2020, durante a pandemia da COVID-19. Dessa planilha foram utilizadas duas colunas como base para o nosso trabalho, \"objeto\" e \"objeto simplificado\". O objetivo do modelo era classificar com as classes de \"objeto simplificado\" o texto da coluna \"objeto\". Depois de removermos as stopwords, implementamos o modelo de representação e chegamos a uma taxa de acurácia média de 0.35. Acrescentamos às stopwords algumas palavras que tinham uma frequência relativamente alta e não ajudariam na classificação do modelo. Depois de testes na remoção de um conjunto dessas palavras, chegamos a uma taxa de acurácia média de 0.51. Por fim, implementamos os classificadores com as representações TF e TF-idF. Na implementação com TF-idF obtivemos uma taxa de acurácia média de 0,61, enquanto o classificador baseado na representação Term-Frequency, obteve uma taxa de acurácia média de 0,65, nosso melhor resultado. Vale resaltar que por problemas de estouro da RAM do colab, o atributo max_feature nas representações TF e TF-idF foi limitado a 35, obtendo o nosso melhor resultado. Isso demonstra que ainda podemos melhorar essa taxa de acurácia configurando o modelo com o valor do atributo max_feature maior que 35."
      ]
    }
  ]
}