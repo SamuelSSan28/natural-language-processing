{
  "nbformat": 4,
  "nbformat_minor": 0,
  "metadata": {
    "colab": {
      "name": "Exercise_1_PLN_2021_2.ipynb",
      "provenance": [],
      "collapsed_sections": [],
      "authorship_tag": "ABX9TyMt1C2lCg80OK/dqAij0fc1"
    },
    "kernelspec": {
      "name": "python3",
      "display_name": "Python 3"
    },
    "language_info": {
      "name": "python"
    }
  },
  "cells": [
    {
      "cell_type": "markdown",
      "metadata": {
        "id": "HhiBlSzVex8U"
      },
      "source": [
        "## Atividade de participação 01 \n",
        " - Aluno: Samuel Santos Araújo (20189028122)\n",
        " - Disciplina: PROCESSAMENTO DE LINGUAGEM NATURAL (2021.1)\n",
        " - Prof: RAIMUNDO SANTOS MOURA\n",
        "\n",
        "\n"
      ]
    },
    {
      "cell_type": "markdown",
      "metadata": {
        "id": "IbNNgIR8i1Eb"
      },
      "source": [
        "### Configuração do ambiente\n"
      ]
    },
    {
      "cell_type": "code",
      "metadata": {
        "colab": {
          "base_uri": "https://localhost:8080/"
        },
        "id": "CMTwM7x-iIst",
        "outputId": "1de8e74c-6c31-48d7-cd0e-5dcce66c2e34"
      },
      "source": [
        "!pip install nltk"
      ],
      "execution_count": 1,
      "outputs": [
        {
          "output_type": "stream",
          "name": "stdout",
          "text": [
            "Requirement already satisfied: nltk in /usr/local/lib/python3.7/dist-packages (3.2.5)\n",
            "Requirement already satisfied: six in /usr/local/lib/python3.7/dist-packages (from nltk) (1.15.0)\n"
          ]
        }
      ]
    },
    {
      "cell_type": "code",
      "metadata": {
        "colab": {
          "base_uri": "https://localhost:8080/"
        },
        "id": "OWxkTA5liSwa",
        "outputId": "cb1ead50-5326-4028-a363-c6d90755e44c"
      },
      "source": [
        "import nltk\n",
        "nltk.download()"
      ],
      "execution_count": 2,
      "outputs": [
        {
          "name": "stdout",
          "output_type": "stream",
          "text": [
            "NLTK Downloader\n",
            "---------------------------------------------------------------------------\n",
            "    d) Download   l) List    u) Update   c) Config   h) Help   q) Quit\n",
            "---------------------------------------------------------------------------\n",
            "Downloader> d\n",
            "\n",
            "Download which package (l=list; x=cancel)?\n",
            "  Identifier> book\n",
            "    Downloading collection 'book'\n",
            "       | \n",
            "       | Downloading package abc to /root/nltk_data...\n",
            "       |   Unzipping corpora/abc.zip.\n",
            "       | Downloading package brown to /root/nltk_data...\n",
            "       |   Unzipping corpora/brown.zip.\n",
            "       | Downloading package chat80 to /root/nltk_data...\n",
            "       |   Unzipping corpora/chat80.zip.\n",
            "       | Downloading package cmudict to /root/nltk_data...\n",
            "       |   Unzipping corpora/cmudict.zip.\n",
            "       | Downloading package conll2000 to /root/nltk_data...\n",
            "       |   Unzipping corpora/conll2000.zip.\n",
            "       | Downloading package conll2002 to /root/nltk_data...\n",
            "       |   Unzipping corpora/conll2002.zip.\n",
            "       | Downloading package dependency_treebank to /root/nltk_data...\n",
            "       |   Unzipping corpora/dependency_treebank.zip.\n",
            "       | Downloading package genesis to /root/nltk_data...\n",
            "       |   Unzipping corpora/genesis.zip.\n",
            "       | Downloading package gutenberg to /root/nltk_data...\n",
            "       |   Unzipping corpora/gutenberg.zip.\n",
            "       | Downloading package ieer to /root/nltk_data...\n",
            "       |   Unzipping corpora/ieer.zip.\n",
            "       | Downloading package inaugural to /root/nltk_data...\n",
            "       |   Unzipping corpora/inaugural.zip.\n",
            "       | Downloading package movie_reviews to /root/nltk_data...\n",
            "       |   Unzipping corpora/movie_reviews.zip.\n",
            "       | Downloading package nps_chat to /root/nltk_data...\n",
            "       |   Unzipping corpora/nps_chat.zip.\n",
            "       | Downloading package names to /root/nltk_data...\n",
            "       |   Unzipping corpora/names.zip.\n",
            "       | Downloading package ppattach to /root/nltk_data...\n",
            "       |   Unzipping corpora/ppattach.zip.\n",
            "       | Downloading package reuters to /root/nltk_data...\n",
            "       | Downloading package senseval to /root/nltk_data...\n",
            "       |   Unzipping corpora/senseval.zip.\n",
            "       | Downloading package state_union to /root/nltk_data...\n",
            "       |   Unzipping corpora/state_union.zip.\n",
            "       | Downloading package stopwords to /root/nltk_data...\n",
            "       |   Unzipping corpora/stopwords.zip.\n",
            "       | Downloading package swadesh to /root/nltk_data...\n",
            "       |   Unzipping corpora/swadesh.zip.\n",
            "       | Downloading package timit to /root/nltk_data...\n",
            "       |   Unzipping corpora/timit.zip.\n",
            "       | Downloading package treebank to /root/nltk_data...\n",
            "       |   Unzipping corpora/treebank.zip.\n",
            "       | Downloading package toolbox to /root/nltk_data...\n",
            "       |   Unzipping corpora/toolbox.zip.\n",
            "       | Downloading package udhr to /root/nltk_data...\n",
            "       |   Unzipping corpora/udhr.zip.\n",
            "       | Downloading package udhr2 to /root/nltk_data...\n",
            "       |   Unzipping corpora/udhr2.zip.\n",
            "       | Downloading package unicode_samples to /root/nltk_data...\n",
            "       |   Unzipping corpora/unicode_samples.zip.\n",
            "       | Downloading package webtext to /root/nltk_data...\n",
            "       |   Unzipping corpora/webtext.zip.\n",
            "       | Downloading package wordnet to /root/nltk_data...\n",
            "       |   Unzipping corpora/wordnet.zip.\n",
            "       | Downloading package wordnet_ic to /root/nltk_data...\n",
            "       |   Unzipping corpora/wordnet_ic.zip.\n",
            "       | Downloading package words to /root/nltk_data...\n",
            "       |   Unzipping corpora/words.zip.\n",
            "       | Downloading package maxent_treebank_pos_tagger to\n",
            "       |     /root/nltk_data...\n",
            "       |   Unzipping taggers/maxent_treebank_pos_tagger.zip.\n",
            "       | Downloading package maxent_ne_chunker to /root/nltk_data...\n",
            "       |   Unzipping chunkers/maxent_ne_chunker.zip.\n",
            "       | Downloading package universal_tagset to /root/nltk_data...\n",
            "       |   Unzipping taggers/universal_tagset.zip.\n",
            "       | Downloading package punkt to /root/nltk_data...\n",
            "       |   Unzipping tokenizers/punkt.zip.\n",
            "       | Downloading package book_grammars to /root/nltk_data...\n",
            "       |   Unzipping grammars/book_grammars.zip.\n",
            "       | Downloading package city_database to /root/nltk_data...\n",
            "       |   Unzipping corpora/city_database.zip.\n",
            "       | Downloading package tagsets to /root/nltk_data...\n",
            "       |   Unzipping help/tagsets.zip.\n",
            "       | Downloading package panlex_swadesh to /root/nltk_data...\n",
            "       | Downloading package averaged_perceptron_tagger to\n",
            "       |     /root/nltk_data...\n",
            "       |   Unzipping taggers/averaged_perceptron_tagger.zip.\n",
            "       | \n",
            "     Done downloading collection book\n",
            "\n",
            "---------------------------------------------------------------------------\n",
            "    d) Download   l) List    u) Update   c) Config   h) Help   q) Quit\n",
            "---------------------------------------------------------------------------\n",
            "Downloader> q\n"
          ]
        },
        {
          "output_type": "execute_result",
          "data": {
            "text/plain": [
              "True"
            ]
          },
          "metadata": {},
          "execution_count": 2
        }
      ]
    },
    {
      "cell_type": "code",
      "metadata": {
        "colab": {
          "base_uri": "https://localhost:8080/"
        },
        "id": "iRD_iVX6iGRD",
        "outputId": "7e4e6515-e429-4162-c07f-4374433674fc"
      },
      "source": [
        "from nltk.book import *\n",
        "from nltk.tokenize import word_tokenize"
      ],
      "execution_count": 3,
      "outputs": [
        {
          "output_type": "stream",
          "name": "stdout",
          "text": [
            "*** Introductory Examples for the NLTK Book ***\n",
            "Loading text1, ..., text9 and sent1, ..., sent9\n",
            "Type the name of the text or sentence to view it.\n",
            "Type: 'texts()' or 'sents()' to list the materials.\n",
            "text1: Moby Dick by Herman Melville 1851\n",
            "text2: Sense and Sensibility by Jane Austen 1811\n",
            "text3: The Book of Genesis\n",
            "text4: Inaugural Address Corpus\n",
            "text5: Chat Corpus\n",
            "text6: Monty Python and the Holy Grail\n",
            "text7: Wall Street Journal\n",
            "text8: Personals Corpus\n",
            "text9: The Man Who Was Thursday by G . K . Chesterton 1908\n"
          ]
        }
      ]
    },
    {
      "cell_type": "markdown",
      "metadata": {
        "id": "l6CSfWU6eWEU"
      },
      "source": [
        "### 1) Chapter 01 of the NLTK book (https://www.nltk.org/book/ch01.html)\n",
        "\n",
        "4, 6, 7, 9, 10 e 15\n",
        "19, 22, 24 e 25\n",
        "26, 27, 28 e 29\n",
        "\n"
      ]
    },
    {
      "cell_type": "code",
      "metadata": {
        "colab": {
          "base_uri": "https://localhost:8080/"
        },
        "id": "TjpVCkhtfYhx",
        "outputId": "73261ac9-789b-40e9-b670-272c598c62fc"
      },
      "source": [
        "#4 - Review 1 on computing with language. \n",
        "#How many words are there in text2? \n",
        "print(f\"there are {len(text2)} words in text 2\")\n",
        "#How many distinct words are there?\n",
        "print( f\"there are {len(set(text2))} distinct words\")"
      ],
      "execution_count": 17,
      "outputs": [
        {
          "output_type": "stream",
          "name": "stdout",
          "text": [
            "there are 141576 words in text 2\n",
            "there are 6833 distinct words\n"
          ]
        }
      ]
    },
    {
      "cell_type": "code",
      "metadata": {
        "colab": {
          "base_uri": "https://localhost:8080/",
          "height": 295
        },
        "id": "mgaRswhZfY_9",
        "outputId": "0a470413-b7c4-420b-ca56-4976e3de5cf6"
      },
      "source": [
        "#6 - Produce a dispersion plot of the four main protagonists in Sense and Sensibility: Elinor, Marianne, Edward, and Willoughby. \n",
        "text2.dispersion_plot([\"Elinor\", \"Marianne\", \"Willoughby\", \"Edward\"])\n",
        "\n",
        "#What can you observe about the different roles played by the males and females in this novel? \n",
        "#Can you identify the couples?\n",
        "\n"
      ],
      "execution_count": 36,
      "outputs": [
        {
          "output_type": "display_data",
          "data": {
            "image/png": "[encoded data removed]",
            "text/plain": [
              "<Figure size 432x288 with 1 Axes>"
            ]
          },
          "metadata": {
            "needs_background": "light"
          }
        }
      ]
    },
    {
      "cell_type": "code",
      "metadata": {
        "colab": {
          "base_uri": "https://localhost:8080/"
        },
        "id": "xNvuaF0NfZh9",
        "outputId": "0d79a6ea-0666-4633-fe68-495452d1917c"
      },
      "source": [
        "#7 - Find the collocations in text5.\n",
        "text5.collocations()"
      ],
      "execution_count": 46,
      "outputs": [
        {
          "output_type": "stream",
          "name": "stdout",
          "text": [
            "wanna chat; PART JOIN; MODE #14-19teens; JOIN PART; PART PART;\n",
            "cute.-ass MP3; MP3 player; JOIN JOIN; times .. .; ACTION watches; guys\n",
            "wanna; song lasts; last night; ACTION sits; -...)...- S.M.R.; Lime\n",
            "Player; Player 12%; dont know; lez gurls; long time\n"
          ]
        }
      ]
    },
    {
      "cell_type": "code",
      "metadata": {
        "colab": {
          "base_uri": "https://localhost:8080/"
        },
        "id": "bLVK1tqqgGO4",
        "outputId": "62eaf14c-0b61-4443-f326-b696012cdc82"
      },
      "source": [
        "#9 -  Review 2 on lists and strings.\n",
        "#  a) Define a string and assign it to a variable, e.g., my_string = 'My String' (but put something more interesting in the string). \n",
        "my_string = \"PROCESSAMENTO DE LINGUAGEM NATURAL\"\n",
        "my_string\n",
        "#Print the contents of this variable in two ways, first by simply typing the variable name and pressing enter, then by using the print statement.\n",
        "print(my_string)\n",
        "\n",
        "#b)Try adding the string to itself using my_string + my_string, \n",
        "print(\"adding:\",my_string + my_string)\n",
        "#or multiplying it by a number, e.g., my_string * 3. \n",
        "print(\"multiplying:\",my_string*3)\n",
        "#Notice that the strings are joined together without any spaces. How could you fix this?\n",
        "print(\"-----------\")\n",
        "print(\"adding with spaces:\",my_string+' '+my_string)\n",
        "print(\"multiplying with spaces:\",(my_string+' ')*3)\n"
      ],
      "execution_count": 56,
      "outputs": [
        {
          "output_type": "stream",
          "name": "stdout",
          "text": [
            "PROCESSAMENTO DE LINGUAGEM NATURAL\n",
            "adding: PROCESSAMENTO DE LINGUAGEM NATURALPROCESSAMENTO DE LINGUAGEM NATURAL\n",
            "multiplying: PROCESSAMENTO DE LINGUAGEM NATURALPROCESSAMENTO DE LINGUAGEM NATURALPROCESSAMENTO DE LINGUAGEM NATURAL\n",
            "-----------\n",
            "adding with spaces: PROCESSAMENTO DE LINGUAGEM NATURAL PROCESSAMENTO DE LINGUAGEM NATURAL\n",
            "multiplying with spaces: PROCESSAMENTO DE LINGUAGEM NATURAL PROCESSAMENTO DE LINGUAGEM NATURAL PROCESSAMENTO DE LINGUAGEM NATURAL \n"
          ]
        }
      ]
    },
    {
      "cell_type": "code",
      "metadata": {
        "colab": {
          "base_uri": "https://localhost:8080/"
        },
        "id": "O-vPO4S_gGXF",
        "outputId": "66ffe022-8784-403b-a9af-ca5fcc6c684f"
      },
      "source": [
        "#10 - Define a variable my_sent to be a list of words, using the syntax my_sent = [\"My\", \"sent\"] (but with your own words, or a favorite saying).\n",
        "my_sent = [\"PROCESSAMENTO\",\"DE\",\"LINGUAGEM\",\"NATURAL\"]\n",
        "#a) Use ' '.join(my_sent) to convert this into a string.\n",
        "my_sent_str = ' '.join(my_sent)\n",
        "print(my_sent_str)\n",
        "#b) Use split() to split the string back into the list form you had to start with.\n",
        "my_sent_str.split()"
      ],
      "execution_count": 68,
      "outputs": [
        {
          "output_type": "stream",
          "name": "stdout",
          "text": [
            "PROCESSAMENTO DE LINGUAGEM NATURAL\n"
          ]
        },
        {
          "output_type": "execute_result",
          "data": {
            "text/plain": [
              "['PROCESSAMENTO', 'DE', 'LINGUAGEM', 'NATURAL']"
            ]
          },
          "metadata": {},
          "execution_count": 68
        }
      ]
    },
    {
      "cell_type": "code",
      "metadata": {
        "colab": {
          "base_uri": "https://localhost:8080/"
        },
        "id": "foBZzOiLgGbN",
        "outputId": "259ebabd-a731-43cf-bbe6-5d64b2decdd6"
      },
      "source": [
        "#15 - Review the discussion of conditionals in 4.\n",
        "#Find all words in the Chat Corpus (text5) starting with the letter b. Show them in alphabetical order.\n",
        "all_words_starting_with_b_text5 = [w for w in text5 if w.startswith(\"b\")]\n",
        "print(sorted(all_words_starting_with_b_text5))"
      ],
      "execution_count": 70,
      "outputs": [
        {
          "output_type": "stream",
          "name": "stdout",
          "text": [
            "['b', 'b', 'b', 'b', 'b', 'b', 'b-day', 'b/c', 'b4', 'b4', 'babay', 'babble', 'babblein', 'babe', 'babe', 'babe', 'babe', 'babe', 'babe', 'babe', 'babe', 'babe', 'babe', 'babe', 'babes', 'babes', 'babes', 'babi', 'babi', 'babies', 'babies', 'babiess', 'baby', 'baby', 'baby', 'baby', 'baby', 'baby', 'baby', 'baby', 'baby', 'baby', 'baby', 'baby', 'baby', 'baby', 'baby', 'baby', 'baby', 'baby', 'baby', 'baby', 'baby', 'baby', 'baby', 'baby', 'baby', 'baby', 'babycakeses', 'bachelorette', 'back', 'back', 'back', 'back', 'back', 'back', 'back', 'back', 'back', 'back', 'back', 'back', 'back', 'back', 'back', 'back', 'back', 'back', 'back', 'back', 'back', 'back', 'back', 'back', 'back', 'back', 'back', 'back', 'back', 'back', 'back', 'back', 'back', 'back', 'back', 'back', 'back', 'back', 'back', 'back', 'back', 'back', 'back', 'back', 'back', 'back', 'back', 'back', 'back', 'back', 'back', 'back', 'back', 'back', 'back', 'back', 'back', 'back', 'back', 'back', 'back', 'back', 'back', 'back', 'back', 'back', 'back', 'back', 'back', 'back', 'back', 'back', 'back', 'back', 'back', 'back', 'back', 'back', 'backatchya', 'backfrontsidewaysandallaroundtheworld', 'backroom', 'backup', 'bacl', 'bad', 'bad', 'bad', 'bad', 'bad', 'bad', 'bad', 'bad', 'bad', 'bad', 'bad', 'bad', 'bad', 'bad', 'bad', 'bad', 'bad', 'bad', 'bad', 'bad', 'bad', 'bad', 'bad', 'bad', 'bad', 'bad', 'bag', 'bag', 'bag', 'bagel', 'bagels', 'bahahahaa', 'bak', 'baked', 'balad', 'balance', 'balck', 'balck', 'ball', 'ball', 'ball', 'ball', 'ball', 'ball', 'ballin', 'balls', 'balls', 'ban', 'ban', 'ban', 'band', 'band', 'band', 'bandito', 'bandsaw', 'banjoes', 'banned', 'banned', 'baord', 'bar', 'bar', 'bar', 'bar', 'bar', 'bar', 'barbie', 'barbie', 'barbie', 'barbie', 'bare', 'bare', 'bare', 'barely', 'bares', 'barfights', 'barks', 'barn', 'barrel', 'base', 'bases', 'basically', 'basket', 'basket', 'battery', 'battery', 'bay', 'bay', 'bbbbbyyyyyyyeeeeeeeee', 'bbiam', 'bbl', 'bbl', 'bbl', 'bbl', 'bbl', 'bbl', 'bbs', 'bbs', 'bbs', 'bc', 'be', 'be', 'be', 'be', 'be', 'be', 'be', 'be', 'be', 'be', 'be', 'be', 'be', 'be', 'be', 'be', 'be', 'be', 'be', 'be', 'be', 'be', 'be', 'be', 'be', 'be', 'be', 'be', 'be', 'be', 'be', 'be', 'be', 'be', 'be', 'be', 'be', 'be', 'be', 'be', 'be', 'be', 'be', 'be', 'be', 'be', 'be', 'be', 'be', 'be', 'be', 'be', 'be', 'be', 'be', 'be', 'be', 'be', 'be', 'be', 'be', 'be', 'be', 'be', 'be', 'be', 'be', 'be', 'be', 'be', 'be', 'be', 'be', 'be', 'be', 'be', 'be', 'be', 'be', 'be', 'be', 'be', 'be', 'be', 'be', 'be', 'be', 'be', 'be', 'be', 'be', 'be', 'be', 'be', 'be', 'be', 'be', 'be', 'be', 'be', 'be', 'be', 'be', 'be', 'be', 'be', 'be', 'beach', 'beach', 'beach', 'beach', 'beach', 'beach', 'beach', 'beachhhh', 'beam', 'beams', 'beanbag', 'beanbag', 'beanbag', 'beans', 'bear', 'bear', 'bears', 'bears', 'bears', 'beat', 'beat', 'beat', 'beat', 'beaten', 'beaten', 'beatles', 'beats', 'beattles', 'beattles', 'beautiful', 'beautiful', 'because', 'because', 'because', 'because', 'because', 'because', 'because', 'because', 'because', 'because', 'because', 'because', 'because', 'beckley', 'become', 'become', 'become', 'bed', 'bed', 'bed', 'bed', 'bed', 'bed', 'bed', 'bed', 'bedford', 'bedroom', 'beeeeehave', 'beeehave', 'been', 'been', 'been', 'been', 'been', 'been', 'been', 'been', 'been', 'been', 'been', 'been', 'been', 'been', 'been', 'been', 'been', 'been', 'been', 'been', 'been', 'been', 'been', 'been', 'been', 'been', 'been', 'been', 'been', 'been', 'been', 'been', 'been', 'been', 'been', 'been', 'been', 'been', 'been', 'been', 'been', 'been', 'been', 'been', 'been', 'been', 'been', 'been', 'been', 'been', 'been', 'been', 'been', 'been', 'been', 'been', 'been', 'beer', 'beer', 'beer', 'beer', 'beer', 'before', 'before', 'before', 'before', 'before', 'before', 'before', 'before', 'before', 'before', 'before', 'before', 'before', 'beg', 'begin', 'behave', 'behave', 'behind', 'behind', 'behind', 'behind', 'bein', 'being', 'being', 'being', 'being', 'being', 'being', 'being', 'being', 'being', 'being', 'being', 'being', 'beleive', 'believe', 'believe', 'believe', 'believe', 'believe', 'believe', 'belive', 'bell', 'belly', 'belly', 'belong', 'belong', 'belongings', 'ben', 'bend', 'bend', 'bend', 'benz', 'bes', 'beside', 'besides', 'besides', 'besides', 'best', 'best', 'best', 'best', 'best', 'best', 'best', 'best', 'best', 'bet', 'bet', 'bet', 'bet', 'bet', 'bet', 'bet', 'bet', 'betrayal', 'betta', 'better', 'better', 'better', 'better', 'better', 'better', 'better', 'better', 'better', 'better', 'better', 'better', 'better', 'better', 'better', 'better', 'better', 'better', 'better', 'better', 'better', 'better', 'better', 'between', 'between', 'between', 'between', 'beuty', 'bf', 'bf', 'bi', 'bi', 'bi', 'bi', 'bi', 'bi', 'bi', 'bi', 'bi', 'bi', 'biatch', 'biatch', 'bible', 'bible', 'bible', 'biebsa', 'bied', 'big', 'big', 'big', 'big', 'big', 'big', 'big', 'big', 'big', 'big', 'big', 'big', 'bigest', 'biggest', 'biiiatch', 'bike', 'bikes', 'bikini', 'bio', 'bird', 'birfday', 'birthday', 'birthday', 'bisexual', 'bishes', 'bit', 'bit', 'bit', 'bit', 'bit', 'bit', 'bit', 'bit', 'bit', 'bit', 'bit', 'bit', 'bitch', 'bitch', 'bitch', 'bitch', 'bitches', 'bitches', 'bitches', 'bitdh', 'bite', 'bite', 'bites', 'bites', 'biyatch', 'biz', 'biz', 'bj', 'black', 'black', 'black', 'black', 'black', 'black', 'black', 'black', 'blade', 'blade', 'blah', 'blah', 'blah', 'blah', 'blah', 'blah', 'blank', 'blank', 'blank', 'blank', 'blankie', 'blankie', 'blazed', 'bleach', 'blech', 'bless', 'blessings', 'blew', 'blew', 'blind', 'blind', 'blind', 'blinks', 'bliss', 'blocking', 'bloe', 'blood', 'blood', 'blood', 'blood', 'blood', 'blooded', 'bloody', 'blow', 'blowing', 'blowjob', 'blowup', 'blue', 'blue', 'blue', 'blue', 'blue', 'blue', 'blue', 'blue', 'blueberry', 'bluer', 'blues', 'blunt', 'board', 'board', 'bob', 'bob', 'bodies', 'bodies', 'body', 'boed', 'boght', 'boi', 'boing', 'boinked', 'bois', 'bomb', 'bone', 'boned', 'bones', 'bones', 'bong', 'boning', 'bonus', 'boo', 'boo', 'boo', 'boo', 'boo', 'booboo', 'boobs', 'boobs', 'book', 'book', 'book', 'book', 'book', 'book', 'book', 'book', 'book', 'boom', 'boooooooooooglyyyyyy', 'boost', 'boot', 'bootay', 'booted', 'booted', 'booted', 'boots', 'boots', 'booty', 'border', 'borderline', 'bored', 'bored', 'bored', 'bored', 'bored', 'bored', 'bored', 'bored', 'bored', 'bored', 'bored', 'bored', 'bored', 'bored', 'bored', 'bored', 'bored', 'bored', 'bored', 'bored', 'boredom', 'boring', 'boring', 'boring', 'boring', 'boring', 'boring', 'boring', 'born', 'born', 'born-again', 'born-again', 'bosom', 'boss', 'boss', 'boss', 'boss', 'boss', 'bossy', 'bot', 'bot', 'bot', 'bot', 'bot', 'bot', 'bot', 'bot', 'bot', 'bot', 'both', 'both', 'both', 'both', 'both', 'bother', 'bothering', 'bottle', 'bottle', 'bottle', 'bottle', 'bottle', 'bought', 'bounced', 'bouncer', 'bouncers', 'bound', 'bout', 'bout', 'bout', 'bout', 'bout', 'bout', 'bout', 'bout', 'bout', 'bout', 'bout', 'bout', 'bouts', 'bouts', 'bow', 'bowl', 'box', 'box', 'box', 'box', 'boy', 'boy', 'boy', 'boy', 'boy', 'boy', 'boy', 'boy', 'boy', 'boy', 'boy', 'boy', 'boy', 'boyfriend', 'boys', 'boys', 'boys', 'boys', 'boys', 'bra', 'brad', 'brady', 'brain', 'brain', 'brakes', 'brass', 'brat', 'brb', 'brb', 'brb', 'brb', 'brb', 'brb', 'brb', 'brb', 'brb', 'brb', 'brb', 'brb', 'brb', 'brb', 'brb', 'brb', 'brb', 'brb', 'brb', 'brb', 'brb', 'brb', 'brb', 'brb', 'brb', 'brb', 'brb', 'brb', 'brb', 'brb', 'brb', 'brb', 'brb', 'brbbb', 'bread', 'bread', 'break', 'break', 'breaks', 'breath', 'breath', 'breathe', 'breathe', 'bred', 'breeding', 'bright', 'brightened', 'bring', 'bring', 'bring', 'bring', 'brings', 'bro', 'bro', 'bro', 'broke', 'broke', 'broke', 'broke', 'broke', 'broke', 'brooklyn', 'brother', 'brothers', 'brought', 'brought', 'brown', 'brown', 'brrrrrrr', 'bruises', 'bruises', 'brunswick', 'brwn', 'btw', 'bucks', 'buddyyyyyy', 'buff', 'buffalo', 'bug', 'bug', 'bugs', 'buh', 'buh', 'build', 'build', 'builds', 'built', 'bull', 'bulls', 'bum', 'bum', 'bumber', 'bummer', 'bumped', 'bumper', 'bunch', 'bunny', 'burger', 'burito', 'burned', 'burns', 'burns', 'burns', 'burp', 'burp', 'burpin', 'burps', 'burps', 'burried', 'burryed', 'bus', 'bus', 'bus', 'bus', 'bus', 'buses', 'bust', 'busted', 'busy', 'busy', 'busy', 'busy', 'busy', 'busy', 'busy', 'busy', 'busy', 'busy', 'busy', 'busy', 'busy', 'busy', 'busy', 'busy', 'busy', 'but', 'but', 'but', 'but', 'but', 'but', 'but', 'but', 'but', 'but', 'but', 'but', 'but', 'but', 'but', 'but', 'but', 'but', 'but', 'but', 'but', 'but', 'but', 'but', 'but', 'but', 'but', 'but', 'but', 'but', 'but', 'but', 'but', 'but', 'but', 'but', 'but', 'but', 'but', 'but', 'but', 'but', 'but', 'but', 'but', 'but', 'but', 'but', 'but', 'but', 'but', 'but', 'but', 'but', 'but', 'but', 'but', 'but', 'but', 'but', 'but', 'but', 'but', 'but', 'but', 'but', 'but', 'but', 'but', 'but', 'but', 'but', 'but', 'but', 'but', 'but', 'but', 'but', 'but', 'but', 'but', 'but', 'but', 'but', 'but', 'but', 'but', 'but', 'but', 'but', 'butt', 'butt', 'butt', 'butter', 'butterscotch', 'button', 'button', 'buttons', 'buttons', 'buy', 'buy', 'buy', 'buy', 'buy', 'buy', 'buy', 'buy', 'buy', 'buying', 'buying', 'bwahahahahahahahahahaha', 'by', 'by', 'by', 'by', 'by', 'by', 'by', 'by', 'by', 'by', 'by', 'by', 'by', 'by', 'by', 'by', 'by', 'by', 'by', 'by', 'by', 'by', 'by', 'by', 'by', 'byb', 'bye', 'bye', 'bye', 'bye', 'bye', 'bye', 'bye', 'bye', 'bye', 'bye', 'bye', 'bye', 'bye', 'bye', 'bye', 'bye', 'bye', 'bye', 'bye', 'bye', 'bye', 'bye', 'bye', 'bye', 'bye', 'bye', 'bye', 'bye', 'bye', 'bye', 'bye', 'bye', 'bye', 'bye', 'bye', 'bye', 'bye', 'bye', 'bye', 'bye', 'bye', 'bye', 'bye', 'bye', 'byeee', 'byeee', 'byeeee', 'byeeeeeeee', 'byeeeeeeeeeeeee', 'byes']\n"
          ]
        }
      ]
    },
    {
      "cell_type": "code",
      "metadata": {
        "colab": {
          "base_uri": "https://localhost:8080/",
          "height": 35
        },
        "id": "JIdJaw5QgGfO",
        "outputId": "df1b8372-40eb-4296-ce6c-fd09391c386e"
      },
      "source": [
        "#19 - What is the difference between the following two lines? \n",
        "#Which one will give a larger value? Will this be the case for other texts?\n",
        "# sorted(set(w.lower() for w in text1))\n",
        "# sorted(w.lower() for w in set(text1))\n",
        "\n",
        "'Answer: The first line remove all words duplicates before sorting, so yes this will happen for all texts '"
      ],
      "execution_count": 80,
      "outputs": [
        {
          "output_type": "execute_result",
          "data": {
            "application/vnd.google.colaboratory.intrinsic+json": {
              "type": "string"
            },
            "text/plain": [
              "'Answer: The first line remove all words duplicates before sorting, so yes this will happen for all texts '"
            ]
          },
          "metadata": {},
          "execution_count": 80
        }
      ]
    },
    {
      "cell_type": "code",
      "metadata": {
        "colab": {
          "base_uri": "https://localhost:8080/"
        },
        "id": "zSgxxpPEgGjF",
        "outputId": "a2f7fc11-6f41-409b-e9a0-a20146c24078"
      },
      "source": [
        "#22 - Find all the four-letter words in the Chat Corpus (text5). \n",
        "all_words_with_four_letters_text5 = sorted([w for w in text5 if len(w) == 4])\n",
        "quant_all_words_with_four_letters_text5 = len(set(all_words_with_four_letters_text5))\n",
        "print(f\"Text5 have {quant_all_words_with_four_letters_text5} four-letter words\")\n",
        "#With the help of a frequency distribution (FreqDist), show these words in decreasing order of frequency.\n",
        "fdist = nltk.FreqDist(all_words_with_four_letters_text5)\n",
        "fdist.most_common(15)\n"
      ],
      "execution_count": 108,
      "outputs": [
        {
          "output_type": "stream",
          "name": "stdout",
          "text": [
            "Text5 have 1181 four-letter words\n"
          ]
        },
        {
          "output_type": "execute_result",
          "data": {
            "text/plain": [
              "[('JOIN', 1021),\n",
              " ('PART', 1016),\n",
              " ('that', 274),\n",
              " ('what', 183),\n",
              " ('here', 181),\n",
              " ('....', 170),\n",
              " ('have', 164),\n",
              " ('like', 156),\n",
              " ('with', 152),\n",
              " ('chat', 142),\n",
              " ('your', 137),\n",
              " ('good', 130),\n",
              " ('just', 125),\n",
              " ('lmao', 107),\n",
              " ('know', 103)]"
            ]
          },
          "metadata": {},
          "execution_count": 108
        }
      ]
    },
    {
      "cell_type": "code",
      "metadata": {
        "id": "NRhaxdLFgGnH"
      },
      "source": [
        "#24 - Write expressions for finding all words in text6 that meet the conditions listed below. \n",
        "#The result should be in the form of a list of words: ['word1', 'word2', ...].\n",
        "\n",
        "#a) Ending in ise\n",
        "all_words_ending_with_ise_text6 = [w for w in text6 if w.endswith(\"ise\")]\n",
        "\n",
        "#b) Containing the letter z\n",
        "all_words_contain_z_text6 = [w for w in text6 if 'z' in w.lower()]\n",
        "\n",
        "#c) Containing the sequence of letters pt\n",
        "all_words_contain_pt_text6 = [w for w in text6 if 'pt' in w.lower()]\n",
        "\n",
        "#d) Having all lowercase letters except for an initial capital (i.e., titlecase)\n",
        "all_words_lowercase_text6 = [w for w in text6 if w[1:].islower() and w[0].isupper()]"
      ],
      "execution_count": 10,
      "outputs": []
    },
    {
      "cell_type": "code",
      "metadata": {
        "colab": {
          "base_uri": "https://localhost:8080/"
        },
        "id": "PPfeGhC1gGq-",
        "outputId": "eb2b81a4-24ce-485f-c192-bee6f87e68bb"
      },
      "source": [
        "#25 - Define sent to be the list of words ['she', 'sells', 'sea', 'shells', 'by', 'the', 'sea', 'shore']. \n",
        "my_sent = ['she', 'sells', 'sea', 'shells', 'by', 'the', 'sea', 'shore']\n",
        "#Now write code to perform the following tasks:\n",
        "# a) Print all words beginning with sh\n",
        "print('all words beginning with sh:',[w for w in my_sent if w.startswith(\"sh\")])\n",
        "\n",
        "# b) Print all words longer than four characters\n",
        "print('all words longer than four characters:',[w for w in my_sent if len(w) > 4])"
      ],
      "execution_count": 15,
      "outputs": [
        {
          "output_type": "stream",
          "name": "stdout",
          "text": [
            "all words beginning with sh: ['she', 'shells', 'shore']\n",
            "all words longer than four characters: ['sells', 'shells', 'shore']\n"
          ]
        }
      ]
    },
    {
      "cell_type": "code",
      "metadata": {
        "colab": {
          "base_uri": "https://localhost:8080/"
        },
        "id": "4wzoBXCsgGvS",
        "outputId": "d73fae95-0389-4759-f6cd-2e14d6213f40"
      },
      "source": [
        "#26 - What does the following Python code do? \n",
        "#sum(len(w) for w in text1) \n",
        "'Answer: this code sums the size of all the words in the text1 list'\n",
        "#Can you use it to work out the average word length of a text?\n",
        "'Answer: yes, the following code do it:'\n",
        "summation = sum(len(w) for w in text1) \n",
        "average = summation/len(text1)\n",
        "average"
      ],
      "execution_count": 17,
      "outputs": [
        {
          "output_type": "execute_result",
          "data": {
            "text/plain": [
              "3.830411128023649"
            ]
          },
          "metadata": {},
          "execution_count": 17
        }
      ]
    },
    {
      "cell_type": "code",
      "metadata": {
        "colab": {
          "base_uri": "https://localhost:8080/"
        },
        "id": "33hdQVe6gGyx",
        "outputId": "467c3e7a-8588-4241-e099-fe0752ff1cc1"
      },
      "source": [
        "#27 - Define a function called vocab_size(text) that has a single parameter for the text, and which returns the vocabulary size of the text.\n",
        "def vocab_size(text): return len(set(text))\n",
        "\n",
        "vocab_size(text2)\n"
      ],
      "execution_count": 28,
      "outputs": [
        {
          "output_type": "execute_result",
          "data": {
            "text/plain": [
              "6833"
            ]
          },
          "metadata": {},
          "execution_count": 28
        }
      ]
    },
    {
      "cell_type": "code",
      "metadata": {
        "colab": {
          "base_uri": "https://localhost:8080/"
        },
        "id": "ao_RNviygG2I",
        "outputId": "611de682-51a9-4fb5-8dc4-76ea731f777f"
      },
      "source": [
        "#28 - Define a function percent(word, text) that calculates how often a given word occurs in a text, and expresses the result as a percentage.\n",
        "def percent(word, text):\n",
        "  word_count = text.count(word)\n",
        "  list_size = len(text)\n",
        "  return (word_count/list_size)*100\n",
        "\n",
        "percent('a',text4)\n",
        "\n"
      ],
      "execution_count": 27,
      "outputs": [
        {
          "output_type": "execute_result",
          "data": {
            "text/plain": [
              "1.457973123627309"
            ]
          },
          "metadata": {},
          "execution_count": 27
        }
      ]
    },
    {
      "cell_type": "code",
      "metadata": {
        "colab": {
          "base_uri": "https://localhost:8080/"
        },
        "id": "fw9bRD5egKd8",
        "outputId": "c08495e6-54ae-4ed5-ce9a-d9fc2501ef25"
      },
      "source": [
        "#29 - We have been using sets to store vocabularies.\n",
        "#Try the following Python expression: set(sent3) < set(text1). Experiment with this using different arguments to set(). \n",
        "print(set(text2) < set(text1))\n",
        "#What does it do? \n",
        "'Answer: compare lexical diversity between 2 texts'\n",
        "#Can you think of a practical application for this?\n",
        "'Answer: check if a large text really has a great lexical diversity'"
      ],
      "execution_count": 29,
      "outputs": [
        {
          "output_type": "stream",
          "name": "stdout",
          "text": [
            "False\n"
          ]
        }
      ]
    },
    {
      "cell_type": "markdown",
      "metadata": {
        "id": "-lETgf9lfS2m"
      },
      "source": [
        "2) Chapter 02 of the NLTK book  (https://www.nltk.org/book/ch02.html)\n",
        "\n",
        "4 e 5\n",
        "8, 9, 17 e 18\n",
        "23a, **25**"
      ]
    },
    {
      "cell_type": "code",
      "metadata": {
        "id": "W-C12dVFd1OQ"
      },
      "source": [
        ""
      ],
      "execution_count": null,
      "outputs": []
    }
  ]
}